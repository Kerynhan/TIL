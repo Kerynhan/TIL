{
  "nbformat": 4,
  "nbformat_minor": 0,
  "metadata": {
    "colab": {
      "provenance": [],
      "toc_visible": true,
      "authorship_tag": "ABX9TyPHcTyDerxD0H0xJr8d1vwk"
    },
    "kernelspec": {
      "name": "python3",
      "display_name": "Python 3"
    },
    "language_info": {
      "name": "python"
    }
  },
  "cells": [
    {
      "cell_type": "markdown",
      "source": [
        "# 환경설정"
      ],
      "metadata": {
        "id": "rM-6IvGTG-s6"
      }
    },
    {
      "cell_type": "markdown",
      "source": [
        "### 패키지 설치 및 임포트"
      ],
      "metadata": {
        "id": "YxKBENAWHFLY"
      }
    },
    {
      "cell_type": "code",
      "execution_count": null,
      "metadata": {
        "colab": {
          "base_uri": "https://localhost:8080/"
        },
        "id": "5-qZ8LTrZfQU",
        "outputId": "e86e997b-b49f-4b9f-ff7c-8adf3ca5663e",
        "collapsed": true
      },
      "outputs": [
        {
          "output_type": "stream",
          "name": "stdout",
          "text": [
            "Requirement already satisfied: torch in /usr/local/lib/python3.10/dist-packages (2.3.0+cu121)\n",
            "Requirement already satisfied: filelock in /usr/local/lib/python3.10/dist-packages (from torch) (3.15.3)\n",
            "Requirement already satisfied: typing-extensions>=4.8.0 in /usr/local/lib/python3.10/dist-packages (from torch) (4.12.2)\n",
            "Requirement already satisfied: sympy in /usr/local/lib/python3.10/dist-packages (from torch) (1.12.1)\n",
            "Requirement already satisfied: networkx in /usr/local/lib/python3.10/dist-packages (from torch) (3.3)\n",
            "Requirement already satisfied: jinja2 in /usr/local/lib/python3.10/dist-packages (from torch) (3.1.4)\n",
            "Requirement already satisfied: fsspec in /usr/local/lib/python3.10/dist-packages (from torch) (2023.6.0)\n",
            "Collecting nvidia-cuda-nvrtc-cu12==12.1.105 (from torch)\n",
            "  Using cached nvidia_cuda_nvrtc_cu12-12.1.105-py3-none-manylinux1_x86_64.whl (23.7 MB)\n",
            "Collecting nvidia-cuda-runtime-cu12==12.1.105 (from torch)\n",
            "  Using cached nvidia_cuda_runtime_cu12-12.1.105-py3-none-manylinux1_x86_64.whl (823 kB)\n",
            "Collecting nvidia-cuda-cupti-cu12==12.1.105 (from torch)\n",
            "  Using cached nvidia_cuda_cupti_cu12-12.1.105-py3-none-manylinux1_x86_64.whl (14.1 MB)\n",
            "Collecting nvidia-cudnn-cu12==8.9.2.26 (from torch)\n",
            "  Using cached nvidia_cudnn_cu12-8.9.2.26-py3-none-manylinux1_x86_64.whl (731.7 MB)\n",
            "Collecting nvidia-cublas-cu12==12.1.3.1 (from torch)\n",
            "  Using cached nvidia_cublas_cu12-12.1.3.1-py3-none-manylinux1_x86_64.whl (410.6 MB)\n",
            "Collecting nvidia-cufft-cu12==11.0.2.54 (from torch)\n",
            "  Using cached nvidia_cufft_cu12-11.0.2.54-py3-none-manylinux1_x86_64.whl (121.6 MB)\n",
            "Collecting nvidia-curand-cu12==10.3.2.106 (from torch)\n",
            "  Using cached nvidia_curand_cu12-10.3.2.106-py3-none-manylinux1_x86_64.whl (56.5 MB)\n",
            "Collecting nvidia-cusolver-cu12==11.4.5.107 (from torch)\n",
            "  Using cached nvidia_cusolver_cu12-11.4.5.107-py3-none-manylinux1_x86_64.whl (124.2 MB)\n",
            "Collecting nvidia-cusparse-cu12==12.1.0.106 (from torch)\n",
            "  Using cached nvidia_cusparse_cu12-12.1.0.106-py3-none-manylinux1_x86_64.whl (196.0 MB)\n",
            "Collecting nvidia-nccl-cu12==2.20.5 (from torch)\n",
            "  Using cached nvidia_nccl_cu12-2.20.5-py3-none-manylinux2014_x86_64.whl (176.2 MB)\n",
            "Collecting nvidia-nvtx-cu12==12.1.105 (from torch)\n",
            "  Using cached nvidia_nvtx_cu12-12.1.105-py3-none-manylinux1_x86_64.whl (99 kB)\n",
            "Requirement already satisfied: triton==2.3.0 in /usr/local/lib/python3.10/dist-packages (from torch) (2.3.0)\n",
            "Collecting nvidia-nvjitlink-cu12 (from nvidia-cusolver-cu12==11.4.5.107->torch)\n",
            "  Downloading nvidia_nvjitlink_cu12-12.5.40-py3-none-manylinux2014_x86_64.whl (21.3 MB)\n",
            "\u001b[2K     \u001b[90m━━━━━━━━━━━━━━━━━━━━━━━━━━━━━━━━━━━━━━━━\u001b[0m \u001b[32m21.3/21.3 MB\u001b[0m \u001b[31m68.8 MB/s\u001b[0m eta \u001b[36m0:00:00\u001b[0m\n",
            "\u001b[?25hRequirement already satisfied: MarkupSafe>=2.0 in /usr/local/lib/python3.10/dist-packages (from jinja2->torch) (2.1.5)\n",
            "Requirement already satisfied: mpmath<1.4.0,>=1.1.0 in /usr/local/lib/python3.10/dist-packages (from sympy->torch) (1.3.0)\n",
            "Installing collected packages: nvidia-nvtx-cu12, nvidia-nvjitlink-cu12, nvidia-nccl-cu12, nvidia-curand-cu12, nvidia-cufft-cu12, nvidia-cuda-runtime-cu12, nvidia-cuda-nvrtc-cu12, nvidia-cuda-cupti-cu12, nvidia-cublas-cu12, nvidia-cusparse-cu12, nvidia-cudnn-cu12, nvidia-cusolver-cu12\n",
            "Successfully installed nvidia-cublas-cu12-12.1.3.1 nvidia-cuda-cupti-cu12-12.1.105 nvidia-cuda-nvrtc-cu12-12.1.105 nvidia-cuda-runtime-cu12-12.1.105 nvidia-cudnn-cu12-8.9.2.26 nvidia-cufft-cu12-11.0.2.54 nvidia-curand-cu12-10.3.2.106 nvidia-cusolver-cu12-11.4.5.107 nvidia-cusparse-cu12-12.1.0.106 nvidia-nccl-cu12-2.20.5 nvidia-nvjitlink-cu12-12.5.40 nvidia-nvtx-cu12-12.1.105\n",
            "Requirement already satisfied: torchvision in /usr/local/lib/python3.10/dist-packages (0.18.0+cu121)\n",
            "Requirement already satisfied: numpy in /usr/local/lib/python3.10/dist-packages (from torchvision) (1.25.2)\n",
            "Requirement already satisfied: torch==2.3.0 in /usr/local/lib/python3.10/dist-packages (from torchvision) (2.3.0+cu121)\n",
            "Requirement already satisfied: pillow!=8.3.*,>=5.3.0 in /usr/local/lib/python3.10/dist-packages (from torchvision) (9.4.0)\n",
            "Requirement already satisfied: filelock in /usr/local/lib/python3.10/dist-packages (from torch==2.3.0->torchvision) (3.15.3)\n",
            "Requirement already satisfied: typing-extensions>=4.8.0 in /usr/local/lib/python3.10/dist-packages (from torch==2.3.0->torchvision) (4.12.2)\n",
            "Requirement already satisfied: sympy in /usr/local/lib/python3.10/dist-packages (from torch==2.3.0->torchvision) (1.12.1)\n",
            "Requirement already satisfied: networkx in /usr/local/lib/python3.10/dist-packages (from torch==2.3.0->torchvision) (3.3)\n",
            "Requirement already satisfied: jinja2 in /usr/local/lib/python3.10/dist-packages (from torch==2.3.0->torchvision) (3.1.4)\n",
            "Requirement already satisfied: fsspec in /usr/local/lib/python3.10/dist-packages (from torch==2.3.0->torchvision) (2023.6.0)\n",
            "Requirement already satisfied: nvidia-cuda-nvrtc-cu12==12.1.105 in /usr/local/lib/python3.10/dist-packages (from torch==2.3.0->torchvision) (12.1.105)\n",
            "Requirement already satisfied: nvidia-cuda-runtime-cu12==12.1.105 in /usr/local/lib/python3.10/dist-packages (from torch==2.3.0->torchvision) (12.1.105)\n",
            "Requirement already satisfied: nvidia-cuda-cupti-cu12==12.1.105 in /usr/local/lib/python3.10/dist-packages (from torch==2.3.0->torchvision) (12.1.105)\n",
            "Requirement already satisfied: nvidia-cudnn-cu12==8.9.2.26 in /usr/local/lib/python3.10/dist-packages (from torch==2.3.0->torchvision) (8.9.2.26)\n",
            "Requirement already satisfied: nvidia-cublas-cu12==12.1.3.1 in /usr/local/lib/python3.10/dist-packages (from torch==2.3.0->torchvision) (12.1.3.1)\n",
            "Requirement already satisfied: nvidia-cufft-cu12==11.0.2.54 in /usr/local/lib/python3.10/dist-packages (from torch==2.3.0->torchvision) (11.0.2.54)\n",
            "Requirement already satisfied: nvidia-curand-cu12==10.3.2.106 in /usr/local/lib/python3.10/dist-packages (from torch==2.3.0->torchvision) (10.3.2.106)\n",
            "Requirement already satisfied: nvidia-cusolver-cu12==11.4.5.107 in /usr/local/lib/python3.10/dist-packages (from torch==2.3.0->torchvision) (11.4.5.107)\n",
            "Requirement already satisfied: nvidia-cusparse-cu12==12.1.0.106 in /usr/local/lib/python3.10/dist-packages (from torch==2.3.0->torchvision) (12.1.0.106)\n",
            "Requirement already satisfied: nvidia-nccl-cu12==2.20.5 in /usr/local/lib/python3.10/dist-packages (from torch==2.3.0->torchvision) (2.20.5)\n",
            "Requirement already satisfied: nvidia-nvtx-cu12==12.1.105 in /usr/local/lib/python3.10/dist-packages (from torch==2.3.0->torchvision) (12.1.105)\n",
            "Requirement already satisfied: triton==2.3.0 in /usr/local/lib/python3.10/dist-packages (from torch==2.3.0->torchvision) (2.3.0)\n",
            "Requirement already satisfied: nvidia-nvjitlink-cu12 in /usr/local/lib/python3.10/dist-packages (from nvidia-cusolver-cu12==11.4.5.107->torch==2.3.0->torchvision) (12.5.40)\n",
            "Requirement already satisfied: MarkupSafe>=2.0 in /usr/local/lib/python3.10/dist-packages (from jinja2->torch==2.3.0->torchvision) (2.1.5)\n",
            "Requirement already satisfied: mpmath<1.4.0,>=1.1.0 in /usr/local/lib/python3.10/dist-packages (from sympy->torch==2.3.0->torchvision) (1.3.0)\n"
          ]
        }
      ],
      "source": [
        "# !pip install torch\n",
        "# !pip install torchvision\n"
      ]
    },
    {
      "cell_type": "code",
      "source": [
        "import matplotlib.pyplot as plt # 시각화를 위한 라이브러리\n",
        "\n",
        "import torch # PyTorch 라이브러리\n",
        "import torch.nn as nn # 모델 구성을 위한 라이브러리\n",
        "from torch.utils.data import DataLoader # optimizer 설정을 위한 라이브러리\n",
        "\n",
        "import torchvision # PyTorch의 컴퓨터 비전 라이브러리\n",
        "import torchvision.transforms as T # 이미지 변환을 위한 모듈\n",
        "import torchvision.utils as vutils # 이미지를 쉽게 처리하기 위한 유틸리티 모듈"
      ],
      "metadata": {
        "id": "F8gRRFfvJBHl"
      },
      "execution_count": 1,
      "outputs": []
    },
    {
      "cell_type": "code",
      "source": [
        "# seed 고정\n",
        "import random\n",
        "import torch.backends.cudnn as cudnn\n",
        "\n",
        "#머신러닝 실험에서 동일한 조건 하에 여러 번 실행해도 동일한 결과를 얻을 수 있도록 합니다.\n",
        "def random_seed(seed_num):\n",
        "    torch.manual_seed(seed_num)   #yTorch의 CPU 연산에서 무작위성을 제어하는 시드 값을 설정\n",
        "    torch.cuda.manual_seed(seed_num)   #PyTorch의 GPU 연산에서 무작위성을 제어하는 시드 값을 설정\n",
        "    torch.cuda.manual_seed_all(seed_num)   #PyTorch의 모든 GPU 장치에서 무작위성을 제어하는 시드 값을 설정\n",
        "    cudnn.benchmark = False   #CuDNN의 벤치마크 기능을 비활성화. 입력 데이터 크기에 따라 최적의 알고리즘을 선택하는 기능으로, 비활성화하여 실행의 일관성을 유지\n",
        "    cudnn.deterministic = True   #CuDNN을 결정론적으로 설정. 동일한 입력에 대해 항상 동일한 결과를 얻을 수 있음\n",
        "    random.seed(seed_num)   #Python의 기본 난수 생성기의 시드 값을 설정\n",
        "\n",
        "random_seed(42)"
      ],
      "metadata": {
        "id": "RkZuGdehJHGF"
      },
      "execution_count": 2,
      "outputs": []
    },
    {
      "cell_type": "markdown",
      "source": [
        "# 1.데이터"
      ],
      "metadata": {
        "id": "wnmUE3uHJL_1"
      }
    },
    {
      "cell_type": "markdown",
      "source": [
        "## 1-1 torchvision 라이브러리를 사용하여 구현된 Dataset 불러오기"
      ],
      "metadata": {
        "id": "tKPZIy-rJ_gZ"
      }
    },
    {
      "cell_type": "markdown",
      "source": [
        "### torchvision의 datasets 모듈\n",
        "`torchvision.datasets`를 사용하면 다양한 비전 Dataset을 불러올 수 있습니다. 그 중에서 MNIST Dataset을 불러와 실습해보도록 하겠습니다.\n",
        "MNIST Dataset 외에도 CIFAR10, CIFAR100, ImageNet 등 Dataset들도 편리하게 불러올 수 있습니다.\n",
        "\n",
        "- `torchvision.datasets.CIFAR10`\n",
        "- `torchvision.datasets.CIFAR100`\n",
        "- `torchvision.datasets.ImageNet`\n",
        "- .."
      ],
      "metadata": {
        "id": "Wh6L-fCzP_eD"
      }
    },
    {
      "cell_type": "markdown",
      "source": [
        "* [torchvision.datasets - PyTorch 공식 문서](https://pytorch.org/vision/stable/datasets.html): 소개한 Dataset 이 외에도 다양한 Dataset이 존재합니다. '좌측 링크'에서 불러올 수 있는 Dataset을 확인할 수 있습니다.\n",
        "* [torch.utils.data.random_split - PyTorch 공식 문서](https://pytorch.org/docs/stable/data.html#torch.utils.data.random_split)"
      ],
      "metadata": {
        "id": "QCKvMXavQFeq"
      }
    },
    {
      "cell_type": "markdown",
      "source": [
        "아래 코드의 전체적인 역할은 MNIST 데이터셋의 이미지를 텐서로 변환하는 것입니다. 이는 딥러닝 모델이 이미지를 처리할 수 있는 형식으로 변환하는 필수적인 단계입니다. MNIST 데이터셋은 일반적으로 흑백 이미지로 구성되어 있으며, 각 이미지의 크기는 28x28 픽셀입니다. T.ToTensor() 변환을 통해 각 이미지가 크기 (1, 28, 28)인 텐서로 변환됩니다."
      ],
      "metadata": {
        "id": "JQE-joDI_CIm"
      }
    },
    {
      "cell_type": "code",
      "source": [
        "# MNIST 데이터셋의 이미지를 전처리하기 위해 PyTorch의 torchvision.transforms 모듈을 사용하여 일련의 변환(transformations)을 정의\n",
        "# 데이터를 불러올 때, 필요한 변환(transform)을 정의.\n",
        "# T.Compose를 사용하여 여러 변환을 순차적으로 적용하는 파이프라인을 만듦\n",
        "# T는 torchvision.transforms 모듈을 import torchvision.transforms as T와 같이 줄여서 사용한 것\n",
        "\n",
        "## T.Compose([...]): 여러 변환을 순차적으로 적용할 수 있도록 변환 리스트를 묶어줍니다. 리스트 안에 있는 변환들은 주어진 순서대로 이미지를 변환합니다.\n",
        "## T.ToTensor(): 이미지를 PyTorch 텐서(tensor) 형식으로 변환합니다. 이 변환은 다음과 같은 작업을 수행합니다:\n",
        "    ### 이미지를 [0, 255] 범위의 픽셀 값에서 [0, 1] 범위의 부동 소수점(float) 값으로 정규화합니다.\n",
        "    ### 이미지의 형태를 (높이, 너비, 채널)에서 (채널, 높이, 너비)로 변경합니다. PyTorch에서는 이 순서로 텐서를 다룹니다.\n",
        "mnist_transform = T.Compose([\n",
        "    T.ToTensor(), # 텐서 형식으로 변환\n",
        "])"
      ],
      "metadata": {
        "id": "SZZjaeiVJsDl"
      },
      "execution_count": 3,
      "outputs": []
    },
    {
      "cell_type": "markdown",
      "source": [
        "아래 코드를 실행하면 MNIST 데이터셋이 지정된 경로(./MNIST_DATASET)에 다운로드되고, 각각 학습용과 테스트용으로 나뉘어 로드됩니다. 또한, 각 데이터셋의 이미지들은 앞서 정의한 mnist_transform을 통해 텐서 형식으로 변환됩니다. 이를 통해 데이터가 딥러닝 모델에 입력될 수 있는 형식으로 준비됩니다."
      ],
      "metadata": {
        "id": "8Uxv4yQXChp-"
      }
    },
    {
      "cell_type": "code",
      "source": [
        "# torchvision 라이브러리를 사용하여 MNIST Dataset을 불러옵니다.\n",
        "# MNIST 데이터셋이 저장될 경로를 지정합니다. 이 경로에 데이터셋이 다운로드되고 저장됩니다.\n",
        "download_root = './MNIST_DATASET'\n",
        "\n",
        "# torchvision.datasets.MNIST 클래스를 사용하여 학습(train) 데이터셋을 다운로드하고 로드합니다.\n",
        "# download_root는 데이터셋이 저장될 경로를 지정합니다.\n",
        "# transform=mnist_transform는 앞서 정의한 변환 파이프라인을 적용합니다. 이 경우, 이미지를 텐서 형식으로 변환합니다.\n",
        "# train=True는 학습용 데이터셋을 로드하도록 지정합니다.\n",
        "# download=True는 데이터셋이 지정된 경로에 없을 경우 다운로드하도록 지정합니다.\n",
        "train_dataset = torchvision.datasets.MNIST(download_root, transform=mnist_transform, train=True, download=True) # train dataset 다운로드\n",
        "# 위와 동일한 방식으로 테스트(test) 데이터셋을 다운로드하고 로드합니다.\n",
        "# train=False는 테스트용 데이터셋을 로드하도록 지정합니다.\n",
        "test_dataset = torchvision.datasets.MNIST(download_root, transform=mnist_transform, train=False, download=True) # test dataset 다운로드"
      ],
      "metadata": {
        "id": "7zp8Dv6vQYoA",
        "colab": {
          "base_uri": "https://localhost:8080/"
        },
        "outputId": "f2a48aba-272f-4e7b-a906-46d553777c7a"
      },
      "execution_count": 4,
      "outputs": [
        {
          "output_type": "stream",
          "name": "stdout",
          "text": [
            "Downloading http://yann.lecun.com/exdb/mnist/train-images-idx3-ubyte.gz\n",
            "Failed to download (trying next):\n",
            "HTTP Error 403: Forbidden\n",
            "\n",
            "Downloading https://ossci-datasets.s3.amazonaws.com/mnist/train-images-idx3-ubyte.gz\n",
            "Downloading https://ossci-datasets.s3.amazonaws.com/mnist/train-images-idx3-ubyte.gz to ./MNIST_DATASET/MNIST/raw/train-images-idx3-ubyte.gz\n"
          ]
        },
        {
          "output_type": "stream",
          "name": "stderr",
          "text": [
            "100%|██████████| 9912422/9912422 [00:00<00:00, 15829809.05it/s]\n"
          ]
        },
        {
          "output_type": "stream",
          "name": "stdout",
          "text": [
            "Extracting ./MNIST_DATASET/MNIST/raw/train-images-idx3-ubyte.gz to ./MNIST_DATASET/MNIST/raw\n",
            "\n",
            "Downloading http://yann.lecun.com/exdb/mnist/train-labels-idx1-ubyte.gz\n",
            "Failed to download (trying next):\n",
            "HTTP Error 403: Forbidden\n",
            "\n",
            "Downloading https://ossci-datasets.s3.amazonaws.com/mnist/train-labels-idx1-ubyte.gz\n",
            "Downloading https://ossci-datasets.s3.amazonaws.com/mnist/train-labels-idx1-ubyte.gz to ./MNIST_DATASET/MNIST/raw/train-labels-idx1-ubyte.gz\n"
          ]
        },
        {
          "output_type": "stream",
          "name": "stderr",
          "text": [
            "100%|██████████| 28881/28881 [00:00<00:00, 490948.67it/s]\n"
          ]
        },
        {
          "output_type": "stream",
          "name": "stdout",
          "text": [
            "Extracting ./MNIST_DATASET/MNIST/raw/train-labels-idx1-ubyte.gz to ./MNIST_DATASET/MNIST/raw\n",
            "\n",
            "Downloading http://yann.lecun.com/exdb/mnist/t10k-images-idx3-ubyte.gz\n",
            "Failed to download (trying next):\n",
            "HTTP Error 403: Forbidden\n",
            "\n",
            "Downloading https://ossci-datasets.s3.amazonaws.com/mnist/t10k-images-idx3-ubyte.gz\n",
            "Downloading https://ossci-datasets.s3.amazonaws.com/mnist/t10k-images-idx3-ubyte.gz to ./MNIST_DATASET/MNIST/raw/t10k-images-idx3-ubyte.gz\n"
          ]
        },
        {
          "output_type": "stream",
          "name": "stderr",
          "text": [
            "100%|██████████| 1648877/1648877 [00:00<00:00, 4364062.55it/s]\n"
          ]
        },
        {
          "output_type": "stream",
          "name": "stdout",
          "text": [
            "Extracting ./MNIST_DATASET/MNIST/raw/t10k-images-idx3-ubyte.gz to ./MNIST_DATASET/MNIST/raw\n",
            "\n",
            "Downloading http://yann.lecun.com/exdb/mnist/t10k-labels-idx1-ubyte.gz\n",
            "Failed to download (trying next):\n",
            "HTTP Error 403: Forbidden\n",
            "\n",
            "Downloading https://ossci-datasets.s3.amazonaws.com/mnist/t10k-labels-idx1-ubyte.gz\n",
            "Downloading https://ossci-datasets.s3.amazonaws.com/mnist/t10k-labels-idx1-ubyte.gz to ./MNIST_DATASET/MNIST/raw/t10k-labels-idx1-ubyte.gz\n"
          ]
        },
        {
          "output_type": "stream",
          "name": "stderr",
          "text": [
            "100%|██████████| 4542/4542 [00:00<00:00, 2422498.57it/s]"
          ]
        },
        {
          "output_type": "stream",
          "name": "stdout",
          "text": [
            "Extracting ./MNIST_DATASET/MNIST/raw/t10k-labels-idx1-ubyte.gz to ./MNIST_DATASET/MNIST/raw\n",
            "\n"
          ]
        },
        {
          "output_type": "stream",
          "name": "stderr",
          "text": [
            "\n"
          ]
        }
      ]
    },
    {
      "cell_type": "markdown",
      "source": [
        "아래 코드를 실행하면 train_dataset에서 첫 번째 이미지와 해당 레이블이 출력됩니다. 예를 들어, 출력 결과가 (torch.Size([1, 28, 28]), 5)라면, 첫 번째 이미지의 형태는 [1, 28, 28]이고, 해당 이미지의 레이블은 5임을 의미합니다.\n",
        "\n",
        "이 코드를 통해 train_dataset에서 이미지의 형태가 올바르게 변환되었는지, 그리고 레이블이 제대로 로드되었는지 확인할 수 있습니다."
      ],
      "metadata": {
        "id": "VEYKoeFTDgC1"
      }
    },
    {
      "cell_type": "code",
      "source": [
        "# train_dataset에서 하나씩 이미지와 레이블을 가져옴.\n",
        "    ## train_dataset은 torchvision.datasets.MNIST 클래스의 인스턴스로, 이미지와 레이블의 쌍으로 구성된 데이터셋.\n",
        "# image는 하나의 MNIST 이미지에 해당하며, label은 해당 이미지의 숫자 레이블(0-9)을 나타냄\n",
        "for image, label in train_dataset:\n",
        "    # image의 형태(shape)와 label을 출력.\n",
        "    # image.shape는 이미지 텐서의 형태를 나타내며, MNIST 데이터셋의 경우 [C, H, W] 형식. C는 채널 수, H는 높이(height), W는 너비(width)\n",
        "    # MNIST 데이터셋은 흑백 이미지이므로 채널 수 C = 1, 이미지의 높이 H = 28, 너비 W = 28 따라서 출력되는 형태는 [1, 28, 28]\n",
        "  print(image.shape, label)\n",
        "  break   # 반복문을 종료. train_dataset에서 첫 번째 이미지와 레이블만 출력되고 반복문이 종료"
      ],
      "metadata": {
        "id": "CS5bP7EFQaEe",
        "colab": {
          "base_uri": "https://localhost:8080/"
        },
        "outputId": "aec3d4b0-dfdc-448c-f16b-97da9f4b35e2"
      },
      "execution_count": 5,
      "outputs": [
        {
          "output_type": "stream",
          "name": "stdout",
          "text": [
            "torch.Size([1, 28, 28]) 5\n"
          ]
        }
      ]
    },
    {
      "cell_type": "markdown",
      "source": [
        "아래 코드를 실행하면 전체 학습 데이터셋이 80%는 학습 데이터셋으로, 20%는 검증 데이터셋으로 분리됩니다. 이는 모델 학습 과정에서 검증 데이터셋을 사용하여 모델의 성능을 평가하고 과적합(overfitting)을 방지하는 데 유용합니다."
      ],
      "metadata": {
        "id": "bpbiyDvfFy5C"
      }
    },
    {
      "cell_type": "code",
      "source": [
        "# 데이터 셋을 학습 데이터 셋과 검증 데이터 셋으로 분리합니다.\n",
        "\n",
        "# train_dataset의 총 데이터 개수를 total_size 변수에 저장\n",
        "total_size = len(train_dataset)\n",
        "# 학습 데이터셋과 검증 데이터셋의 개수를 계산\n",
        "train_num, valid_num = int(total_size * 0.8), int(total_size * 0.2) # 8 : 2 = train : valid\n",
        "print(\"Train dataset 개수 : \",train_num)\n",
        "print(\"Validation dataset 개수 : \",valid_num)\n",
        "# torch.utils.data.random_split 함수를 사용하여 train_dataset을 학습 데이터셋과 검증 데이터셋으로 무작위로 분할\n",
        "# train_num과 valid_num은 각 데이터셋의 크기를 지정\n",
        "# train_dataset과 valid_dataset은 각각 학습 데이터셋과 검증 데이터셋을 나타내는 새로운 데이터셋 객체로 반환\n",
        "train_dataset, valid_dataset = torch.utils.data.random_split(train_dataset, [train_num, valid_num]) # train - valid set 나누기"
      ],
      "metadata": {
        "id": "cOeIH2b9QeM6",
        "colab": {
          "base_uri": "https://localhost:8080/"
        },
        "outputId": "893b5399-ea49-4f84-d534-fbc91e64326c"
      },
      "execution_count": 6,
      "outputs": [
        {
          "output_type": "stream",
          "name": "stdout",
          "text": [
            "Train dataset 개수 :  48000\n",
            "Validation dataset 개수 :  12000\n"
          ]
        }
      ]
    },
    {
      "cell_type": "markdown",
      "source": [
        "## 1-2 불러온 Dataset을 사용하여 DataLoader 정의하기"
      ],
      "metadata": {
        "id": "RsOZs_IGQmIW"
      }
    },
    {
      "cell_type": "markdown",
      "source": [
        "> `DataLoader`는 인자로 주어진 `Dataset`을 이용하여, 단일 데이터들을 정해진 개수만큼 모아 미니 배치(mini-batch)를 구성하는 역할을 합니다. `torch.utils.data` 라이브러리를 사용하여 편리하게 DataLoader를 구현할 수 있습니다."
      ],
      "metadata": {
        "id": "vloblQT1Qq7t"
      }
    },
    {
      "cell_type": "markdown",
      "source": [
        "### PyTorch DataLoader의 인자\n",
        "`torchvision.datasets`를 통해 불러온 `Dataset`을 `DataLoader`의 인자로 필수로 넘겨줘야 합니다. 이 외에도 `DataLoader`에는 추가 인자들이 존재합니다.\n",
        "\n",
        "- `batch_size`: 미니 배치의 크기를 나타냅니다. 별도의 선언이 없을 경우, 1로 지정됩니다.\n",
        "- `shuffle`: epoch마다 데이터의 순서가 섞이는 여부를 나타냅니다. 학습에 사용하는 데이터로더의 경우에는 모델이 학습 데이터의 순서에 의존하지 않도록 하기위해 셔플을 진행합니다.\n",
        "- `num_workers`: 데이터 로딩에 사용하는 서브 프로세스 개수를 나타냅니다.\n",
        "- `drop_last`: 마지막 미니 배치의 데이터 수가 미니 배치 크기보다 작은 경우, 데이터를 버릴지 말지를 나타냅니다.\n",
        "- `pin_memory`: PyTorch의 DataLoader에서 GPU를 사용하는 경우 데이터 로딩 속도를 높이는 옵션입니다. `pin_memory=True`를 설정하면, DataLoader는 데이터를 CUDA 고정 메모리(CUDA pinned memory)에 로드하여 CPU 메모리에서 GPU 메모리로 데이터를 더 빠르게 전송할 수 있습니다.\n",
        "- .."
      ],
      "metadata": {
        "id": "yO4eXkZkQtOE"
      }
    },
    {
      "cell_type": "markdown",
      "source": [
        "* [torch.utils.data.DataLoader - PyTorch 공식 문서](https://pytorch.org/docs/stable/data.html#torch.utils.data.DataLoader): 소개한 인자 외에도 추가적인 인자들이 존재합니다.\n",
        "* [pin_memory 옵션](https://developer.nvidia.com/blog/how-optimize-data-transfers-cuda-cc/): 해당 내용은 운영 체제의 가상 메모리(virtual memory)와 스와핑(swapping) 개념을 이해한 후, 살펴보면 좋습니다."
      ],
      "metadata": {
        "id": "FOZmMx_MQ3rU"
      }
    },
    {
      "cell_type": "markdown",
      "source": [
        "아래 코드는 학습, 검증, 테스트 데이터셋을 각각 배치 단위로 로드할 수 있는 데이터 로더를 생성합니다. 학습 데이터는 무작위로 섞어서 모델이 데이터 순서에 의존하지 않도록 하고, 검증 및 테스트 데이터는 순서를 유지하여 모델 평가에 사용합니다."
      ],
      "metadata": {
        "id": "urtmoEZuS4o0"
      }
    },
    {
      "cell_type": "code",
      "source": [
        "# 한 번에 처리할 데이터의 개수를 32로 설정. 즉, 각 배치(batch)는 32개의 데이터를 포함.\n",
        "batch_size = 32\n",
        "\n",
        "# 학습용 데이터 로더를 생성\n",
        "# 앞서 선언한 Dataset을 인자로 주어 DataLoader를 선언합니다.\n",
        "# shuffle = True는 학습 데이터셋을 매 에포크(epoch)마다 무작위로 섞도록 설정. 학습 과정에서 모델이 데이터 순서에 의존하지 않도록 도와줌.\n",
        "train_dataloader = DataLoader(train_dataset, batch_size = batch_size, shuffle = True)\n",
        "# 검증용 데이터 로더를 생성\n",
        "# shuffle = False는 검증 데이터셋을 섞지 않고 순서대로 로드. 검증 데이터는 모델 평가에 사용되므로, 순서를 유지하는 것이 일반적\n",
        "valid_dataloader = DataLoader(valid_dataset, batch_size = batch_size, shuffle = False)\n",
        "# 테스트용 데이터 로더를 생성\n",
        "# shuffle = False는 테스트 데이터셋을 섞지 않고 순서대로 로드. 테스트 데이터도 모델의 최종 성능 평가에 사용되므로, 순서를 유지하는 것이 일반적\n",
        "test_dataloader = DataLoader(test_dataset, batch_size = batch_size, shuffle = False)"
      ],
      "metadata": {
        "id": "M0KgZFrTJuml"
      },
      "execution_count": 7,
      "outputs": []
    },
    {
      "cell_type": "markdown",
      "source": [
        "아래 코드를 통해 데이터 로더가 배치 단위로 데이터를 올바르게 로드하고 있는지 확인할 수 있습니다. 특히, 이미지와 레이블의 형태가 예상대로 맞는지 확인하는 데 유용합니다."
      ],
      "metadata": {
        "id": "_Nee59TDUzTi"
      }
    },
    {
      "cell_type": "code",
      "source": [
        "# 학습 데이터 로더(train_dataloader)에서 첫 번째 미니 배치(mini-batch) 데이터를 가져와서 그 형태(shape)를 출력하는 역할\n",
        "    ## train_dataloader에서 배치 단위로 이미지와 레이블을 가져옵니다.\n",
        "    ## images는 한 배치에 포함된 여러 이미지들을 나타내며, labels는 해당 이미지들에 대한 레이블을 나타냅니다.\n",
        "for images, labels in train_dataloader:\n",
        "  # images.shape는 이미지 배치의 형태를 나타내고, labels.shape는 레이블 배치의 형태를 나타냅니다.\n",
        "  print(images.shape, labels.shape)\n",
        "  # 반복문을 종료. train_dataloader에서 첫 번째 미니 배치만 가져와서 출력하고 반복문 종료\n",
        "  break"
      ],
      "metadata": {
        "id": "5xV2czawQ-NN",
        "colab": {
          "base_uri": "https://localhost:8080/"
        },
        "outputId": "52c2a8d9-44b1-4dc7-c551-3a296976d82e"
      },
      "execution_count": 8,
      "outputs": [
        {
          "output_type": "stream",
          "name": "stdout",
          "text": [
            "torch.Size([32, 1, 28, 28]) torch.Size([32])\n"
          ]
        }
      ]
    },
    {
      "cell_type": "markdown",
      "source": [
        "* images.shape는 [32, 1, 28, 28]\n",
        "    - 첫 번째 차원(32)은 배치 크기. 즉, 한 배치에 32개의 이미지.\n",
        "    - 두 번째 차원(1)은 채널 수. MNIST 데이터셋은 흑백 이미지이므로 채널 수는 1.\n",
        "    - 세 번째와 네 번째 차원(28, 28)은 각각 이미지의 높이와 너비.\n",
        "* labels.shape는 [32]\n",
        "    - 이 차원은 배치 크기를 나타냄. 즉, 32개의 이미지에 대한 레이블이 있음."
      ],
      "metadata": {
        "id": "ZBpcHfjBVfUg"
      }
    },
    {
      "cell_type": "markdown",
      "source": [
        "아래 코드는 학습 데이터로더에서 가져온 이미지 배치를 격자 형태로 시각화하여 확인할 수 있도록 합니다. 이는 데이터가 올바르게 로드되었는지, 이미지가 제대로 변환되었는지 시각적으로 검토하는 데 유용합니다."
      ],
      "metadata": {
        "id": "KPmJYs_xXAeY"
      }
    },
    {
      "cell_type": "code",
      "source": [
        "# vutils는 torchvision.utils 모듈을 줄여서 사용한 것\n",
        "# make_grid 함수는 여러 이미지를 격자(grid) 형태로 배치하여 하나의 이미지로 만듦\n",
        "# images는 train_dataloader에서 가져온 이미지 배치\n",
        "# nrow=8은 각 행에 8개의 이미지를 배치하도록 설정. 배치 크기가 32인 경우 4행 8열의 격자로 구성\n",
        "grid = vutils.make_grid(images, nrow=8)\n",
        "\n",
        "# 학습 데이터로더로 부터 불러온 이미지를 시각화합니다\n",
        "plt.figure(figsize=(12,12))\n",
        "# plt.imshow 함수는 이미지를 시각화\n",
        "# grid는 make_grid 함수로 만든 이미지 격자\n",
        "# grid.numpy()는 PyTorch 텐서를 NumPy 배열로 변환. matplotlib 이 이미지를 시각화하기 위해 NumPy 배열 형식을 필요로 하기 때문.\n",
        "# .transpose((1,2,0))은 배열의 차원을 변경.\n",
        "# PyTorch의 이미지 텐서 형식은 [C, H, W] (채널, 높이, 너비)인 반면, matplotlib은 [H, W, C] (높이, 너비, 채널) 형식을 필요로 함.\n",
        "# 따라서 차원을 [1, 2, 0] 순서로 재배치\n",
        "plt.imshow(grid.numpy().transpose((1,2,0)))\n",
        "plt.title(\"mini batch visualization\")\n",
        "plt.axis('off')\n",
        "plt.show()"
      ],
      "metadata": {
        "id": "FtO2L7PsRAQA",
        "colab": {
          "base_uri": "https://localhost:8080/",
          "height": 528
        },
        "outputId": "6cdddb36-e8f8-4bad-bf0e-f99aa9b6bf78"
      },
      "execution_count": 9,
      "outputs": [
        {
          "output_type": "display_data",
          "data": {
            "text/plain": [
              "<Figure size 1200x1200 with 1 Axes>"
            ],
            "image/png": "[encoded data removed]"
          },
          "metadata": {}
        }
      ]
    },
    {
      "cell_type": "markdown",
      "source": [
        "# 2.모델"
      ],
      "metadata": {
        "id": "zpEGwg9wJsXy"
      }
    },
    {
      "cell_type": "markdown",
      "source": [
        "## 2-1 nn.Module을 사용하여 Custom model 정의\n",
        "\n",
        "> PyTorch의 `nn.Module`을 상속받아 MNIST 숫자 이미지 데이터를 분류하는 모델을 구현합니다."
      ],
      "metadata": {
        "id": "zw2UpzQSzp0r"
      }
    },
    {
      "cell_type": "markdown",
      "source": [
        "### Custom model 정의\n",
        "MNIST 숫자 이미지 데이터를 분류하는 모델을 구현합니다. 일반적으로 이미지 데이터를 처리하는 모델로 CNN(Convolution Neural Network)을 많이 사용합니다. 이번 실습에서는 CNN을 사용하기 전에 fully connected layers로 구성된 DNN(Deep Neural Network)을 먼저 구현해 봅니다.\n",
        "\n",
        "MNIST 숫자 이미지 데이터는 28 $\\times$ 28 크기를 갖는 2D matrix입니다. DNN의 입력으로 사용하기 위해 matrix를 1차원으로 펼쳐야 합니다. 입력 데이터를 펼치기 위해 `forward`의 첫 연산으로 `x = x.view(x.shape[0], -1)`를 진행합니다.\n",
        "\n",
        "\n",
        "**참고 사항**\n",
        "\n",
        "DNN 모델을 설계할 때, 레이어의 개수는 하이퍼 파라미터의 일종입니다. 레이어의 개수는 모델의 복잡성과 관련이 있으며, 레이어를 너무 많이 쌓거나 너무 적게 쌓는 경우 문제가 발생할 수 있습니다.\n",
        "- **레이어를 너무 깊게 쌓을 경우**: 모델의 복잡성이 증가하여 오버피팅의 위험이 증가할 수 있습니다. 또한 gradient vanishing, exploding의 문제가 발생할 수 있습니다.\n",
        "-  **레이어를 너무 적게 쌓을 경우**: 모델이 너무 단순하여 학습 데이터의 패턴을 충분히 포착하지 못하는 현상인 언더피팅이 발생할 수 있습니다. 이에 따라 일반화 성능이 제한될 수 있습니다.\n",
        "\n",
        "\n",
        "**주의 사항**\n",
        "\n",
        "`nn.Linear`를 통해 레이어를 정의할 때는 입력 데이터의 차원과 레이어의 입력 차원이 일치해야 합니다."
      ],
      "metadata": {
        "id": "vHOtZ5oTzx6V"
      }
    },
    {
      "cell_type": "markdown",
      "source": [
        "![image.png](data:image/png;base64,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)"
      ],
      "metadata": {
        "id": "srLJrrzva0SK"
      }
    },
    {
      "cell_type": "markdown",
      "source": [
        "아래 코드는 PyTorch를 사용하여 심층 신경망(DNN)을 정의하는 클래스입니다. 클래스는 여러 옵션에 따라 모델 구조를 설정할 수 있도록 설계되었습니다.  클래스는 유연하게 구성할 수 있는 DNN 모델을 정의하며, 각 레이어와 기능을 사용자가 지정한 대로 활성화하거나 비활성화할 수 있습니다.\n",
        "\n",
        "\n",
        "\n",
        "\n",
        "\n",
        "\n"
      ],
      "metadata": {
        "id": "e7sj_Fj5bgnS"
      }
    },
    {
      "cell_type": "markdown",
      "source": [
        "* `__init__` : 클래스 초기화 메서드. 여러 매개변수를 받아 모델의 구조를 설정\n",
        "\n",
        "```\n",
        "- hidden_dim: 은닉층의 크기를 설정.\n",
        "- num_classes: 최종 출력 클래스의 수를 설정.\n",
        "- dropout_ratio: 드롭아웃(dropout) 비율을 설정.\n",
        "- apply_batchnorm: 배치 정규화(batch normalization) 적용 여부를 설정.\n",
        "- apply_dropout: 드롭아웃 적용 여부를 설정.\n",
        "- apply_activation: 활성화 함수 적용 여부를 설정.\n",
        "- set_super: super().__init__() 호출 여부를 설정.\n",
        "```\n",
        "\n"
      ],
      "metadata": {
        "id": "xC-PYvzjb_h5"
      }
    },
    {
      "cell_type": "code",
      "source": [
        "# class DNN(nn.Module): PyTorch의 nn.Module을 상속받아 새로운 신경망 클래스를 정의\n",
        "# __init__: 클래스 초기화 메서드. 여러 매개변수를 받아 모델의 구조를 설정\n",
        "class DNN(nn.Module):\n",
        "  def __init__(self, hidden_dim, num_classes, dropout_ratio, apply_batchnorm, apply_dropout, apply_activation, set_super):\n",
        "    if set_super:\n",
        "      super().__init__()\n",
        "    # Fully connected layer (완전 연결층) 및 기타 레이어 선언.\n",
        "        ## fc1, fc2, fc3, classifier: 입력을 각각의 크기에 맞는 완전 연결층으로 변환\n",
        "            ### fc1: 입력을 28 * 28(이미지 크기)에서 hidden_dim * 4로 변환.\n",
        "            ### fc2: hidden_dim * 4에서 hidden_dim * 2로 변환.\n",
        "            ### fc3: hidden_dim * 2에서 hidden_dim으로 변환.\n",
        "            ### classifier: 최종 은닉층 출력인 hidden_dim에서 num_classes로 변환.\n",
        "    self.fc1 = nn.Linear(28 * 28, hidden_dim * 4)\n",
        "    self.fc2 = nn.Linear(hidden_dim * 4, hidden_dim * 2)\n",
        "    self.fc3 = nn.Linear(hidden_dim * 2, hidden_dim)\n",
        "    self.classifier = nn.Linear(hidden_dim, num_classes)\n",
        "\n",
        "    # Batch normalization (배치정규화) 선언.\n",
        "    # apply_batchnorm 인자가 False일 경우, batch normalization은 적용되지 않습니다.\n",
        "    # apply_batchnorm이 False이면 nn.Identity()를 사용하여 아무 작업도 하지 않습니다.\n",
        "    self.batchnorm1 = nn.BatchNorm1d(hidden_dim * 4) if apply_batchnorm else nn.Identity()\n",
        "    self.batchnorm2 = nn.BatchNorm1d(hidden_dim * 2) if apply_batchnorm else nn.Identity()\n",
        "    self.batchnorm3 = nn.BatchNorm1d(hidden_dim) if apply_batchnorm else nn.Identity()\n",
        "\n",
        "    # Dropout(드롭아웃) 선언 : dropout1, dropout2, dropout3: 드롭아웃을 적용할지 여부를 설정\n",
        "    # Dropout은 레이어를 통과한 중간 연산 결과를 dropout_ratio 만큼의 비율로 element를 '0'으로 변경합니다.\n",
        "    # 학습을 규제하여 일반화 성능을 높이고 싶을 때 사용합니다.\n",
        "    # Dropout을 선언합니다. apply_dropout 인자가 False일 경우, dropout은 적용되지 않습니다.\n",
        "    self.dropout1 = nn.Dropout(dropout_ratio) if apply_dropout else nn.Identity()\n",
        "    self.dropout2 = nn.Dropout(dropout_ratio) if apply_dropout else nn.Identity()\n",
        "    self.dropout3 = nn.Dropout(dropout_ratio) if apply_dropout else nn.Identity()\n",
        "\n",
        "    # Activation function (활성화 함수)을 선언합니다.\n",
        "    # apply_activation 인자가 False일 경우, activation function은 적용되지 않습니다.\n",
        "    self.activation1 = nn.ReLU() if apply_activation else nn.Identity()\n",
        "    self.activation2 = nn.ReLU() if apply_activation else nn.Identity()\n",
        "    self.activation3 = nn.ReLU() if apply_activation else nn.Identity()\n",
        "\n",
        "    # 소프트맥스 (Softmax) 선언 : 소프트맥스 함수를 사용하여 최종 출력을 확률로 변환\n",
        "    self.softmax = nn.LogSoftmax(dim = 1)\n",
        "\n",
        "  # 순전파 (Forward) 정의 메서드 : 입력 x를 각 레이어를 통해 순차적으로 변환\n",
        "  def forward(self, x):\n",
        "    \"\"\"\n",
        "    Input and Output Summary\n",
        "\n",
        "    Input:\n",
        "      x: [batch_size, 1, 28, 28]\n",
        "    Output:\n",
        "      output: [batch_size, num_classes]\n",
        "\n",
        "    \"\"\"\n",
        "    # 입력 이미지를 일렬로 펼칩. x의 형태는 [batch_size, 784]\n",
        "    x = x.view(x.shape[0], -1)  # [batch_size, 784]\n",
        "\n",
        "    # x = self.fc1(x), x = self.fc2(x), x = self.fc3(x), x = self.classifier(x): 입력을 각 완전 연결층을 통해 변환\n",
        "    # self.batchnorm1(x), self.batchnorm2(x), self.batchnorm3(x): 배치 정규화를 적용\n",
        "    # self.activation1(x), self.activation2(x), self.activation3(x): 활성화 함수를 적용\n",
        "    # self.dropout1(x), self.dropout2(x), self.dropout3(x): 드롭아웃을 적용\n",
        "    x = self.fc1(x) # [batch_size, dim * 4]\n",
        "    x = self.batchnorm1(x)\n",
        "    x = self.activation1(x)\n",
        "    x = self.dropout1(x)\n",
        "\n",
        "    x = self.fc2(x) # [batch_size, dim * 2]\n",
        "    x = self.batchnorm2(x)\n",
        "    x = self.activation2(x)\n",
        "    x = self.dropout2(x)\n",
        "\n",
        "    x = self.fc3(x) # [batch_size, dim]\n",
        "    x = self.batchnorm3(x)\n",
        "    x = self.activation3(x)\n",
        "    x = self.dropout3(x)\n",
        "\n",
        "    x = self.classifier(x) # [batch_size, 10]\n",
        "    # output = self.softmax(x): 최종 출력에 소프트맥스를 적용하여 확률로 변환\n",
        "    output = self.softmax(x)\n",
        "    return output"
      ],
      "metadata": {
        "id": "A5TcpOFsz5Tm"
      },
      "execution_count": 12,
      "outputs": []
    },
    {
      "cell_type": "markdown",
      "source": [
        "> ***위의 코드는 비효율적 - 아래에 위 코드를 단순화해서 다시 모델 정의***"
      ],
      "metadata": {
        "id": "p7k1gXLMD2hS"
      }
    },
    {
      "cell_type": "markdown",
      "source": [
        "아래 코드는 PyTorch를 사용하여 심층 신경망(DNN)을 정의하는 클래스입니다. 이전 코드와는 달리, 은닉층의 수와 각 은닉층의 크기를 리스트로 받아 동적으로 신경망을 구성할 수 있습니다."
      ],
      "metadata": {
        "id": "6cPAzOh8mRTS"
      }
    },
    {
      "cell_type": "markdown",
      "source": [
        "이 클래스는 동적으로 레이어를 구성할 수 있는 유연한 DNN 모델을 정의합니다. 은닉층의 수와 크기, 배치 정규화, 드롭아웃, 활성화 함수 적용 여부를 사용자가 지정할 수 있습니다."
      ],
      "metadata": {
        "id": "neP6BeO6mXaw"
      }
    },
    {
      "cell_type": "code",
      "source": [
        "# 클래스 정의 및 초기화 메서드\n",
        "# class DNN(nn.Module): PyTorch의 nn.Module을 상속받아 새로운 신경망 클래스를 정의\n",
        "class DNN(nn.Module):\n",
        "  # __init__: 클래스 초기화 메서드입니다. 여러 매개변수를 받아 모델의 구조를 설정\n",
        "    # hidden_dims: 은닉층의 크기를 나타내는 리스트. 예를 들어, [784, 512, 256]이면 첫 번째 은닉층의 입력 크기는 784, 출력 크기는 512, 두 번째 은닉층의 입력 크기는 512, 출력 크기는 256\n",
        "    # num_classes: 최종 출력 클래스의 수를 설정.\n",
        "    # dropout_ratio: 드롭아웃(dropout) 비율을 설정.\n",
        "    # apply_batchnorm: 배치 정규화(batch normalization) 적용 여부를 설정.\n",
        "    # apply_dropout: 드롭아웃 적용 여부를 설정.\n",
        "    # apply_activation: 활성화 함수 적용 여부를 설정.\n",
        "    # set_super: super().__init__() 호출 여부를 설정.\n",
        "  def __init__(self, hidden_dims, num_classes, dropout_ratio, apply_batchnorm, apply_dropout, apply_activation, set_super):\n",
        "    if set_super:\n",
        "      super().__init__()\n",
        "\n",
        "    # 레이어 선언\n",
        "    self.hidden_dims = hidden_dims # 은닉층의 크기 리스트를 클래스 변수로 저장\n",
        "    # nn.ModuleList는 PyTorch에서 레이어들을 리스트 형태로 저장하고, 모델의 일부분으로 취급할 수 있게 합니다.\n",
        "    self.layers = nn.ModuleList() # 레이어를 저장할 모듈 리스트를 초기화\n",
        "\n",
        "    # 은닉층 구성\n",
        "    for i in range(len(self.hidden_dims) - 1):   # 각 은닉층을 순회하며 레이어를 추가\n",
        "      # 현재 은닉층의 출력 크기에서 다음 은닉층의 입력 크기로 변환하는 완전 연결층을 추가\n",
        "      self.layers.append(nn.Linear(self.hidden_dims[i], self.hidden_dims[i+1]))\n",
        "\n",
        "      # 배치 정규화를 적용해야 할 경우, 배치 정규화 레이어를 추가\n",
        "      if apply_batchnorm:\n",
        "        self.layers.append(nn.BatchNorm1d(self.hidden_dims[i+1]))\n",
        "\n",
        "      # 활성화 함수를 적용해야 할 경우, ReLU 활성화 함수 레이어를 추가\n",
        "      if apply_activation:\n",
        "        self.layers.append(nn.ReLU())\n",
        "\n",
        "      # 드롭아웃을 적용해야 할 경우, 드롭아웃 레이어를 추가\n",
        "      if apply_dropout:\n",
        "        self.layers.append(nn.Dropout(dropout_ratio))\n",
        "\n",
        "    # 최종 분류기 및 소프트맥스 선언\n",
        "    # self.classifier: 마지막 은닉층에서 출력 클래스 수로 변환하는 완전 연결층을 정의\n",
        "    self.classifier = nn.Linear(self.hidden_dims[-1], num_classes)\n",
        "    # self.softmax: 소프트맥스 함수를 사용하여 최종 출력을 확률로 변환\n",
        "    self.softmax = nn.LogSoftmax(dim = 1)\n",
        "\n",
        "  # forward(self, x): 순전파를 정의하는 메서드. 입력 x를 각 레이어를 통해 순차적으로 변환\n",
        "  def forward(self, x):\n",
        "    \"\"\"\n",
        "    Input and Output Summary\n",
        "\n",
        "    Input:\n",
        "      x: [batch_size, 1, 28, 28]\n",
        "    Output:\n",
        "      output: [batch_size, num_classes]\n",
        "\n",
        "    \"\"\"\n",
        "    # x = x.view(x.shape[0], -1): 입력 이미지를 일렬로 펼칩니다. x의 형태는 [batch_size, 784]\n",
        "    x = x.view(x.shape[0], -1)  # [batch_size, 784]\n",
        "\n",
        "    # self.layers에 추가된 레이어들을 순차적으로 적용\n",
        "    for layer in self.layers:\n",
        "      x = layer(x)\n",
        "\n",
        "    # 최종 은닉층 출력을 분류기로 변환\n",
        "    x = self.classifier(x) # [batch_size, 10]\n",
        "    # 소프트맥스를 적용하여 출력 확률을 계산\n",
        "    output = self.softmax(x) # [batch_size, 10]\n",
        "    return output\n"
      ],
      "metadata": {
        "id": "LIMoJ2v3z9Dc"
      },
      "execution_count": 13,
      "outputs": []
    },
    {
      "cell_type": "markdown",
      "source": [
        "> ***모델 선언***"
      ],
      "metadata": {
        "id": "TRGfPUhYFXNW"
      }
    },
    {
      "cell_type": "markdown",
      "source": [
        "아래 코드를 실행하면, 임의의 입력 텐서가 모델을 통과하여 출력 텐서가 생성됩니다. 이를 통해 모델이 정상적으로 작동하는지, 특히 입력 크기와 출력 크기가 예상대로 처리되는지 확인할 수 있습니다"
      ],
      "metadata": {
        "id": "1lJcPCVcrm_G"
      }
    },
    {
      "cell_type": "markdown",
      "source": [
        "결과적으로, 아래 코드는 모델을 정의하고, 임의의 데이터를 입력하여 모델의 연산이 올바르게 수행되는지 확인하는 테스트 역할을 합니다. 정상적으로 실행된다면, 모델의 구조와 설정에 문제가 없음을 의미"
      ],
      "metadata": {
        "id": "KvX0rLMMrsv0"
      }
    },
    {
      "cell_type": "code",
      "source": [
        "# 모델을 선언한 후, MNIST 숫자 이미지 데이터와 동일한 크기의 random Tensor를 입력으로 넣어 연산상 문제가 없는지 확인합니다.\n",
        "\n",
        "# 은닉층의 기본 차원을 설정\n",
        "hidden_dim = 128\n",
        "# 모델의 각 은닉층 크기를 설정하는 리스트를 정의\n",
        "    ## 784는 입력 이미지(28x28)를 일렬로 펼친 크기.\n",
        "    ## hidden_dim * 4 = 512, hidden_dim * 2 = 256, hidden_dim = 128은 각 은닉층의 크기를 설정\n",
        "hidden_dims = [784, hidden_dim * 4, hidden_dim * 2, hidden_dim]\n",
        "\n",
        "# 모델 선언\n",
        "    ## DNN 클래스의 인스턴스를 생성.\n",
        "        # hidden_dims=hidden_dims: 앞서 정의한 은닉층 크기 리스트를 전달\n",
        "        # num_classes=10: MNIST 데이터셋의 숫자 클래스 수를 설정\n",
        "        # dropout_ratio=0.2: 드롭아웃 비율을 0.2로 설정\n",
        "        # apply_batchnorm=True: 배치 정규화를 적용하도록 설정\n",
        "        # apply_dropout=True: 드롭아웃을 적용하도록 설정\n",
        "        # apply_activation=True: 활성화 함수를 적용하도록 설정\n",
        "        # set_super=True: super().__init__()를 호출하여 부모 클래스의 초기화 메서드를 호출\n",
        "model = DNN(hidden_dims = hidden_dims, num_classes = 10, dropout_ratio = 0.2, apply_batchnorm = True, apply_dropout = True, apply_activation = True, set_super = True)\n",
        "# 모델에 임의의 입력 텐서를 전달\n",
        "    # torch.randn((32, 1, 28, 28)): 무작위 값을 가지는 텐서를 생성합니다.\n",
        "    #     - 32는 배치 크기를 나타냅니다.\n",
        "    #     - 1은 채널 수를 나타내며, MNIST 데이터셋은 흑백 이미지이므로 채널 수가 1입니다.\n",
        "    #     - 28, 28은 이미지의 높이와 너비를 나타냅니다.\n",
        "    # model(...): 생성한 무작위 텐서를 모델의 입력으로 전달\n",
        "output = model(torch.randn((32, 1, 28, 28)))"
      ],
      "metadata": {
        "id": "YGuGz6taz_nf"
      },
      "execution_count": 15,
      "outputs": []
    },
    {
      "cell_type": "markdown",
      "source": [
        "### `super().__init__()`\n",
        "`super().__init__()`은 부모 클래스(nn.Module)를 초기화하는 코드입니다. 부모 클래스의 `__init__`에서는 파라미터, 버퍼, 서브 모듈 등을 자동으로 등록하고 추적하는 기능을 제공하기 때문에, 커스텀 모델에서 서브 모듈(e.g. nn.Linear, nn.BatchNorm1d ..)을 사용하기 위해서는 부모 클래스를 초기화해야 합니다.\n",
        "\n",
        "부모 클래스를 초기화하지 않을 경우, 부모 클래스가 초기화 되기 전에 모듈을 할당할 수 없다는 에러가 발생합니다."
      ],
      "metadata": {
        "id": "UIwInlQ35dVd"
      }
    },
    {
      "cell_type": "markdown",
      "source": [
        "- [nn.Module 소스코드 - PyTorch 공식 문서](https://pytorch.org/docs/stable/_modules/torch/nn/modules/module.html#Module)"
      ],
      "metadata": {
        "id": "wF-3GHCu5pRt"
      }
    },
    {
      "cell_type": "code",
      "source": [
        "# 부모 클래스(nn.Module)를 초기화하지 않는다면 입력 값에 대한 연산을 진행하지 못합니다.\n",
        "# set_super = False\n",
        "# nn.Module을 먼저 초기화하지 않는다면 오류가 발생합니다.\n",
        "model = DNN(hidden_dims = hidden_dims, num_classes = 10, dropout_ratio = 0.2, apply_batchnorm = True, apply_dropout = True, apply_activation = True, set_super = False)"
      ],
      "metadata": {
        "colab": {
          "base_uri": "https://localhost:8080/",
          "height": 333
        },
        "id": "HvqmQ8ph5sPz",
        "outputId": "8e469380-ca53-494a-f363-e9be8a135595"
      },
      "execution_count": 16,
      "outputs": [
        {
          "output_type": "error",
          "ename": "AttributeError",
          "evalue": "cannot assign module before Module.__init__() call",
          "traceback": [
            "\u001b[0;31m---------------------------------------------------------------------------\u001b[0m",
            "\u001b[0;31mAttributeError\u001b[0m                            Traceback (most recent call last)",
            "\u001b[0;32m<ipython-input-16-c388b30cda51>\u001b[0m in \u001b[0;36m<cell line: 2>\u001b[0;34m()\u001b[0m\n\u001b[1;32m      1\u001b[0m \u001b[0;31m# 부모 클래스(nn.Module)를 초기화하지 않는다면 입력 값에 대한 연산을 진행하지 못합니다.\u001b[0m\u001b[0;34m\u001b[0m\u001b[0;34m\u001b[0m\u001b[0m\n\u001b[0;32m----> 2\u001b[0;31m \u001b[0mmodel\u001b[0m \u001b[0;34m=\u001b[0m \u001b[0mDNN\u001b[0m\u001b[0;34m(\u001b[0m\u001b[0mhidden_dims\u001b[0m \u001b[0;34m=\u001b[0m \u001b[0mhidden_dims\u001b[0m\u001b[0;34m,\u001b[0m \u001b[0mnum_classes\u001b[0m \u001b[0;34m=\u001b[0m \u001b[0;36m10\u001b[0m\u001b[0;34m,\u001b[0m \u001b[0mdropout_ratio\u001b[0m \u001b[0;34m=\u001b[0m \u001b[0;36m0.2\u001b[0m\u001b[0;34m,\u001b[0m \u001b[0mapply_batchnorm\u001b[0m \u001b[0;34m=\u001b[0m \u001b[0;32mTrue\u001b[0m\u001b[0;34m,\u001b[0m \u001b[0mapply_dropout\u001b[0m \u001b[0;34m=\u001b[0m \u001b[0;32mTrue\u001b[0m\u001b[0;34m,\u001b[0m \u001b[0mapply_activation\u001b[0m \u001b[0;34m=\u001b[0m \u001b[0;32mTrue\u001b[0m\u001b[0;34m,\u001b[0m \u001b[0mset_super\u001b[0m \u001b[0;34m=\u001b[0m \u001b[0;32mFalse\u001b[0m\u001b[0;34m)\u001b[0m  \u001b[0;31m# nn.Module을 먼저 초기화하지 않는다면 오류가 발생합니다.\u001b[0m\u001b[0;34m\u001b[0m\u001b[0;34m\u001b[0m\u001b[0m\n\u001b[0m",
            "\u001b[0;32m<ipython-input-13-8900d1369c95>\u001b[0m in \u001b[0;36m__init__\u001b[0;34m(self, hidden_dims, num_classes, dropout_ratio, apply_batchnorm, apply_dropout, apply_activation, set_super)\u001b[0m\n\u001b[1;32m     17\u001b[0m     \u001b[0mself\u001b[0m\u001b[0;34m.\u001b[0m\u001b[0mhidden_dims\u001b[0m \u001b[0;34m=\u001b[0m \u001b[0mhidden_dims\u001b[0m \u001b[0;31m# 은닉층의 크기 리스트를 클래스 변수로 저장\u001b[0m\u001b[0;34m\u001b[0m\u001b[0;34m\u001b[0m\u001b[0m\n\u001b[1;32m     18\u001b[0m     \u001b[0;31m# nn.ModuleList는 PyTorch에서 레이어들을 리스트 형태로 저장하고, 모델의 일부분으로 취급할 수 있게 합니다.\u001b[0m\u001b[0;34m\u001b[0m\u001b[0;34m\u001b[0m\u001b[0m\n\u001b[0;32m---> 19\u001b[0;31m     \u001b[0mself\u001b[0m\u001b[0;34m.\u001b[0m\u001b[0mlayers\u001b[0m \u001b[0;34m=\u001b[0m \u001b[0mnn\u001b[0m\u001b[0;34m.\u001b[0m\u001b[0mModuleList\u001b[0m\u001b[0;34m(\u001b[0m\u001b[0;34m)\u001b[0m \u001b[0;31m# 레이어를 저장할 모듈 리스트를 초기화\u001b[0m\u001b[0;34m\u001b[0m\u001b[0;34m\u001b[0m\u001b[0m\n\u001b[0m\u001b[1;32m     20\u001b[0m \u001b[0;34m\u001b[0m\u001b[0m\n\u001b[1;32m     21\u001b[0m     \u001b[0;31m# 은닉층 구성\u001b[0m\u001b[0;34m\u001b[0m\u001b[0;34m\u001b[0m\u001b[0m\n",
            "\u001b[0;32m/usr/local/lib/python3.10/dist-packages/torch/nn/modules/module.py\u001b[0m in \u001b[0;36m__setattr__\u001b[0;34m(self, name, value)\u001b[0m\n\u001b[1;32m   1735\u001b[0m             \u001b[0;32mif\u001b[0m \u001b[0misinstance\u001b[0m\u001b[0;34m(\u001b[0m\u001b[0mvalue\u001b[0m\u001b[0;34m,\u001b[0m \u001b[0mModule\u001b[0m\u001b[0;34m)\u001b[0m\u001b[0;34m:\u001b[0m\u001b[0;34m\u001b[0m\u001b[0;34m\u001b[0m\u001b[0m\n\u001b[1;32m   1736\u001b[0m                 \u001b[0;32mif\u001b[0m \u001b[0mmodules\u001b[0m \u001b[0;32mis\u001b[0m \u001b[0;32mNone\u001b[0m\u001b[0;34m:\u001b[0m\u001b[0;34m\u001b[0m\u001b[0;34m\u001b[0m\u001b[0m\n\u001b[0;32m-> 1737\u001b[0;31m                     raise AttributeError(\n\u001b[0m\u001b[1;32m   1738\u001b[0m                         \"cannot assign module before Module.__init__() call\")\n\u001b[1;32m   1739\u001b[0m                 \u001b[0mremove_from\u001b[0m\u001b[0;34m(\u001b[0m\u001b[0mself\u001b[0m\u001b[0;34m.\u001b[0m\u001b[0m__dict__\u001b[0m\u001b[0;34m,\u001b[0m \u001b[0mself\u001b[0m\u001b[0;34m.\u001b[0m\u001b[0m_parameters\u001b[0m\u001b[0;34m,\u001b[0m \u001b[0mself\u001b[0m\u001b[0;34m.\u001b[0m\u001b[0m_buffers\u001b[0m\u001b[0;34m,\u001b[0m \u001b[0mself\u001b[0m\u001b[0;34m.\u001b[0m\u001b[0m_non_persistent_buffers_set\u001b[0m\u001b[0;34m)\u001b[0m\u001b[0;34m\u001b[0m\u001b[0;34m\u001b[0m\u001b[0m\n",
            "\u001b[0;31mAttributeError\u001b[0m: cannot assign module before Module.__init__() call"
          ]
        }
      ]
    },
    {
      "cell_type": "markdown",
      "source": [
        "## 2-2 모델의 파라미터 초기화\n",
        "\n",
        "> `nn.init`을 사용하여 모델의 가중치를 초기화합니다."
      ],
      "metadata": {
        "id": "GT4Bojdj5w8A"
      }
    },
    {
      "cell_type": "markdown",
      "source": [
        "### 다양한 가중치 초기화 방법\n",
        "`nn.init` 모듈은 다양한 가중치 초기화 방법을 지원합니다. 가장 대표적인 함수들은 다음과 같습니다.\n",
        "\n",
        "- `constant_(tensor, val)`: 가중치를 상수로 초기화합니다.\n",
        "- `zeros_(tensor)`: 가중치를 모두 0으로 초기화합니다.\n",
        "- `uniform_(tensor, a = 0, b = 1)`: a부터 b 사이의 값을 균일한 분포로 초기화합니다.\n",
        "- `xavier_normal_(tensor)`: 입력 벡터의 dimension($n$)과 출력 벡터의 dimension($m$)으로부터 표준편차($2 \\over \\sqrt{n + m}$)를 계산한 정규분포로 가중치를 초기화합니다.\n",
        "- `kaiming_normal_(tensor)`: 입력 벡터의 dimension($n$)으로부터 표준편차($\\sqrt{2 \\over n}$)를 계산한 정규분포로 가중치를 초기화합니다.\n",
        "- .."
      ],
      "metadata": {
        "id": "nTDFDkgw51GL"
      }
    },
    {
      "cell_type": "markdown",
      "source": [
        "* [torch.nn.init - PyTorch 공식 문서](https://pytorch.org/docs/stable/nn.init.html): nn.init 내 다양한 함수를 파악해보세요.\n",
        "* [가중치 초기화(weight initialization)](https://yngie-c.github.io/deep%20learning/2020/03/17/parameter_init/): 가중치 초기화 방법에 대해 자세히 설명된 블로그입니다."
      ],
      "metadata": {
        "id": "d362A4mR531-"
      }
    },
    {
      "cell_type": "markdown",
      "source": [
        "아래 함수는 주어진 모델의 모든 완전 연결층(nn.Linear)의 가중치를 특정 방법에 따라 초기화하고, 편향을 0으로 설정합니다. 초기화 방법은 'gaussian', 'xavier', 'kaiming', 'zeros' 중 하나로 선택할 수 있습니다. 이 함수를 사용하여 모델의 초기 가중치를 설정하면, 학습을 시작하기 전에 모델의 가중치가 적절하게 초기화되도록 할 수 있습니다."
      ],
      "metadata": {
        "id": "Y_eEzY67jrdk"
      }
    },
    {
      "cell_type": "code",
      "source": [
        "# 모델의 가중치를 초기화하는 함수\n",
        "# 함수 정의 및 입력 매개변수\n",
        "# model: 가중치를 초기화할 PyTorch 모델\n",
        "# weight_init_method: 가중치를 초기화하는 방법을 나타내는 문자열. 가능한 값은 'gaussian', 'xavier', 'kaiming', 'zeros'\n",
        "def weight_initialization(model, weight_init_method):\n",
        "  for m in model.modules():\n",
        "    if isinstance(m, nn.Linear):\n",
        "      if weight_init_method == 'gaussian':\n",
        "        nn.init.normal_(m.weight)\n",
        "      elif weight_init_method == 'xavier':\n",
        "        nn.init.xavier_normal_(m.weight)\n",
        "      elif weight_init_method == 'kaiming':\n",
        "        nn.init.kaiming_normal_(m.weight)\n",
        "      elif weight_init_method == 'zeros':\n",
        "        nn.init.zeros_(m.weight)\n",
        "    #   elif weight_init_method == 'ones':  <= 추가할 수 있음\n",
        "\n",
        "      nn.init.zeros_(m.bias)\n",
        "\n",
        "  return model"
      ],
      "metadata": {
        "id": "tobAcpmf57bj"
      },
      "execution_count": 17,
      "outputs": []
    },
    {
      "cell_type": "code",
      "source": [
        "init_method = 'zeros' # gaussian, xavier, kaiming, zeros\n",
        "model = weight_initialization(model, init_method)\n",
        "\n",
        "for m in model.modules():\n",
        "  if isinstance(m, nn.Linear):\n",
        "    print(m.weight.data)\n",
        "    break"
      ],
      "metadata": {
        "colab": {
          "base_uri": "https://localhost:8080/"
        },
        "id": "AWfbYcPf5-Jz",
        "outputId": "b1bf3b25-d3af-43b0-c3fc-ffbd95469a73"
      },
      "execution_count": 18,
      "outputs": [
        {
          "output_type": "stream",
          "name": "stdout",
          "text": [
            "tensor([[0., 0., 0.,  ..., 0., 0., 0.],\n",
            "        [0., 0., 0.,  ..., 0., 0., 0.],\n",
            "        [0., 0., 0.,  ..., 0., 0., 0.],\n",
            "        ...,\n",
            "        [0., 0., 0.,  ..., 0., 0., 0.],\n",
            "        [0., 0., 0.,  ..., 0., 0., 0.],\n",
            "        [0., 0., 0.,  ..., 0., 0., 0.]])\n"
          ]
        }
      ]
    },
    {
      "cell_type": "code",
      "source": [
        "# 최종 모델 코드\n",
        "class DNN(nn.Module):\n",
        "  def __init__(self, hidden_dims, num_classes, dropout_ratio, apply_batchnorm, apply_dropout, apply_activation, set_super):\n",
        "    if set_super:\n",
        "      super().__init__()\n",
        "\n",
        "    self.hidden_dims = hidden_dims\n",
        "    self.layers = nn.ModuleList()\n",
        "\n",
        "    for i in range(len(self.hidden_dims) - 1):\n",
        "      self.layers.append(nn.Linear(self.hidden_dims[i], self.hidden_dims[i+1]))\n",
        "\n",
        "      if apply_batchnorm:\n",
        "        self.layers.append(nn.BatchNorm1d(self.hidden_dims[i+1]))\n",
        "\n",
        "      if apply_activation:\n",
        "        self.layers.append(nn.ReLU())\n",
        "\n",
        "      if apply_dropout:\n",
        "        self.layers.append(nn.Dropout(dropout_ratio))\n",
        "\n",
        "    self.classifier = nn.Linear(self.hidden_dims[-1], num_classes)\n",
        "    self.softmax = nn.LogSoftmax(dim = 1)\n",
        "\n",
        "  def forward(self, x):\n",
        "    \"\"\"\n",
        "    Input and Output Summary\n",
        "\n",
        "    Input:\n",
        "      x: [batch_size, 1, 28, 28]\n",
        "    Output:\n",
        "      output: [batch_size, num_classes]\n",
        "\n",
        "    \"\"\"\n",
        "    x = x.view(x.shape[0], -1)  # [batch_size, 784]\n",
        "\n",
        "    for layer in self.layers:\n",
        "      x = layer(x)\n",
        "\n",
        "    x = self.classifier(x) # [batch_size, 10]\n",
        "    output = self.softmax(x) # [batch_size, 10]\n",
        "    return output\n",
        "\n",
        "  def weight_initialization(self, weight_init_method):\n",
        "    for m in self.modules():\n",
        "      if isinstance(m, nn.Linear):\n",
        "        if weight_init_method == 'gaussian':\n",
        "          nn.init.normal_(m.weight)\n",
        "        elif weight_init_method == 'xavier':\n",
        "          nn.init.xavier_normal_(m.weight)\n",
        "        elif weight_init_method == 'kaiming':\n",
        "          nn.init.kaiming_normal_(m.weight)\n",
        "        elif weight_init_method == 'zeros':\n",
        "          nn.init.zeros_(m.weight)\n",
        "\n",
        "        nn.init.zeros_(m.bias)\n",
        "\n",
        "  def count_parameters(self):\n",
        "    return sum(p.numel() for p in self.parameters() if p.requires_grad)  # numel()은 텐서의 원소 개수를 반환하는 함수입니다."
      ],
      "metadata": {
        "id": "4DCcGeEi6AJz"
      },
      "execution_count": 19,
      "outputs": []
    },
    {
      "cell_type": "code",
      "source": [
        "model = DNN(hidden_dims = hidden_dims, num_classes = 10, dropout_ratio = 0.2, apply_batchnorm = True, apply_dropout = True, apply_activation = True, set_super = True)\n",
        "init_method = 'gaussian' # gaussian, xavier, kaiming, zeros\n",
        "model.weight_initialization(init_method)"
      ],
      "metadata": {
        "id": "SAzNmxhy6Cli"
      },
      "execution_count": 20,
      "outputs": []
    },
    {
      "cell_type": "code",
      "source": [
        "print(f'The model has {model.count_parameters():,} trainable parameters')"
      ],
      "metadata": {
        "colab": {
          "base_uri": "https://localhost:8080/"
        },
        "id": "fvleKmPt6IDz",
        "outputId": "ea52e4d2-5c21-4a94-907b-afff6b3b0fb7"
      },
      "execution_count": 21,
      "outputs": [
        {
          "output_type": "stream",
          "name": "stdout",
          "text": [
            "The model has 569,226 trainable parameters\n"
          ]
        }
      ]
    }
  ]
}