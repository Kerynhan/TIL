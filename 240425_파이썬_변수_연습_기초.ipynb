{
  "nbformat": 4,
  "nbformat_minor": 0,
  "metadata": {
    "colab": {
      "provenance": [],
      "authorship_tag": "ABX9TyMKdkHBXRjO1/lzw5cz+Uvs"
    },
    "kernelspec": {
      "name": "python3",
      "display_name": "Python 3"
    },
    "language_info": {
      "name": "python"
    }
  },
  "cells": [
    {
      "cell_type": "code",
      "source": [
        "print(\"Mary's cosmetics\")"
      ],
      "metadata": {
        "colab": {
          "base_uri": "https://localhost:8080/"
        },
        "id": "2PjvKltFUV0D",
        "outputId": "98561f99-e47e-4c50-ae1d-acb5acd3d4c3"
      },
      "execution_count": null,
      "outputs": [
        {
          "output_type": "stream",
          "name": "stdout",
          "text": [
            "Mary's cosmetics\n"
          ]
        }
      ]
    },
    {
      "cell_type": "code",
      "source": [
        "print('Mary\\'s cosmetics')"
      ],
      "metadata": {
        "colab": {
          "base_uri": "https://localhost:8080/"
        },
        "id": "yoIsbHo7UdZG",
        "outputId": "60eda9ad-9149-48d3-cd89-c790b9aed8a5"
      },
      "execution_count": null,
      "outputs": [
        {
          "output_type": "stream",
          "name": "stdout",
          "text": [
            "Mary's cosmetics\n"
          ]
        }
      ]
    },
    {
      "cell_type": "code",
      "source": [
        "string = \"720\"\n",
        "int_str = int(string)\n",
        "print(int_str + 10)"
      ],
      "metadata": {
        "colab": {
          "base_uri": "https://localhost:8080/"
        },
        "id": "X8MGD8SHU1kS",
        "outputId": "d9c33b16-2af6-4b0e-900f-8e025b8fe8f8"
      },
      "execution_count": null,
      "outputs": [
        {
          "output_type": "stream",
          "name": "stdout",
          "text": [
            "730\n"
          ]
        }
      ]
    },
    {
      "cell_type": "code",
      "source": [
        "integer = 720\n",
        "str_int = str(integer)\n",
        "print(str_int)\n",
        "type(str_int)"
      ],
      "metadata": {
        "colab": {
          "base_uri": "https://localhost:8080/"
        },
        "id": "_5M2WKadVQ3p",
        "outputId": "8455d739-0042-42f8-e896-2f9f74c02b36"
      },
      "execution_count": null,
      "outputs": [
        {
          "output_type": "stream",
          "name": "stdout",
          "text": [
            "720\n"
          ]
        },
        {
          "output_type": "execute_result",
          "data": {
            "text/plain": [
              "str"
            ]
          },
          "metadata": {},
          "execution_count": 10
        }
      ]
    },
    {
      "cell_type": "code",
      "source": [
        "len(\"pneumonoultramicroscopicsilicovolcanoconiosis\")"
      ],
      "metadata": {
        "colab": {
          "base_uri": "https://localhost:8080/"
        },
        "id": "nPuQsq1UV5Wc",
        "outputId": "125aa0b1-c68a-4025-d761-480b91bc3d16"
      },
      "execution_count": null,
      "outputs": [
        {
          "output_type": "execute_result",
          "data": {
            "text/plain": [
              "45"
            ]
          },
          "metadata": {},
          "execution_count": 11
        }
      ]
    },
    {
      "cell_type": "code",
      "source": [
        "print(\"C:\\\\Windows\")\n",
        "print('C:\\\\Windows')"
      ],
      "metadata": {
        "colab": {
          "base_uri": "https://localhost:8080/"
        },
        "id": "7-83ba--WBwk",
        "outputId": "10ee9584-c1cc-48e2-c0a9-7e0f072cc709"
      },
      "execution_count": null,
      "outputs": [
        {
          "output_type": "stream",
          "name": "stdout",
          "text": [
            "C:\\Windows\n",
            "C:\\Windows\n"
          ]
        }
      ]
    },
    {
      "cell_type": "code",
      "source": [
        "print(\"안녕하세요.\\n만나서\\t반갑습니다.\")"
      ],
      "metadata": {
        "colab": {
          "base_uri": "https://localhost:8080/"
        },
        "id": "KbLMKk-WWj5B",
        "outputId": "3c682fa1-afbd-4e27-e987-01866a594559"
      },
      "execution_count": null,
      "outputs": [
        {
          "output_type": "stream",
          "name": "stdout",
          "text": [
            "안녕하세요.\n",
            "만나서\t반갑습니다.\n"
          ]
        }
      ]
    },
    {
      "cell_type": "code",
      "source": [
        "실수 = 4.71\n",
        "print(int(실수*10)/10)"
      ],
      "metadata": {
        "colab": {
          "base_uri": "https://localhost:8080/"
        },
        "id": "O_AUi8o9W39q",
        "outputId": "92edf356-6ad1-400b-d6a4-32dba1795cf4"
      },
      "execution_count": null,
      "outputs": [
        {
          "output_type": "stream",
          "name": "stdout",
          "text": [
            "4.7\n"
          ]
        }
      ]
    },
    {
      "cell_type": "code",
      "execution_count": null,
      "metadata": {
        "colab": {
          "base_uri": "https://localhost:8080/"
        },
        "id": "ih4rGP9KTwE7",
        "outputId": "d6b4fc8c-04d7-472f-f369-f50b072e2026"
      },
      "outputs": [
        {
          "output_type": "stream",
          "name": "stdout",
          "text": [
            "hello! python\n"
          ]
        }
      ],
      "source": [
        "one = \"hello\"\n",
        "two = \"python\"\n",
        "\n",
        "print(one + \"! \" + two)"
      ]
    },
    {
      "cell_type": "code",
      "source": [
        "one = 'python'\n",
        "two = 'java'\n",
        "merge = one + ' ' + two + ' '\n",
        "print(merge * 4)\n",
        "print((one + ' '+ two + ' ') * 4)"
      ],
      "metadata": {
        "colab": {
          "base_uri": "https://localhost:8080/"
        },
        "id": "A6WCq2YaT7cW",
        "outputId": "c9301c3f-0698-440d-8a18-09f21cef0c9c"
      },
      "execution_count": null,
      "outputs": [
        {
          "output_type": "stream",
          "name": "stdout",
          "text": [
            "python java python java python java python java \n",
            "python java python java python java python java \n"
          ]
        }
      ]
    },
    {
      "cell_type": "code",
      "source": [
        "lang = 'python'\n",
        "print(lang[0],lang[2])"
      ],
      "metadata": {
        "colab": {
          "base_uri": "https://localhost:8080/"
        },
        "id": "NsFafCGrXQD4",
        "outputId": "f92d7b72-07c0-4ee3-a5ed-29af1f9e525d"
      },
      "execution_count": null,
      "outputs": [
        {
          "output_type": "stream",
          "name": "stdout",
          "text": [
            "p t\n"
          ]
        }
      ]
    },
    {
      "cell_type": "code",
      "source": [
        "license_plate = \"24가 2210\"\n",
        "print(license_plate[-4:])"
      ],
      "metadata": {
        "colab": {
          "base_uri": "https://localhost:8080/"
        },
        "id": "ietIyOl1YVsD",
        "outputId": "60a32473-5be9-45f4-f67e-46528050b41d"
      },
      "execution_count": null,
      "outputs": [
        {
          "output_type": "stream",
          "name": "stdout",
          "text": [
            "2210\n"
          ]
        }
      ]
    },
    {
      "cell_type": "code",
      "source": [
        "string = \"홀짝홀짝홀짝\"\n",
        "print(string[0],string[2],string[4])\n",
        "print(string[0]+string[2]+string[4])\n",
        "print(string[::2])"
      ],
      "metadata": {
        "colab": {
          "base_uri": "https://localhost:8080/"
        },
        "id": "fRWHmNBCYjLf",
        "outputId": "b1ec8805-8937-44e7-ae36-a41f07810cb2"
      },
      "execution_count": null,
      "outputs": [
        {
          "output_type": "stream",
          "name": "stdout",
          "text": [
            "홀 홀 홀\n",
            "홀홀홀\n",
            "홀홀홀\n"
          ]
        }
      ]
    },
    {
      "cell_type": "code",
      "source": [
        "string = \"PYTHON\"\n",
        "print(string[::-1])"
      ],
      "metadata": {
        "colab": {
          "base_uri": "https://localhost:8080/"
        },
        "id": "P9U1JkelZGLA",
        "outputId": "008740c6-084e-4bc8-d456-f03abe0ecd6b"
      },
      "execution_count": null,
      "outputs": [
        {
          "output_type": "stream",
          "name": "stdout",
          "text": [
            "NOHTYP\n"
          ]
        }
      ]
    },
    {
      "cell_type": "code",
      "source": [
        "phone_number = \"010-1111-2222\"\n",
        "print(phone_number[0:3], phone_number[4:8], phone_number[9:])"
      ],
      "metadata": {
        "colab": {
          "base_uri": "https://localhost:8080/"
        },
        "id": "1fY6JXGvZiJk",
        "outputId": "c564b64a-5199-44d6-e3c2-3744b6777cf7"
      },
      "execution_count": null,
      "outputs": [
        {
          "output_type": "stream",
          "name": "stdout",
          "text": [
            "010 1111 2222\n"
          ]
        }
      ]
    },
    {
      "cell_type": "code",
      "source": [
        "phone_number = \"010-1111-2222\"\n",
        "new_number = phone_number.replace(\"-\", \" \")\n",
        "print(new_number)"
      ],
      "metadata": {
        "colab": {
          "base_uri": "https://localhost:8080/"
        },
        "id": "SGPT1AGWZzWU",
        "outputId": "451073ec-421e-4140-d7d6-d2a270fe2e2c"
      },
      "execution_count": null,
      "outputs": [
        {
          "output_type": "stream",
          "name": "stdout",
          "text": [
            "010 1111 2222\n"
          ]
        }
      ]
    },
    {
      "cell_type": "code",
      "source": [
        "phone_number = \"010-1111-2222\"\n",
        "print(phone_number[0:3]+phone_number[4:8]+phone_number[9:])"
      ],
      "metadata": {
        "colab": {
          "base_uri": "https://localhost:8080/"
        },
        "id": "DiSJ2f5saYWf",
        "outputId": "18334a40-a8ef-4fd8-f22d-6a98994180c3"
      },
      "execution_count": null,
      "outputs": [
        {
          "output_type": "stream",
          "name": "stdout",
          "text": [
            "01011112222\n"
          ]
        }
      ]
    },
    {
      "cell_type": "code",
      "source": [
        "phone_number = \"010-1111-2222\"\n",
        "new_number = phone_number.replace(\"-\", \"\")\n",
        "print(new_number)"
      ],
      "metadata": {
        "colab": {
          "base_uri": "https://localhost:8080/"
        },
        "id": "YL4TgzoBalRG",
        "outputId": "aa470d51-c8bd-4e8c-bd99-a26f03fa407b"
      },
      "execution_count": null,
      "outputs": [
        {
          "output_type": "stream",
          "name": "stdout",
          "text": [
            "01011112222\n"
          ]
        }
      ]
    },
    {
      "cell_type": "code",
      "source": [
        "string = 'abcd'\n",
        "print(string.replace(\"a\", \"A\"))"
      ],
      "metadata": {
        "colab": {
          "base_uri": "https://localhost:8080/"
        },
        "id": "71rm2T07am0K",
        "outputId": "1a16b58f-0087-4a56-d4c5-98821b9a47f0"
      },
      "execution_count": null,
      "outputs": [
        {
          "output_type": "stream",
          "name": "stdout",
          "text": [
            "Abcd\n"
          ]
        }
      ]
    },
    {
      "cell_type": "code",
      "source": [
        "string = \"국어 영어 수학 과학 경제 지리 물리 화학 생물\"\n",
        "print(string[0:2])\n",
        "print(string[3:5])\n",
        "print(string[6:8])\n",
        "print(string[9:11])\n",
        "print(string[12:14])\n",
        "print(string[15:17])\n",
        "print(string[18:20])\n",
        "print(string[21:23])\n",
        "print(string[24:])"
      ],
      "metadata": {
        "colab": {
          "base_uri": "https://localhost:8080/"
        },
        "id": "yfc4Jwa9azrL",
        "outputId": "7501e65d-93a3-479b-f5a7-9725f6d91648"
      },
      "execution_count": null,
      "outputs": [
        {
          "output_type": "stream",
          "name": "stdout",
          "text": [
            "국어\n",
            "영어\n",
            "수학\n",
            "과학\n",
            "경제\n",
            "지리\n",
            "물리\n",
            "화학\n",
            "생물\n"
          ]
        }
      ]
    },
    {
      "cell_type": "code",
      "source": [
        "string = \"국어 영어 수학 과학 경제 지리 물리 화학 생물\"\n",
        "print(string.replace(\" \", \"\\n\"))"
      ],
      "metadata": {
        "colab": {
          "base_uri": "https://localhost:8080/"
        },
        "id": "PDQZA5TdbiPf",
        "outputId": "119da98a-fbc4-4432-e135-44e16c9a910d"
      },
      "execution_count": null,
      "outputs": [
        {
          "output_type": "stream",
          "name": "stdout",
          "text": [
            "국어\n",
            "영어\n",
            "수학\n",
            "과학\n",
            "경제\n",
            "지리\n",
            "물리\n",
            "화학\n",
            "생물\n"
          ]
        }
      ]
    },
    {
      "cell_type": "code",
      "source": [],
      "metadata": {
        "id": "PHFbYKKqbxc9"
      },
      "execution_count": null,
      "outputs": []
    }
  ]
}