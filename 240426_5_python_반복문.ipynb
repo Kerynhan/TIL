{
  "cells": [
    {
      "cell_type": "markdown",
      "metadata": {
        "id": "Gq6Fsdnvlh9R"
      },
      "source": [
        "[공지사항]\n",
        "* 제작 과정에서 강의명이 변경되어 영상 및 강의 자료에 표기된 강의명은 촬영 시점에 사용된 것으로, 강의 내용에는 변동이 없음을 안내드리오며 수강에 혼선 없으시길 바랍니다."
      ]
    },
    {
      "cell_type": "markdown",
      "metadata": {
        "id": "ph2Upy5rQKpM"
      },
      "source": [
        "# **SETP 5. 반복문**"
      ]
    },
    {
      "cell_type": "markdown",
      "metadata": {
        "id": "Ddjz79TtQKjR"
      },
      "source": [
        "## **01. for 반복문**"
      ]
    },
    {
      "cell_type": "markdown",
      "metadata": {
        "id": "7Onn9sXMQKeZ"
      },
      "source": [
        "\n",
        "### **1. 기본 구조**\n",
        "- 특정 코드로 반복 작업을 하고 싶을 때 사용"
      ]
    },
    {
      "cell_type": "code",
      "execution_count": null,
      "metadata": {
        "colab": {
          "base_uri": "https://localhost:8080/"
        },
        "id": "4qZ_Ub6GNiu0",
        "outputId": "a24196a8-3cab-475f-e834-46ecb95cfe5f"
      },
      "outputs": [
        {
          "name": "stdout",
          "output_type": "stream",
          "text": [
            "Python\n",
            "Python\n",
            "Python\n",
            "Python\n",
            "Python\n"
          ]
        }
      ],
      "source": [
        "# print(\"Selena 파이썬 프로그래밍\") 코드를 5번 반복하고 싶을 때\n",
        "# range() 함수를 사용하여 0부터 5미만까지 5번 반복\n",
        "for i in range(5):\n",
        "  print(\"Python\")"
      ]
    },
    {
      "cell_type": "markdown",
      "metadata": {
        "id": "DisvQhNfaOWR"
      },
      "source": [
        "### **2. 문자열 반복**\n",
        "- 문자열은 문자의 나열이며, 큰따옴표 혹은 작은따옴표로 입력\n",
        "- 문자열을 이용한 for문은 문자 하나하나가 변수에 들어가며, 차례차례 반복"
      ]
    },
    {
      "cell_type": "code",
      "execution_count": null,
      "metadata": {
        "colab": {
          "base_uri": "https://localhost:8080/"
        },
        "id": "0usZzgueY5ms",
        "outputId": "09f32285-f389-4992-ca8c-f41c168cb6b3"
      },
      "outputs": [
        {
          "name": "stdout",
          "output_type": "stream",
          "text": [
            "K\n",
            "o\n",
            "r\n",
            "e\n",
            "a\n"
          ]
        }
      ],
      "source": [
        "# myList 변수에 국가명인 'Korea' 문자열을 넣고 반복문으로 출력\n",
        "myList = 'Korea'\n",
        "\n",
        "for a in myList:\n",
        "  print(a)"
      ]
    },
    {
      "cell_type": "markdown",
      "metadata": {
        "id": "tAdiqgqdQKZV"
      },
      "source": [
        "### **3. 리스트 반복**\n",
        "- 리스트는 여러 가지 자료를 저장할 수 있는 자료형\n",
        "- 요소(element)는 리스트 안에 있는 각각의 내용을 의미\n",
        "- 인덱스(index)는 리스트 안에 있는 값의 위치를 의미\n",
        "- 리스트를 이용한 for문은 요소 하나하나가 변수에 들어가며, 차례차례 반복\n",
        "\n"
      ]
    },
    {
      "cell_type": "code",
      "execution_count": null,
      "metadata": {
        "colab": {
          "base_uri": "https://localhost:8080/"
        },
        "id": "_uDllVi5Zwl3",
        "outputId": "67d8176b-5371-4c00-809d-7edef36f29a0"
      },
      "outputs": [
        {
          "name": "stdout",
          "output_type": "stream",
          "text": [
            "Korea\n",
            "USA\n",
            "Japan\n"
          ]
        }
      ],
      "source": [
        "# myList 변수에 국가명이 담긴 리스트를 넣고 반복문으로 출력\n",
        "myList = ['Korea', 'USA', 'Japan']\n",
        "\n",
        "for a in myList:\n",
        "  print(a)"
      ]
    },
    {
      "cell_type": "markdown",
      "metadata": {
        "id": "Vzknjc7zWojf"
      },
      "source": [
        "### **4. 딕셔너리 반복**\n",
        "- 딕셔너리는 키를 기반으로 여러 자료를 저장하는 자료형\n",
        "- 키(key)는 딕셔너리 안에서 값을 접근할 때 사용하는 것\n",
        "- 값(value)은 딕셔너리 안에서 각각의 내용을 의미\n",
        "- 딕셔너리를 이용한 for문은 딕셔너리 안에 있는 키(key)가 변수에 들어감\n",
        "\n",
        "\n",
        "- ```\n",
        "for 키 변수 in 딕셔너리:\n",
        "      반복을 수행할 문장1\n",
        "```\n",
        "\n"
      ]
    },
    {
      "cell_type": "code",
      "execution_count": null,
      "metadata": {
        "id": "JxnmJPn9a2ru"
      },
      "outputs": [],
      "source": [
        "# 딕셔너리 생성\n",
        "myDictionary = {\n",
        "    \"name\" : \"Keryn\",\n",
        "    \"job\" : \"data scientist\"\n",
        "}"
      ]
    },
    {
      "cell_type": "code",
      "execution_count": null,
      "metadata": {
        "colab": {
          "base_uri": "https://localhost:8080/"
        },
        "id": "WJItibCheLw-",
        "outputId": "5fd25591-8358-4530-9ee8-4a13079f1727"
      },
      "outputs": [
        {
          "name": "stdout",
          "output_type": "stream",
          "text": [
            "name : Keryn\n",
            "job : data scientist\n"
          ]
        }
      ],
      "source": [
        "# 딕셔너리 안에 있는 키(key)가 변수로 들어감\n",
        "# key 값과 myDictionary[key] 내용을 반복문으로 출력\n",
        "for key in myDictionary:\n",
        "  print(key, \":\", myDictionary[key])"
      ]
    },
    {
      "cell_type": "markdown",
      "metadata": {
        "id": "l4LqQrpR_l3k"
      },
      "source": [
        "### **5. 범위 반복**"
      ]
    },
    {
      "cell_type": "markdown",
      "metadata": {
        "id": "2F_UaAydWtW-"
      },
      "source": [
        "#### **5-1. range 함수**\n",
        "- range() 함수\n",
        "> - range(A) : 매개변수로 숫자 한 개 입력\n",
        ">> - 0부터 A-1까지의 정수로 범위 생성\n",
        "> - range(A, B) : 매개변수로 숫자 두 개 입력\n",
        ">> - A부터 B-1까지의 정수로 범위 생성\n",
        "> - range(A, B, C) : 매개변수로 숫자 세 개 입력\n",
        ">> - A부터 B-1까지의 정수로 범위 생성하는데 앞 뒤 숫자가 C만큼의 차이를 가짐\n",
        "- list() 함수\n",
        "> - 범위를 리스트로 변경하면 범위 안에 어떤 값이 있는지 확인 가능"
      ]
    },
    {
      "cell_type": "code",
      "execution_count": null,
      "metadata": {
        "colab": {
          "base_uri": "https://localhost:8080/"
        },
        "id": "z90KWdu2i4O2",
        "outputId": "d5af69c6-6f56-499a-affa-a5af7178e947"
      },
      "outputs": [
        {
          "name": "stdout",
          "output_type": "stream",
          "text": [
            "range(0, 5)\n"
          ]
        }
      ],
      "source": [
        "# range() 함수로 바로 출력하면 range(0, 5)로 출력됨\n",
        "print(range(5))"
      ]
    },
    {
      "cell_type": "code",
      "execution_count": null,
      "metadata": {
        "colab": {
          "base_uri": "https://localhost:8080/"
        },
        "id": "m--7xtF_h0lm",
        "outputId": "5de512ae-c8e3-42b7-eeeb-ddc3d74421b2"
      },
      "outputs": [
        {
          "name": "stdout",
          "output_type": "stream",
          "text": [
            "[0, 1, 2, 3, 4]\n",
            "[5, 6, 7, 8, 9]\n",
            "[5, 7, 9]\n"
          ]
        }
      ],
      "source": [
        "# list() 함수를 이용해 범위를 리스트로 변경하면 범위 내부에 어떤 값이 있는지 확인 가능\n",
        "# range() 함수의 매개변수 개수에 따른 결과 값 출력\n",
        "print(list(range(5)))\n",
        "print(list(range(5, 10)))\n",
        "print(list(range(5, 10, 2)))"
      ]
    },
    {
      "cell_type": "markdown",
      "metadata": {
        "id": "hD4L0HPo_wjY"
      },
      "source": [
        "#### **5-2. range 반복**"
      ]
    },
    {
      "cell_type": "code",
      "execution_count": null,
      "metadata": {
        "colab": {
          "base_uri": "https://localhost:8080/"
        },
        "id": "eCd1In2V_3QD",
        "outputId": "fd4a8135-4166-46ba-e126-147fbc55dacb"
      },
      "outputs": [
        {
          "name": "stdout",
          "output_type": "stream",
          "text": [
            "0\n",
            "1\n",
            "2\n",
            "3\n",
            "4\n"
          ]
        }
      ],
      "source": [
        "# range() 함수를 사용하여 5번 반복\n",
        "# 0부터 5미만까지 반복\n",
        "for i in range(5):\n",
        "  print(i)"
      ]
    },
    {
      "cell_type": "code",
      "execution_count": null,
      "metadata": {
        "colab": {
          "base_uri": "https://localhost:8080/"
        },
        "id": "r8DmPRjt_7rv",
        "outputId": "ee83ef09-b3dc-40b2-cb75-8c0a9948f608"
      },
      "outputs": [
        {
          "name": "stdout",
          "output_type": "stream",
          "text": [
            "3\n",
            "7\n",
            "11\n",
            "15\n",
            "19\n"
          ]
        }
      ],
      "source": [
        "# 3부터 시작해서 20 미만의 수를 4간격으로 출력\n",
        "for i in range(3, 20, 4) :\n",
        "  print(i)"
      ]
    },
    {
      "cell_type": "markdown",
      "metadata": {
        "id": "UyXUS-7rV7DK"
      },
      "source": [
        "## **02. while 반복문**"
      ]
    },
    {
      "cell_type": "markdown",
      "metadata": {
        "id": "hhl87ZEIW0vh"
      },
      "source": [
        "### **1. 기본 구조**\n",
        "- 조건을 만족하는 한, 반복적으로 문장을 실행\n"
      ]
    },
    {
      "cell_type": "code",
      "execution_count": null,
      "metadata": {
        "colab": {
          "base_uri": "https://localhost:8080/"
        },
        "id": "-dHUnyzZEDGN",
        "outputId": "68517ec0-3e9d-410d-baf2-afd7bbd59673"
      },
      "outputs": [
        {
          "name": "stdout",
          "output_type": "stream",
          "text": [
            "count: 0\n",
            "count: 1\n",
            "count: 2\n",
            "count: 3\n",
            "count: 4\n"
          ]
        }
      ],
      "source": [
        "# count 변수가 5가 될 때까지 반복하여 count 출력\n",
        "count = 0\n",
        "\n",
        "while count < 5:\n",
        "  print(\"count:\", count)\n",
        "  count = count + 1"
      ]
    },
    {
      "cell_type": "markdown",
      "metadata": {
        "id": "oUUWGtMbW-wg"
      },
      "source": [
        "### **2. break 키워드**\n",
        "- 반복문을 벗어날 때 사용하는 키워드\n",
        "- 일반적으로 무한 반복문을 만들고 내부의 반복을 벗어날 때 사용"
      ]
    },
    {
      "cell_type": "code",
      "execution_count": null,
      "metadata": {
        "id": "-S0Pjr1cE3ZW"
      },
      "outputs": [],
      "source": [
        "# 반복문 조건은 'a가 3보다 클 때 반복을 시켜줘'\n",
        "# a를 10으로 초기 값을 부여하여 반복문의 조건은 항상 참이 나옴\n",
        "# 그래서 무한 반복문이 됨\n",
        "# break 키워드를 통해 'count가 20보다 클 때 반복을 멈춰' 실행하여 무한 반복문을 빠져나옴\n",
        "a = 10\n",
        "count = 0\n",
        "\n",
        "while a > 3:\n",
        "  count = count + 1\n",
        "  a = a + 1\n",
        "  if count > 20:\n",
        "    break\n",
        "  print(\"a = \", a, \"\\t count =\", count)\n",
        "\n",
        "print(\"반복문 종료\")"
      ]
    },
    {
      "cell_type": "markdown",
      "metadata": {
        "id": "7e9qUryhXbxR"
      },
      "source": [
        "### **3. continue 키워드**\n",
        "- 반복문의 현재 반복을 생략할 때 사용하는 키워드\n",
        "- 현재 반복을 생략하고, 다음 반복으로 넘어갈 때 사용"
      ]
    },
    {
      "cell_type": "code",
      "execution_count": null,
      "metadata": {
        "colab": {
          "base_uri": "https://localhost:8080/"
        },
        "id": "peABL33IHawT",
        "outputId": "24c6e10a-4131-4cc2-dffd-81ee523efb32"
      },
      "outputs": [
        {
          "name": "stdout",
          "output_type": "stream",
          "text": [
            "6\n",
            "7\n",
            "8\n",
            "9\n",
            "10\n"
          ]
        }
      ],
      "source": [
        "# 반복문 조건은 'num이 10보다 작을 때 반복을 시켜줘'\n",
        "# num이 5 이하일 때 continue 키워드를 사용하여\n",
        "# 현재 반복을 생략하고 다음 반복으로 넘어가서 print가 안 됨\n",
        "# num이 5 초과일 때 print 됨\n",
        "num = 0\n",
        "\n",
        "while num < 10:\n",
        "  num = num + 1\n",
        "  if num <= 5:\n",
        "    continue\n",
        "  print(num)"
      ]
    },
    {
      "cell_type": "markdown",
      "metadata": {
        "id": "MI4GL30PgDMU"
      },
      "source": [
        "# **자기 주도 학습 복습 과제 - 문제**\n",
        "* 문제를 풀고 답을 확인하세요 :)\n",
        "* 정답지에 자세히 설명되어 있습니다.\n",
        "* [정답지 링크](https://drive.google.com/file/d/1FAsQHqsusqPzgh5mVEX6_i0-CYXlIN-Q/view?usp=sharing)"
      ]
    },
    {
      "cell_type": "markdown",
      "metadata": {
        "id": "E8D1x2Ri86VL"
      },
      "source": [
        "## **1. 반복문 문제 (1)**\n",
        "\n",
        "* for 반복문 - 리스트\n",
        "\n"
      ]
    },
    {
      "cell_type": "code",
      "execution_count": null,
      "metadata": {
        "colab": {
          "base_uri": "https://localhost:8080/"
        },
        "id": "25jLX0Hw87mP",
        "outputId": "3cbeacab-d38e-41d4-ba94-f94e12abc59b"
      },
      "outputs": [
        {
          "name": "stdout",
          "output_type": "stream",
          "text": [
            "apple\n",
            "strawberry\n",
            "melon\n"
          ]
        }
      ],
      "source": [
        "# 1) 'basket' 리스트는 apple, strawberry, melon으로 이루어져 있음\n",
        "# 2) 'basket' 리스트의 과일 반복문으로 출력\n",
        "basket = ['apple', 'strawberry', 'melon']\n",
        "\n",
        "for i in basket:\n",
        "  print(i)"
      ]
    },
    {
      "cell_type": "markdown",
      "metadata": {
        "id": "u0cUsCOp8_K2"
      },
      "source": [
        "## **2. 반복문 문제 (2)**\n",
        "\n",
        "* for 반복문 - 딕셔너리\n",
        "\n"
      ]
    },
    {
      "cell_type": "code",
      "execution_count": null,
      "metadata": {
        "id": "DChVwW259AXD"
      },
      "outputs": [],
      "source": [
        "# 1) myDictionary 변수에 아래와 동일한 딕셔너리 선언\n",
        "# {'name': '자신의 영어 이름', 'hobby': 'soccer'}\n",
        "myDictionary = {\n",
        "    'name':'Keryn',\n",
        "    'hobby':'soccer'\n",
        "}"
      ]
    },
    {
      "cell_type": "code",
      "execution_count": null,
      "metadata": {
        "colab": {
          "base_uri": "https://localhost:8080/"
        },
        "id": "gJLr1pd29CAk",
        "outputId": "6a493f01-52bd-4cd3-df72-138d9bab1fa4"
      },
      "outputs": [
        {
          "name": "stdout",
          "output_type": "stream",
          "text": [
            "name : Keryn\n",
            "hobby : soccer\n"
          ]
        }
      ],
      "source": [
        "# 2) 'myDictionary' 딕셔너리의 key를 변수로 하여 value를 반복문으로 출력\n",
        "for key in myDictionary:\n",
        "  print(key, \":\", myDictionary[key])"
      ]
    },
    {
      "cell_type": "markdown",
      "metadata": {
        "id": "xb7bt1wi9HN9"
      },
      "source": [
        "## **3. 반복문 문제 (3)**\n",
        "\n",
        "* for 반복문 - range\n"
      ]
    },
    {
      "cell_type": "code",
      "source": [
        "# 1) 5부터 시작해서 50 미만의 수를 5간격으로 출력\n",
        "for i in range(5, 50, 5) :\n",
        "  print(i)"
      ],
      "metadata": {
        "colab": {
          "base_uri": "https://localhost:8080/"
        },
        "id": "zOSx2R1PoTHH",
        "outputId": "965c1c93-a9bf-4473-c27f-bbb960248f44"
      },
      "execution_count": null,
      "outputs": [
        {
          "output_type": "stream",
          "name": "stdout",
          "text": [
            "5\n",
            "10\n",
            "15\n",
            "20\n",
            "25\n",
            "30\n",
            "35\n",
            "40\n",
            "45\n"
          ]
        }
      ]
    },
    {
      "cell_type": "markdown",
      "metadata": {
        "id": "oVRNvGSm9KcE"
      },
      "source": [
        "## **4. 반복문 문제 (4)**\n",
        "\n",
        "* while 반복문 - break\n"
      ]
    },
    {
      "cell_type": "code",
      "execution_count": null,
      "metadata": {
        "id": "lcUHUpU79LcU",
        "colab": {
          "base_uri": "https://localhost:8080/"
        },
        "outputId": "b8f504fe-737f-414c-c606-efa2dc8411e4"
      },
      "outputs": [
        {
          "output_type": "stream",
          "name": "stdout",
          "text": [
            "A =  55 \t count =  3\n",
            "A =  60 \t count =  6\n",
            "A =  65 \t count =  9\n",
            "A =  70 \t count =  12\n",
            "A =  75 \t count =  15\n",
            "A =  80 \t count =  18\n",
            "A =  85 \t count =  21\n",
            "A =  90 \t count =  24\n",
            "A =  95 \t count =  27\n",
            "A =  100 \t count =  30\n",
            "A =  105 \t count =  33\n",
            "반복문 종료\n"
          ]
        }
      ],
      "source": [
        "# while 반복문 완성하기\n",
        "# 1) A = 50, count = 0 설정\n",
        "# 2) 반복문 조건은 'A가 10보다 크다면 항상 반복 시켜줘'\n",
        "# 3) 반복문 1바퀴마다 실행할 명령어\n",
        "#     - A는 5씩 증가\n",
        "#     - count는 3씩 증가\n",
        "#     - A와 count 출력\n",
        "# 4) 조건문 조건은 'count가 30 초과일 때, break 키워드를 통해 무한 반복문 빠져나오기'\n",
        "A = 50\n",
        "count = 0\n",
        "\n",
        "while A > 10 :\n",
        "  A = A + 5\n",
        "  count = count + 3\n",
        "  print(\"A = \", A, \"\\t count = \", count)\n",
        "  if count > 30 :\n",
        "    break\n",
        "\n",
        "print(\"반복문 종료\")"
      ]
    },
    {
      "cell_type": "code",
      "source": [],
      "metadata": {
        "id": "_4HGtWGrpfEm"
      },
      "execution_count": null,
      "outputs": []
    }
  ],
  "metadata": {
    "colab": {
      "provenance": []
    },
    "kernelspec": {
      "display_name": "Python 3",
      "name": "python3"
    },
    "language_info": {
      "name": "python"
    }
  },
  "nbformat": 4,
  "nbformat_minor": 0
}