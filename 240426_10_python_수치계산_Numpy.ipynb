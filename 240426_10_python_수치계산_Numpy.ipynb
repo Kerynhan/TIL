{
  "cells": [
    {
      "cell_type": "markdown",
      "metadata": {
        "id": "1wkomRGTTFu0"
      },
      "source": [
        "# **STEP 11. 수치계산**"
      ]
    },
    {
      "cell_type": "markdown",
      "metadata": {
        "id": "ZMao0NPY6ihH"
      },
      "source": [
        "## **1. Numpy 기본 개념**\n",
        "\n",
        "*   numpy 패키지 추가\n",
        "*   패키지가 없는 경우, 설치 명령어 : pip install numpy\n",
        "\n"
      ]
    },
    {
      "cell_type": "code",
      "execution_count": null,
      "metadata": {
        "id": "-uEVUhe-4N7p"
      },
      "outputs": [],
      "source": [
        "# numpy 패키지 로드하여 np로 사용\n",
        "import numpy as np"
      ]
    },
    {
      "cell_type": "markdown",
      "metadata": {
        "id": "j6Z-kRwuTN_S"
      },
      "source": [
        "## **2. Numpy 배열**"
      ]
    },
    {
      "cell_type": "markdown",
      "metadata": {
        "id": "pmblgiIogQDu"
      },
      "source": [
        "### **2-1. 배열 예제**\n"
      ]
    },
    {
      "cell_type": "code",
      "execution_count": null,
      "metadata": {
        "colab": {
          "base_uri": "https://localhost:8080/"
        },
        "id": "eeFaVgnl60if",
        "outputId": "21359d64-f84b-4361-df5b-c715f1a403f5"
      },
      "outputs": [
        {
          "output_type": "execute_result",
          "data": {
            "text/plain": [
              "[[1, 0, 0], [0, 1, 2]]"
            ]
          },
          "metadata": {},
          "execution_count": 2
        }
      ],
      "source": [
        "# 아래와 같은 데이터는 2개의 축을 가지며,\n",
        "# 첫 번째 축은 길이가 2이고 두 번째 축은 길이가 3이다.\n",
        "[[ 1, 0, 0],\n",
        " [ 0, 1, 2]]"
      ]
    },
    {
      "cell_type": "code",
      "execution_count": null,
      "metadata": {
        "colab": {
          "base_uri": "https://localhost:8080/"
        },
        "id": "6NlsxKUOCwgn",
        "outputId": "39c85278-275e-40a0-aaa3-d48b0849f439"
      },
      "outputs": [
        {
          "output_type": "execute_result",
          "data": {
            "text/plain": [
              "[1, 2, 1]"
            ]
          },
          "metadata": {},
          "execution_count": 3
        }
      ],
      "source": [
        "# 아래와 같은 데이터는 1개의 축을 가지며,\n",
        "# 축은 3가지 요소(element)를 가지고 있다고 하고 길이(length)는 3이다.\n",
        "[1, 2, 1]"
      ]
    },
    {
      "cell_type": "markdown",
      "metadata": {
        "id": "1QPjLMR6QjeX"
      },
      "source": [
        "### **2-2. 배열 대표적인 속성값**\n",
        "\n",
        "- ndarray.shape : 배열의 각 축(axis)의 크기\n",
        "- ndarray.ndim : 축의 개수(Dimension)\n",
        "- ndarray.dtype : 각 요소(Element)의 타입\n",
        "- ndarray.itemsize : 각 요소(Element)의 타입의 bytes 크기\n",
        "- ndarray.size : 전체 요소(Element)의 개수"
      ]
    },
    {
      "cell_type": "code",
      "execution_count": null,
      "metadata": {
        "colab": {
          "base_uri": "https://localhost:8080/"
        },
        "id": "pIAB5zM-Qu_j",
        "outputId": "0ffb04b7-17cf-4927-f7a0-f68bcd58efbe"
      },
      "outputs": [
        {
          "output_type": "stream",
          "name": "stdout",
          "text": [
            "[[ 0  1  2  3]\n",
            " [ 4  5  6  7]\n",
            " [ 8  9 10 11]]\n"
          ]
        }
      ],
      "source": [
        "# a라는 변수에 (3, 4) 크기의 2D 배열을 생성해보자.\n",
        "a = np.arange(12).reshape(3, 4)\n",
        "print(a)"
      ]
    },
    {
      "cell_type": "code",
      "execution_count": null,
      "metadata": {
        "colab": {
          "base_uri": "https://localhost:8080/"
        },
        "id": "I8mr9vNMEcYL",
        "outputId": "72f70f76-6b7b-4582-dcfb-87105a9a5f7a"
      },
      "outputs": [
        {
          "output_type": "stream",
          "name": "stdout",
          "text": [
            "(3, 4)\n"
          ]
        }
      ],
      "source": [
        "# ndarray.shape : 배열의 각 축(axis)의 크기\n",
        "print(a.shape)"
      ]
    },
    {
      "cell_type": "code",
      "execution_count": null,
      "metadata": {
        "colab": {
          "base_uri": "https://localhost:8080/"
        },
        "id": "hESsJb1EEpdw",
        "outputId": "f1abccc6-a5df-4015-995d-0f258b26053f"
      },
      "outputs": [
        {
          "output_type": "stream",
          "name": "stdout",
          "text": [
            "int64\n"
          ]
        }
      ],
      "source": [
        "# ndarray.dtype : 각 요소(Element)의 타입\n",
        "print(a.dtype)"
      ]
    },
    {
      "cell_type": "code",
      "execution_count": null,
      "metadata": {
        "colab": {
          "base_uri": "https://localhost:8080/"
        },
        "id": "b4KMa0RBEerl",
        "outputId": "9f83c064-fd6a-48d8-9c12-02745274de2f"
      },
      "outputs": [
        {
          "output_type": "stream",
          "name": "stdout",
          "text": [
            "8\n"
          ]
        }
      ],
      "source": [
        "# ndarray.itemsize : 각 요소(Element)의 타입의 bytes 크기\n",
        "print(a.itemsize)"
      ]
    },
    {
      "cell_type": "code",
      "execution_count": null,
      "metadata": {
        "colab": {
          "base_uri": "https://localhost:8080/"
        },
        "id": "0EXdFGXhEtpq",
        "outputId": "33ef349d-feaa-4329-ec0c-05a0881a774e"
      },
      "outputs": [
        {
          "output_type": "stream",
          "name": "stdout",
          "text": [
            "12\n"
          ]
        }
      ],
      "source": [
        "# ndarray.size : 전체 요소(Element)의 개수\n",
        "print(a.size)"
      ]
    },
    {
      "cell_type": "markdown",
      "metadata": {
        "id": "hXg92_a8TWhT"
      },
      "source": [
        "## **3. Numpy 배열 생성**"
      ]
    },
    {
      "cell_type": "markdown",
      "metadata": {
        "id": "YxgCHWkdHT1r"
      },
      "source": [
        "### **3-1. 배열 생성**\n",
        "\n",
        "- np.array( )를 이용하여 Python에서 사용하는 Tuple(튜플)이나 List(리스트)를 입력으로 numpy.ndarray를 생성"
      ]
    },
    {
      "cell_type": "code",
      "execution_count": null,
      "metadata": {
        "id": "L0JqjFnqo41T"
      },
      "outputs": [],
      "source": [
        "# numpy 패키지 로드하여 np로 사용\n",
        "import numpy as np"
      ]
    },
    {
      "cell_type": "code",
      "execution_count": null,
      "metadata": {
        "colab": {
          "base_uri": "https://localhost:8080/"
        },
        "id": "LY7_7j0LHR6C",
        "outputId": "134335b4-fec9-4866-cd63-8de3b032bf94"
      },
      "outputs": [
        {
          "output_type": "stream",
          "name": "stdout",
          "text": [
            "[2 3 4]\n",
            "int64\n"
          ]
        }
      ],
      "source": [
        "# a 배열 생성 & 타입 확인\n",
        "a = np.array([2,3,4])\n",
        "print(a)\n",
        "print(a.dtype)"
      ]
    },
    {
      "cell_type": "code",
      "execution_count": null,
      "metadata": {
        "colab": {
          "base_uri": "https://localhost:8080/"
        },
        "id": "YD1VI7ssLBzL",
        "outputId": "3d6ca342-a289-4844-81a3-95d47b3451fb"
      },
      "outputs": [
        {
          "output_type": "stream",
          "name": "stdout",
          "text": [
            "[1.2 3.5 5.1]\n",
            "float64\n"
          ]
        }
      ],
      "source": [
        "# b 배열 생성 & 타입 확인\n",
        "b = np.array([1.2, 3.5, 5.1])\n",
        "print(b)\n",
        "print(b.dtype)"
      ]
    },
    {
      "cell_type": "markdown",
      "metadata": {
        "id": "LKCstlmuMTGF"
      },
      "source": [
        "### **3-2. 다양한 차원의 배열 생성**\n",
        "\n",
        "> * np.zeros(shape) : 0으로 구성된 N차원 배열 생성\n",
        "> * np.ones(shape) : 1로 구성된 N차원 배열 생성\n",
        "> * np.empty(shape) : 초기화되지 않은 N차원 배열 생성"
      ]
    },
    {
      "cell_type": "code",
      "execution_count": null,
      "metadata": {
        "colab": {
          "base_uri": "https://localhost:8080/"
        },
        "id": "KklZkWbKMS4F",
        "outputId": "47234df3-8063-45d2-d58a-ba01b9d2a93c"
      },
      "outputs": [
        {
          "output_type": "stream",
          "name": "stdout",
          "text": [
            "[[0. 0. 0. 0.]\n",
            " [0. 0. 0. 0.]\n",
            " [0. 0. 0. 0.]]\n"
          ]
        }
      ],
      "source": [
        "# (3,4) 크기의 배열을 생성하여 0으로 채움\n",
        "print(np.zeros((3,4)))"
      ]
    },
    {
      "cell_type": "code",
      "execution_count": null,
      "metadata": {
        "colab": {
          "base_uri": "https://localhost:8080/"
        },
        "id": "6yuzyU9iLBup",
        "outputId": "25113db1-2902-4705-dd08-0b5015bb9f10"
      },
      "outputs": [
        {
          "output_type": "stream",
          "name": "stdout",
          "text": [
            "[[[1. 1. 1. 1.]\n",
            "  [1. 1. 1. 1.]\n",
            "  [1. 1. 1. 1.]]\n",
            "\n",
            " [[1. 1. 1. 1.]\n",
            "  [1. 1. 1. 1.]\n",
            "  [1. 1. 1. 1.]]]\n"
          ]
        }
      ],
      "source": [
        "# (2,3,4) 크기의 배열을 생성하여 1로 채움\n",
        "print(np.ones((2, 3, 4)))"
      ]
    },
    {
      "cell_type": "code",
      "execution_count": null,
      "metadata": {
        "colab": {
          "base_uri": "https://localhost:8080/"
        },
        "id": "j8EQZcYgMyyo",
        "outputId": "bbfe630a-93d9-490c-a8a4-d19a0b20e43f"
      },
      "outputs": [
        {
          "output_type": "stream",
          "name": "stdout",
          "text": [
            "[[5.06489711e-310 0.00000000e+000 1.23638216e-313]\n",
            " [6.99137997e-315 0.00000000e+000 6.56771733e-310]]\n"
          ]
        }
      ],
      "source": [
        "# 초기화 되지 않은 (2,3) 크기의 배열을 생성\n",
        "print(np.empty((2, 3)))"
      ]
    },
    {
      "cell_type": "markdown",
      "metadata": {
        "id": "nciZXYC0Tcs2"
      },
      "source": [
        "## **4. Numpy arange와 linspace 데이터 생성**"
      ]
    },
    {
      "cell_type": "markdown",
      "metadata": {
        "id": "4LKIE_VYM_I4"
      },
      "source": [
        "### **4-1. 연속적인 데이터 생성**\n",
        "\n",
        "> - np.arange(): N 만큼 차이나는 숫자 생성\n",
        "> - np.linspace(): N 등분한 숫자 생성\n"
      ]
    },
    {
      "cell_type": "code",
      "execution_count": null,
      "metadata": {
        "colab": {
          "base_uri": "https://localhost:8080/"
        },
        "id": "I2vbkhN-NHdT",
        "outputId": "2d65a00f-4cad-47c6-a148-09f33dfb392a"
      },
      "outputs": [
        {
          "output_type": "stream",
          "name": "stdout",
          "text": [
            "[10 15 20 25]\n"
          ]
        }
      ],
      "source": [
        "# 10이상 30미만 까지 5씩 차이나게 생성\n",
        "print(np.arange(10, 30, 5))"
      ]
    },
    {
      "cell_type": "code",
      "execution_count": null,
      "metadata": {
        "colab": {
          "base_uri": "https://localhost:8080/"
        },
        "id": "gnBi897MNHYk",
        "outputId": "7ffca585-65ba-4b9c-b7c9-d03d43bef310"
      },
      "outputs": [
        {
          "output_type": "stream",
          "name": "stdout",
          "text": [
            "[0.  0.3 0.6 0.9 1.2 1.5 1.8]\n"
          ]
        }
      ],
      "source": [
        "# 0이상 2미만 까지 0.3씩 차이나게 생성\n",
        "print(np.arange(0, 2, 0.3))"
      ]
    },
    {
      "cell_type": "code",
      "execution_count": null,
      "metadata": {
        "colab": {
          "base_uri": "https://localhost:8080/"
        },
        "id": "bLfqKzAfM06X",
        "outputId": "d9e3d41a-569d-4965-84aa-a79a738a1559"
      },
      "outputs": [
        {
          "output_type": "stream",
          "name": "stdout",
          "text": [
            "[ 0.  1.  2.  3.  4.  5.  6.  7.  8.  9. 10. 11. 12. 13. 14. 15. 16. 17.\n",
            " 18. 19. 20. 21. 22. 23. 24. 25. 26. 27. 28. 29. 30. 31. 32. 33. 34. 35.\n",
            " 36. 37. 38. 39. 40. 41. 42. 43. 44. 45. 46. 47. 48. 49. 50. 51. 52. 53.\n",
            " 54. 55. 56. 57. 58. 59. 60. 61. 62. 63. 64. 65. 66. 67. 68. 69. 70. 71.\n",
            " 72. 73. 74. 75. 76. 77. 78. 79. 80. 81. 82. 83. 84. 85. 86. 87. 88. 89.\n",
            " 90. 91. 92. 93. 94. 95. 96. 97. 98. 99.]\n"
          ]
        }
      ],
      "source": [
        "# 0~99까지 100등분\n",
        "x = np.linspace(0, 99, 100)\n",
        "print(x)"
      ]
    },
    {
      "cell_type": "markdown",
      "metadata": {
        "id": "OhKdj9kd0My0"
      },
      "source": [
        "### **4-2. arange와 linspace 차이점**\n",
        "\n",
        "1) np.arange([start], stop, [step]..)\n",
        "- [] 생략 가능\n",
        "- 끝 값 포함 안 함\n",
        "- 장점 : step, 범위를 구간, 간격 강조할 때 사용하면 코드 가독성 업!\n",
        "\n",
        "2) np.linspace(start, stop, num=50..)\n",
        "- 처음 값과 끝 값 포함\n",
        "- 몇 개로 만들지 매개변수로 줌\n",
        "- 장점 : 개수 강조할 때 사용하면 코드 가독성 업!\n"
      ]
    },
    {
      "cell_type": "code",
      "execution_count": null,
      "metadata": {
        "colab": {
          "base_uri": "https://localhost:8080/"
        },
        "id": "4JlxQe-J0c9a",
        "outputId": "a9811bbb-c6b1-42db-8342-62a58b03d087"
      },
      "outputs": [
        {
          "output_type": "stream",
          "name": "stdout",
          "text": [
            "[0.   0.25 0.5  0.75 1.  ]\n"
          ]
        }
      ],
      "source": [
        "# arange 함수는 끝 값을 포함하지 않기 때문에\n",
        "# 가독성을 위해서 1.25를 1+0.25로 표현!\n",
        "# 0부터 1.25 미만까지(끝 값 포함 안하니까 1까지 출력) 0.25씩 차이나게 생성\n",
        "print(np.arange(0, 1+0.25, 0.25))"
      ]
    },
    {
      "cell_type": "code",
      "execution_count": null,
      "metadata": {
        "colab": {
          "base_uri": "https://localhost:8080/"
        },
        "id": "ccUo3HUT0SR7",
        "outputId": "676bb2cb-7e0c-4c5a-b821-70798c23fa21"
      },
      "outputs": [
        {
          "output_type": "stream",
          "name": "stdout",
          "text": [
            "[0.   0.25 0.5  0.75 1.  ]\n"
          ]
        }
      ],
      "source": [
        "# 위와 동일한 결과를 linspace 함수를 이용하여 코딩\n",
        "# 0부터 1까지(끝 값 포함) 5등분\n",
        "print(np.linspace(0, 1, 5))"
      ]
    },
    {
      "cell_type": "markdown",
      "metadata": {
        "id": "HTiH3DybNjd3"
      },
      "source": [
        "## **5. Numpy 배열 출력**\n",
        "\n",
        "- 1D와 2D 배열은 설명하지 않아도 어떻게 출력되는지 확인하실 수 있으나,\n",
        "- 3D 배열은 2차원이 N개 출력되는 형식으로 나타남"
      ]
    },
    {
      "cell_type": "code",
      "execution_count": null,
      "metadata": {
        "colab": {
          "base_uri": "https://localhost:8080/"
        },
        "id": "m8RhAAB4N13d",
        "outputId": "8f9a74de-4b8d-470d-e93a-92ab364d3782"
      },
      "outputs": [
        {
          "output_type": "stream",
          "name": "stdout",
          "text": [
            "[0 1 2 3 4 5]\n"
          ]
        }
      ],
      "source": [
        "# 1차원 배열 출력\n",
        "a = np.arange(6)\n",
        "print(a)"
      ]
    },
    {
      "cell_type": "code",
      "execution_count": null,
      "metadata": {
        "colab": {
          "base_uri": "https://localhost:8080/"
        },
        "id": "FAZGykD9N2lo",
        "outputId": "c0b673bf-1777-4760-9e85-4d68a7d16af1"
      },
      "outputs": [
        {
          "output_type": "stream",
          "name": "stdout",
          "text": [
            "[[ 0  1  2]\n",
            " [ 3  4  5]\n",
            " [ 6  7  8]\n",
            " [ 9 10 11]]\n"
          ]
        }
      ],
      "source": [
        "# 2차원 배열 출력\n",
        "b = np.arange(12).reshape(4,3)\n",
        "print(b)"
      ]
    },
    {
      "cell_type": "code",
      "execution_count": null,
      "metadata": {
        "colab": {
          "base_uri": "https://localhost:8080/"
        },
        "id": "1K1ZQNP4N2Yg",
        "outputId": "be875e39-b286-4121-8033-05f0290162c0"
      },
      "outputs": [
        {
          "output_type": "stream",
          "name": "stdout",
          "text": [
            "[[[ 0  1  2  3]\n",
            "  [ 4  5  6  7]\n",
            "  [ 8  9 10 11]]\n",
            "\n",
            " [[12 13 14 15]\n",
            "  [16 17 18 19]\n",
            "  [20 21 22 23]]]\n"
          ]
        }
      ],
      "source": [
        "# 3차원 배열 출력\n",
        "# (3, 4)크기의 2차원 배열이 2개 출력되는 형식\n",
        "c = np.arange(24).reshape(2,3,4)\n",
        "print(c)"
      ]
    },
    {
      "cell_type": "markdown",
      "metadata": {
        "id": "kPGn94tSPaj1"
      },
      "source": [
        "## **6. Numpy 기본 연산**"
      ]
    },
    {
      "cell_type": "markdown",
      "metadata": {
        "id": "2GcbX3bVTtsR"
      },
      "source": [
        "### **6-1. element wise 연산**\n",
        "* 차원(축)을 기준으로 행렬 내에서 같은 위치에 있는 원소끼리 연산을 하는 방식"
      ]
    },
    {
      "cell_type": "code",
      "execution_count": null,
      "metadata": {
        "colab": {
          "base_uri": "https://localhost:8080/"
        },
        "id": "Js1lbujRPmBz",
        "outputId": "fee64909-d0aa-465d-cd48-f70e7214b066"
      },
      "outputs": [
        {
          "output_type": "stream",
          "name": "stdout",
          "text": [
            "[20 30 40 50]\n",
            "[0 1 2 3]\n"
          ]
        }
      ],
      "source": [
        "# a와 b 배열 생성하여 출력\n",
        "a = np.array([20,30,40,50])\n",
        "b = np.arange(4)\n",
        "print(a)\n",
        "print(b)"
      ]
    },
    {
      "cell_type": "code",
      "execution_count": null,
      "metadata": {
        "colab": {
          "base_uri": "https://localhost:8080/"
        },
        "id": "v10e4LdDP3p1",
        "outputId": "d409289c-0015-4e41-db6d-4a29ad47c460"
      },
      "outputs": [
        {
          "output_type": "stream",
          "name": "stdout",
          "text": [
            "[20 29 38 47]\n"
          ]
        }
      ],
      "source": [
        "# a에서 b에 각각의 원소를 - 연산\n",
        "c = a-b\n",
        "print(c)"
      ]
    },
    {
      "cell_type": "code",
      "execution_count": null,
      "metadata": {
        "colab": {
          "base_uri": "https://localhost:8080/"
        },
        "id": "SmernTCCP5Ye",
        "outputId": "f97ee276-3ef0-44b4-dd9e-58c1576c0a84"
      },
      "outputs": [
        {
          "output_type": "stream",
          "name": "stdout",
          "text": [
            "[0 1 4 9]\n"
          ]
        }
      ],
      "source": [
        "# b 각각의 원소에 제곱 연산\n",
        "print(b**2)"
      ]
    },
    {
      "cell_type": "code",
      "execution_count": null,
      "metadata": {
        "colab": {
          "base_uri": "https://localhost:8080/"
        },
        "id": "se6DlT7MQFq_",
        "outputId": "b917de23-5236-4384-c94c-a9e999c49a95"
      },
      "outputs": [
        {
          "output_type": "stream",
          "name": "stdout",
          "text": [
            "[200 300 400 500]\n"
          ]
        }
      ],
      "source": [
        "# a 각각의 원소에 *10 연산\n",
        "print(10*a)"
      ]
    },
    {
      "cell_type": "code",
      "execution_count": null,
      "metadata": {
        "colab": {
          "base_uri": "https://localhost:8080/"
        },
        "id": "husS9c4FQJO7",
        "outputId": "f9b7a7f0-23f6-4383-99fd-f17a0eca12e5"
      },
      "outputs": [
        {
          "output_type": "stream",
          "name": "stdout",
          "text": [
            "[ True  True False False]\n"
          ]
        }
      ],
      "source": [
        "# a 각각의 원소가 35보다 작은지 Boolean 결과\n",
        "print(a < 35 )"
      ]
    },
    {
      "cell_type": "markdown",
      "metadata": {
        "id": "yItZJko3QdRm"
      },
      "source": [
        "### **6-2. 여러가지 곱셈**\n",
        "\n",
        "- '*' : 각각의 원소끼리 곱셈 (Elementwise product, Hadamard product)\n",
        "- '@' : 행렬 곱셈 (Matrix product)"
      ]
    },
    {
      "cell_type": "code",
      "execution_count": null,
      "metadata": {
        "colab": {
          "base_uri": "https://localhost:8080/"
        },
        "id": "anLRZmT7Qi6T",
        "outputId": "0a729c65-97d8-48e0-8820-f708e0425baa"
      },
      "outputs": [
        {
          "output_type": "stream",
          "name": "stdout",
          "text": [
            "[[1 1]\n",
            " [0 1]]\n",
            "[[2 0]\n",
            " [3 4]]\n"
          ]
        }
      ],
      "source": [
        "# A와 B 배열 생성하여 출력\n",
        "A = np.array( [[1,1],\n",
        "               [0,1]] )\n",
        "B = np.array( [[2,0],\n",
        "               [3,4]] )\n",
        "print(A)\n",
        "print(B)"
      ]
    },
    {
      "cell_type": "code",
      "execution_count": null,
      "metadata": {
        "colab": {
          "base_uri": "https://localhost:8080/"
        },
        "id": "pu-JRuMsQRS3",
        "outputId": "b1bd3490-be3d-46a1-9d6e-b9f9d9a33e07"
      },
      "outputs": [
        {
          "output_type": "stream",
          "name": "stdout",
          "text": [
            "[[2 0]\n",
            " [0 4]]\n"
          ]
        }
      ],
      "source": [
        "# A * B\n",
        "# 각각의 원소끼리 곱셈\n",
        "print(A * B)"
      ]
    },
    {
      "cell_type": "code",
      "execution_count": null,
      "metadata": {
        "colab": {
          "base_uri": "https://localhost:8080/"
        },
        "id": "88G4LIzTQuNV",
        "outputId": "ebed5560-c821-4067-eae9-95ed0e9b2139"
      },
      "outputs": [
        {
          "output_type": "stream",
          "name": "stdout",
          "text": [
            "[[5 4]\n",
            " [3 4]]\n"
          ]
        }
      ],
      "source": [
        "# A @ B\n",
        "# 행렬 곱셈 사용\n",
        "print(A @ B)"
      ]
    },
    {
      "cell_type": "markdown",
      "metadata": {
        "id": "3Ocz7jxbQ4p-"
      },
      "source": [
        "### **6-3. 자동 형 변환**\n",
        "- 수치연산 진행할 때 각각의 .dtype이 다르면,\n",
        "- 타입이 큰쪽(int < float < complex)으로 자동으로 변경"
      ]
    },
    {
      "cell_type": "code",
      "execution_count": null,
      "metadata": {
        "colab": {
          "base_uri": "https://localhost:8080/"
        },
        "id": "MT3vc6P7QzjE",
        "outputId": "8a9e4c1c-3800-4335-890f-de17e2a733e3"
      },
      "outputs": [
        {
          "output_type": "stream",
          "name": "stdout",
          "text": [
            "[1 1 1]\n",
            "[0.         1.57079633 3.14159265]\n",
            "int32\n",
            "float64\n"
          ]
        }
      ],
      "source": [
        "# a와 b 배열 생성 & 타입 확인\n",
        "a = np.ones(3, dtype=np.int32)\n",
        "b = np.linspace(0, np.pi,3)\n",
        "\n",
        "print(a)\n",
        "print(b)\n",
        "print(a.dtype)\n",
        "print(b.dtype)"
      ]
    },
    {
      "cell_type": "code",
      "execution_count": null,
      "metadata": {
        "colab": {
          "base_uri": "https://localhost:8080/"
        },
        "id": "mNVhd5F-RIBS",
        "outputId": "0272874f-fc7b-474f-c100-0f80ce823f44"
      },
      "outputs": [
        {
          "output_type": "stream",
          "name": "stdout",
          "text": [
            "[1.         2.57079633 4.14159265]\n",
            "float64\n"
          ]
        }
      ],
      "source": [
        "# a(int), b(float) 연산 시 float로 upcasting\n",
        "c = a + b\n",
        "print(c)\n",
        "print(c.dtype)"
      ]
    },
    {
      "cell_type": "code",
      "execution_count": null,
      "metadata": {
        "colab": {
          "base_uri": "https://localhost:8080/"
        },
        "id": "R5HZZMVcRLa_",
        "outputId": "2e822984-674f-41e9-8513-73b5b1b7af8b"
      },
      "outputs": [
        {
          "output_type": "stream",
          "name": "stdout",
          "text": [
            "[ 0.54030231+0.84147098j -0.84147098+0.54030231j -0.54030231-0.84147098j]\n",
            "complex128\n"
          ]
        }
      ],
      "source": [
        "# 마찬가지로 복소수 연산 시 complex(복소수)로 upcasting\n",
        "# exp 함수는 지수 함수\n",
        "d = np.exp(c*1j)\n",
        "print(d)\n",
        "print(d.dtype)"
      ]
    },
    {
      "cell_type": "markdown",
      "metadata": {
        "id": "qNPwrkwORTNp"
      },
      "source": [
        "### **6-4. 집계함수**\n",
        "\n",
        "- .sum( ) : 모든 요소의 합\n",
        "- .min( ) : 모든 요소 중 최소값\n",
        "- .max( ) : 모든 요소 중 최대값\n",
        "- .argmax( ) : 모든 요소 중 최대값의 인덱스\n",
        "- .cumsum( ) : 모든 요소의 누적합"
      ]
    },
    {
      "cell_type": "code",
      "execution_count": null,
      "metadata": {
        "colab": {
          "base_uri": "https://localhost:8080/"
        },
        "id": "3xKY1npyRNwu",
        "outputId": "3f672f41-7a76-426c-e9ea-11f372536535"
      },
      "outputs": [
        {
          "output_type": "stream",
          "name": "stdout",
          "text": [
            "[[ 0  1  4  9]\n",
            " [16 25 36 49]]\n"
          ]
        }
      ],
      "source": [
        "# a 배열 생성 & 출력\n",
        "# 0부터 8미만까지 출력하고 (2,4) 크기로 재가공하고 제곱하여 출력\n",
        "a = np.arange(8).reshape(2, 4)**2\n",
        "print(a)"
      ]
    },
    {
      "cell_type": "code",
      "execution_count": null,
      "metadata": {
        "colab": {
          "base_uri": "https://localhost:8080/"
        },
        "id": "Lfgasf_1RfSA",
        "outputId": "5681cd7e-2314-4c28-c66d-422f8767005e"
      },
      "outputs": [
        {
          "output_type": "stream",
          "name": "stdout",
          "text": [
            "[[ 0  1  4  9]\n",
            " [16 25 36 49]]\n",
            "140\n"
          ]
        }
      ],
      "source": [
        "# 모든 요소의 합\n",
        "print(a)\n",
        "print(a.sum())"
      ]
    },
    {
      "cell_type": "code",
      "execution_count": null,
      "metadata": {
        "colab": {
          "base_uri": "https://localhost:8080/"
        },
        "id": "OgfxB2xhRfFh",
        "outputId": "6027c24d-a979-47de-e27a-2a29ddc64120"
      },
      "outputs": [
        {
          "output_type": "stream",
          "name": "stdout",
          "text": [
            "0\n"
          ]
        }
      ],
      "source": [
        "# 모든 요소 중 최소값\n",
        "print(a.min())"
      ]
    },
    {
      "cell_type": "code",
      "execution_count": null,
      "metadata": {
        "colab": {
          "base_uri": "https://localhost:8080/"
        },
        "id": "bhZ13FgJRe4Q",
        "outputId": "bd985223-62a6-4105-cae7-a49531bc8549"
      },
      "outputs": [
        {
          "output_type": "stream",
          "name": "stdout",
          "text": [
            "49\n"
          ]
        }
      ],
      "source": [
        "# 모든 요소 중 최대값\n",
        "print(a.max())"
      ]
    },
    {
      "cell_type": "code",
      "execution_count": null,
      "metadata": {
        "colab": {
          "base_uri": "https://localhost:8080/"
        },
        "id": "p4zR3-pZRl-y",
        "outputId": "df02affe-f618-4c47-893c-116852de72ad"
      },
      "outputs": [
        {
          "output_type": "stream",
          "name": "stdout",
          "text": [
            "[[ 0  1  4  9]\n",
            " [16 25 36 49]]\n",
            "7\n"
          ]
        }
      ],
      "source": [
        "# 모든 요소 중 최대값의 인덱스\n",
        "print(a)\n",
        "print(a.argmax())"
      ]
    },
    {
      "cell_type": "code",
      "execution_count": null,
      "metadata": {
        "colab": {
          "base_uri": "https://localhost:8080/"
        },
        "id": "YKOhsJURRnPS",
        "outputId": "ec12087e-865d-4c11-cedf-ea376ad6c694"
      },
      "outputs": [
        {
          "output_type": "stream",
          "name": "stdout",
          "text": [
            "[[ 0  1  4  9]\n",
            " [16 25 36 49]]\n",
            "[  0   1   5  14  30  55  91 140]\n"
          ]
        }
      ],
      "source": [
        "# 모든 요소의 누적합\n",
        "# 14 = 0 + 1 + 4 + 9\n",
        "print(a)\n",
        "print(a.cumsum())"
      ]
    },
    {
      "cell_type": "markdown",
      "metadata": {
        "id": "WZ_teGesR14q"
      },
      "source": [
        "### **6-5. 집계함수 axis 값을 매개변수로 입력**\n",
        "- .sum( ), .min( ), .max( ), .cumsum( )과 같은 연산에 axis 값을 입력하면, 축을 기준으로도 연산 가능\n",
        "- axis = 0 (열 기준)\n",
        "- axis = 1 (행 기준)"
      ]
    },
    {
      "cell_type": "code",
      "execution_count": null,
      "metadata": {
        "colab": {
          "base_uri": "https://localhost:8080/"
        },
        "id": "EFodtH4qRoZo",
        "outputId": "fc35fe4b-70e1-48f5-a1dc-d9bd25e0787b"
      },
      "outputs": [
        {
          "output_type": "stream",
          "name": "stdout",
          "text": [
            "[[ 0  1  2  3]\n",
            " [ 4  5  6  7]\n",
            " [ 8  9 10 11]]\n"
          ]
        }
      ],
      "source": [
        "# b 배열 생성 & 출력\n",
        "b = np.arange(12).reshape(3, 4)\n",
        "print(b)"
      ]
    },
    {
      "cell_type": "code",
      "execution_count": null,
      "metadata": {
        "colab": {
          "base_uri": "https://localhost:8080/"
        },
        "id": "sKK8RQ6aSmeb",
        "outputId": "e49a5021-1431-44bc-f8cf-7d22053feaa4"
      },
      "outputs": [
        {
          "output_type": "stream",
          "name": "stdout",
          "text": [
            "[12 15 18 21]\n"
          ]
        }
      ],
      "source": [
        "# axis = 0은 열 기준으로 연산\n",
        "print(b.sum(axis=0))"
      ]
    },
    {
      "cell_type": "code",
      "execution_count": null,
      "metadata": {
        "colab": {
          "base_uri": "https://localhost:8080/"
        },
        "id": "63GBEmiUSo-s",
        "outputId": "4ab0bf13-dad5-4eb6-f4df-6e561a53e352"
      },
      "outputs": [
        {
          "output_type": "stream",
          "name": "stdout",
          "text": [
            "[ 6 22 38]\n"
          ]
        }
      ],
      "source": [
        "# axis = 1은 행 기준으로 연산\n",
        "print(b.sum(axis=1))"
      ]
    },
    {
      "cell_type": "markdown",
      "metadata": {
        "id": "GnY_xZZSS_b6"
      },
      "source": [
        "## **7. Numpy 범용 함수**\n",
        "\n",
        "- 수학적인 연산이 너무 많기 때문에 .sqrt( )만 예시로 실습 진행\n",
        "- 필요한 범용 함수는 [available-ufuncs](https://numpy.org/doc/1.18/reference/ufuncs.html#available-ufuncs)를 확인!"
      ]
    },
    {
      "cell_type": "code",
      "execution_count": null,
      "metadata": {
        "colab": {
          "base_uri": "https://localhost:8080/"
        },
        "id": "bZRpZO21Su8C",
        "outputId": "bfa65b99-bbeb-4a21-dba6-88a9cb10a890"
      },
      "outputs": [
        {
          "output_type": "stream",
          "name": "stdout",
          "text": [
            "[1 4 9]\n"
          ]
        }
      ],
      "source": [
        "# B 배열 생성 & 출력\n",
        "B = np.array([1, 4, 9])\n",
        "print(B)"
      ]
    },
    {
      "cell_type": "code",
      "execution_count": null,
      "metadata": {
        "colab": {
          "base_uri": "https://localhost:8080/"
        },
        "id": "_YD05NW7ThM3",
        "outputId": "af28b096-abc4-4a37-909c-464564e82139"
      },
      "outputs": [
        {
          "output_type": "stream",
          "name": "stdout",
          "text": [
            "[1. 2. 3.]\n"
          ]
        }
      ],
      "source": [
        "# y = sqrt(x)\n",
        "# sqrt는 제곱근 계산\n",
        "print(np.sqrt(B))"
      ]
    },
    {
      "cell_type": "markdown",
      "metadata": {
        "id": "TA0X49X08QfO"
      },
      "source": [
        "## **8. Numpy 인덱싱과 슬라이싱**\n",
        "- 인덱싱(Indexing, 가리킴)과 슬라이싱(Slicing, 잘라냄)은 각각 문자열에서 한개 또는 여러개를 가리켜서 그 값을 가져오거나 뽑아내는 방법"
      ]
    },
    {
      "cell_type": "markdown",
      "metadata": {
        "id": "qbXaxAPDToim"
      },
      "source": [
        "### **8-1. 인덱싱과 슬라이싱**\n",
        "\n",
        "- Numpy에서 인덱싱과 슬라이싱에 대한 개념은 Python과 기본적으로 동일"
      ]
    },
    {
      "cell_type": "code",
      "execution_count": null,
      "metadata": {
        "colab": {
          "base_uri": "https://localhost:8080/"
        },
        "id": "feZSy8AoT_QQ",
        "outputId": "67a6b7da-532c-4328-ae6b-bd70bfb134bb"
      },
      "outputs": [
        {
          "output_type": "stream",
          "name": "stdout",
          "text": [
            "[ 0  1  4  9 16 25 36 49 64 81]\n"
          ]
        }
      ],
      "source": [
        "# a 배열 생성 & 출력\n",
        "a = np.arange(10)**2\n",
        "print(a)"
      ]
    },
    {
      "cell_type": "code",
      "execution_count": null,
      "metadata": {
        "colab": {
          "base_uri": "https://localhost:8080/"
        },
        "id": "eEkPA_PfT1ew",
        "outputId": "35a4c347-8e6e-44b4-d067-ede07343c2f9"
      },
      "outputs": [
        {
          "output_type": "stream",
          "name": "stdout",
          "text": [
            "4\n"
          ]
        }
      ],
      "source": [
        "# a 배열의 2번째 인덱스 출력\n",
        "print(a[2])"
      ]
    },
    {
      "cell_type": "code",
      "execution_count": null,
      "metadata": {
        "colab": {
          "base_uri": "https://localhost:8080/"
        },
        "id": "YZyMYpQnT29L",
        "outputId": "016d67b3-fea3-4164-83f4-a5c49bbf3f41"
      },
      "outputs": [
        {
          "output_type": "stream",
          "name": "stdout",
          "text": [
            "[ 4  9 16]\n"
          ]
        }
      ],
      "source": [
        "# a 배열의 2~4번 인덱스 출력\n",
        "print(a[2:5])"
      ]
    },
    {
      "cell_type": "code",
      "execution_count": null,
      "metadata": {
        "colab": {
          "base_uri": "https://localhost:8080/"
        },
        "id": "rx9gRHgDfIls",
        "outputId": "d1401b4b-aa6c-433f-fcfa-144952ea4ea4"
      },
      "outputs": [
        {
          "output_type": "stream",
          "name": "stdout",
          "text": [
            "[81 64 49 36 25 16  9  4  1  0]\n"
          ]
        }
      ],
      "source": [
        "# reverse : 배열의 요소 거꾸로 출력\n",
        "print(a[ : :-1])"
      ]
    },
    {
      "cell_type": "code",
      "execution_count": null,
      "metadata": {
        "colab": {
          "base_uri": "https://localhost:8080/"
        },
        "id": "sJ2rMr4UT4Yx",
        "outputId": "57a75923-8bc5-4ce8-8582-0fa66246ab27"
      },
      "outputs": [
        {
          "output_type": "stream",
          "name": "stdout",
          "text": [
            "[1000    1 1000    9 1000   25   36   49   64   81]\n"
          ]
        }
      ],
      "source": [
        "# 0~5번에서 2Step 인덱스 출력\n",
        "# a[0:6:2] = a[:6:2]\n",
        "# 인덱스 0, 2, 4 해당하는 값에 1000 삽입\n",
        "a[0:6:2] = 1000\n",
        "print(a)"
      ]
    },
    {
      "cell_type": "markdown",
      "metadata": {
        "id": "6Kcas0o18UZ5"
      },
      "source": [
        "### **8-2. 인덱스 배열로 인덱싱**\n",
        "- 인덱스를 가진 배열로 인덱싱 진행"
      ]
    },
    {
      "cell_type": "code",
      "execution_count": null,
      "metadata": {
        "colab": {
          "base_uri": "https://localhost:8080/"
        },
        "id": "SXz5fzp58iYJ",
        "outputId": "a56164c4-8536-4679-86e6-e6665409b9c7"
      },
      "outputs": [
        {
          "output_type": "stream",
          "name": "stdout",
          "text": [
            "[ 0  1  4  9 16 25 36 49]\n"
          ]
        }
      ],
      "source": [
        "# a 배열 생성 & 출력\n",
        "a = np.arange(8)**2\n",
        "print(a)"
      ]
    },
    {
      "cell_type": "code",
      "execution_count": null,
      "metadata": {
        "colab": {
          "base_uri": "https://localhost:8080/"
        },
        "id": "aX0DTsYn8iPT",
        "outputId": "bff0b8c1-4475-4207-f563-edc5f0c3817e"
      },
      "outputs": [
        {
          "output_type": "stream",
          "name": "stdout",
          "text": [
            "[ 1  1  9 25]\n"
          ]
        }
      ],
      "source": [
        "# i 1차원 배열 생성 & 출력\n",
        "# a 배열의 index로 i를 삽입하여 출력\n",
        "i = np.array([1, 1, 3, 5])\n",
        "print(a[i])"
      ]
    },
    {
      "cell_type": "code",
      "execution_count": null,
      "metadata": {
        "colab": {
          "base_uri": "https://localhost:8080/"
        },
        "id": "oockU0IM8iG8",
        "outputId": "152dbc85-e6eb-454e-b43b-519aacbea6f7"
      },
      "outputs": [
        {
          "output_type": "stream",
          "name": "stdout",
          "text": [
            "[[ 9 16]\n",
            " [ 4 25]]\n"
          ]
        }
      ],
      "source": [
        "# j 2차원 배열 생성\n",
        "# a 배열의 index로 j를 삽입하여 출력\n",
        "j = np.array([[3, 4], [2, 5]])\n",
        "print(a[j])"
      ]
    },
    {
      "cell_type": "markdown",
      "metadata": {
        "id": "DMMqmc4v9QlX"
      },
      "source": [
        "### **8-3. boolean 인덱싱**\n",
        "- Boolean 타입을 가진 값들로 인덱싱 진행"
      ]
    },
    {
      "cell_type": "code",
      "execution_count": null,
      "metadata": {
        "colab": {
          "base_uri": "https://localhost:8080/"
        },
        "id": "ZXc5hW4f9wXh",
        "outputId": "5eec6d60-96a4-49d4-a21d-7b5d1172c42c"
      },
      "outputs": [
        {
          "output_type": "stream",
          "name": "stdout",
          "text": [
            "[[ 0  1  2  3]\n",
            " [ 4  5  6  7]\n",
            " [ 8  9 10 11]]\n"
          ]
        }
      ],
      "source": [
        "# a 배열 생성 & 출력\n",
        "a = np.arange(12).reshape(3,4)\n",
        "print(a)"
      ]
    },
    {
      "cell_type": "code",
      "execution_count": null,
      "metadata": {
        "colab": {
          "base_uri": "https://localhost:8080/"
        },
        "id": "5mGauWTh9wS3",
        "outputId": "a56ce2cd-e8bd-4680-c2d3-238dbf966592"
      },
      "outputs": [
        {
          "output_type": "stream",
          "name": "stdout",
          "text": [
            "[[False False False False]\n",
            " [False  True  True  True]\n",
            " [ True  True  True  True]]\n"
          ]
        }
      ],
      "source": [
        "# b는 a > 4 조건이 적용된 Boolean 값이 든 배열\n",
        "b = a > 4\n",
        "print(b)"
      ]
    },
    {
      "cell_type": "code",
      "execution_count": null,
      "metadata": {
        "colab": {
          "base_uri": "https://localhost:8080/"
        },
        "id": "4bkQR5Y69wOA",
        "outputId": "cac7a4ca-5f46-4f36-a3b8-6641a15dba5c"
      },
      "outputs": [
        {
          "output_type": "stream",
          "name": "stdout",
          "text": [
            "[ 5  6  7  8  9 10 11]\n"
          ]
        },
        {
          "output_type": "execute_result",
          "data": {
            "text/plain": [
              "(7,)"
            ]
          },
          "metadata": {},
          "execution_count": 55
        }
      ],
      "source": [
        "# Boolean 값이 든 b 배열을 a 배열의 index로 삽입\n",
        "# True인 값들만 출력\n",
        "print(a[b])\n",
        "a[b].shape"
      ]
    },
    {
      "cell_type": "code",
      "execution_count": null,
      "metadata": {
        "colab": {
          "base_uri": "https://localhost:8080/"
        },
        "id": "idK2k-eeFKz0",
        "outputId": "37aa335f-a5bb-4a02-cc0d-07f776ce1046"
      },
      "outputs": [
        {
          "output_type": "stream",
          "name": "stdout",
          "text": [
            "[[0 1 2 3]\n",
            " [4 0 0 0]\n",
            " [0 0 0 0]]\n"
          ]
        }
      ],
      "source": [
        "# a[b]에 해당하는 애들만 0 삽입하여 a 출력\n",
        "a[b] = 0\n",
        "print(a)"
      ]
    },
    {
      "cell_type": "markdown",
      "metadata": {
        "id": "hzreIIWYEh-y"
      },
      "source": [
        "## **9. Numpy 크기 변경**\n",
        "- .ravel : 1차원으로 변경\n",
        "- .reshape : 지정한 차원으로 변경\n",
        "- .T : 전치(Transpose) 변환"
      ]
    },
    {
      "cell_type": "code",
      "execution_count": null,
      "metadata": {
        "colab": {
          "base_uri": "https://localhost:8080/"
        },
        "id": "J6s7EwAORZ_C",
        "outputId": "316afe0b-3647-4b99-855f-a37e3a21ae68"
      },
      "outputs": [
        {
          "output_type": "stream",
          "name": "stdout",
          "text": [
            "[[ 0  1  2  3]\n",
            " [ 4  5  6  7]\n",
            " [ 8  9 10 11]]\n",
            "(3, 4)\n"
          ]
        }
      ],
      "source": [
        "# a 배열 생성 & shape 출력\n",
        "a = np.arange(12).reshape(3,4)\n",
        "print(a)\n",
        "print(a.shape)"
      ]
    },
    {
      "cell_type": "code",
      "execution_count": null,
      "metadata": {
        "colab": {
          "base_uri": "https://localhost:8080/"
        },
        "id": "6j8vmV-E4OzT",
        "outputId": "1b47fa18-2db6-4f17-b80d-cc036bc0bb96"
      },
      "outputs": [
        {
          "output_type": "stream",
          "name": "stdout",
          "text": [
            "[ 0  1  2  3  4  5  6  7  8  9 10 11]\n",
            "[ 0  1  2  3  4  5  6  7  8  9 10 11]\n"
          ]
        }
      ],
      "source": [
        "# .ravel : 모든 원소를 1차원으로 변경\n",
        "print(a.ravel())\n",
        "print(a.reshape(-1))"
      ]
    },
    {
      "cell_type": "code",
      "execution_count": null,
      "metadata": {
        "colab": {
          "base_uri": "https://localhost:8080/"
        },
        "id": "AAE5j4VT4V1K",
        "outputId": "462ddba3-fd8a-4599-af7b-ead59ec5dbf9"
      },
      "outputs": [
        {
          "output_type": "stream",
          "name": "stdout",
          "text": [
            "[[ 0  1  2  3  4  5]\n",
            " [ 6  7  8  9 10 11]]\n"
          ]
        }
      ],
      "source": [
        "# .reshape : 지정한 차원으로 변경\n",
        "# [3,4] => [2,6]로 변경\n",
        "print(a.reshape(2, 6))"
      ]
    },
    {
      "cell_type": "code",
      "execution_count": null,
      "metadata": {
        "colab": {
          "base_uri": "https://localhost:8080/"
        },
        "id": "WT0HeLmW4XQC",
        "outputId": "f475d062-5053-4637-ebd6-89495fd488a0"
      },
      "outputs": [
        {
          "output_type": "stream",
          "name": "stdout",
          "text": [
            "[[ 0  4  8]\n",
            " [ 1  5  9]\n",
            " [ 2  6 10]\n",
            " [ 3  7 11]]\n",
            "(4, 3)\n"
          ]
        }
      ],
      "source": [
        "# .T : [3,4]의 전치(transpose)변환으로 [4,3] 출력\n",
        "print(a.T)\n",
        "print(a.T.shape)"
      ]
    },
    {
      "cell_type": "code",
      "execution_count": null,
      "metadata": {
        "colab": {
          "base_uri": "https://localhost:8080/"
        },
        "id": "RDBNmz0V4ZSL",
        "outputId": "95f1c810-3417-410d-d06f-6ee793006c80"
      },
      "outputs": [
        {
          "output_type": "stream",
          "name": "stdout",
          "text": [
            "[[ 0  4  8]\n",
            " [ 1  5  9]\n",
            " [ 2  6 10]\n",
            " [ 3  7 11]]\n"
          ]
        }
      ],
      "source": [
        "# 만약 전치 형태로 a 배열에 저장하고 싶다면!\n",
        "a = a.T\n",
        "print(a)"
      ]
    },
    {
      "cell_type": "markdown",
      "metadata": {
        "id": "3o1l56Y87wyl"
      },
      "source": [
        "## **10. Numpy 데이터 합치기**\n",
        "- np.vstack() 와 np.hstack()를 통해 데이터를 합치기\n",
        "- np.vstack(): axis=0(열) 기준으로 쌓음\n",
        "- np.hstack(): axis=1(행) 기준으로 쌓음"
      ]
    },
    {
      "cell_type": "code",
      "execution_count": null,
      "metadata": {
        "colab": {
          "base_uri": "https://localhost:8080/"
        },
        "id": "yS-iuk_j4cS2",
        "outputId": "6f4bc318-a735-4f24-8890-b1cb46d3c548"
      },
      "outputs": [
        {
          "output_type": "stream",
          "name": "stdout",
          "text": [
            "[[1 2]\n",
            " [3 4]]\n"
          ]
        }
      ],
      "source": [
        "# a 배열 생성 & 출력\n",
        "a = np.array([1, 2, 3, 4]).reshape(2, 2)\n",
        "print(a)"
      ]
    },
    {
      "cell_type": "code",
      "execution_count": null,
      "metadata": {
        "colab": {
          "base_uri": "https://localhost:8080/"
        },
        "id": "Maa6Pejh9Yn2",
        "outputId": "a5265800-7523-48cc-dbdb-f7e41ea6e6e6"
      },
      "outputs": [
        {
          "output_type": "stream",
          "name": "stdout",
          "text": [
            "[[5 6]\n",
            " [7 8]]\n"
          ]
        }
      ],
      "source": [
        "# b 배열 생성 & 출력\n",
        "b = np.array([5, 6, 7, 8]).reshape(2, 2)\n",
        "print(b)"
      ]
    },
    {
      "cell_type": "code",
      "execution_count": null,
      "metadata": {
        "colab": {
          "base_uri": "https://localhost:8080/"
        },
        "id": "er-3nH859aCU",
        "outputId": "3df743c6-93f6-4f13-b061-59450ae833f6"
      },
      "outputs": [
        {
          "output_type": "stream",
          "name": "stdout",
          "text": [
            "[[1 2]\n",
            " [3 4]\n",
            " [5 6]\n",
            " [7 8]]\n"
          ]
        }
      ],
      "source": [
        "# [2,2] => [4,2]\n",
        "# np.vstack(): axis=0(열) 기준으로 쌓음\n",
        "print(np.vstack((a,b)))"
      ]
    },
    {
      "cell_type": "code",
      "execution_count": null,
      "metadata": {
        "colab": {
          "base_uri": "https://localhost:8080/"
        },
        "id": "_Ere1tqg9bqY",
        "outputId": "8218e83d-e19e-46cf-c20d-31687329c429"
      },
      "outputs": [
        {
          "output_type": "stream",
          "name": "stdout",
          "text": [
            "[[1 2 5 6]\n",
            " [3 4 7 8]]\n"
          ]
        }
      ],
      "source": [
        "# [2,2] => [2,4]\n",
        "# np.hstack(): axis=1(행) 기준으로 쌓음\n",
        "print(np.hstack((a,b)))"
      ]
    },
    {
      "cell_type": "markdown",
      "metadata": {
        "id": "PYe0KcN59kb5"
      },
      "source": [
        "## **11. Numpy 데이터 쪼개기**\n",
        "\n",
        "- np.hsplit( )을 통해 숫자1개가 들어갈 경우, X개로 등분\n",
        "- np.hsplit( )을 통해 리스트로 넣을 경우, axis=1 기준 인덱스로 데이터를 분할"
      ]
    },
    {
      "cell_type": "code",
      "execution_count": null,
      "metadata": {
        "colab": {
          "base_uri": "https://localhost:8080/"
        },
        "id": "IhesUfes9fVe",
        "outputId": "9838b876-de8f-4a7c-edd9-2603e889b265"
      },
      "outputs": [
        {
          "output_type": "stream",
          "name": "stdout",
          "text": [
            "[[ 0  1  2  3  4  5]\n",
            " [ 6  7  8  9 10 11]]\n"
          ]
        }
      ],
      "source": [
        "# a 배열 생성 & 출력\n",
        "a = np.arange(12).reshape(2, 6)\n",
        "print(a)"
      ]
    },
    {
      "cell_type": "code",
      "execution_count": null,
      "metadata": {
        "id": "pvqiwabz9zcK",
        "colab": {
          "base_uri": "https://localhost:8080/"
        },
        "outputId": "86010502-cae5-4887-b1f2-16b8319fd123"
      },
      "outputs": [
        {
          "output_type": "stream",
          "name": "stdout",
          "text": [
            "[array([[0, 1],\n",
            "       [6, 7]]), array([[2, 3],\n",
            "       [8, 9]]), array([[ 4,  5],\n",
            "       [10, 11]])]\n"
          ]
        }
      ],
      "source": [
        "# [2,6] => [2,2] 데이터 3개로 등분\n",
        "print(np.hsplit(a, 3))"
      ]
    },
    {
      "cell_type": "code",
      "execution_count": null,
      "metadata": {
        "id": "BENiZ3Kv90sU",
        "colab": {
          "base_uri": "https://localhost:8080/"
        },
        "outputId": "7989aa04-af9e-4e9c-ea8e-b16c4574fb3e"
      },
      "outputs": [
        {
          "output_type": "stream",
          "name": "stdout",
          "text": [
            "[[ 0  1  2  3  4  5]\n",
            " [ 6  7  8  9 10 11]]\n",
            "[array([[0, 1, 2],\n",
            "       [6, 7, 8]]), array([[3],\n",
            "       [9]]), array([[ 4,  5],\n",
            "       [10, 11]])]\n"
          ]
        }
      ],
      "source": [
        "# [2,6] => [:, :3], [:, 3:4], [:, 4:]로 분할\n",
        "# a를 3번째 열 ~ 4번째 열 미만 기준으로 분할하여 3개의 array를 반환\n",
        "print(a)\n",
        "print(np.hsplit(a, (3,4)))"
      ]
    },
    {
      "cell_type": "markdown",
      "metadata": {
        "id": "HYv_IV3uAFkx"
      },
      "source": [
        "# **자기 주도 학습 - 문제**\n"
      ]
    },
    {
      "cell_type": "markdown",
      "metadata": {
        "id": "L2I9kKLbArgI"
      },
      "source": [
        "## **1. Numpy 문제 (1)**\n",
        "\n",
        "* Numpy 선언\n",
        "\n"
      ]
    },
    {
      "cell_type": "code",
      "execution_count": null,
      "metadata": {
        "id": "pSRn8XwIAq9z"
      },
      "outputs": [],
      "source": [
        "# 1) numpy 패키지 로드하여 np로 사용\n",
        "import numpy as np"
      ]
    },
    {
      "cell_type": "markdown",
      "metadata": {
        "id": "8ebMhRhoAvlb"
      },
      "source": [
        "## **2. Numpy 문제 (2)**\n",
        "\n",
        "* 리스트로 배열 만들기\n",
        "\n"
      ]
    },
    {
      "cell_type": "code",
      "execution_count": null,
      "metadata": {
        "id": "FVAOana2A0Js",
        "colab": {
          "base_uri": "https://localhost:8080/"
        },
        "outputId": "77c882cc-0bc2-46f9-a8f6-df439ddf0830"
      },
      "outputs": [
        {
          "output_type": "stream",
          "name": "stdout",
          "text": [
            "[1, 1.5, 'python']\n",
            "['1' '1.5' 'python']\n"
          ]
        }
      ],
      "source": [
        "# 1) pythonList 변수에 리스트 선언하기 (리스트 요소는 자유롭게 구성)\n",
        "# 2) npArray 변수에 pythonList 변수를 통해 Numpy 배열 선언\n",
        "# 3) 각각 pythonList, npArray 변수 출력\n",
        "pythonList = [1, 1.5, \"python\"]\n",
        "npArray = np.array(pythonList)\n",
        "print(pythonList)\n",
        "print(npArray)"
      ]
    },
    {
      "cell_type": "markdown",
      "metadata": {
        "id": "3BayotmJA1RJ"
      },
      "source": [
        "## **3. Numpy 문제 (3)**\n",
        "\n",
        "* 0으로 구성된 2차원 배열 생성\n",
        "\n"
      ]
    },
    {
      "cell_type": "code",
      "execution_count": null,
      "metadata": {
        "id": "QOh-FPZJA4as",
        "colab": {
          "base_uri": "https://localhost:8080/"
        },
        "outputId": "47c54dc9-68bc-4293-c8eb-40972662f45a"
      },
      "outputs": [
        {
          "output_type": "stream",
          "name": "stdout",
          "text": [
            "[0. 0. 0. 0. 0. 0. 0. 0. 0. 0.]\n"
          ]
        }
      ],
      "source": [
        "# 1) 0이 10개 채워진 1차원 배열 생성하여 출력\n",
        "print(np.zeros(10))"
      ]
    },
    {
      "cell_type": "code",
      "execution_count": null,
      "metadata": {
        "id": "gv2rptWoA4sV",
        "colab": {
          "base_uri": "https://localhost:8080/"
        },
        "outputId": "4c8df134-0f2a-42f4-815d-df120ba25138"
      },
      "outputs": [
        {
          "output_type": "stream",
          "name": "stdout",
          "text": [
            "[[0. 0. 0. 0. 0.]\n",
            " [0. 0. 0. 0. 0.]\n",
            " [0. 0. 0. 0. 0.]\n",
            " [0. 0. 0. 0. 0.]\n",
            " [0. 0. 0. 0. 0.]]\n"
          ]
        }
      ],
      "source": [
        "# 2) 0이 10개 채워진 (5,5) 형태의 2차원 배열 생성하여 출력\n",
        "print(np.zeros((5, 5)))"
      ]
    },
    {
      "cell_type": "markdown",
      "metadata": {
        "id": "Ah-t1VBHA7Wt"
      },
      "source": [
        "## **4. Numpy 문제 (4)**\n",
        "\n",
        "* arange & linspace 함수를 사용하여 배열 생성\n",
        "\n"
      ]
    },
    {
      "cell_type": "code",
      "execution_count": null,
      "metadata": {
        "id": "rMni6-bmA9dk",
        "colab": {
          "base_uri": "https://localhost:8080/"
        },
        "outputId": "81d15c04-7591-4d51-c519-d29e3ed13ebf"
      },
      "outputs": [
        {
          "output_type": "stream",
          "name": "stdout",
          "text": [
            "[0.  0.5 1. ]\n"
          ]
        }
      ],
      "source": [
        "# 1) [0.  0.5  1. ]\n",
        "# 2) arange 함수를 사용하여 (1)과 동일한 결과 나오게끔 배열 생성하여 출력\n",
        "# 0이상 1.05미만, 0.5씩 차이나게 구현 (코드 가독성을 위해 1+0.5로 코딩)\n",
        "print(np.arange(0, 1+0.5, 0.5))"
      ]
    },
    {
      "cell_type": "code",
      "execution_count": null,
      "metadata": {
        "id": "eNTVSqxvA-_C",
        "colab": {
          "base_uri": "https://localhost:8080/"
        },
        "outputId": "0f5b16b3-b01c-4f63-b2c4-9898cdb008e8"
      },
      "outputs": [
        {
          "output_type": "stream",
          "name": "stdout",
          "text": [
            "[0.  0.5 1. ]\n"
          ]
        }
      ],
      "source": [
        "# 3) linspace 함수를 사용하여 (1)과 동일한 결과 나오게끔 배열 생성하여 출력\n",
        "print(np.linspace(0, 1, 3))"
      ]
    },
    {
      "cell_type": "markdown",
      "metadata": {
        "id": "b8rywdcnBGIN"
      },
      "source": [
        "## **5. Numpy 문제 (5)**\n",
        "\n",
        "* 인덱싱(Indexing, 가리킴)과 슬라이싱(Slicing, 잘라냄) 이해\n",
        "\n"
      ]
    },
    {
      "cell_type": "code",
      "execution_count": null,
      "metadata": {
        "id": "Tc-4PIMhBEx-",
        "colab": {
          "base_uri": "https://localhost:8080/"
        },
        "outputId": "b506c16e-b133-407c-8284-12056950f715"
      },
      "outputs": [
        {
          "output_type": "stream",
          "name": "stdout",
          "text": [
            "[  0   1   8  27  64 125 216 343 512 729]\n"
          ]
        }
      ],
      "source": [
        "python = np.arange(10)**3\n",
        "print(python)"
      ]
    },
    {
      "cell_type": "code",
      "execution_count": null,
      "metadata": {
        "id": "-iQAlVVhBVQ8",
        "colab": {
          "base_uri": "https://localhost:8080/"
        },
        "outputId": "d27a1f3a-a571-4d3d-9b60-383d76a2c58e"
      },
      "outputs": [
        {
          "output_type": "stream",
          "name": "stdout",
          "text": [
            "8\n"
          ]
        }
      ],
      "source": [
        "# 1) python 배열의 2번째 인덱스 출력\n",
        "print(python[2])"
      ]
    },
    {
      "cell_type": "code",
      "execution_count": null,
      "metadata": {
        "id": "35cGkh8_BU-5",
        "colab": {
          "base_uri": "https://localhost:8080/"
        },
        "outputId": "714d64de-12ab-4574-a318-b88beba0c271"
      },
      "outputs": [
        {
          "output_type": "stream",
          "name": "stdout",
          "text": [
            "[ 27  64 125]\n"
          ]
        }
      ],
      "source": [
        "# 2) python 배열의 3~5번 인덱스 출력\n",
        "print(python[3:6])"
      ]
    },
    {
      "cell_type": "code",
      "execution_count": null,
      "metadata": {
        "id": "Rj5fqBAYBZVx",
        "colab": {
          "base_uri": "https://localhost:8080/"
        },
        "outputId": "f09513ae-d7eb-474c-a0a5-abd80928c9ff"
      },
      "outputs": [
        {
          "output_type": "stream",
          "name": "stdout",
          "text": [
            "[125 216 343 512 729]\n",
            "[125 216 343 512 729]\n"
          ]
        }
      ],
      "source": [
        "# 3) python 배열의 64이상의 요소만 출력\n",
        "python_64 = python > 64\n",
        "print(python[python_64])\n",
        "\n",
        "print(python[python > 64])"
      ]
    },
    {
      "cell_type": "markdown",
      "metadata": {
        "id": "N1aL1LLOB-0m"
      },
      "source": [
        "## **6. Numpy 문제 (6)**\n",
        "\n",
        "* 데이터 합치기 & 쪼개기\n",
        "\n"
      ]
    },
    {
      "cell_type": "code",
      "execution_count": null,
      "metadata": {
        "id": "pRnSieEKCAZN",
        "colab": {
          "base_uri": "https://localhost:8080/"
        },
        "outputId": "f0d3fb90-2b75-492c-c15d-106ca7b71bd1"
      },
      "outputs": [
        {
          "output_type": "stream",
          "name": "stdout",
          "text": [
            "[[1 2 3]\n",
            " [4 5 6]]\n"
          ]
        }
      ],
      "source": [
        "python_1 = np.array([1, 2, 3, 4, 5, 6]).reshape(2, 3)\n",
        "print(python_1)"
      ]
    },
    {
      "cell_type": "code",
      "execution_count": null,
      "metadata": {
        "id": "hnZC48TBCCEt",
        "colab": {
          "base_uri": "https://localhost:8080/"
        },
        "outputId": "14e14584-58a1-4101-eff1-00b2c472c4db"
      },
      "outputs": [
        {
          "output_type": "stream",
          "name": "stdout",
          "text": [
            "[[ 7  8  9]\n",
            " [10 11 12]]\n"
          ]
        }
      ],
      "source": [
        "python_2 = np.array([7, 8, 9, 10, 11, 12]).reshape(2, 3)\n",
        "print(python_2)"
      ]
    },
    {
      "cell_type": "code",
      "execution_count": null,
      "metadata": {
        "id": "3nrJJkuQCDYs",
        "colab": {
          "base_uri": "https://localhost:8080/"
        },
        "outputId": "aae26c40-6156-4823-bfc3-edec6503cc73"
      },
      "outputs": [
        {
          "output_type": "stream",
          "name": "stdout",
          "text": [
            "[[ 1  2  3]\n",
            " [ 4  5  6]\n",
            " [ 7  8  9]\n",
            " [10 11 12]]\n"
          ]
        }
      ],
      "source": [
        "# 1) 열을 기준으로 데이터 합쳐서 출력\n",
        "# np.vstack(): axis=0(열) 기준으로 쌓음\n",
        "print(np.vstack((python_1, python_2)))"
      ]
    },
    {
      "cell_type": "code",
      "execution_count": null,
      "metadata": {
        "id": "dldvWxrtCDUk",
        "colab": {
          "base_uri": "https://localhost:8080/"
        },
        "outputId": "760fa99e-1717-4735-e0f3-e2c8cf2ac5ef"
      },
      "outputs": [
        {
          "output_type": "stream",
          "name": "stdout",
          "text": [
            "[[ 1  2  3  7  8  9]\n",
            " [ 4  5  6 10 11 12]]\n"
          ]
        }
      ],
      "source": [
        "# 2) 행을 기준으로 데이터 합쳐서 출력\n",
        "# np.hstack(): axis=1(행) 기준으로 쌓음\n",
        "print(np.hstack((python_1, python_2)))"
      ]
    },
    {
      "cell_type": "code",
      "execution_count": null,
      "metadata": {
        "id": "eiIYkvoyCDOo",
        "colab": {
          "base_uri": "https://localhost:8080/"
        },
        "outputId": "ad454d57-a2f0-4cb1-c0d1-eacd6234e444"
      },
      "outputs": [
        {
          "output_type": "stream",
          "name": "stdout",
          "text": [
            "[array([[1],\n",
            "       [4]]), array([[2],\n",
            "       [5]]), array([[3],\n",
            "       [6]])]\n"
          ]
        }
      ],
      "source": [
        "# 3) python_1 변수에 열을 기준으로 3등분 쪼개어 출력\n",
        "# [2,3] => [2,1] 데이터 3개로 등분\n",
        "print(np.hsplit(python_1, 3))"
      ]
    },
    {
      "cell_type": "code",
      "execution_count": null,
      "metadata": {
        "id": "Yzyx8iTRCDIW",
        "colab": {
          "base_uri": "https://localhost:8080/"
        },
        "outputId": "0782677a-eb35-41ad-9a90-619de87aec53"
      },
      "outputs": [
        {
          "output_type": "stream",
          "name": "stdout",
          "text": [
            "[array([[1, 2, 3]]), array([[4, 5, 6]])]\n"
          ]
        }
      ],
      "source": [
        "# 4) python_1 변수에 행을 기준으로 2등분 쪼개어 출력\n",
        "# [2,3] => [1,3] 데이터 2개로 등분\n",
        "print(np.vsplit(python_1, 2))"
      ]
    }
  ],
  "metadata": {
    "colab": {
      "provenance": []
    },
    "kernelspec": {
      "display_name": "Python 3",
      "name": "python3"
    },
    "language_info": {
      "name": "python"
    }
  },
  "nbformat": 4,
  "nbformat_minor": 0
}