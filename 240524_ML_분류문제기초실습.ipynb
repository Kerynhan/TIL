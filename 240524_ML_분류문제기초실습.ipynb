{
  "nbformat": 4,
  "nbformat_minor": 0,
  "metadata": {
    "colab": {
      "provenance": [],
      "toc_visible": true,
      "authorship_tag": "ABX9TyNhQSgOaozGsoIwJiVTV+7f"
    },
    "kernelspec": {
      "name": "python3",
      "display_name": "Python 3"
    },
    "language_info": {
      "name": "python"
    }
  },
  "cells": [
    {
      "cell_type": "markdown",
      "source": [
        "# 예제 데이터로 암 진단 분류하기"
      ],
      "metadata": {
        "id": "aBZ8xPlkpO5Y"
      }
    },
    {
      "cell_type": "markdown",
      "source": [
        "# 1.라이브러리 임포트"
      ],
      "metadata": {
        "id": "2yvOhCRZo5Zq"
      }
    },
    {
      "cell_type": "code",
      "execution_count": 37,
      "metadata": {
        "id": "QOUHaqmKohTZ"
      },
      "outputs": [],
      "source": [
        "import numpy as np\n",
        "import pandas as pd\n",
        "import matplotlib.pyplot as plt\n",
        "\n",
        "from sklearn.model_selection import train_test_split\n",
        "from sklearn.preprocessing import StandardScaler #졍규화\n",
        "from sklearn.linear_model import LogisticRegression #분류모델인데, 회귀인 듯 하는?\n",
        "\n",
        "from sklearn.metrics import accuracy_score , confusion_matrix , classification_report\n"
      ]
    },
    {
      "cell_type": "markdown",
      "source": [
        "# 2.예시 데이터 생성"
      ],
      "metadata": {
        "id": "VN_FCQCPo9Jv"
      }
    },
    {
      "cell_type": "code",
      "source": [
        "np.random.seed(42)\n",
        "data_size = 300  #행 수\n",
        "features = 10 #변수\n",
        "\n",
        "# randn() : 정규분포(평균0, 표준편차1) 안에서 0,1 사이 난수 생성, ()안에는 shape\n",
        "X = np.random.randn(data_size,features) #300, 10\n",
        "y = (np.random.randn(data_size) > 0.5).astype(int)\n",
        "\n",
        "#위에서 생성된 numpy array를 데이터 프레임으로 변경 예정, feature에 이름 부여\n",
        "columns = [f\"feature{i}\" for i in range(features)] # features 10개에 해당하는 만큼, 0~9"
      ],
      "metadata": {
        "id": "uWr0-4MjpAXq"
      },
      "execution_count": 38,
      "outputs": []
    },
    {
      "cell_type": "code",
      "source": [
        "columns"
      ],
      "metadata": {
        "colab": {
          "base_uri": "https://localhost:8080/"
        },
        "id": "a-DK4-yvsT2h",
        "outputId": "ab9fc278-9732-40a4-cb96-71dc43db4238"
      },
      "execution_count": 39,
      "outputs": [
        {
          "output_type": "execute_result",
          "data": {
            "text/plain": [
              "['feature0',\n",
              " 'feature1',\n",
              " 'feature2',\n",
              " 'feature3',\n",
              " 'feature4',\n",
              " 'feature5',\n",
              " 'feature6',\n",
              " 'feature7',\n",
              " 'feature8',\n",
              " 'feature9']"
            ]
          },
          "metadata": {},
          "execution_count": 39
        }
      ]
    },
    {
      "cell_type": "code",
      "source": [
        "#pd.DataFrame(X,y)\n",
        "df = pd.DataFrame(X, columns=columns)\n",
        "df.head()"
      ],
      "metadata": {
        "colab": {
          "base_uri": "https://localhost:8080/",
          "height": 226
        },
        "id": "8y4O60HBsiij",
        "outputId": "4969b29e-aec1-4ce7-ece8-f25adfbc1fae"
      },
      "execution_count": 40,
      "outputs": [
        {
          "output_type": "execute_result",
          "data": {
            "text/plain": [
              "   feature0  feature1  feature2  feature3  feature4  feature5  feature6  \\\n",
              "0  0.496714 -0.138264  0.647689  1.523030 -0.234153 -0.234137  1.579213   \n",
              "1 -0.463418 -0.465730  0.241962 -1.913280 -1.724918 -0.562288 -1.012831   \n",
              "2  1.465649 -0.225776  0.067528 -1.424748 -0.544383  0.110923 -1.150994   \n",
              "3 -0.601707  1.852278 -0.013497 -1.057711  0.822545 -1.220844  0.208864   \n",
              "4  0.738467  0.171368 -0.115648 -0.301104 -1.478522 -0.719844 -0.460639   \n",
              "\n",
              "   feature7  feature8  feature9  \n",
              "0  0.767435 -0.469474  0.542560  \n",
              "1  0.314247 -0.908024 -1.412304  \n",
              "2  0.375698 -0.600639 -0.291694  \n",
              "3 -1.959670 -1.328186  0.196861  \n",
              "4  1.057122  0.343618 -1.763040  "
            ],
            "text/html": [
              "\n",
              "  <div id=\"df-44548c68-f53c-42bb-b960-cb667ab6bfc2\" class=\"colab-df-container\">\n",
              "    <div>\n",
              "<style scoped>\n",
              "    .dataframe tbody tr th:only-of-type {\n",
              "        vertical-align: middle;\n",
              "    }\n",
              "\n",
              "    .dataframe tbody tr th {\n",
              "        vertical-align: top;\n",
              "    }\n",
              "\n",
              "    .dataframe thead th {\n",
              "        text-align: right;\n",
              "    }\n",
              "</style>\n",
              "<table border=\"1\" class=\"dataframe\">\n",
              "  <thead>\n",
              "    <tr style=\"text-align: right;\">\n",
              "      <th></th>\n",
              "      <th>feature0</th>\n",
              "      <th>feature1</th>\n",
              "      <th>feature2</th>\n",
              "      <th>feature3</th>\n",
              "      <th>feature4</th>\n",
              "      <th>feature5</th>\n",
              "      <th>feature6</th>\n",
              "      <th>feature7</th>\n",
              "      <th>feature8</th>\n",
              "      <th>feature9</th>\n",
              "    </tr>\n",
              "  </thead>\n",
              "  <tbody>\n",
              "    <tr>\n",
              "      <th>0</th>\n",
              "      <td>0.496714</td>\n",
              "      <td>-0.138264</td>\n",
              "      <td>0.647689</td>\n",
              "      <td>1.523030</td>\n",
              "      <td>-0.234153</td>\n",
              "      <td>-0.234137</td>\n",
              "      <td>1.579213</td>\n",
              "      <td>0.767435</td>\n",
              "      <td>-0.469474</td>\n",
              "      <td>0.542560</td>\n",
              "    </tr>\n",
              "    <tr>\n",
              "      <th>1</th>\n",
              "      <td>-0.463418</td>\n",
              "      <td>-0.465730</td>\n",
              "      <td>0.241962</td>\n",
              "      <td>-1.913280</td>\n",
              "      <td>-1.724918</td>\n",
              "      <td>-0.562288</td>\n",
              "      <td>-1.012831</td>\n",
              "      <td>0.314247</td>\n",
              "      <td>-0.908024</td>\n",
              "      <td>-1.412304</td>\n",
              "    </tr>\n",
              "    <tr>\n",
              "      <th>2</th>\n",
              "      <td>1.465649</td>\n",
              "      <td>-0.225776</td>\n",
              "      <td>0.067528</td>\n",
              "      <td>-1.424748</td>\n",
              "      <td>-0.544383</td>\n",
              "      <td>0.110923</td>\n",
              "      <td>-1.150994</td>\n",
              "      <td>0.375698</td>\n",
              "      <td>-0.600639</td>\n",
              "      <td>-0.291694</td>\n",
              "    </tr>\n",
              "    <tr>\n",
              "      <th>3</th>\n",
              "      <td>-0.601707</td>\n",
              "      <td>1.852278</td>\n",
              "      <td>-0.013497</td>\n",
              "      <td>-1.057711</td>\n",
              "      <td>0.822545</td>\n",
              "      <td>-1.220844</td>\n",
              "      <td>0.208864</td>\n",
              "      <td>-1.959670</td>\n",
              "      <td>-1.328186</td>\n",
              "      <td>0.196861</td>\n",
              "    </tr>\n",
              "    <tr>\n",
              "      <th>4</th>\n",
              "      <td>0.738467</td>\n",
              "      <td>0.171368</td>\n",
              "      <td>-0.115648</td>\n",
              "      <td>-0.301104</td>\n",
              "      <td>-1.478522</td>\n",
              "      <td>-0.719844</td>\n",
              "      <td>-0.460639</td>\n",
              "      <td>1.057122</td>\n",
              "      <td>0.343618</td>\n",
              "      <td>-1.763040</td>\n",
              "    </tr>\n",
              "  </tbody>\n",
              "</table>\n",
              "</div>\n",
              "    <div class=\"colab-df-buttons\">\n",
              "\n",
              "  <div class=\"colab-df-container\">\n",
              "    <button class=\"colab-df-convert\" onclick=\"convertToInteractive('df-44548c68-f53c-42bb-b960-cb667ab6bfc2')\"\n",
              "            title=\"Convert this dataframe to an interactive table.\"\n",
              "            style=\"display:none;\">\n",
              "\n",
              "  <svg xmlns=\"http://www.w3.org/2000/svg\" height=\"24px\" viewBox=\"0 -960 960 960\">\n",
              "    <path d=\"M120-120v-720h720v720H120Zm60-500h600v-160H180v160Zm220 220h160v-160H400v160Zm0 220h160v-160H400v160ZM180-400h160v-160H180v160Zm440 0h160v-160H620v160ZM180-180h160v-160H180v160Zm440 0h160v-160H620v160Z\"/>\n",
              "  </svg>\n",
              "    </button>\n",
              "\n",
              "  <style>\n",
              "    .colab-df-container {\n",
              "      display:flex;\n",
              "      gap: 12px;\n",
              "    }\n",
              "\n",
              "    .colab-df-convert {\n",
              "      background-color: #E8F0FE;\n",
              "      border: none;\n",
              "      border-radius: 50%;\n",
              "      cursor: pointer;\n",
              "      display: none;\n",
              "      fill: #1967D2;\n",
              "      height: 32px;\n",
              "      padding: 0 0 0 0;\n",
              "      width: 32px;\n",
              "    }\n",
              "\n",
              "    .colab-df-convert:hover {\n",
              "      background-color: #E2EBFA;\n",
              "      box-shadow: 0px 1px 2px rgba(60, 64, 67, 0.3), 0px 1px 3px 1px rgba(60, 64, 67, 0.15);\n",
              "      fill: #174EA6;\n",
              "    }\n",
              "\n",
              "    .colab-df-buttons div {\n",
              "      margin-bottom: 4px;\n",
              "    }\n",
              "\n",
              "    [theme=dark] .colab-df-convert {\n",
              "      background-color: #3B4455;\n",
              "      fill: #D2E3FC;\n",
              "    }\n",
              "\n",
              "    [theme=dark] .colab-df-convert:hover {\n",
              "      background-color: #434B5C;\n",
              "      box-shadow: 0px 1px 3px 1px rgba(0, 0, 0, 0.15);\n",
              "      filter: drop-shadow(0px 1px 2px rgba(0, 0, 0, 0.3));\n",
              "      fill: #FFFFFF;\n",
              "    }\n",
              "  </style>\n",
              "\n",
              "    <script>\n",
              "      const buttonEl =\n",
              "        document.querySelector('#df-44548c68-f53c-42bb-b960-cb667ab6bfc2 button.colab-df-convert');\n",
              "      buttonEl.style.display =\n",
              "        google.colab.kernel.accessAllowed ? 'block' : 'none';\n",
              "\n",
              "      async function convertToInteractive(key) {\n",
              "        const element = document.querySelector('#df-44548c68-f53c-42bb-b960-cb667ab6bfc2');\n",
              "        const dataTable =\n",
              "          await google.colab.kernel.invokeFunction('convertToInteractive',\n",
              "                                                    [key], {});\n",
              "        if (!dataTable) return;\n",
              "\n",
              "        const docLinkHtml = 'Like what you see? Visit the ' +\n",
              "          '<a target=\"_blank\" href=https://colab.research.google.com/notebooks/data_table.ipynb>data table notebook</a>'\n",
              "          + ' to learn more about interactive tables.';\n",
              "        element.innerHTML = '';\n",
              "        dataTable['output_type'] = 'display_data';\n",
              "        await google.colab.output.renderOutput(dataTable, element);\n",
              "        const docLink = document.createElement('div');\n",
              "        docLink.innerHTML = docLinkHtml;\n",
              "        element.appendChild(docLink);\n",
              "      }\n",
              "    </script>\n",
              "  </div>\n",
              "\n",
              "\n",
              "<div id=\"df-76888292-594e-4631-958b-90f17a183dd6\">\n",
              "  <button class=\"colab-df-quickchart\" onclick=\"quickchart('df-76888292-594e-4631-958b-90f17a183dd6')\"\n",
              "            title=\"Suggest charts\"\n",
              "            style=\"display:none;\">\n",
              "\n",
              "<svg xmlns=\"http://www.w3.org/2000/svg\" height=\"24px\"viewBox=\"0 0 24 24\"\n",
              "     width=\"24px\">\n",
              "    <g>\n",
              "        <path d=\"M19 3H5c-1.1 0-2 .9-2 2v14c0 1.1.9 2 2 2h14c1.1 0 2-.9 2-2V5c0-1.1-.9-2-2-2zM9 17H7v-7h2v7zm4 0h-2V7h2v10zm4 0h-2v-4h2v4z\"/>\n",
              "    </g>\n",
              "</svg>\n",
              "  </button>\n",
              "\n",
              "<style>\n",
              "  .colab-df-quickchart {\n",
              "      --bg-color: #E8F0FE;\n",
              "      --fill-color: #1967D2;\n",
              "      --hover-bg-color: #E2EBFA;\n",
              "      --hover-fill-color: #174EA6;\n",
              "      --disabled-fill-color: #AAA;\n",
              "      --disabled-bg-color: #DDD;\n",
              "  }\n",
              "\n",
              "  [theme=dark] .colab-df-quickchart {\n",
              "      --bg-color: #3B4455;\n",
              "      --fill-color: #D2E3FC;\n",
              "      --hover-bg-color: #434B5C;\n",
              "      --hover-fill-color: #FFFFFF;\n",
              "      --disabled-bg-color: #3B4455;\n",
              "      --disabled-fill-color: #666;\n",
              "  }\n",
              "\n",
              "  .colab-df-quickchart {\n",
              "    background-color: var(--bg-color);\n",
              "    border: none;\n",
              "    border-radius: 50%;\n",
              "    cursor: pointer;\n",
              "    display: none;\n",
              "    fill: var(--fill-color);\n",
              "    height: 32px;\n",
              "    padding: 0;\n",
              "    width: 32px;\n",
              "  }\n",
              "\n",
              "  .colab-df-quickchart:hover {\n",
              "    background-color: var(--hover-bg-color);\n",
              "    box-shadow: 0 1px 2px rgba(60, 64, 67, 0.3), 0 1px 3px 1px rgba(60, 64, 67, 0.15);\n",
              "    fill: var(--button-hover-fill-color);\n",
              "  }\n",
              "\n",
              "  .colab-df-quickchart-complete:disabled,\n",
              "  .colab-df-quickchart-complete:disabled:hover {\n",
              "    background-color: var(--disabled-bg-color);\n",
              "    fill: var(--disabled-fill-color);\n",
              "    box-shadow: none;\n",
              "  }\n",
              "\n",
              "  .colab-df-spinner {\n",
              "    border: 2px solid var(--fill-color);\n",
              "    border-color: transparent;\n",
              "    border-bottom-color: var(--fill-color);\n",
              "    animation:\n",
              "      spin 1s steps(1) infinite;\n",
              "  }\n",
              "\n",
              "  @keyframes spin {\n",
              "    0% {\n",
              "      border-color: transparent;\n",
              "      border-bottom-color: var(--fill-color);\n",
              "      border-left-color: var(--fill-color);\n",
              "    }\n",
              "    20% {\n",
              "      border-color: transparent;\n",
              "      border-left-color: var(--fill-color);\n",
              "      border-top-color: var(--fill-color);\n",
              "    }\n",
              "    30% {\n",
              "      border-color: transparent;\n",
              "      border-left-color: var(--fill-color);\n",
              "      border-top-color: var(--fill-color);\n",
              "      border-right-color: var(--fill-color);\n",
              "    }\n",
              "    40% {\n",
              "      border-color: transparent;\n",
              "      border-right-color: var(--fill-color);\n",
              "      border-top-color: var(--fill-color);\n",
              "    }\n",
              "    60% {\n",
              "      border-color: transparent;\n",
              "      border-right-color: var(--fill-color);\n",
              "    }\n",
              "    80% {\n",
              "      border-color: transparent;\n",
              "      border-right-color: var(--fill-color);\n",
              "      border-bottom-color: var(--fill-color);\n",
              "    }\n",
              "    90% {\n",
              "      border-color: transparent;\n",
              "      border-bottom-color: var(--fill-color);\n",
              "    }\n",
              "  }\n",
              "</style>\n",
              "\n",
              "  <script>\n",
              "    async function quickchart(key) {\n",
              "      const quickchartButtonEl =\n",
              "        document.querySelector('#' + key + ' button');\n",
              "      quickchartButtonEl.disabled = true;  // To prevent multiple clicks.\n",
              "      quickchartButtonEl.classList.add('colab-df-spinner');\n",
              "      try {\n",
              "        const charts = await google.colab.kernel.invokeFunction(\n",
              "            'suggestCharts', [key], {});\n",
              "      } catch (error) {\n",
              "        console.error('Error during call to suggestCharts:', error);\n",
              "      }\n",
              "      quickchartButtonEl.classList.remove('colab-df-spinner');\n",
              "      quickchartButtonEl.classList.add('colab-df-quickchart-complete');\n",
              "    }\n",
              "    (() => {\n",
              "      let quickchartButtonEl =\n",
              "        document.querySelector('#df-76888292-594e-4631-958b-90f17a183dd6 button');\n",
              "      quickchartButtonEl.style.display =\n",
              "        google.colab.kernel.accessAllowed ? 'block' : 'none';\n",
              "    })();\n",
              "  </script>\n",
              "</div>\n",
              "\n",
              "    </div>\n",
              "  </div>\n"
            ],
            "application/vnd.google.colaboratory.intrinsic+json": {
              "type": "dataframe",
              "variable_name": "df",
              "summary": "{\n  \"name\": \"df\",\n  \"rows\": 300,\n  \"fields\": [\n    {\n      \"column\": \"feature0\",\n      \"properties\": {\n        \"dtype\": \"number\",\n        \"std\": 0.9243224116383388,\n        \"min\": -2.703232292999237,\n        \"max\": 2.5269324258736217,\n        \"num_unique_values\": 300,\n        \"samples\": [\n          0.8071225966373103,\n          -1.1755946056248516,\n          1.221033695525353\n        ],\n        \"semantic_type\": \"\",\n        \"description\": \"\"\n      }\n    },\n    {\n      \"column\": \"feature1\",\n      \"properties\": {\n        \"dtype\": \"number\",\n        \"std\": 1.0769220812640625,\n        \"min\": -2.9403886346642802,\n        \"max\": 2.98525900260341,\n        \"num_unique_values\": 300,\n        \"samples\": [\n          -0.9735461997044687,\n          -0.8950698422766047,\n          0.5820977034686158\n        ],\n        \"semantic_type\": \"\",\n        \"description\": \"\"\n      }\n    },\n    {\n      \"column\": \"feature2\",\n      \"properties\": {\n        \"dtype\": \"number\",\n        \"std\": 0.959008389744319,\n        \"min\": -3.2412673400690726,\n        \"max\": 2.5600845382687947,\n        \"num_unique_values\": 300,\n        \"samples\": [\n          0.47635776935621926,\n          0.5972282182533848,\n          -0.22648409884983192\n        ],\n        \"semantic_type\": \"\",\n        \"description\": \"\"\n      }\n    },\n    {\n      \"column\": \"feature3\",\n      \"properties\": {\n        \"dtype\": \"number\",\n        \"std\": 0.9618963658971483,\n        \"min\": -2.296180953137238,\n        \"max\": 2.601683114180395,\n        \"num_unique_values\": 300,\n        \"samples\": [\n          0.5054701591666269,\n          -0.9483480042242007,\n          -0.9594392367234797\n        ],\n        \"semantic_type\": \"\",\n        \"description\": \"\"\n      }\n    },\n    {\n      \"column\": \"feature4\",\n      \"properties\": {\n        \"dtype\": \"number\",\n        \"std\": 1.0316748245249612,\n        \"min\": -3.0195121558208253,\n        \"max\": 2.6443433470170348,\n        \"num_unique_values\": 300,\n        \"samples\": [\n          1.0602099074988798,\n          0.46320629209912306,\n          -0.372206776071053\n        ],\n        \"semantic_type\": \"\",\n        \"description\": \"\"\n      }\n    },\n    {\n      \"column\": \"feature5\",\n      \"properties\": {\n        \"dtype\": \"number\",\n        \"std\": 1.0460483545297938,\n        \"min\": -2.59104229214491,\n        \"max\": 3.9262377064363267,\n        \"num_unique_values\": 300,\n        \"samples\": [\n          2.7596600389110777,\n          -1.3671378064602457,\n          1.088748619704186\n        ],\n        \"semantic_type\": \"\",\n        \"description\": \"\"\n      }\n    },\n    {\n      \"column\": \"feature6\",\n      \"properties\": {\n        \"dtype\": \"number\",\n        \"std\": 1.0017855077400366,\n        \"min\": -2.6968866429415717,\n        \"max\": 2.9490944253087252,\n        \"num_unique_values\": 300,\n        \"samples\": [\n          0.39241596717876703,\n          0.8481742126666681,\n          1.884586305934609\n        ],\n        \"semantic_type\": \"\",\n        \"description\": \"\"\n      }\n    },\n    {\n      \"column\": \"feature7\",\n      \"properties\": {\n        \"dtype\": \"number\",\n        \"std\": 0.9538434806552214,\n        \"min\": -2.9911359709007233,\n        \"max\": 3.1377485336599937,\n        \"num_unique_values\": 300,\n        \"samples\": [\n          -0.5089636257074988,\n          -1.232523314768509,\n          1.543243528272189\n        ],\n        \"semantic_type\": \"\",\n        \"description\": \"\"\n      }\n    },\n    {\n      \"column\": \"feature8\",\n      \"properties\": {\n        \"dtype\": \"number\",\n        \"std\": 0.9241920578041409,\n        \"min\": -2.650969808393012,\n        \"max\": 3.0788808084552377,\n        \"num_unique_values\": 300,\n        \"samples\": [\n          -0.025574312191994436,\n          0.5522999376795232,\n          -0.4888494217862741\n        ],\n        \"semantic_type\": \"\",\n        \"description\": \"\"\n      }\n    },\n    {\n      \"column\": \"feature9\",\n      \"properties\": {\n        \"dtype\": \"number\",\n        \"std\": 0.9770142392181375,\n        \"min\": -2.8722622132816493,\n        \"max\": 3.852731490654721,\n        \"num_unique_values\": 300,\n        \"samples\": [\n          -1.7690759048891183,\n          0.6256309336460009,\n          -1.1196174332890112\n        ],\n        \"semantic_type\": \"\",\n        \"description\": \"\"\n      }\n    }\n  ]\n}"
            }
          },
          "metadata": {},
          "execution_count": 40
        }
      ]
    },
    {
      "cell_type": "code",
      "source": [
        "df['label'] = y"
      ],
      "metadata": {
        "id": "e0h6EuQOtBRJ"
      },
      "execution_count": 41,
      "outputs": []
    },
    {
      "cell_type": "code",
      "source": [
        "df.head()"
      ],
      "metadata": {
        "colab": {
          "base_uri": "https://localhost:8080/",
          "height": 226
        },
        "id": "Y2SLVjNstZUV",
        "outputId": "680c83e0-3d7d-4553-a7c3-141ac917a1f8"
      },
      "execution_count": 42,
      "outputs": [
        {
          "output_type": "execute_result",
          "data": {
            "text/plain": [
              "   feature0  feature1  feature2  feature3  feature4  feature5  feature6  \\\n",
              "0  0.496714 -0.138264  0.647689  1.523030 -0.234153 -0.234137  1.579213   \n",
              "1 -0.463418 -0.465730  0.241962 -1.913280 -1.724918 -0.562288 -1.012831   \n",
              "2  1.465649 -0.225776  0.067528 -1.424748 -0.544383  0.110923 -1.150994   \n",
              "3 -0.601707  1.852278 -0.013497 -1.057711  0.822545 -1.220844  0.208864   \n",
              "4  0.738467  0.171368 -0.115648 -0.301104 -1.478522 -0.719844 -0.460639   \n",
              "\n",
              "   feature7  feature8  feature9  label  \n",
              "0  0.767435 -0.469474  0.542560      0  \n",
              "1  0.314247 -0.908024 -1.412304      0  \n",
              "2  0.375698 -0.600639 -0.291694      0  \n",
              "3 -1.959670 -1.328186  0.196861      1  \n",
              "4  1.057122  0.343618 -1.763040      1  "
            ],
            "text/html": [
              "\n",
              "  <div id=\"df-4b682023-24df-48ff-894c-b5f501272dea\" class=\"colab-df-container\">\n",
              "    <div>\n",
              "<style scoped>\n",
              "    .dataframe tbody tr th:only-of-type {\n",
              "        vertical-align: middle;\n",
              "    }\n",
              "\n",
              "    .dataframe tbody tr th {\n",
              "        vertical-align: top;\n",
              "    }\n",
              "\n",
              "    .dataframe thead th {\n",
              "        text-align: right;\n",
              "    }\n",
              "</style>\n",
              "<table border=\"1\" class=\"dataframe\">\n",
              "  <thead>\n",
              "    <tr style=\"text-align: right;\">\n",
              "      <th></th>\n",
              "      <th>feature0</th>\n",
              "      <th>feature1</th>\n",
              "      <th>feature2</th>\n",
              "      <th>feature3</th>\n",
              "      <th>feature4</th>\n",
              "      <th>feature5</th>\n",
              "      <th>feature6</th>\n",
              "      <th>feature7</th>\n",
              "      <th>feature8</th>\n",
              "      <th>feature9</th>\n",
              "      <th>label</th>\n",
              "    </tr>\n",
              "  </thead>\n",
              "  <tbody>\n",
              "    <tr>\n",
              "      <th>0</th>\n",
              "      <td>0.496714</td>\n",
              "      <td>-0.138264</td>\n",
              "      <td>0.647689</td>\n",
              "      <td>1.523030</td>\n",
              "      <td>-0.234153</td>\n",
              "      <td>-0.234137</td>\n",
              "      <td>1.579213</td>\n",
              "      <td>0.767435</td>\n",
              "      <td>-0.469474</td>\n",
              "      <td>0.542560</td>\n",
              "      <td>0</td>\n",
              "    </tr>\n",
              "    <tr>\n",
              "      <th>1</th>\n",
              "      <td>-0.463418</td>\n",
              "      <td>-0.465730</td>\n",
              "      <td>0.241962</td>\n",
              "      <td>-1.913280</td>\n",
              "      <td>-1.724918</td>\n",
              "      <td>-0.562288</td>\n",
              "      <td>-1.012831</td>\n",
              "      <td>0.314247</td>\n",
              "      <td>-0.908024</td>\n",
              "      <td>-1.412304</td>\n",
              "      <td>0</td>\n",
              "    </tr>\n",
              "    <tr>\n",
              "      <th>2</th>\n",
              "      <td>1.465649</td>\n",
              "      <td>-0.225776</td>\n",
              "      <td>0.067528</td>\n",
              "      <td>-1.424748</td>\n",
              "      <td>-0.544383</td>\n",
              "      <td>0.110923</td>\n",
              "      <td>-1.150994</td>\n",
              "      <td>0.375698</td>\n",
              "      <td>-0.600639</td>\n",
              "      <td>-0.291694</td>\n",
              "      <td>0</td>\n",
              "    </tr>\n",
              "    <tr>\n",
              "      <th>3</th>\n",
              "      <td>-0.601707</td>\n",
              "      <td>1.852278</td>\n",
              "      <td>-0.013497</td>\n",
              "      <td>-1.057711</td>\n",
              "      <td>0.822545</td>\n",
              "      <td>-1.220844</td>\n",
              "      <td>0.208864</td>\n",
              "      <td>-1.959670</td>\n",
              "      <td>-1.328186</td>\n",
              "      <td>0.196861</td>\n",
              "      <td>1</td>\n",
              "    </tr>\n",
              "    <tr>\n",
              "      <th>4</th>\n",
              "      <td>0.738467</td>\n",
              "      <td>0.171368</td>\n",
              "      <td>-0.115648</td>\n",
              "      <td>-0.301104</td>\n",
              "      <td>-1.478522</td>\n",
              "      <td>-0.719844</td>\n",
              "      <td>-0.460639</td>\n",
              "      <td>1.057122</td>\n",
              "      <td>0.343618</td>\n",
              "      <td>-1.763040</td>\n",
              "      <td>1</td>\n",
              "    </tr>\n",
              "  </tbody>\n",
              "</table>\n",
              "</div>\n",
              "    <div class=\"colab-df-buttons\">\n",
              "\n",
              "  <div class=\"colab-df-container\">\n",
              "    <button class=\"colab-df-convert\" onclick=\"convertToInteractive('df-4b682023-24df-48ff-894c-b5f501272dea')\"\n",
              "            title=\"Convert this dataframe to an interactive table.\"\n",
              "            style=\"display:none;\">\n",
              "\n",
              "  <svg xmlns=\"http://www.w3.org/2000/svg\" height=\"24px\" viewBox=\"0 -960 960 960\">\n",
              "    <path d=\"M120-120v-720h720v720H120Zm60-500h600v-160H180v160Zm220 220h160v-160H400v160Zm0 220h160v-160H400v160ZM180-400h160v-160H180v160Zm440 0h160v-160H620v160ZM180-180h160v-160H180v160Zm440 0h160v-160H620v160Z\"/>\n",
              "  </svg>\n",
              "    </button>\n",
              "\n",
              "  <style>\n",
              "    .colab-df-container {\n",
              "      display:flex;\n",
              "      gap: 12px;\n",
              "    }\n",
              "\n",
              "    .colab-df-convert {\n",
              "      background-color: #E8F0FE;\n",
              "      border: none;\n",
              "      border-radius: 50%;\n",
              "      cursor: pointer;\n",
              "      display: none;\n",
              "      fill: #1967D2;\n",
              "      height: 32px;\n",
              "      padding: 0 0 0 0;\n",
              "      width: 32px;\n",
              "    }\n",
              "\n",
              "    .colab-df-convert:hover {\n",
              "      background-color: #E2EBFA;\n",
              "      box-shadow: 0px 1px 2px rgba(60, 64, 67, 0.3), 0px 1px 3px 1px rgba(60, 64, 67, 0.15);\n",
              "      fill: #174EA6;\n",
              "    }\n",
              "\n",
              "    .colab-df-buttons div {\n",
              "      margin-bottom: 4px;\n",
              "    }\n",
              "\n",
              "    [theme=dark] .colab-df-convert {\n",
              "      background-color: #3B4455;\n",
              "      fill: #D2E3FC;\n",
              "    }\n",
              "\n",
              "    [theme=dark] .colab-df-convert:hover {\n",
              "      background-color: #434B5C;\n",
              "      box-shadow: 0px 1px 3px 1px rgba(0, 0, 0, 0.15);\n",
              "      filter: drop-shadow(0px 1px 2px rgba(0, 0, 0, 0.3));\n",
              "      fill: #FFFFFF;\n",
              "    }\n",
              "  </style>\n",
              "\n",
              "    <script>\n",
              "      const buttonEl =\n",
              "        document.querySelector('#df-4b682023-24df-48ff-894c-b5f501272dea button.colab-df-convert');\n",
              "      buttonEl.style.display =\n",
              "        google.colab.kernel.accessAllowed ? 'block' : 'none';\n",
              "\n",
              "      async function convertToInteractive(key) {\n",
              "        const element = document.querySelector('#df-4b682023-24df-48ff-894c-b5f501272dea');\n",
              "        const dataTable =\n",
              "          await google.colab.kernel.invokeFunction('convertToInteractive',\n",
              "                                                    [key], {});\n",
              "        if (!dataTable) return;\n",
              "\n",
              "        const docLinkHtml = 'Like what you see? Visit the ' +\n",
              "          '<a target=\"_blank\" href=https://colab.research.google.com/notebooks/data_table.ipynb>data table notebook</a>'\n",
              "          + ' to learn more about interactive tables.';\n",
              "        element.innerHTML = '';\n",
              "        dataTable['output_type'] = 'display_data';\n",
              "        await google.colab.output.renderOutput(dataTable, element);\n",
              "        const docLink = document.createElement('div');\n",
              "        docLink.innerHTML = docLinkHtml;\n",
              "        element.appendChild(docLink);\n",
              "      }\n",
              "    </script>\n",
              "  </div>\n",
              "\n",
              "\n",
              "<div id=\"df-e83943e6-17db-490c-91c6-e6ea7c50fc7e\">\n",
              "  <button class=\"colab-df-quickchart\" onclick=\"quickchart('df-e83943e6-17db-490c-91c6-e6ea7c50fc7e')\"\n",
              "            title=\"Suggest charts\"\n",
              "            style=\"display:none;\">\n",
              "\n",
              "<svg xmlns=\"http://www.w3.org/2000/svg\" height=\"24px\"viewBox=\"0 0 24 24\"\n",
              "     width=\"24px\">\n",
              "    <g>\n",
              "        <path d=\"M19 3H5c-1.1 0-2 .9-2 2v14c0 1.1.9 2 2 2h14c1.1 0 2-.9 2-2V5c0-1.1-.9-2-2-2zM9 17H7v-7h2v7zm4 0h-2V7h2v10zm4 0h-2v-4h2v4z\"/>\n",
              "    </g>\n",
              "</svg>\n",
              "  </button>\n",
              "\n",
              "<style>\n",
              "  .colab-df-quickchart {\n",
              "      --bg-color: #E8F0FE;\n",
              "      --fill-color: #1967D2;\n",
              "      --hover-bg-color: #E2EBFA;\n",
              "      --hover-fill-color: #174EA6;\n",
              "      --disabled-fill-color: #AAA;\n",
              "      --disabled-bg-color: #DDD;\n",
              "  }\n",
              "\n",
              "  [theme=dark] .colab-df-quickchart {\n",
              "      --bg-color: #3B4455;\n",
              "      --fill-color: #D2E3FC;\n",
              "      --hover-bg-color: #434B5C;\n",
              "      --hover-fill-color: #FFFFFF;\n",
              "      --disabled-bg-color: #3B4455;\n",
              "      --disabled-fill-color: #666;\n",
              "  }\n",
              "\n",
              "  .colab-df-quickchart {\n",
              "    background-color: var(--bg-color);\n",
              "    border: none;\n",
              "    border-radius: 50%;\n",
              "    cursor: pointer;\n",
              "    display: none;\n",
              "    fill: var(--fill-color);\n",
              "    height: 32px;\n",
              "    padding: 0;\n",
              "    width: 32px;\n",
              "  }\n",
              "\n",
              "  .colab-df-quickchart:hover {\n",
              "    background-color: var(--hover-bg-color);\n",
              "    box-shadow: 0 1px 2px rgba(60, 64, 67, 0.3), 0 1px 3px 1px rgba(60, 64, 67, 0.15);\n",
              "    fill: var(--button-hover-fill-color);\n",
              "  }\n",
              "\n",
              "  .colab-df-quickchart-complete:disabled,\n",
              "  .colab-df-quickchart-complete:disabled:hover {\n",
              "    background-color: var(--disabled-bg-color);\n",
              "    fill: var(--disabled-fill-color);\n",
              "    box-shadow: none;\n",
              "  }\n",
              "\n",
              "  .colab-df-spinner {\n",
              "    border: 2px solid var(--fill-color);\n",
              "    border-color: transparent;\n",
              "    border-bottom-color: var(--fill-color);\n",
              "    animation:\n",
              "      spin 1s steps(1) infinite;\n",
              "  }\n",
              "\n",
              "  @keyframes spin {\n",
              "    0% {\n",
              "      border-color: transparent;\n",
              "      border-bottom-color: var(--fill-color);\n",
              "      border-left-color: var(--fill-color);\n",
              "    }\n",
              "    20% {\n",
              "      border-color: transparent;\n",
              "      border-left-color: var(--fill-color);\n",
              "      border-top-color: var(--fill-color);\n",
              "    }\n",
              "    30% {\n",
              "      border-color: transparent;\n",
              "      border-left-color: var(--fill-color);\n",
              "      border-top-color: var(--fill-color);\n",
              "      border-right-color: var(--fill-color);\n",
              "    }\n",
              "    40% {\n",
              "      border-color: transparent;\n",
              "      border-right-color: var(--fill-color);\n",
              "      border-top-color: var(--fill-color);\n",
              "    }\n",
              "    60% {\n",
              "      border-color: transparent;\n",
              "      border-right-color: var(--fill-color);\n",
              "    }\n",
              "    80% {\n",
              "      border-color: transparent;\n",
              "      border-right-color: var(--fill-color);\n",
              "      border-bottom-color: var(--fill-color);\n",
              "    }\n",
              "    90% {\n",
              "      border-color: transparent;\n",
              "      border-bottom-color: var(--fill-color);\n",
              "    }\n",
              "  }\n",
              "</style>\n",
              "\n",
              "  <script>\n",
              "    async function quickchart(key) {\n",
              "      const quickchartButtonEl =\n",
              "        document.querySelector('#' + key + ' button');\n",
              "      quickchartButtonEl.disabled = true;  // To prevent multiple clicks.\n",
              "      quickchartButtonEl.classList.add('colab-df-spinner');\n",
              "      try {\n",
              "        const charts = await google.colab.kernel.invokeFunction(\n",
              "            'suggestCharts', [key], {});\n",
              "      } catch (error) {\n",
              "        console.error('Error during call to suggestCharts:', error);\n",
              "      }\n",
              "      quickchartButtonEl.classList.remove('colab-df-spinner');\n",
              "      quickchartButtonEl.classList.add('colab-df-quickchart-complete');\n",
              "    }\n",
              "    (() => {\n",
              "      let quickchartButtonEl =\n",
              "        document.querySelector('#df-e83943e6-17db-490c-91c6-e6ea7c50fc7e button');\n",
              "      quickchartButtonEl.style.display =\n",
              "        google.colab.kernel.accessAllowed ? 'block' : 'none';\n",
              "    })();\n",
              "  </script>\n",
              "</div>\n",
              "\n",
              "    </div>\n",
              "  </div>\n"
            ],
            "application/vnd.google.colaboratory.intrinsic+json": {
              "type": "dataframe",
              "variable_name": "df",
              "summary": "{\n  \"name\": \"df\",\n  \"rows\": 300,\n  \"fields\": [\n    {\n      \"column\": \"feature0\",\n      \"properties\": {\n        \"dtype\": \"number\",\n        \"std\": 0.9243224116383388,\n        \"min\": -2.703232292999237,\n        \"max\": 2.5269324258736217,\n        \"num_unique_values\": 300,\n        \"samples\": [\n          0.8071225966373103,\n          -1.1755946056248516,\n          1.221033695525353\n        ],\n        \"semantic_type\": \"\",\n        \"description\": \"\"\n      }\n    },\n    {\n      \"column\": \"feature1\",\n      \"properties\": {\n        \"dtype\": \"number\",\n        \"std\": 1.0769220812640625,\n        \"min\": -2.9403886346642802,\n        \"max\": 2.98525900260341,\n        \"num_unique_values\": 300,\n        \"samples\": [\n          -0.9735461997044687,\n          -0.8950698422766047,\n          0.5820977034686158\n        ],\n        \"semantic_type\": \"\",\n        \"description\": \"\"\n      }\n    },\n    {\n      \"column\": \"feature2\",\n      \"properties\": {\n        \"dtype\": \"number\",\n        \"std\": 0.959008389744319,\n        \"min\": -3.2412673400690726,\n        \"max\": 2.5600845382687947,\n        \"num_unique_values\": 300,\n        \"samples\": [\n          0.47635776935621926,\n          0.5972282182533848,\n          -0.22648409884983192\n        ],\n        \"semantic_type\": \"\",\n        \"description\": \"\"\n      }\n    },\n    {\n      \"column\": \"feature3\",\n      \"properties\": {\n        \"dtype\": \"number\",\n        \"std\": 0.9618963658971483,\n        \"min\": -2.296180953137238,\n        \"max\": 2.601683114180395,\n        \"num_unique_values\": 300,\n        \"samples\": [\n          0.5054701591666269,\n          -0.9483480042242007,\n          -0.9594392367234797\n        ],\n        \"semantic_type\": \"\",\n        \"description\": \"\"\n      }\n    },\n    {\n      \"column\": \"feature4\",\n      \"properties\": {\n        \"dtype\": \"number\",\n        \"std\": 1.0316748245249612,\n        \"min\": -3.0195121558208253,\n        \"max\": 2.6443433470170348,\n        \"num_unique_values\": 300,\n        \"samples\": [\n          1.0602099074988798,\n          0.46320629209912306,\n          -0.372206776071053\n        ],\n        \"semantic_type\": \"\",\n        \"description\": \"\"\n      }\n    },\n    {\n      \"column\": \"feature5\",\n      \"properties\": {\n        \"dtype\": \"number\",\n        \"std\": 1.0460483545297938,\n        \"min\": -2.59104229214491,\n        \"max\": 3.9262377064363267,\n        \"num_unique_values\": 300,\n        \"samples\": [\n          2.7596600389110777,\n          -1.3671378064602457,\n          1.088748619704186\n        ],\n        \"semantic_type\": \"\",\n        \"description\": \"\"\n      }\n    },\n    {\n      \"column\": \"feature6\",\n      \"properties\": {\n        \"dtype\": \"number\",\n        \"std\": 1.0017855077400366,\n        \"min\": -2.6968866429415717,\n        \"max\": 2.9490944253087252,\n        \"num_unique_values\": 300,\n        \"samples\": [\n          0.39241596717876703,\n          0.8481742126666681,\n          1.884586305934609\n        ],\n        \"semantic_type\": \"\",\n        \"description\": \"\"\n      }\n    },\n    {\n      \"column\": \"feature7\",\n      \"properties\": {\n        \"dtype\": \"number\",\n        \"std\": 0.9538434806552214,\n        \"min\": -2.9911359709007233,\n        \"max\": 3.1377485336599937,\n        \"num_unique_values\": 300,\n        \"samples\": [\n          -0.5089636257074988,\n          -1.232523314768509,\n          1.543243528272189\n        ],\n        \"semantic_type\": \"\",\n        \"description\": \"\"\n      }\n    },\n    {\n      \"column\": \"feature8\",\n      \"properties\": {\n        \"dtype\": \"number\",\n        \"std\": 0.9241920578041409,\n        \"min\": -2.650969808393012,\n        \"max\": 3.0788808084552377,\n        \"num_unique_values\": 300,\n        \"samples\": [\n          -0.025574312191994436,\n          0.5522999376795232,\n          -0.4888494217862741\n        ],\n        \"semantic_type\": \"\",\n        \"description\": \"\"\n      }\n    },\n    {\n      \"column\": \"feature9\",\n      \"properties\": {\n        \"dtype\": \"number\",\n        \"std\": 0.9770142392181375,\n        \"min\": -2.8722622132816493,\n        \"max\": 3.852731490654721,\n        \"num_unique_values\": 300,\n        \"samples\": [\n          -1.7690759048891183,\n          0.6256309336460009,\n          -1.1196174332890112\n        ],\n        \"semantic_type\": \"\",\n        \"description\": \"\"\n      }\n    },\n    {\n      \"column\": \"label\",\n      \"properties\": {\n        \"dtype\": \"number\",\n        \"std\": 0,\n        \"min\": 0,\n        \"max\": 1,\n        \"num_unique_values\": 2,\n        \"samples\": [\n          1,\n          0\n        ],\n        \"semantic_type\": \"\",\n        \"description\": \"\"\n      }\n    }\n  ]\n}"
            }
          },
          "metadata": {},
          "execution_count": 42
        }
      ]
    },
    {
      "source": [
        "# @title feature0 vs feature1\n",
        "\n",
        "from matplotlib import pyplot as plt\n",
        "df.plot(kind='scatter', x='feature0', y='feature1', s=32, alpha=.8)\n",
        "plt.gca().spines[['top', 'right',]].set_visible(False)"
      ],
      "cell_type": "code",
      "execution_count": 72,
      "outputs": [
        {
          "output_type": "display_data",
          "data": {
            "text/plain": [
              "<Figure size 640x480 with 1 Axes>"
            ],
            "image/png": "[encoded data removed]"
          },
          "metadata": {}
        }
      ],
      "metadata": {
        "colab": {
          "base_uri": "https://localhost:8080/",
          "height": 449
        },
        "id": "wZ8NatddDfS6",
        "outputId": "3f02fe10-0bd2-4864-b139-89794b5c6fc2"
      }
    },
    {
      "cell_type": "markdown",
      "source": [
        "# 3.데이터 전처리\n",
        "모델에 들어갈 수 있는 형태로 바꿔줌\n",
        "\n",
        "X_train, X_test, y_train, y_test"
      ],
      "metadata": {
        "id": "oSQXRGTapAu7"
      }
    },
    {
      "cell_type": "code",
      "source": [
        "X_train, X_test, y_train, y_test = train_test_split(X, y, test_size=0.2, random_state=0)"
      ],
      "metadata": {
        "id": "VoGv38PMpC83"
      },
      "execution_count": 43,
      "outputs": []
    },
    {
      "cell_type": "code",
      "source": [
        "print(\"X_train shape : \", X_train.shape)\n",
        "print(\"X_test shape : \", X_test.shape)\n",
        "print(\"y_train shape : \", y_train.shape)\n",
        "print(\"y_test shape : \", y_test.shape)"
      ],
      "metadata": {
        "colab": {
          "base_uri": "https://localhost:8080/"
        },
        "id": "xWNjL0_OvuoA",
        "outputId": "ef0205ae-9893-4e43-b5b3-943670b5f129"
      },
      "execution_count": 44,
      "outputs": [
        {
          "output_type": "stream",
          "name": "stdout",
          "text": [
            "X_train shape :  (240, 10)\n",
            "X_test shape :  (60, 10)\n",
            "y_train shape :  (240,)\n",
            "y_test shape :  (60,)\n"
          ]
        }
      ]
    },
    {
      "cell_type": "markdown",
      "source": [
        "## 1. 정규화(Normalization):\n",
        "- 역할: 데이터의 스케일을 조정하여 각 특징(feature)이 같은 범위를 가지도록 하는 것입니다. 주로 0과 1 사이로 조정합니다.\n",
        "- 이유: 정규화는 경사하강법과 같은 최적화 알고리즘의 수렴 속도를 높이고, 특정 특징이 다른 특징보다 지나치게 큰 영향을 미치는 것을 방지합니다.\n",
        "- 방법: 일반적으로 Min-Max 정규화나 표준화(Z-Score)를 사용합니다.\n",
        "    1. Min-Max 정규화: 각 데이터 포인트의 값을 0과 1 사이로 변환합니다.\n",
        "\n",
        "![image.png](data:image/png;base64,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)\n",
        "\n",
        "    2. 표준화(Z-Score): 데이터 포인트를 평균이 0이고 표준 편차가 1이 되도록 변환합니다\n",
        "\n",
        "![image.png](data:image/png;base64,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)\n",
        "\n",
        "    - 여기서 𝜇는 평균,  는 표준 편차입니다."
      ],
      "metadata": {
        "id": "ciAQ--ZYxPtW"
      }
    },
    {
      "cell_type": "markdown",
      "source": [
        "## 2. fit 해준다는 것:\n",
        "- 역할: 모델이 주어진 데이터에 맞춰지도록 매개변수를 조정하는 과정입니다.\n",
        "- 과정:\n",
        "    - 모델에 데이터를 입력하여 손실 함수의 값을 계산합니다.\n",
        "    - 손실 함수를 최소화하도록 모델의 매개변수를 조정합니다.\n",
        "    - 이 과정을 여러 번 반복하여 최적의 매개변수를 찾습니다."
      ],
      "metadata": {
        "id": "pQXbaD8ayu_N"
      }
    },
    {
      "cell_type": "markdown",
      "source": [
        "[정리]\n",
        "- 정규화: 데이터의 범위를 조정하여 학습 과정에서 효율적으로 사용되도록 하는 과정입니다.\n",
        "- fit: 모델이 주어진 학습 데이터를 통해 매개변수를 최적화하는 과정입니다. 이를 통해 모델은 입력 데이터와 타겟 간의 관계를 학습하고 예측 능력을 갖추게 됩니다."
      ],
      "metadata": {
        "id": "MNWyAaa70DN3"
      }
    },
    {
      "cell_type": "code",
      "source": [
        "# 데이터 정규화\n",
        "scaler = StandardScaler()\n",
        "# 학습, 변환 후 정규화\n",
        "X_train_scaled = scaler.fit_transform(X_train) # fit_transform: 학습과 변환 동시에"
      ],
      "metadata": {
        "id": "vxY-WU6fwcK7"
      },
      "execution_count": 45,
      "outputs": []
    },
    {
      "cell_type": "code",
      "source": [
        "X_train[0]"
      ],
      "metadata": {
        "colab": {
          "base_uri": "https://localhost:8080/"
        },
        "id": "1yl93NuH1WHM",
        "outputId": "b347f898-dd49-4770-fb7e-bae77b18da14"
      },
      "execution_count": 46,
      "outputs": [
        {
          "output_type": "execute_result",
          "data": {
            "text/plain": [
              "array([ 0.16057398,  0.00304602,  0.43693817,  1.19064627,  0.94955414,\n",
              "       -1.48489797, -2.55392113,  0.93431991, -1.3668787 , -0.2247654 ])"
            ]
          },
          "metadata": {},
          "execution_count": 46
        }
      ]
    },
    {
      "cell_type": "code",
      "source": [
        "#X_train_scaled[:10]\n",
        "X_train_scaled[0]"
      ],
      "metadata": {
        "colab": {
          "base_uri": "https://localhost:8080/"
        },
        "id": "GAPZNJTv0cUM",
        "outputId": "c34df57b-73d5-492d-9a5a-526276a89dd6"
      },
      "execution_count": 47,
      "outputs": [
        {
          "output_type": "execute_result",
          "data": {
            "text/plain": [
              "array([ 0.12704631, -0.08247099,  0.48683579,  1.21427839,  0.78326148,\n",
              "       -1.45737458, -2.50413138,  0.90724522, -1.52258614, -0.3807814 ])"
            ]
          },
          "metadata": {},
          "execution_count": 47
        }
      ]
    },
    {
      "cell_type": "code",
      "source": [
        "X_test_scaled = scaler.transform(X_test)"
      ],
      "metadata": {
        "id": "sIxTnU2A7oBK"
      },
      "execution_count": 48,
      "outputs": []
    },
    {
      "cell_type": "markdown",
      "source": [
        "# 4.분류 모델 정의 및 학습"
      ],
      "metadata": {
        "id": "36A1CDTjpDjp"
      }
    },
    {
      "cell_type": "code",
      "source": [
        "model = LogisticRegression() #사이킷런에 있는 함수"
      ],
      "metadata": {
        "id": "dYk1fna3pGpq"
      },
      "execution_count": 49,
      "outputs": []
    },
    {
      "cell_type": "code",
      "source": [
        "type(model)"
      ],
      "metadata": {
        "colab": {
          "base_uri": "https://localhost:8080/",
          "height": 221
        },
        "id": "XWTaSfuC8WHQ",
        "outputId": "b4b8c206-2821-4745-e49e-f61338ad3b3b"
      },
      "execution_count": 50,
      "outputs": [
        {
          "output_type": "execute_result",
          "data": {
            "text/plain": [
              "sklearn.linear_model._logistic.LogisticRegression"
            ],
            "text/html": [
              "<div style=\"max-width:800px; border: 1px solid var(--colab-border-color);\"><style>\n",
              "      pre.function-repr-contents {\n",
              "        overflow-x: auto;\n",
              "        padding: 8px 12px;\n",
              "        max-height: 500px;\n",
              "      }\n",
              "\n",
              "      pre.function-repr-contents.function-repr-contents-collapsed {\n",
              "        cursor: pointer;\n",
              "        max-height: 100px;\n",
              "      }\n",
              "    </style>\n",
              "    <pre style=\"white-space: initial; background:\n",
              "         var(--colab-secondary-surface-color); padding: 8px 12px;\n",
              "         border-bottom: 1px solid var(--colab-border-color);\"><b>sklearn.linear_model._logistic.LogisticRegression</b><br/>def __init__(penalty=&#x27;l2&#x27;, *, dual=False, tol=0.0001, C=1.0, fit_intercept=True, intercept_scaling=1, class_weight=None, random_state=None, solver=&#x27;lbfgs&#x27;, max_iter=100, multi_class=&#x27;auto&#x27;, verbose=0, warm_start=False, n_jobs=None, l1_ratio=None)</pre><pre class=\"function-repr-contents function-repr-contents-collapsed\" style=\"\"><a class=\"filepath\" style=\"display:none\" href=\"#\">/usr/local/lib/python3.10/dist-packages/sklearn/linear_model/_logistic.py</a>Logistic Regression (aka logit, MaxEnt) classifier.\n",
              "\n",
              "In the multiclass case, the training algorithm uses the one-vs-rest (OvR)\n",
              "scheme if the &#x27;multi_class&#x27; option is set to &#x27;ovr&#x27;, and uses the\n",
              "cross-entropy loss if the &#x27;multi_class&#x27; option is set to &#x27;multinomial&#x27;.\n",
              "(Currently the &#x27;multinomial&#x27; option is supported only by the &#x27;lbfgs&#x27;,\n",
              "&#x27;sag&#x27;, &#x27;saga&#x27; and &#x27;newton-cg&#x27; solvers.)\n",
              "\n",
              "This class implements regularized logistic regression using the\n",
              "&#x27;liblinear&#x27; library, &#x27;newton-cg&#x27;, &#x27;sag&#x27;, &#x27;saga&#x27; and &#x27;lbfgs&#x27; solvers. **Note\n",
              "that regularization is applied by default**. It can handle both dense\n",
              "and sparse input. Use C-ordered arrays or CSR matrices containing 64-bit\n",
              "floats for optimal performance; any other input format will be converted\n",
              "(and copied).\n",
              "\n",
              "The &#x27;newton-cg&#x27;, &#x27;sag&#x27;, and &#x27;lbfgs&#x27; solvers support only L2 regularization\n",
              "with primal formulation, or no regularization. The &#x27;liblinear&#x27; solver\n",
              "supports both L1 and L2 regularization, with a dual formulation only for\n",
              "the L2 penalty. The Elastic-Net regularization is only supported by the\n",
              "&#x27;saga&#x27; solver.\n",
              "\n",
              "Read more in the :ref:`User Guide &lt;logistic_regression&gt;`.\n",
              "\n",
              "Parameters\n",
              "----------\n",
              "penalty : {&#x27;l1&#x27;, &#x27;l2&#x27;, &#x27;elasticnet&#x27;, None}, default=&#x27;l2&#x27;\n",
              "    Specify the norm of the penalty:\n",
              "\n",
              "    - `None`: no penalty is added;\n",
              "    - `&#x27;l2&#x27;`: add a L2 penalty term and it is the default choice;\n",
              "    - `&#x27;l1&#x27;`: add a L1 penalty term;\n",
              "    - `&#x27;elasticnet&#x27;`: both L1 and L2 penalty terms are added.\n",
              "\n",
              "    .. warning::\n",
              "       Some penalties may not work with some solvers. See the parameter\n",
              "       `solver` below, to know the compatibility between the penalty and\n",
              "       solver.\n",
              "\n",
              "    .. versionadded:: 0.19\n",
              "       l1 penalty with SAGA solver (allowing &#x27;multinomial&#x27; + L1)\n",
              "\n",
              "    .. deprecated:: 1.2\n",
              "       The &#x27;none&#x27; option was deprecated in version 1.2, and will be removed\n",
              "       in 1.4. Use `None` instead.\n",
              "\n",
              "dual : bool, default=False\n",
              "    Dual or primal formulation. Dual formulation is only implemented for\n",
              "    l2 penalty with liblinear solver. Prefer dual=False when\n",
              "    n_samples &gt; n_features.\n",
              "\n",
              "tol : float, default=1e-4\n",
              "    Tolerance for stopping criteria.\n",
              "\n",
              "C : float, default=1.0\n",
              "    Inverse of regularization strength; must be a positive float.\n",
              "    Like in support vector machines, smaller values specify stronger\n",
              "    regularization.\n",
              "\n",
              "fit_intercept : bool, default=True\n",
              "    Specifies if a constant (a.k.a. bias or intercept) should be\n",
              "    added to the decision function.\n",
              "\n",
              "intercept_scaling : float, default=1\n",
              "    Useful only when the solver &#x27;liblinear&#x27; is used\n",
              "    and self.fit_intercept is set to True. In this case, x becomes\n",
              "    [x, self.intercept_scaling],\n",
              "    i.e. a &quot;synthetic&quot; feature with constant value equal to\n",
              "    intercept_scaling is appended to the instance vector.\n",
              "    The intercept becomes ``intercept_scaling * synthetic_feature_weight``.\n",
              "\n",
              "    Note! the synthetic feature weight is subject to l1/l2 regularization\n",
              "    as all other features.\n",
              "    To lessen the effect of regularization on synthetic feature weight\n",
              "    (and therefore on the intercept) intercept_scaling has to be increased.\n",
              "\n",
              "class_weight : dict or &#x27;balanced&#x27;, default=None\n",
              "    Weights associated with classes in the form ``{class_label: weight}``.\n",
              "    If not given, all classes are supposed to have weight one.\n",
              "\n",
              "    The &quot;balanced&quot; mode uses the values of y to automatically adjust\n",
              "    weights inversely proportional to class frequencies in the input data\n",
              "    as ``n_samples / (n_classes * np.bincount(y))``.\n",
              "\n",
              "    Note that these weights will be multiplied with sample_weight (passed\n",
              "    through the fit method) if sample_weight is specified.\n",
              "\n",
              "    .. versionadded:: 0.17\n",
              "       *class_weight=&#x27;balanced&#x27;*\n",
              "\n",
              "random_state : int, RandomState instance, default=None\n",
              "    Used when ``solver`` == &#x27;sag&#x27;, &#x27;saga&#x27; or &#x27;liblinear&#x27; to shuffle the\n",
              "    data. See :term:`Glossary &lt;random_state&gt;` for details.\n",
              "\n",
              "solver : {&#x27;lbfgs&#x27;, &#x27;liblinear&#x27;, &#x27;newton-cg&#x27;, &#x27;newton-cholesky&#x27;, &#x27;sag&#x27;, &#x27;saga&#x27;},             default=&#x27;lbfgs&#x27;\n",
              "\n",
              "    Algorithm to use in the optimization problem. Default is &#x27;lbfgs&#x27;.\n",
              "    To choose a solver, you might want to consider the following aspects:\n",
              "\n",
              "        - For small datasets, &#x27;liblinear&#x27; is a good choice, whereas &#x27;sag&#x27;\n",
              "          and &#x27;saga&#x27; are faster for large ones;\n",
              "        - For multiclass problems, only &#x27;newton-cg&#x27;, &#x27;sag&#x27;, &#x27;saga&#x27; and\n",
              "          &#x27;lbfgs&#x27; handle multinomial loss;\n",
              "        - &#x27;liblinear&#x27; is limited to one-versus-rest schemes.\n",
              "        - &#x27;newton-cholesky&#x27; is a good choice for `n_samples` &gt;&gt; `n_features`,\n",
              "          especially with one-hot encoded categorical features with rare\n",
              "          categories. Note that it is limited to binary classification and the\n",
              "          one-versus-rest reduction for multiclass classification. Be aware that\n",
              "          the memory usage of this solver has a quadratic dependency on\n",
              "          `n_features` because it explicitly computes the Hessian matrix.\n",
              "\n",
              "    .. warning::\n",
              "       The choice of the algorithm depends on the penalty chosen.\n",
              "       Supported penalties by solver:\n",
              "\n",
              "       - &#x27;lbfgs&#x27;           -   [&#x27;l2&#x27;, None]\n",
              "       - &#x27;liblinear&#x27;       -   [&#x27;l1&#x27;, &#x27;l2&#x27;]\n",
              "       - &#x27;newton-cg&#x27;       -   [&#x27;l2&#x27;, None]\n",
              "       - &#x27;newton-cholesky&#x27; -   [&#x27;l2&#x27;, None]\n",
              "       - &#x27;sag&#x27;             -   [&#x27;l2&#x27;, None]\n",
              "       - &#x27;saga&#x27;            -   [&#x27;elasticnet&#x27;, &#x27;l1&#x27;, &#x27;l2&#x27;, None]\n",
              "\n",
              "    .. note::\n",
              "       &#x27;sag&#x27; and &#x27;saga&#x27; fast convergence is only guaranteed on features\n",
              "       with approximately the same scale. You can preprocess the data with\n",
              "       a scaler from :mod:`sklearn.preprocessing`.\n",
              "\n",
              "    .. seealso::\n",
              "       Refer to the User Guide for more information regarding\n",
              "       :class:`LogisticRegression` and more specifically the\n",
              "       :ref:`Table &lt;Logistic_regression&gt;`\n",
              "       summarizing solver/penalty supports.\n",
              "\n",
              "    .. versionadded:: 0.17\n",
              "       Stochastic Average Gradient descent solver.\n",
              "    .. versionadded:: 0.19\n",
              "       SAGA solver.\n",
              "    .. versionchanged:: 0.22\n",
              "        The default solver changed from &#x27;liblinear&#x27; to &#x27;lbfgs&#x27; in 0.22.\n",
              "    .. versionadded:: 1.2\n",
              "       newton-cholesky solver.\n",
              "\n",
              "max_iter : int, default=100\n",
              "    Maximum number of iterations taken for the solvers to converge.\n",
              "\n",
              "multi_class : {&#x27;auto&#x27;, &#x27;ovr&#x27;, &#x27;multinomial&#x27;}, default=&#x27;auto&#x27;\n",
              "    If the option chosen is &#x27;ovr&#x27;, then a binary problem is fit for each\n",
              "    label. For &#x27;multinomial&#x27; the loss minimised is the multinomial loss fit\n",
              "    across the entire probability distribution, *even when the data is\n",
              "    binary*. &#x27;multinomial&#x27; is unavailable when solver=&#x27;liblinear&#x27;.\n",
              "    &#x27;auto&#x27; selects &#x27;ovr&#x27; if the data is binary, or if solver=&#x27;liblinear&#x27;,\n",
              "    and otherwise selects &#x27;multinomial&#x27;.\n",
              "\n",
              "    .. versionadded:: 0.18\n",
              "       Stochastic Average Gradient descent solver for &#x27;multinomial&#x27; case.\n",
              "    .. versionchanged:: 0.22\n",
              "        Default changed from &#x27;ovr&#x27; to &#x27;auto&#x27; in 0.22.\n",
              "\n",
              "verbose : int, default=0\n",
              "    For the liblinear and lbfgs solvers set verbose to any positive\n",
              "    number for verbosity.\n",
              "\n",
              "warm_start : bool, default=False\n",
              "    When set to True, reuse the solution of the previous call to fit as\n",
              "    initialization, otherwise, just erase the previous solution.\n",
              "    Useless for liblinear solver. See :term:`the Glossary &lt;warm_start&gt;`.\n",
              "\n",
              "    .. versionadded:: 0.17\n",
              "       *warm_start* to support *lbfgs*, *newton-cg*, *sag*, *saga* solvers.\n",
              "\n",
              "n_jobs : int, default=None\n",
              "    Number of CPU cores used when parallelizing over classes if\n",
              "    multi_class=&#x27;ovr&#x27;&quot;. This parameter is ignored when the ``solver`` is\n",
              "    set to &#x27;liblinear&#x27; regardless of whether &#x27;multi_class&#x27; is specified or\n",
              "    not. ``None`` means 1 unless in a :obj:`joblib.parallel_backend`\n",
              "    context. ``-1`` means using all processors.\n",
              "    See :term:`Glossary &lt;n_jobs&gt;` for more details.\n",
              "\n",
              "l1_ratio : float, default=None\n",
              "    The Elastic-Net mixing parameter, with ``0 &lt;= l1_ratio &lt;= 1``. Only\n",
              "    used if ``penalty=&#x27;elasticnet&#x27;``. Setting ``l1_ratio=0`` is equivalent\n",
              "    to using ``penalty=&#x27;l2&#x27;``, while setting ``l1_ratio=1`` is equivalent\n",
              "    to using ``penalty=&#x27;l1&#x27;``. For ``0 &lt; l1_ratio &lt;1``, the penalty is a\n",
              "    combination of L1 and L2.\n",
              "\n",
              "Attributes\n",
              "----------\n",
              "\n",
              "classes_ : ndarray of shape (n_classes, )\n",
              "    A list of class labels known to the classifier.\n",
              "\n",
              "coef_ : ndarray of shape (1, n_features) or (n_classes, n_features)\n",
              "    Coefficient of the features in the decision function.\n",
              "\n",
              "    `coef_` is of shape (1, n_features) when the given problem is binary.\n",
              "    In particular, when `multi_class=&#x27;multinomial&#x27;`, `coef_` corresponds\n",
              "    to outcome 1 (True) and `-coef_` corresponds to outcome 0 (False).\n",
              "\n",
              "intercept_ : ndarray of shape (1,) or (n_classes,)\n",
              "    Intercept (a.k.a. bias) added to the decision function.\n",
              "\n",
              "    If `fit_intercept` is set to False, the intercept is set to zero.\n",
              "    `intercept_` is of shape (1,) when the given problem is binary.\n",
              "    In particular, when `multi_class=&#x27;multinomial&#x27;`, `intercept_`\n",
              "    corresponds to outcome 1 (True) and `-intercept_` corresponds to\n",
              "    outcome 0 (False).\n",
              "\n",
              "n_features_in_ : int\n",
              "    Number of features seen during :term:`fit`.\n",
              "\n",
              "    .. versionadded:: 0.24\n",
              "\n",
              "feature_names_in_ : ndarray of shape (`n_features_in_`,)\n",
              "    Names of features seen during :term:`fit`. Defined only when `X`\n",
              "    has feature names that are all strings.\n",
              "\n",
              "    .. versionadded:: 1.0\n",
              "\n",
              "n_iter_ : ndarray of shape (n_classes,) or (1, )\n",
              "    Actual number of iterations for all classes. If binary or multinomial,\n",
              "    it returns only 1 element. For liblinear solver, only the maximum\n",
              "    number of iteration across all classes is given.\n",
              "\n",
              "    .. versionchanged:: 0.20\n",
              "\n",
              "        In SciPy &lt;= 1.0.0 the number of lbfgs iterations may exceed\n",
              "        ``max_iter``. ``n_iter_`` will now report at most ``max_iter``.\n",
              "\n",
              "See Also\n",
              "--------\n",
              "SGDClassifier : Incrementally trained logistic regression (when given\n",
              "    the parameter ``loss=&quot;log&quot;``).\n",
              "LogisticRegressionCV : Logistic regression with built-in cross validation.\n",
              "\n",
              "Notes\n",
              "-----\n",
              "The underlying C implementation uses a random number generator to\n",
              "select features when fitting the model. It is thus not uncommon,\n",
              "to have slightly different results for the same input data. If\n",
              "that happens, try with a smaller tol parameter.\n",
              "\n",
              "Predict output may not match that of standalone liblinear in certain\n",
              "cases. See :ref:`differences from liblinear &lt;liblinear_differences&gt;`\n",
              "in the narrative documentation.\n",
              "\n",
              "References\n",
              "----------\n",
              "\n",
              "L-BFGS-B -- Software for Large-scale Bound-constrained Optimization\n",
              "    Ciyou Zhu, Richard Byrd, Jorge Nocedal and Jose Luis Morales.\n",
              "    http://users.iems.northwestern.edu/~nocedal/lbfgsb.html\n",
              "\n",
              "LIBLINEAR -- A Library for Large Linear Classification\n",
              "    https://www.csie.ntu.edu.tw/~cjlin/liblinear/\n",
              "\n",
              "SAG -- Mark Schmidt, Nicolas Le Roux, and Francis Bach\n",
              "    Minimizing Finite Sums with the Stochastic Average Gradient\n",
              "    https://hal.inria.fr/hal-00860051/document\n",
              "\n",
              "SAGA -- Defazio, A., Bach F. &amp; Lacoste-Julien S. (2014).\n",
              "        :arxiv:`&quot;SAGA: A Fast Incremental Gradient Method With Support\n",
              "        for Non-Strongly Convex Composite Objectives&quot; &lt;1407.0202&gt;`\n",
              "\n",
              "Hsiang-Fu Yu, Fang-Lan Huang, Chih-Jen Lin (2011). Dual coordinate descent\n",
              "    methods for logistic regression and maximum entropy models.\n",
              "    Machine Learning 85(1-2):41-75.\n",
              "    https://www.csie.ntu.edu.tw/~cjlin/papers/maxent_dual.pdf\n",
              "\n",
              "Examples\n",
              "--------\n",
              "&gt;&gt;&gt; from sklearn.datasets import load_iris\n",
              "&gt;&gt;&gt; from sklearn.linear_model import LogisticRegression\n",
              "&gt;&gt;&gt; X, y = load_iris(return_X_y=True)\n",
              "&gt;&gt;&gt; clf = LogisticRegression(random_state=0).fit(X, y)\n",
              "&gt;&gt;&gt; clf.predict(X[:2, :])\n",
              "array([0, 0])\n",
              "&gt;&gt;&gt; clf.predict_proba(X[:2, :])\n",
              "array([[9.8...e-01, 1.8...e-02, 1.4...e-08],\n",
              "       [9.7...e-01, 2.8...e-02, ...e-08]])\n",
              "&gt;&gt;&gt; clf.score(X, y)\n",
              "0.97...</pre>\n",
              "      <script>\n",
              "      if (google.colab.kernel.accessAllowed && google.colab.files && google.colab.files.view) {\n",
              "        for (const element of document.querySelectorAll('.filepath')) {\n",
              "          element.style.display = 'block'\n",
              "          element.onclick = (event) => {\n",
              "            event.preventDefault();\n",
              "            event.stopPropagation();\n",
              "            google.colab.files.view(element.textContent, 783);\n",
              "          };\n",
              "        }\n",
              "      }\n",
              "      for (const element of document.querySelectorAll('.function-repr-contents')) {\n",
              "        element.onclick = (event) => {\n",
              "          event.preventDefault();\n",
              "          event.stopPropagation();\n",
              "          element.classList.toggle('function-repr-contents-collapsed');\n",
              "        };\n",
              "      }\n",
              "      </script>\n",
              "      </div>"
            ]
          },
          "metadata": {},
          "execution_count": 50
        }
      ]
    },
    {
      "cell_type": "code",
      "source": [
        "# 모델학습\n",
        "# model.fit(X,y)\n",
        "model.fit(X_train_scaled, y_train)"
      ],
      "metadata": {
        "colab": {
          "base_uri": "https://localhost:8080/",
          "height": 75
        },
        "id": "5U2zRRUY87CL",
        "outputId": "5ab7e477-79f4-42a0-c746-57eb624cb758"
      },
      "execution_count": 51,
      "outputs": [
        {
          "output_type": "execute_result",
          "data": {
            "text/plain": [
              "LogisticRegression()"
            ],
            "text/html": [
              "<style>#sk-container-id-3 {color: black;background-color: white;}#sk-container-id-3 pre{padding: 0;}#sk-container-id-3 div.sk-toggleable {background-color: white;}#sk-container-id-3 label.sk-toggleable__label {cursor: pointer;display: block;width: 100%;margin-bottom: 0;padding: 0.3em;box-sizing: border-box;text-align: center;}#sk-container-id-3 label.sk-toggleable__label-arrow:before {content: \"▸\";float: left;margin-right: 0.25em;color: #696969;}#sk-container-id-3 label.sk-toggleable__label-arrow:hover:before {color: black;}#sk-container-id-3 div.sk-estimator:hover label.sk-toggleable__label-arrow:before {color: black;}#sk-container-id-3 div.sk-toggleable__content {max-height: 0;max-width: 0;overflow: hidden;text-align: left;background-color: #f0f8ff;}#sk-container-id-3 div.sk-toggleable__content pre {margin: 0.2em;color: black;border-radius: 0.25em;background-color: #f0f8ff;}#sk-container-id-3 input.sk-toggleable__control:checked~div.sk-toggleable__content {max-height: 200px;max-width: 100%;overflow: auto;}#sk-container-id-3 input.sk-toggleable__control:checked~label.sk-toggleable__label-arrow:before {content: \"▾\";}#sk-container-id-3 div.sk-estimator input.sk-toggleable__control:checked~label.sk-toggleable__label {background-color: #d4ebff;}#sk-container-id-3 div.sk-label input.sk-toggleable__control:checked~label.sk-toggleable__label {background-color: #d4ebff;}#sk-container-id-3 input.sk-hidden--visually {border: 0;clip: rect(1px 1px 1px 1px);clip: rect(1px, 1px, 1px, 1px);height: 1px;margin: -1px;overflow: hidden;padding: 0;position: absolute;width: 1px;}#sk-container-id-3 div.sk-estimator {font-family: monospace;background-color: #f0f8ff;border: 1px dotted black;border-radius: 0.25em;box-sizing: border-box;margin-bottom: 0.5em;}#sk-container-id-3 div.sk-estimator:hover {background-color: #d4ebff;}#sk-container-id-3 div.sk-parallel-item::after {content: \"\";width: 100%;border-bottom: 1px solid gray;flex-grow: 1;}#sk-container-id-3 div.sk-label:hover label.sk-toggleable__label {background-color: #d4ebff;}#sk-container-id-3 div.sk-serial::before {content: \"\";position: absolute;border-left: 1px solid gray;box-sizing: border-box;top: 0;bottom: 0;left: 50%;z-index: 0;}#sk-container-id-3 div.sk-serial {display: flex;flex-direction: column;align-items: center;background-color: white;padding-right: 0.2em;padding-left: 0.2em;position: relative;}#sk-container-id-3 div.sk-item {position: relative;z-index: 1;}#sk-container-id-3 div.sk-parallel {display: flex;align-items: stretch;justify-content: center;background-color: white;position: relative;}#sk-container-id-3 div.sk-item::before, #sk-container-id-3 div.sk-parallel-item::before {content: \"\";position: absolute;border-left: 1px solid gray;box-sizing: border-box;top: 0;bottom: 0;left: 50%;z-index: -1;}#sk-container-id-3 div.sk-parallel-item {display: flex;flex-direction: column;z-index: 1;position: relative;background-color: white;}#sk-container-id-3 div.sk-parallel-item:first-child::after {align-self: flex-end;width: 50%;}#sk-container-id-3 div.sk-parallel-item:last-child::after {align-self: flex-start;width: 50%;}#sk-container-id-3 div.sk-parallel-item:only-child::after {width: 0;}#sk-container-id-3 div.sk-dashed-wrapped {border: 1px dashed gray;margin: 0 0.4em 0.5em 0.4em;box-sizing: border-box;padding-bottom: 0.4em;background-color: white;}#sk-container-id-3 div.sk-label label {font-family: monospace;font-weight: bold;display: inline-block;line-height: 1.2em;}#sk-container-id-3 div.sk-label-container {text-align: center;}#sk-container-id-3 div.sk-container {/* jupyter's `normalize.less` sets `[hidden] { display: none; }` but bootstrap.min.css set `[hidden] { display: none !important; }` so we also need the `!important` here to be able to override the default hidden behavior on the sphinx rendered scikit-learn.org. See: https://github.com/scikit-learn/scikit-learn/issues/21755 */display: inline-block !important;position: relative;}#sk-container-id-3 div.sk-text-repr-fallback {display: none;}</style><div id=\"sk-container-id-3\" class=\"sk-top-container\"><div class=\"sk-text-repr-fallback\"><pre>LogisticRegression()</pre><b>In a Jupyter environment, please rerun this cell to show the HTML representation or trust the notebook. <br />On GitHub, the HTML representation is unable to render, please try loading this page with nbviewer.org.</b></div><div class=\"sk-container\" hidden><div class=\"sk-item\"><div class=\"sk-estimator sk-toggleable\"><input class=\"sk-toggleable__control sk-hidden--visually\" id=\"sk-estimator-id-3\" type=\"checkbox\" checked><label for=\"sk-estimator-id-3\" class=\"sk-toggleable__label sk-toggleable__label-arrow\">LogisticRegression</label><div class=\"sk-toggleable__content\"><pre>LogisticRegression()</pre></div></div></div></div></div>"
            ]
          },
          "metadata": {},
          "execution_count": 51
        }
      ]
    },
    {
      "cell_type": "markdown",
      "source": [
        "# 5.분류 결과 예측 및 평가"
      ],
      "metadata": {
        "id": "9wy97R_rpG9J"
      }
    },
    {
      "cell_type": "code",
      "source": [
        "# 예측\n",
        "y_pred = model.predict(X_test_scaled)"
      ],
      "metadata": {
        "id": "alPS4sQ_pK8n"
      },
      "execution_count": 52,
      "outputs": []
    },
    {
      "cell_type": "code",
      "source": [
        "y_pred.shape"
      ],
      "metadata": {
        "colab": {
          "base_uri": "https://localhost:8080/"
        },
        "id": "tjAXHk1jtqpi",
        "outputId": "98ab0ec3-a3bb-4183-f39e-3c1a654eff26"
      },
      "execution_count": 53,
      "outputs": [
        {
          "output_type": "execute_result",
          "data": {
            "text/plain": [
              "(60,)"
            ]
          },
          "metadata": {},
          "execution_count": 53
        }
      ]
    },
    {
      "cell_type": "code",
      "source": [
        "y_pred"
      ],
      "metadata": {
        "colab": {
          "base_uri": "https://localhost:8080/"
        },
        "id": "crqrUQpNtwZY",
        "outputId": "d8e25e2c-5827-4df4-84c1-af6eaa80969f"
      },
      "execution_count": 54,
      "outputs": [
        {
          "output_type": "execute_result",
          "data": {
            "text/plain": [
              "array([0, 0, 0, 0, 0, 0, 0, 0, 0, 0, 0, 0, 0, 0, 0, 0, 0, 0, 0, 0, 0, 0,\n",
              "       0, 0, 0, 0, 0, 0, 0, 0, 0, 0, 0, 0, 0, 0, 0, 0, 0, 0, 0, 0, 0, 0,\n",
              "       0, 0, 0, 0, 0, 0, 0, 0, 0, 0, 0, 0, 0, 0, 0, 0])"
            ]
          },
          "metadata": {},
          "execution_count": 54
        }
      ]
    },
    {
      "cell_type": "code",
      "source": [
        "# 정확도(Accuracy) 체크\n",
        "# 맞은 것의 갯수 y <-> y_pred\n",
        "# accuracy_score , confusion_matrix , classification_report\n",
        "\n",
        "accuracy = accuracy_score(y_test, y_pred)"
      ],
      "metadata": {
        "id": "YfrcFKaQt5AT"
      },
      "execution_count": 55,
      "outputs": []
    },
    {
      "cell_type": "code",
      "source": [
        "conf_matrix = confusion_matrix(y_test, y_pred)"
      ],
      "metadata": {
        "id": "2TPZ7AmUudbq"
      },
      "execution_count": 56,
      "outputs": []
    },
    {
      "cell_type": "code",
      "source": [
        "# print(classification_report(y_test, y_pred))\n",
        "class_report = print(classification_report(y_test, y_pred))"
      ],
      "metadata": {
        "colab": {
          "base_uri": "https://localhost:8080/"
        },
        "id": "n3AwU0MSu-zB",
        "outputId": "829043fc-db47-48a3-cf86-2af58e09d9d1"
      },
      "execution_count": 57,
      "outputs": [
        {
          "output_type": "stream",
          "name": "stdout",
          "text": [
            "              precision    recall  f1-score   support\n",
            "\n",
            "           0       0.67      1.00      0.80        40\n",
            "           1       0.00      0.00      0.00        20\n",
            "\n",
            "    accuracy                           0.67        60\n",
            "   macro avg       0.33      0.50      0.40        60\n",
            "weighted avg       0.44      0.67      0.53        60\n",
            "\n"
          ]
        },
        {
          "output_type": "stream",
          "name": "stderr",
          "text": [
            "/usr/local/lib/python3.10/dist-packages/sklearn/metrics/_classification.py:1344: UndefinedMetricWarning: Precision and F-score are ill-defined and being set to 0.0 in labels with no predicted samples. Use `zero_division` parameter to control this behavior.\n",
            "  _warn_prf(average, modifier, msg_start, len(result))\n",
            "/usr/local/lib/python3.10/dist-packages/sklearn/metrics/_classification.py:1344: UndefinedMetricWarning: Precision and F-score are ill-defined and being set to 0.0 in labels with no predicted samples. Use `zero_division` parameter to control this behavior.\n",
            "  _warn_prf(average, modifier, msg_start, len(result))\n",
            "/usr/local/lib/python3.10/dist-packages/sklearn/metrics/_classification.py:1344: UndefinedMetricWarning: Precision and F-score are ill-defined and being set to 0.0 in labels with no predicted samples. Use `zero_division` parameter to control this behavior.\n",
            "  _warn_prf(average, modifier, msg_start, len(result))\n"
          ]
        }
      ]
    },
    {
      "cell_type": "code",
      "source": [
        "print(\"accuracy:\", accuracy)\n",
        "print(\"[Confusion Matrix]\")\n",
        "print(conf_matrix)\n",
        "print(\"-\"* 100)\n",
        "print(\"[classification Report]\")\n",
        "print(class_report)"
      ],
      "metadata": {
        "colab": {
          "base_uri": "https://localhost:8080/"
        },
        "id": "F6OZHoAcv6uV",
        "outputId": "8b4dd87f-f15e-4841-91bb-e661bc52299d"
      },
      "execution_count": 58,
      "outputs": [
        {
          "output_type": "stream",
          "name": "stdout",
          "text": [
            "accuracy: 0.6666666666666666\n",
            "[Confusion Matrix]\n",
            "[[40  0]\n",
            " [20  0]]\n",
            "----------------------------------------------------------------------------------------------------\n",
            "[classification Report]\n",
            "None\n"
          ]
        }
      ]
    },
    {
      "cell_type": "markdown",
      "source": [
        "# 6.결과 시각화"
      ],
      "metadata": {
        "id": "y8Sbvt6LwqCn"
      }
    },
    {
      "cell_type": "code",
      "source": [
        "# X_test\n",
        "# X_test[:, 0] # 첫번째 feature\n",
        "# X_test[:, 1] # 두번째 feature\n",
        "X_test[:, 0], X_test[:, 1]"
      ],
      "metadata": {
        "colab": {
          "base_uri": "https://localhost:8080/"
        },
        "id": "L8r45c7NBSxG",
        "outputId": "5070d230-9f71-4228-adfb-72bf478499ce"
      },
      "execution_count": 69,
      "outputs": [
        {
          "output_type": "execute_result",
          "data": {
            "text/plain": [
              "(array([ 5.27958857e-04,  9.64851633e-01,  7.91031947e-01, -1.25040773e+00,\n",
              "        -1.84618786e+00, -1.53098492e-02,  1.05194762e+00,  8.50897962e-01,\n",
              "        -1.66940528e+00, -3.48652134e-01, -4.55122453e-02,  2.50492850e-01,\n",
              "        -1.28537511e-01, -6.05860821e-01,  2.31465857e+00, -1.84087423e+00,\n",
              "         3.86808521e-01,  3.68673309e-01,  1.73889966e+00,  2.42194567e-02,\n",
              "         6.96954405e-01, -2.57376537e-01, -3.79127741e-01,  3.88578605e-01,\n",
              "        -3.58340152e-01, -2.49940571e+00,  3.08050540e-01, -5.31214295e-01,\n",
              "         6.98828420e-01,  1.20599452e+00,  1.07363175e+00, -5.73662007e-01,\n",
              "        -2.19671888e-01, -1.18759842e+00, -1.59812435e+00,  7.78361076e-01,\n",
              "         1.63996453e+00, -1.31256967e-01,  1.51639406e+00,  3.24083969e-01,\n",
              "        -6.84629826e-01,  8.20482181e-01, -1.86871644e-01, -8.22220396e-01,\n",
              "         8.65897875e-02,  4.59972143e-01, -1.02937151e+00, -3.35784699e-01,\n",
              "         3.61395606e-01, -6.26790973e-02,  1.95845255e-01,  4.38475739e-01,\n",
              "        -2.23465982e-01,  7.71698711e-01,  7.15662372e-02,  4.73632077e-01,\n",
              "         4.03730090e-01, -9.26930472e-01,  2.95624489e-01,  1.40886247e-01]),\n",
              " array([ 0.60120675,  1.61558282, -0.90938745,  0.60451533, -0.92951086,\n",
              "         0.5792915 , -0.99806063, -0.13737179,  0.54336019, -0.3492577 ,\n",
              "        -0.42423633,  0.34644821, -1.88184905,  1.71937791, -1.86726519,\n",
              "        -1.27957697,  1.09098043, -0.39333881,  0.97885805,  1.41222056,\n",
              "        -0.33381949, -1.66858407, -0.20358036,  2.49299952, -0.64754181,\n",
              "         2.29094257, -0.39164857,  0.48387665,  0.42097294,  0.77740735,\n",
              "        -1.0265153 , -0.54685894,  0.35711257,  0.30982071,  0.46217267,\n",
              "        -0.55118572,  0.74212749,  0.07685188,  0.60211832, -0.38508228,\n",
              "         0.7906256 ,  0.50727403, -0.43973106,  0.24368721, -0.15567724,\n",
              "        -0.67771537, -1.35267029,  1.66902153,  1.53803657,  0.95514232,\n",
              "        -0.97837278,  0.01961666, -0.3493168 , -2.84854262, -0.47765745,\n",
              "        -0.92638113, -0.02419561, -0.05952536, -1.51664255, -1.76843937]))"
            ]
          },
          "metadata": {},
          "execution_count": 69
        }
      ]
    },
    {
      "cell_type": "code",
      "source": [
        "# 1, 2번 특성에 대해서 시각화\n",
        "plt.scatter(X_test[:, 0], X_test[:, 1], c=y_test, cmap='viridis', marker='o', label='Actual')\n",
        "plt.scatter(X_test[:, 0], X_test[:, 1], c=y_pred, cmap='coolwarm', marker='x', label='Predict')\n",
        "plt.xlabel('Feature 0')\n",
        "plt.ylabel('Feature 1')\n",
        "plt.legend()\n",
        "plt.title('Cancer Diagnosis Classification')\n",
        "plt.show()"
      ],
      "metadata": {
        "colab": {
          "base_uri": "https://localhost:8080/",
          "height": 472
        },
        "id": "E-lJUs4vws0k",
        "outputId": "3545eb57-d6b2-43e6-fee6-9feb91c69a53"
      },
      "execution_count": 75,
      "outputs": [
        {
          "output_type": "display_data",
          "data": {
            "text/plain": [
              "<Figure size 640x480 with 1 Axes>"
            ],
            "image/png": "[encoded data removed]"
          },
          "metadata": {}
        }
      ]
    },
    {
      "cell_type": "code",
      "source": [],
      "metadata": {
        "id": "09NXkJitBJqQ"
      },
      "execution_count": null,
      "outputs": []
    }
  ]
}