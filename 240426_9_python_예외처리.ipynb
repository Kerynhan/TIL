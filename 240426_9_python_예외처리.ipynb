{
  "nbformat": 4,
  "nbformat_minor": 0,
  "metadata": {
    "colab": {
      "provenance": []
    },
    "kernelspec": {
      "name": "python3",
      "display_name": "Python 3"
    },
    "language_info": {
      "name": "python"
    }
  },
  "cells": [
    {
      "cell_type": "markdown",
      "metadata": {
        "id": "NQQeBTU0vuUC"
      },
      "source": [
        "# STEP 9. 예외 처리"
      ]
    },
    {
      "cell_type": "markdown",
      "metadata": {
        "id": "7yMQEDmZw5ql"
      },
      "source": [
        "## **01. 오류**\n",
        "- 파이썬의 오류는 두 가지 종류 존재\n",
        "> - 구문 오류\n",
        "> - 예외 (런타임 오류)\n"
      ]
    },
    {
      "cell_type": "markdown",
      "metadata": {
        "id": "6jRsb4MrxcVR"
      },
      "source": [
        "### **1. 구문 오류**\n",
        "- 프로그램 실행 전에 발생하는 오류"
      ]
    },
    {
      "cell_type": "code",
      "metadata": {
        "id": "cYVrVg0nybPh",
        "colab": {
          "base_uri": "https://localhost:8080/",
          "height": 106
        },
        "outputId": "208c8ac0-cd22-4929-8b5a-bd1ae5c62c89"
      },
      "source": [
        "# 문자열 닫힘 따옴표 문제로 오류 발생\n",
        "# SyntaxError는 구문에 문제가 있어서 프로그램이 실행조차 안 된 경우\n",
        "print(\"파이썬 프로그래밍)"
      ],
      "execution_count": null,
      "outputs": [
        {
          "output_type": "error",
          "ename": "SyntaxError",
          "evalue": "unterminated string literal (detected at line 3) (<ipython-input-1-85e1cbe08f45>, line 3)",
          "traceback": [
            "\u001b[0;36m  File \u001b[0;32m\"<ipython-input-1-85e1cbe08f45>\"\u001b[0;36m, line \u001b[0;32m3\u001b[0m\n\u001b[0;31m    print(\"파이썬 프로그래밍)\u001b[0m\n\u001b[0m          ^\u001b[0m\n\u001b[0;31mSyntaxError\u001b[0m\u001b[0;31m:\u001b[0m unterminated string literal (detected at line 3)\n"
          ]
        }
      ]
    },
    {
      "cell_type": "code",
      "metadata": {
        "id": "UFEqO9sK5Pnw",
        "colab": {
          "base_uri": "https://localhost:8080/"
        },
        "outputId": "c2161bae-6bcc-4846-b343-a31e4687b4c2"
      },
      "source": [
        "# 문자열 닫힘 따옴표 문제를 해결하여 오류 해결\n",
        "# 해당 오류는 해결을 해줘야만 프로그램을 실행할 수 있음\n",
        "print(\"파이썬 프로그래밍\")"
      ],
      "execution_count": null,
      "outputs": [
        {
          "output_type": "stream",
          "name": "stdout",
          "text": [
            "파이썬 프로그래밍\n"
          ]
        }
      ]
    },
    {
      "cell_type": "markdown",
      "metadata": {
        "id": "gY1cqCE2xl9p"
      },
      "source": [
        "### **2. 예외 (런타임 오류)**\n",
        "- 프로그램 실행 중에 발생하는 오류"
      ]
    },
    {
      "cell_type": "code",
      "metadata": {
        "id": "NY864aKeK1f4",
        "colab": {
          "base_uri": "https://localhost:8080/",
          "height": 176
        },
        "outputId": "d93486d5-b8c3-4478-ae9e-65724e8b1e95"
      },
      "source": [
        "# myList 변수에 리스트 선언 -> 프로그램 실행됨\n",
        "# myList[7]은 myList에서 얻을 수 없는 값으로 오류 발생\n",
        "myList = [1, 2, 3, 4]\n",
        "\n",
        "myList[7]"
      ],
      "execution_count": null,
      "outputs": [
        {
          "output_type": "error",
          "ename": "IndexError",
          "evalue": "list index out of range",
          "traceback": [
            "\u001b[0;31m---------------------------------------------------------------------------\u001b[0m",
            "\u001b[0;31mIndexError\u001b[0m                                Traceback (most recent call last)",
            "\u001b[0;32m<ipython-input-3-06f92ceab1ed>\u001b[0m in \u001b[0;36m<cell line: 5>\u001b[0;34m()\u001b[0m\n\u001b[1;32m      3\u001b[0m \u001b[0mmyList\u001b[0m \u001b[0;34m=\u001b[0m \u001b[0;34m[\u001b[0m\u001b[0;36m1\u001b[0m\u001b[0;34m,\u001b[0m \u001b[0;36m2\u001b[0m\u001b[0;34m,\u001b[0m \u001b[0;36m3\u001b[0m\u001b[0;34m,\u001b[0m \u001b[0;36m4\u001b[0m\u001b[0;34m]\u001b[0m\u001b[0;34m\u001b[0m\u001b[0;34m\u001b[0m\u001b[0m\n\u001b[1;32m      4\u001b[0m \u001b[0;34m\u001b[0m\u001b[0m\n\u001b[0;32m----> 5\u001b[0;31m \u001b[0mmyList\u001b[0m\u001b[0;34m[\u001b[0m\u001b[0;36m7\u001b[0m\u001b[0;34m]\u001b[0m\u001b[0;34m\u001b[0m\u001b[0;34m\u001b[0m\u001b[0m\n\u001b[0m",
            "\u001b[0;31mIndexError\u001b[0m: list index out of range"
          ]
        }
      ]
    },
    {
      "cell_type": "code",
      "metadata": {
        "id": "cnw2WgLpL0B-",
        "colab": {
          "base_uri": "https://localhost:8080/"
        },
        "outputId": "441a99cd-ff02-4db9-872a-7eb7c4d078dd"
      },
      "source": [
        "# myList 변수에 리스트 선언 -> 프로그램 실행됨\n",
        "# myList[3]은 myList에서 얻을 수 있는 값으로 수정하여 오류 해결\n",
        "# 또는 예외 처리를 통해 문제를 해결할 수 있음!\n",
        "\n",
        "myList = [1, 2, 3, 4]\n",
        "\n",
        "myList[3]\n"
      ],
      "execution_count": null,
      "outputs": [
        {
          "output_type": "execute_result",
          "data": {
            "text/plain": [
              "4"
            ]
          },
          "metadata": {},
          "execution_count": 4
        }
      ]
    },
    {
      "cell_type": "markdown",
      "metadata": {
        "id": "frvZbBAhvuIm"
      },
      "source": [
        "## **02. 예외 처리 기법**\n",
        "- 예외 처리는 예외를 해결하는 것\n",
        "- 프로그램이 강제로 종료되는 일 없이 예외 처리를 하고 정상적으로 종료"
      ]
    },
    {
      "cell_type": "markdown",
      "metadata": {
        "id": "vAoSfFLKvuLT"
      },
      "source": [
        "### **1. try - except 구문**\n",
        "\n",
        "\n",
        "\n"
      ]
    },
    {
      "cell_type": "code",
      "metadata": {
        "id": "I-__gi9kQFsy",
        "colab": {
          "base_uri": "https://localhost:8080/"
        },
        "outputId": "ba9153a7-8e4b-484a-aee3-e8323b13c385"
      },
      "source": [
        "# try 문 안에는 예외가 발생할 가능성이 있는 모든 코드 삽입\n",
        "# except 문 안에는 예외가 발생했을 때 실행할 모든 코드 삽입\n",
        "# 프로그램이 강제로 종료되는 일 없이 예외 처리를 하고 정상적으로 종료\n",
        "try:\n",
        "  myList = [1, 2, 3, 4]\n",
        "  myList[7]\n",
        "except:\n",
        "  print(\"예외가 발생하였습니다.\")"
      ],
      "execution_count": null,
      "outputs": [
        {
          "output_type": "stream",
          "name": "stdout",
          "text": [
            "예외가 발생하였습니다.\n"
          ]
        }
      ]
    },
    {
      "cell_type": "code",
      "metadata": {
        "id": "9OsrxrERZlzF"
      },
      "source": [
        "# try 문 안에는 예외가 발생할 가능성이 있는 모든 코드 삽입\n",
        "# except 문 안에는 예외가 발생했을 때 실행할 모든 코드 삽입\n",
        "# except 문 안에 pass 키워드를 넣으면 아무것도 출력하지 않고 강제 종료도 막을 수 있음\n",
        "try:\n",
        "  myList = [1, 2, 3, 4]\n",
        "  myList[7]\n",
        "except:\n",
        "  pass"
      ],
      "execution_count": null,
      "outputs": []
    },
    {
      "cell_type": "markdown",
      "metadata": {
        "id": "L1GwVmxCvuNn"
      },
      "source": [
        "### **2. try - except - else 구문**"
      ]
    },
    {
      "cell_type": "code",
      "metadata": {
        "id": "e3aNBX-hb0jg",
        "colab": {
          "base_uri": "https://localhost:8080/"
        },
        "outputId": "6519474b-022b-48d9-aef0-f56912936aac"
      },
      "source": [
        "# try 문 안에는 예외가 발생할 가능성이 있는 모든 코드 삽입\n",
        "# except 문 안에는 예외가 발생했을 때 실행할 모든 코드 삽입\n",
        "# else 문 안에는 예외가 발생하지 않았을 때 실행할 코드 삽입\n",
        "# 문자 입력 시 예외 발생\n",
        "try:\n",
        "  Number = int(input(\"숫자 입력 : \"))\n",
        "except:\n",
        "  print(\"예외가 발생하였습니다.\")\n",
        "else:\n",
        "  print(\"입력한 숫자는 \", Number, \"입니다.\")"
      ],
      "execution_count": null,
      "outputs": [
        {
          "output_type": "stream",
          "name": "stdout",
          "text": [
            "숫자 입력 : apple\n",
            "예외가 발생하였습니다.\n"
          ]
        }
      ]
    },
    {
      "cell_type": "code",
      "metadata": {
        "id": "byTvlSLfaL8u",
        "colab": {
          "base_uri": "https://localhost:8080/"
        },
        "outputId": "02fa0706-92df-487c-87d6-ad6b4a31e05b"
      },
      "source": [
        "# try 문 안에는 예외가 발생할 가능성이 있는 모든 코드 삽입\n",
        "# except 문 안에는 예외가 발생했을 때 실행할 모든 코드 삽입\n",
        "# else 문 안에는 예외가 발생하지 않았을 때 실행할 코드 삽입\n",
        "# 숫자 입력시 프로그램 정상 작동\n",
        "try:\n",
        "  Number = int(input(\"숫자 입력 : \"))\n",
        "except:\n",
        "  print(\"예외가 발생하였습니다.\")\n",
        "else:\n",
        "  print(\"입력한 숫자는 \", Number, \"입니다.\")"
      ],
      "execution_count": null,
      "outputs": [
        {
          "output_type": "stream",
          "name": "stdout",
          "text": [
            "숫자 입력 : 7\n",
            "입력한 숫자는  7 입니다.\n"
          ]
        }
      ]
    },
    {
      "cell_type": "markdown",
      "metadata": {
        "id": "qCX21-VRwSeM"
      },
      "source": [
        "### **3. try - except - finally 구문**"
      ]
    },
    {
      "cell_type": "code",
      "metadata": {
        "id": "vZaIcwebc5vx",
        "colab": {
          "base_uri": "https://localhost:8080/"
        },
        "outputId": "ecba0e92-8270-452b-e013-b72cf22ab04b"
      },
      "source": [
        "# try 문 안에는 예외가 발생할 가능성이 있는 모든 코드 삽입\n",
        "# except 문 안에는 예외가 발생했을 때 실행할 모든 코드 삽입\n",
        "# finally 문 안에는 예외 발생 여부와 상관없이 무조건 실행할 코드 삽입\n",
        "# 문자 입력 시 예외 발생\n",
        "try:\n",
        "  Number = int(input(\"숫자 입력 : \"))\n",
        "except:\n",
        "  print(\"예외가 발생하였습니다.\")\n",
        "finally:\n",
        "  print(\"finally 문은 무조건 실행하는 코드.\")"
      ],
      "execution_count": null,
      "outputs": [
        {
          "output_type": "stream",
          "name": "stdout",
          "text": [
            "숫자 입력 : apple\n",
            "예외가 발생하였습니다.\n",
            "finally 문은 무조건 실행하는 코드.\n"
          ]
        }
      ]
    },
    {
      "cell_type": "code",
      "metadata": {
        "id": "kYhQJVwycCBS",
        "colab": {
          "base_uri": "https://localhost:8080/"
        },
        "outputId": "4e7b1439-5745-473d-e8fa-bc8be6fd0a9d"
      },
      "source": [
        "# try 문 안에는 예외가 발생할 가능성이 있는 모든 코드 삽입\n",
        "# except 문 안에는 예외가 발생했을 때 실행할 모든 코드 삽입\n",
        "# finally 문 안에는 예외 발생 여부와 상관없이 무조건 실행할 코드 삽입\n",
        "# 숫자 입력시 프로그램 정상 작동\n",
        "try:\n",
        "  Number = int(input(\"숫자 입력 : \"))\n",
        "except:\n",
        "  print(\"예외가 발생하였습니다.\")\n",
        "finally:\n",
        "  print(\"finally 문은 무조건 실행하는 코드.\")"
      ],
      "execution_count": null,
      "outputs": [
        {
          "output_type": "stream",
          "name": "stdout",
          "text": [
            "숫자 입력 : 7\n",
            "finally 문은 무조건 실행하는 코드.\n"
          ]
        }
      ]
    },
    {
      "cell_type": "markdown",
      "metadata": {
        "id": "z-Qt73ZIwUYZ"
      },
      "source": [
        "### **4. try - except - else - finally 구문**"
      ]
    },
    {
      "cell_type": "code",
      "metadata": {
        "id": "AeNrR7uRdUOu",
        "colab": {
          "base_uri": "https://localhost:8080/"
        },
        "outputId": "6f2ca1b9-87ff-4aa9-ef6f-8e264c50396c"
      },
      "source": [
        "# try 문 안에는 예외가 발생할 가능성이 있는 모든 코드 삽입\n",
        "# except 문 안에는 예외가 발생했을 때 실행할 모든 코드 삽입\n",
        "# else 문 안에는 예외가 발생하지 않았을 때 실행할 코드 삽입\n",
        "# finally 문 안에는 예외 발생 여부와 상관없이 무조건 실행할 코드 삽입\n",
        "# 문자 입력 시 예외 발생\n",
        "try:\n",
        "  Number = int(input(\"숫자 입력 : \"))\n",
        "except:\n",
        "  print(\"예외가 발생하였습니다.\")\n",
        "else:\n",
        "  print(\"입력한 숫자는 \", Number, \"입니다.\")\n",
        "finally:\n",
        "  print(\"finally 문은 무조건 실행하는 코드.\")"
      ],
      "execution_count": null,
      "outputs": [
        {
          "output_type": "stream",
          "name": "stdout",
          "text": [
            "숫자 입력 : apple\n",
            "예외가 발생하였습니다.\n",
            "finally 문은 무조건 실행하는 코드.\n"
          ]
        }
      ]
    },
    {
      "cell_type": "code",
      "metadata": {
        "id": "eo6YuZyHdeQi",
        "colab": {
          "base_uri": "https://localhost:8080/"
        },
        "outputId": "1b78feb4-7214-4626-ceb2-72d9ace362e4"
      },
      "source": [
        "# try 문 안에는 예외가 발생할 가능성이 있는 모든 코드 삽입\n",
        "# except 문 안에는 예외가 발생했을 때 실행할 모든 코드 삽입\n",
        "# else 문 안에는 예외가 발생하지 않았을 때 실행할 코드 삽입\n",
        "# finally 문 안에는 예외 발생 여부와 상관없이 무조건 실행할 코드 삽입\n",
        "# 숫자 입력시 프로그램 정상 작동\n",
        "try:\n",
        "  Number = int(input(\"숫자 입력 : \"))\n",
        "except:\n",
        "  print(\"예외가 발생하였습니다.\")\n",
        "else:\n",
        "  print(\"입력한 숫자는 \", Number, \"입니다.\")\n",
        "finally:\n",
        "  print(\"finally 문은 무조건 실행하는 코드.\")"
      ],
      "execution_count": null,
      "outputs": [
        {
          "output_type": "stream",
          "name": "stdout",
          "text": [
            "숫자 입력 : 7\n",
            "입력한 숫자는  7 입니다.\n",
            "finally 문은 무조건 실행하는 코드.\n"
          ]
        }
      ]
    },
    {
      "cell_type": "markdown",
      "source": [],
      "metadata": {
        "id": "NwtoBoNsFvzC"
      }
    },
    {
      "cell_type": "markdown",
      "source": [
        "## **1. 예외 처리 문제 (1)**\n",
        "\n",
        "* try, except, else, finally 구문\n",
        "\n"
      ],
      "metadata": {
        "id": "RBGrGWPErZ9t"
      }
    },
    {
      "cell_type": "code",
      "source": [
        "# 1) try, except, else, finally 구문을 이용하여 예외처리 구현\n",
        "#   - 'myList' 변수에 0, 1, 2, 3 요소를 통해 리스트 선언\n",
        "#   - 'myList'의 8번째 인덱스를 호출하여 myListEighth 변수에 저장\n",
        "#   - 예외가 발생하면 \"예외가 발생하였습니다.\" 문자열 출력\n",
        "#   - 예외가 발생하지 않는다면 \"myList[8]의 값은 'myListEighth' 입니다.\" 문자열 출력하고 myListEighth는 변수 값 삽입\n",
        "try :\n",
        "  myList = [0, 1, 2, 3]\n",
        "  myListEighth = myList[8]\n",
        "except :\n",
        "  print(\"예외가 발생하였습니다.\")\n",
        "else :\n",
        "  print(\"myList[8]의 값은 \". myListEighth, \" 입니다.\")\n",
        "finally :\n",
        "  print(\"파이썬 기본기 다지기 완료!\")\n",
        "  print(\"다음은 파이썬 라이브러리 활용 :)\")"
      ],
      "metadata": {
        "id": "Qg4lGNqmrcMI",
        "colab": {
          "base_uri": "https://localhost:8080/"
        },
        "outputId": "ba6332a1-a474-45cf-de3e-2c06a4411085"
      },
      "execution_count": null,
      "outputs": [
        {
          "output_type": "stream",
          "name": "stdout",
          "text": [
            "예외가 발생하였습니다.\n",
            "파이썬 기본기 다지기 완료!\n",
            "다음은 파이썬 라이브러리 활용 :)\n"
          ]
        }
      ]
    },
    {
      "cell_type": "code",
      "source": [
        "# 2) try, except, else, finally 구문을 이용하여 예외처리 구현\n",
        "#   - 'myList' 변수에 0, 1, 2, 3, 4, 5, 6, 7, 8 요소를 통해 리스트 선언\n",
        "#   - 'myList'의 8번째 인덱스를 호출하여 myListEighth 변수에 저장\n",
        "#   - 예외가 발생하면 \"예외가 발생하였습니다.\" 문자열 출력\n",
        "#   - 예외가 발생하지 않는다면 \"myList[8]의 값은 'myListEighth' 입니다.\" 문자열 출력하고 myListEighth는 변수 값 삽입\n",
        "try :\n",
        "  myList = [0, 1, 2, 3, 4, 5, 6, 7, 8]\n",
        "  myListEighth = myList[8]\n",
        "except :\n",
        "  print(\"예외가 발생하였습니다.\")\n",
        "else :\n",
        "  print(\"myList[8]의 값은\", myListEighth, \"입니다.\")\n",
        "finally :\n",
        "  print(\"파이썬 기본기 다지기 완료!\")\n",
        "  print(\"다음은 파이썬 라이브러리 활용 :)\")"
      ],
      "metadata": {
        "id": "rhtvlhe5sBOe",
        "colab": {
          "base_uri": "https://localhost:8080/"
        },
        "outputId": "bd78b0cd-0a9e-4015-c331-6f60fffba77b"
      },
      "execution_count": null,
      "outputs": [
        {
          "output_type": "stream",
          "name": "stdout",
          "text": [
            "myList[8]의 값은 8 입니다.\n",
            "파이썬 기본기 다지기 완료!\n",
            "다음은 파이썬 라이브러리 활용 :)\n"
          ]
        }
      ]
    }
  ]
}