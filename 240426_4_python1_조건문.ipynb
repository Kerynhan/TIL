{
  "nbformat": 4,
  "nbformat_minor": 0,
  "metadata": {
    "colab": {
      "provenance": []
    },
    "kernelspec": {
      "name": "python3",
      "display_name": "Python 3"
    },
    "language_info": {
      "name": "python"
    }
  },
  "cells": [
    {
      "cell_type": "markdown",
      "source": [
        "[공지사항]\n",
        "* 제작 과정에서 강의명이 변경되어 영상 및 강의 자료에 표기된 강의명은 촬영 시점에 사용된 것으로, 강의 내용에는 변동이 없음을 안내드리오며 수강에 혼선 없으시길 바랍니다."
      ],
      "metadata": {
        "id": "7AIjml6zlT57"
      }
    },
    {
      "cell_type": "markdown",
      "metadata": {
        "id": "5Vv5_Bu2pyuj"
      },
      "source": [
        "# **STEP 4. 조건문**\n",
        "- 조건문은 참과 거짓을 판단하는 문장"
      ]
    },
    {
      "cell_type": "markdown",
      "metadata": {
        "id": "wQLTj4Ehpt9-"
      },
      "source": [
        "## **01. if 조건문**"
      ]
    },
    {
      "cell_type": "markdown",
      "metadata": {
        "id": "OgnF33nYqk1a"
      },
      "source": [
        "### **1. if 문**\n",
        "- 조건이 참일 경우 실행\n",
        "- 조건이 거짓일 경우 패스"
      ]
    },
    {
      "cell_type": "code",
      "metadata": {
        "id": "gNwssSpDtaBI",
        "colab": {
          "base_uri": "https://localhost:8080/"
        },
        "outputId": "887c7ea8-c1c9-47cd-b1eb-10915724e50b"
      },
      "source": [
        "# \"Selena 수업을 들으면 파이썬을 정복할 수 있다.\"\n",
        "# 위의 문장을 파이썬 조건문으로 표현\n",
        "\n",
        "lec = True\n",
        "\n",
        "if lec:\n",
        "  print(\"파이썬을 정복할 수 있다.\")"
      ],
      "execution_count": null,
      "outputs": [
        {
          "output_type": "stream",
          "name": "stdout",
          "text": [
            "파이썬을 정복할 수 있다.\n"
          ]
        }
      ]
    },
    {
      "cell_type": "markdown",
      "metadata": {
        "id": "DLZBDGZkumPR"
      },
      "source": [
        "#### **1-1. 들여쓰기**\n",
        "- if 문에 속한 모든 문장은 들여쓰기 필수"
      ]
    },
    {
      "cell_type": "markdown",
      "metadata": {
        "id": "m7ju1bKnwhAF"
      },
      "source": [
        "#### **1-2. 콜론 (:)**\n",
        "- if 조건문 뒤에는 반드시 콜론(:)을 삽입\n",
        "- 파이썬 문법 구조"
      ]
    },
    {
      "cell_type": "code",
      "metadata": {
        "id": "C450Gt48vmI8",
        "colab": {
          "base_uri": "https://localhost:8080/"
        },
        "outputId": "7d5ca478-180f-4c8c-9996-37356e815d64"
      },
      "source": [
        "# \"카페인이 첨가된 종류는 아메리카노, 카페라떼, 콜드브루가 있다.\"\n",
        "# 위의 문장을 파이썬 조건문으로 표현\n",
        "caf = True\n",
        "\n",
        "if caf:\n",
        "  print(\"americano\")\n",
        "  print(\"cafe latte\")\n",
        "  print(\"cold brew coffee\")\n"
      ],
      "execution_count": null,
      "outputs": [
        {
          "output_type": "stream",
          "name": "stdout",
          "text": [
            "americano\n",
            "cafe latte\n",
            "cold brew coffee\n"
          ]
        }
      ]
    },
    {
      "cell_type": "markdown",
      "metadata": {
        "id": "6HLlm9KPpuAU"
      },
      "source": [
        "### **2. else 문**\n",
        "- else 문은 if 문 뒤에 사용하며, if 문 조건이 거짓일 때 실행되는 부분"
      ]
    },
    {
      "cell_type": "code",
      "metadata": {
        "id": "WqKquPGguXPG",
        "colab": {
          "base_uri": "https://localhost:8080/"
        },
        "outputId": "208a92d4-73b4-4e32-fc06-61d2a0eb0746"
      },
      "source": [
        "# \"Selena 수업을 들으면 파이썬을 정복할 수 있고 Selena 수업을 듣지 않으면 파이썬을 정복할 수 없다.\"\n",
        "# 위의 문장을 파이썬 조건문으로 표현\n",
        "lec = False\n",
        "\n",
        "if lec:\n",
        "  print(\"파이썬을 정복할 수 있다.\")\n",
        "else:\n",
        "  print(\"파이썬을 정복할 수 없다.\")\n"
      ],
      "execution_count": null,
      "outputs": [
        {
          "output_type": "stream",
          "name": "stdout",
          "text": [
            "파이썬을 정복할 수 없다.\n"
          ]
        }
      ]
    },
    {
      "cell_type": "markdown",
      "metadata": {
        "id": "NV3EmikxpuCz"
      },
      "source": [
        "### **3. elif 문**\n",
        "- elif 문은 세 개 이상의 조건을 연결할 때 사용"
      ]
    },
    {
      "cell_type": "code",
      "metadata": {
        "id": "HkMPX7ueLVWH",
        "colab": {
          "base_uri": "https://localhost:8080/"
        },
        "outputId": "a2020934-0f3b-4072-9e8d-1c65185e630a"
      },
      "source": [
        "# class를 공지하는 식\n",
        "score = \"C\"\n",
        "\n",
        "if score == \"A\":\n",
        "  print(\"A class\")\n",
        "elif score == \"B\":\n",
        "  print(\"B class\")\n",
        "elif score == \"C\":\n",
        "  print(\"C class\")\n",
        "else:\n",
        "  print(\"D class\")"
      ],
      "execution_count": null,
      "outputs": [
        {
          "output_type": "stream",
          "name": "stdout",
          "text": [
            "C class\n"
          ]
        }
      ]
    },
    {
      "cell_type": "markdown",
      "metadata": {
        "id": "HNzrxEbfIOiv"
      },
      "source": [
        "### **4. in / not in 연산자**\n",
        "- 데이터 안에 찾고자 하는 것이 있는지 없는지 확인하는 연산자"
      ]
    },
    {
      "cell_type": "code",
      "metadata": {
        "id": "imrdPeZaId2t",
        "colab": {
          "base_uri": "https://localhost:8080/"
        },
        "outputId": "b5bb4e90-365e-4045-b97b-c9b43e897685"
      },
      "source": [
        "# python 문자열에 k가 포함되어 있지 않다면 True, 포함 되어 있다면 False 출력\n",
        "#if 'k' not in 'python' :\n",
        "if 'k' in 'python' :\n",
        "  print(True)\n",
        "else :\n",
        "  print(False)"
      ],
      "execution_count": null,
      "outputs": [
        {
          "output_type": "stream",
          "name": "stdout",
          "text": [
            "False\n"
          ]
        }
      ]
    },
    {
      "cell_type": "markdown",
      "metadata": {
        "id": "bgxqlIRNHFkd"
      },
      "source": [
        "### **5. pass 키워드**\n",
        "- 조건은 만족하지만 아무 일도 수행하고 싶지 않을 때 사용\n",
        "- 프로그래밍의 전체 골격을 잡아놓고, 내부에 처리할 내용은 추후에 만들고자 할 때 사용"
      ]
    },
    {
      "cell_type": "code",
      "metadata": {
        "id": "AfZH6xgyHLpY"
      },
      "source": [
        "# 바구니에 딸기가 없다면 pass\n",
        "basket = ['사과', '바나나']\n",
        "\n",
        "if '딸기' not in basket :\n",
        "  pass"
      ],
      "execution_count": null,
      "outputs": []
    },
    {
      "cell_type": "markdown",
      "metadata": {
        "id": "kAvtlXBsGPIu"
      },
      "source": [
        "### **6. 관계연산자**\n",
        "- 두 개의 값을 비교하여 그 값을 참 또는 거짓으로 판별하는 연산자\n",
        "> - ==\n",
        "> - !=\n",
        "> - <\n",
        "> - \\>\n",
        "> - <=\n",
        "> - \\>="
      ]
    },
    {
      "cell_type": "code",
      "metadata": {
        "id": "H5niGSlJGX9T"
      },
      "source": [
        "# a, b 변수 선언\n",
        "a = 3\n",
        "b = 1"
      ],
      "execution_count": null,
      "outputs": []
    },
    {
      "cell_type": "code",
      "metadata": {
        "id": "KfKvXnhuGVYk",
        "colab": {
          "base_uri": "https://localhost:8080/"
        },
        "outputId": "0835c773-1f84-4849-d1ef-7f89475074e8"
      },
      "source": [
        "# 관계연산자 결과 출력\n",
        "print(a == b)\n",
        "print(a != b)\n",
        "print(a < b)\n",
        "print(a > b)\n",
        "print(a <= b)\n",
        "print(a >= b)"
      ],
      "execution_count": null,
      "outputs": [
        {
          "output_type": "stream",
          "name": "stdout",
          "text": [
            "False\n",
            "True\n",
            "False\n",
            "True\n",
            "False\n",
            "True\n"
          ]
        }
      ]
    },
    {
      "cell_type": "markdown",
      "metadata": {
        "id": "QVg8D2i2G50J"
      },
      "source": [
        "### **7. 논리연산자**\n",
        "- 논리 값을 판단해주는 연산자\n",
        "> - not (논리 부정) : 한 개의 값이 False면 결과 값으로 True 반환, True이면 결과 값으로 False 반환\n",
        "> - and (논리 곱) : 두 개의 값이모두 True인 경우에만 결과 값으로 True 반환, 나머지는 모두 False 반환\n",
        "> - or (논리 합) : 두 개의 값이 모두 False인 경우에만 결과 값으로 False 반환,\n",
        "나머지는 모두 True 반환"
      ]
    },
    {
      "cell_type": "code",
      "metadata": {
        "id": "hDy7wkG9LEJr",
        "colab": {
          "base_uri": "https://localhost:8080/"
        },
        "outputId": "4fe31b03-d6d9-4697-d8fc-bacdc204cf13"
      },
      "source": [
        "# not (논리 부정) : 한 개의 값이 False면 결과 값으로 True 반환, True이면 결과 값으로 False 반환\n",
        "print(not True)\n",
        "print(not False)"
      ],
      "execution_count": null,
      "outputs": [
        {
          "output_type": "stream",
          "name": "stdout",
          "text": [
            "False\n",
            "True\n"
          ]
        }
      ]
    },
    {
      "cell_type": "code",
      "metadata": {
        "id": "4CR-oOMvGwPM",
        "colab": {
          "base_uri": "https://localhost:8080/"
        },
        "outputId": "a06f9602-65f5-409b-c6da-a40ce583b123"
      },
      "source": [
        "# and (논리 곱) : 두 개의 값이모두 True인 경우에만 결과 값으로 True 반환, 나머지는 모두 False 반환\n",
        "print(True and True)\n",
        "print(True and False)\n",
        "print(False and True)\n",
        "print(False and False)"
      ],
      "execution_count": null,
      "outputs": [
        {
          "output_type": "stream",
          "name": "stdout",
          "text": [
            "True\n",
            "False\n",
            "False\n",
            "False\n"
          ]
        }
      ]
    },
    {
      "cell_type": "code",
      "metadata": {
        "id": "NpazijdwLBdW",
        "colab": {
          "base_uri": "https://localhost:8080/"
        },
        "outputId": "e748a1e5-acda-44b7-9b53-1697d47c1532"
      },
      "source": [
        "# or (논리 합) : 두 개의 값이 모두 False인 경우에만 결과 값으로 False 반환, 나머지는 모두 True 반환\n",
        "print(True or True)\n",
        "print(True or False)\n",
        "print(False or True)\n",
        "print(False or False)"
      ],
      "execution_count": null,
      "outputs": [
        {
          "output_type": "stream",
          "name": "stdout",
          "text": [
            "True\n",
            "True\n",
            "True\n",
            "False\n"
          ]
        }
      ]
    },
    {
      "cell_type": "markdown",
      "source": [
        "# **자기 주도 학습 복습 과제 - 문제**\n",
        "* 문제를 풀고 답을 확인하세요 :)\n",
        "* 정답지에 자세히 설명되어 있습니다.\n",
        "* [정답지 링크](https://drive.google.com/file/d/1NCdUz3vJRRAK2up_uevEHucop9eFedPJ/view?usp=sharing)"
      ],
      "metadata": {
        "id": "tx6UFn64LYQB"
      }
    },
    {
      "cell_type": "markdown",
      "source": [
        "## **1. 조건문 문제 (1)**\n",
        "\n",
        "* 중첩 조건문\n",
        "\n"
      ],
      "metadata": {
        "id": "ANJo-mjCU9_L"
      }
    },
    {
      "cell_type": "code",
      "source": [
        "# 중첩 조건문 구현 문제 : 조건문 안에 조건문 구현\n",
        "# 수업이 끝났을 때 복습을 하면 복습의 정도에 따라서 과제 점수를 출력하는 조건문 완성하기\n",
        "# 초기 설정 값 1) 수업이 끝났을 경우, endOfSelenaClass 변수에 True 값 삽입\n",
        "#                 수업이 진행 중인 경우, endOfSelenaClass 변수에 False 값 삽입\n",
        "# 초기 설정 값 2) 자신의 복습 정도에 따라 SelfReviewScore에 점수 입력(0~100점)\n",
        "\n",
        "# 1) 첫 번째 조건문\n",
        "#    1-1) 수업이 끝났을 경우, 두 번째 조건문 실행\n",
        "#    1-2) 수업이 진행 중인 경우, \"Focus Class\" 문자열 출력\n",
        "\n",
        "# 2) 두 번째 조건문 (endOfSelenaClass == True일 때 실행할 조건문)\n",
        "#    2-1) SelfReviewScore 값이 90점 이상이면 \"Perfect Score\" 문자열 출력\n",
        "#    2-2) SelfReviewScore 값이 50점 이상이면 \"Half Score\" 문자열 출력\n",
        "#    2-3) SelfReviewScore 값이 그 외에 해당하면 \"Zero Score\" 문자열 출력\n",
        "\n",
        "endOfSelenaClass = True\n",
        "SelfReviewScore = 90\n",
        "\n",
        "if endOfSelenaClass :\n",
        "  if SelfReviewScore >= 90 :\n",
        "    print(\"Perfect Score\")\n",
        "  elif SelfReviewScore >= 50 :\n",
        "    print(\"Half Score\")\n",
        "  else :\n",
        "    print(\"Zero Score\")\n",
        "else :\n",
        "  print(\"Focus Class\")"
      ],
      "metadata": {
        "id": "qxlXRlQJU-1l",
        "colab": {
          "base_uri": "https://localhost:8080/"
        },
        "outputId": "457edae7-098b-42dd-9478-089f6263428a"
      },
      "execution_count": null,
      "outputs": [
        {
          "output_type": "stream",
          "name": "stdout",
          "text": [
            "Perfect Score\n"
          ]
        }
      ]
    },
    {
      "cell_type": "markdown",
      "source": [
        "## **2. 조건문 문제 (2)**\n",
        "\n",
        "* in / not in 연산자\n",
        "\n"
      ],
      "metadata": {
        "id": "K5WVoe3HVD-p"
      }
    },
    {
      "cell_type": "code",
      "source": [
        "# 1) 'selena_class' 문자열에 'c'가 포함되어 있다면 True, 포함 되어 있지 않다면 False 출력하는 조건문 구현\n",
        "if 'c' in 'selena_class' :\n",
        "  print(True)\n",
        "else :\n",
        "  print(False)"
      ],
      "metadata": {
        "id": "IcHqnGPKVEsZ",
        "colab": {
          "base_uri": "https://localhost:8080/"
        },
        "outputId": "94508eef-152a-4c5e-84f7-af747d5eba47"
      },
      "execution_count": null,
      "outputs": [
        {
          "output_type": "stream",
          "name": "stdout",
          "text": [
            "True\n"
          ]
        }
      ]
    },
    {
      "cell_type": "markdown",
      "source": [
        "## **3. 조건문 문제 (3)**\n",
        "\n",
        "* pass 키워드\n",
        "\n"
      ],
      "metadata": {
        "id": "Tqyu6-1FVHEJ"
      }
    },
    {
      "cell_type": "code",
      "source": [
        "# 1) 'basket' 리스트는 apple, strawberry, melon으로 이루어져 있음\n",
        "# 2) 'basket' 리스트에 orange가 없다면 pass 키워드 설정하는 조건문 구현\n",
        "basket = ['apple', 'strawberry', 'melon']\n",
        "\n",
        "if 'orange' not in basket :\n",
        "  pass"
      ],
      "metadata": {
        "id": "vhuEgkvBVIAV"
      },
      "execution_count": null,
      "outputs": []
    }
  ]
}