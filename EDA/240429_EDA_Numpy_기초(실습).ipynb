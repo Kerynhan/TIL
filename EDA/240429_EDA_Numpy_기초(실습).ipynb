{
  "cells": [
    {
      "cell_type": "markdown",
      "metadata": {
        "id": "kv6gH7G01Pal"
      },
      "source": [
        "## Numpy"
      ]
    },
    {
      "cell_type": "markdown",
      "metadata": {
        "id": "RQWkeQgD1Pam"
      },
      "source": [
        "### 1. Numpy Array and Operation"
      ]
    },
    {
      "cell_type": "markdown",
      "metadata": {
        "id": "igGUA1oE1Pam"
      },
      "source": [
        "- numpy의 기본적인 사용법에 대해서 배워봅니다.\n",
        "\n",
        "\n",
        "- numpy에서 numpy.array를 만드는 여러가지 방법과 지원하는 연산자에 대해서 공부합니다.\n",
        "\n",
        "< numpy.array 의 특징 >\n",
        "1. 모든 원소의 dtype이 같다.\n",
        "2. 연산의 의미가 조금 다르다. (broadcasting)\n",
        "3. 대용량 array 인 경우에 for문을 직접 사용하는 것보다 내부적으로 정의된 연산을 사용하는게 더 빠르다.\n",
        "4. 생성 후에 크기 변경이 불가능합니다.(원소는 바꿀 수 있다.)"
      ]
    },
    {
      "cell_type": "markdown",
      "metadata": {
        "id": "ZzPzxgQ53PcS"
      },
      "source": [
        "### 1.1. Numpy Array creation"
      ]
    },
    {
      "cell_type": "code",
      "execution_count": null,
      "metadata": {
        "id": "MoD6QOXY1Pan"
      },
      "outputs": [],
      "source": [
        "# numpy 라이브러리를 불러옵니다.\n",
        "import numpy as np"
      ]
    },
    {
      "cell_type": "code",
      "source": [
        "#np.__version__"
      ],
      "metadata": {
        "colab": {
          "base_uri": "https://localhost:8080/",
          "height": 36
        },
        "id": "QR0LM377cnXR",
        "outputId": "ebb029af-04e4-407e-e9bc-15795a5267a8"
      },
      "execution_count": null,
      "outputs": [
        {
          "output_type": "execute_result",
          "data": {
            "text/plain": [
              "'1.25.2'"
            ],
            "application/vnd.google.colaboratory.intrinsic+json": {
              "type": "string"
            }
          },
          "metadata": {},
          "execution_count": 2
        }
      ]
    },
    {
      "cell_type": "code",
      "execution_count": null,
      "metadata": {
        "id": "bqVEQaBP1Pan"
      },
      "outputs": [],
      "source": [
        "# 파이썬 리스트 선언\n",
        "data = [1, 2, 3, 4]"
      ]
    },
    {
      "cell_type": "code",
      "execution_count": null,
      "metadata": {
        "id": "jADukVLG1Pan"
      },
      "outputs": [],
      "source": [
        "# 파이썬 2차원 리스트(행렬) 선언\n",
        "data2 = [[1, 2],\n",
        "         [3, 4]]"
      ]
    },
    {
      "cell_type": "code",
      "execution_count": null,
      "metadata": {
        "id": "jQq60ZfX1Pan",
        "colab": {
          "base_uri": "https://localhost:8080/"
        },
        "outputId": "f2b4a8eb-4dbf-42dc-b4bf-009e19cd98b3"
      },
      "outputs": [
        {
          "output_type": "execute_result",
          "data": {
            "text/plain": [
              "array([1, 2, 3, 4])"
            ]
          },
          "metadata": {},
          "execution_count": 5
        }
      ],
      "source": [
        "# 파이썬 list를 numpy array로 변환합니다.\n",
        "\n",
        "# numpy array를 만드는 방식의 대부분은 파이썬 리스트를 np.array로 변환하는 방식입니다.\n",
        "np.array(data)"
      ]
    },
    {
      "cell_type": "code",
      "execution_count": null,
      "metadata": {
        "id": "eqbxPjfu1Pao",
        "colab": {
          "base_uri": "https://localhost:8080/"
        },
        "outputId": "19f5b2d4-2c51-4d03-8f8c-aa930960e2c3"
      },
      "outputs": [
        {
          "output_type": "execute_result",
          "data": {
            "text/plain": [
              "(2, 2)"
            ]
          },
          "metadata": {},
          "execution_count": 9
        }
      ],
      "source": [
        "# 2차원 리스트를 np.array로 만듭니다.\n",
        "arr2 = np.array(data2) # data2라는 리스트를 numpy array로 만들어라.\n",
        "arr2.shape"
      ]
    },
    {
      "cell_type": "code",
      "execution_count": null,
      "metadata": {
        "id": "oMdYjtc21Pao",
        "colab": {
          "base_uri": "https://localhost:8080/"
        },
        "outputId": "8683080a-f0f2-4f7c-ed8d-091d111a3c14"
      },
      "outputs": [
        {
          "output_type": "execute_result",
          "data": {
            "text/plain": [
              "array([[-0.89868307, -0.05745324,  0.79060594],\n",
              "       [-1.22957092,  0.67825389,  0.71189405],\n",
              "       [ 1.85515739, -0.06538827,  0.26570045],\n",
              "       [-0.49113245, -0.85397007, -0.48243132],\n",
              "       [-0.6219323 ,  0.30376292, -1.24048611]])"
            ]
          },
          "metadata": {},
          "execution_count": 18
        }
      ],
      "source": [
        "# 0부터 9까지 숫자를 자동으로 생성한 array\n",
        "np.arange(0, 10).shape #(10, )\n",
        "np.zeros(shape=(5, 3, 4))\n",
        "np.linspace(0, 1, 100) # [start, stop]에서 number를 균등한 구간으로 잘라서 원소를 생성.\n",
        "np.random.randn(5, 3)  # 주어진 shape을 가지는 numpy array 를 만들어주는데, 원소는 표준정규분포에서 sampling."
      ]
    },
    {
      "cell_type": "code",
      "execution_count": null,
      "metadata": {
        "id": "NwMSPz0Z1Pao"
      },
      "outputs": [],
      "source": [
        "# 10부터 99까지 숫자를 자동으로 생성한 array\n"
      ]
    },
    {
      "cell_type": "markdown",
      "metadata": {
        "id": "UFFwSitw1Pao"
      },
      "source": [
        "### 1.2. Reshaping array"
      ]
    },
    {
      "cell_type": "code",
      "execution_count": null,
      "metadata": {
        "id": "-vcHHFl81Pao",
        "colab": {
          "base_uri": "https://localhost:8080/"
        },
        "outputId": "aa808179-0453-4589-e930-9e0bc0a1edaf"
      },
      "outputs": [
        {
          "output_type": "execute_result",
          "data": {
            "text/plain": [
              "array([[[0., 0., 0., 0.],\n",
              "        [0., 0., 0., 0.],\n",
              "        [0., 0., 0., 0.]],\n",
              "\n",
              "       [[0., 0., 0., 0.],\n",
              "        [0., 0., 0., 0.],\n",
              "        [0., 0., 0., 0.]],\n",
              "\n",
              "       [[0., 0., 0., 0.],\n",
              "        [0., 0., 0., 0.],\n",
              "        [0., 0., 0., 0.]],\n",
              "\n",
              "       [[0., 0., 0., 0.],\n",
              "        [0., 0., 0., 0.],\n",
              "        [0., 0., 0., 0.]],\n",
              "\n",
              "       [[0., 0., 0., 0.],\n",
              "        [0., 0., 0., 0.],\n",
              "        [0., 0., 0., 0.]]])"
            ]
          },
          "metadata": {},
          "execution_count": 20
        }
      ],
      "source": [
        "# 3 x 3 행렬을 만들어봅시다.\n",
        "# 1차원: vector\n",
        "# 2차원: martix\n",
        "# 3차원 이상: temsor\n",
        "# shape은 가장 바깥 괄호부터 원소의 개수를 순차적으로 기록한 것으로 정의/\n",
        "x = np.zeros(shape=(5,3, 4))\n",
        "\n",
        "# 224 x 224 크기의\n",
        "x"
      ]
    },
    {
      "cell_type": "code",
      "execution_count": null,
      "metadata": {
        "id": "HChX3Sv91Pao",
        "colab": {
          "base_uri": "https://localhost:8080/"
        },
        "outputId": "8fad5d8a-ea1f-487f-89ae-605ae65bfd11"
      },
      "outputs": [
        {
          "output_type": "execute_result",
          "data": {
            "text/plain": [
              "array([[1, 2, 3],\n",
              "       [4, 5, 6],\n",
              "       [7, 8, 9]])"
            ]
          },
          "metadata": {},
          "execution_count": 22
        }
      ],
      "source": [
        "# reshape을 이용하여 만들어봅시다.\n",
        "x = np.arange(1, 10).reshape(3, 3)\n",
        "#x = np.arange(1, 10).reshape(2, 4)\n",
        "x"
      ]
    },
    {
      "cell_type": "code",
      "source": [
        "x = np.arange(1, 10).reshape(9, 1) # (9, ) != (9, 1)\n",
        "x"
      ],
      "metadata": {
        "colab": {
          "base_uri": "https://localhost:8080/"
        },
        "id": "T5heJgkttxlV",
        "outputId": "60bdbf37-97fa-48db-cd3d-230fb6bb6930"
      },
      "execution_count": null,
      "outputs": [
        {
          "output_type": "execute_result",
          "data": {
            "text/plain": [
              "array([[1],\n",
              "       [2],\n",
              "       [3],\n",
              "       [4],\n",
              "       [5],\n",
              "       [6],\n",
              "       [7],\n",
              "       [8],\n",
              "       [9]])"
            ]
          },
          "metadata": {},
          "execution_count": 23
        }
      ]
    },
    {
      "cell_type": "code",
      "source": [
        "# x = np.arange(1, 121).reshape(24, -1) # 계산하기 어려울 땐 -1, 약수가 아닌 '7'같은건 안됨.\n",
        "x = np.arange(1, 121).reshape(-1, 4, 2)\n",
        "x"
      ],
      "metadata": {
        "colab": {
          "base_uri": "https://localhost:8080/"
        },
        "id": "vVFb30dCuI_T",
        "outputId": "6910f474-3578-4f60-f072-5cf12f71f9f5"
      },
      "execution_count": null,
      "outputs": [
        {
          "output_type": "execute_result",
          "data": {
            "text/plain": [
              "array([[[  1,   2],\n",
              "        [  3,   4],\n",
              "        [  5,   6],\n",
              "        [  7,   8]],\n",
              "\n",
              "       [[  9,  10],\n",
              "        [ 11,  12],\n",
              "        [ 13,  14],\n",
              "        [ 15,  16]],\n",
              "\n",
              "       [[ 17,  18],\n",
              "        [ 19,  20],\n",
              "        [ 21,  22],\n",
              "        [ 23,  24]],\n",
              "\n",
              "       [[ 25,  26],\n",
              "        [ 27,  28],\n",
              "        [ 29,  30],\n",
              "        [ 31,  32]],\n",
              "\n",
              "       [[ 33,  34],\n",
              "        [ 35,  36],\n",
              "        [ 37,  38],\n",
              "        [ 39,  40]],\n",
              "\n",
              "       [[ 41,  42],\n",
              "        [ 43,  44],\n",
              "        [ 45,  46],\n",
              "        [ 47,  48]],\n",
              "\n",
              "       [[ 49,  50],\n",
              "        [ 51,  52],\n",
              "        [ 53,  54],\n",
              "        [ 55,  56]],\n",
              "\n",
              "       [[ 57,  58],\n",
              "        [ 59,  60],\n",
              "        [ 61,  62],\n",
              "        [ 63,  64]],\n",
              "\n",
              "       [[ 65,  66],\n",
              "        [ 67,  68],\n",
              "        [ 69,  70],\n",
              "        [ 71,  72]],\n",
              "\n",
              "       [[ 73,  74],\n",
              "        [ 75,  76],\n",
              "        [ 77,  78],\n",
              "        [ 79,  80]],\n",
              "\n",
              "       [[ 81,  82],\n",
              "        [ 83,  84],\n",
              "        [ 85,  86],\n",
              "        [ 87,  88]],\n",
              "\n",
              "       [[ 89,  90],\n",
              "        [ 91,  92],\n",
              "        [ 93,  94],\n",
              "        [ 95,  96]],\n",
              "\n",
              "       [[ 97,  98],\n",
              "        [ 99, 100],\n",
              "        [101, 102],\n",
              "        [103, 104]],\n",
              "\n",
              "       [[105, 106],\n",
              "        [107, 108],\n",
              "        [109, 110],\n",
              "        [111, 112]],\n",
              "\n",
              "       [[113, 114],\n",
              "        [115, 116],\n",
              "        [117, 118],\n",
              "        [119, 120]]])"
            ]
          },
          "metadata": {},
          "execution_count": 28
        }
      ]
    },
    {
      "cell_type": "code",
      "execution_count": null,
      "metadata": {
        "id": "jKHQRaFx5QFT"
      },
      "outputs": [],
      "source": [
        "# row vector를 column vector로\n"
      ]
    },
    {
      "cell_type": "code",
      "execution_count": null,
      "metadata": {
        "id": "Jre4TnZT5YwK"
      },
      "outputs": [],
      "source": [
        "# 펼치기\n"
      ]
    },
    {
      "cell_type": "markdown",
      "metadata": {
        "id": "MMrKtZy-1Pao"
      },
      "source": [
        "### 1.3. Concatenation of arrays"
      ]
    },
    {
      "cell_type": "code",
      "execution_count": null,
      "metadata": {
        "id": "6g1bOHDn1Pao",
        "colab": {
          "base_uri": "https://localhost:8080/"
        },
        "outputId": "fe1445ea-3342-4220-a6e2-b0093ac14b81"
      },
      "outputs": [
        {
          "output_type": "execute_result",
          "data": {
            "text/plain": [
              "array([5, 7, 9])"
            ]
          },
          "metadata": {},
          "execution_count": 29
        }
      ],
      "source": [
        "arr1 = np.array([1, 2, 3])\n",
        "arr2 = np.array([4, 5, 6])\n",
        "# arr1 + arr2 = ?\n",
        "\n",
        "# arr1와 arr2를 합칩니다\n",
        "arr1 + arr2"
      ]
    },
    {
      "cell_type": "code",
      "execution_count": null,
      "metadata": {
        "id": "ePV80Pwx1Pao",
        "colab": {
          "base_uri": "https://localhost:8080/"
        },
        "outputId": "e2adff42-5a8c-4ff8-9deb-221a0bcad608"
      },
      "outputs": [
        {
          "output_type": "execute_result",
          "data": {
            "text/plain": [
              "array([[1, 2, 3],\n",
              "       [4, 5, 6]])"
            ]
          },
          "metadata": {},
          "execution_count": 31
        }
      ],
      "source": [
        "# stacking vertically\n",
        "np.vstack([arr1, arr2])"
      ]
    },
    {
      "cell_type": "code",
      "execution_count": null,
      "metadata": {
        "id": "xcY9pR2M1Pap",
        "colab": {
          "base_uri": "https://localhost:8080/"
        },
        "outputId": "d6f56d19-d240-4c19-97b3-2253ea1357bc"
      },
      "outputs": [
        {
          "output_type": "execute_result",
          "data": {
            "text/plain": [
              "array([1, 2, 3, 4, 5, 6])"
            ]
          },
          "metadata": {},
          "execution_count": 32
        }
      ],
      "source": [
        "# stacking horizontally\n",
        "np.hstack([arr1, arr2])"
      ]
    },
    {
      "cell_type": "markdown",
      "metadata": {
        "id": "1Pioy4a-1Pap"
      },
      "source": [
        "## 1.4. Array Arithmetic (like vector) --> Universal Function"
      ]
    },
    {
      "cell_type": "code",
      "execution_count": null,
      "metadata": {
        "id": "sxjF6pdh1Pap"
      },
      "outputs": [],
      "source": [
        "# v1 = (1, 2, 3), v2 = (4, 5, 6) 벡터 2개 생성하기. # 원소끼리 계산함.\n",
        "v1 = np.array((1, 2, 3))\n",
        "v2 = np.array((4, 5, 6))"
      ]
    },
    {
      "cell_type": "code",
      "execution_count": null,
      "metadata": {
        "id": "KFKEKB711Pap",
        "colab": {
          "base_uri": "https://localhost:8080/"
        },
        "outputId": "dfa0002e-a302-43e8-c032-68e9a04e3287"
      },
      "outputs": [
        {
          "output_type": "execute_result",
          "data": {
            "text/plain": [
              "array([2, 4, 6])"
            ]
          },
          "metadata": {},
          "execution_count": 35
        }
      ],
      "source": [
        "# 리스트로 더하기 연산해보기\n",
        "v1 + v1"
      ]
    },
    {
      "cell_type": "code",
      "execution_count": null,
      "metadata": {
        "id": "UiDh2wZX1Pap"
      },
      "outputs": [],
      "source": [
        "#  vector addition\n"
      ]
    },
    {
      "cell_type": "code",
      "execution_count": null,
      "metadata": {
        "id": "z1uh1zIW1Pap",
        "colab": {
          "base_uri": "https://localhost:8080/"
        },
        "outputId": "88d7b024-10a9-4ab0-e484-f5a2fe2ddeba"
      },
      "outputs": [
        {
          "output_type": "execute_result",
          "data": {
            "text/plain": [
              "array([-3, -3, -3])"
            ]
          },
          "metadata": {},
          "execution_count": 36
        }
      ],
      "source": [
        "#  vector subtraction\n",
        "v1 - v2"
      ]
    },
    {
      "cell_type": "code",
      "execution_count": null,
      "metadata": {
        "id": "Kp3n7JU91Pap",
        "colab": {
          "base_uri": "https://localhost:8080/"
        },
        "outputId": "f0d1d39e-6866-4b4a-a61d-c5fc27167df1"
      },
      "outputs": [
        {
          "output_type": "execute_result",
          "data": {
            "text/plain": [
              "array([ 4, 10, 18])"
            ]
          },
          "metadata": {},
          "execution_count": 37
        }
      ],
      "source": [
        "# (not vector operation) elementwise multiplication\n",
        "v1 * v2"
      ]
    },
    {
      "cell_type": "code",
      "execution_count": null,
      "metadata": {
        "id": "WQDxd6ew1Pap",
        "colab": {
          "base_uri": "https://localhost:8080/"
        },
        "outputId": "e2e9a941-d436-4f6d-dc22-eb591b68b52f"
      },
      "outputs": [
        {
          "output_type": "execute_result",
          "data": {
            "text/plain": [
              "array([0.25, 0.4 , 0.5 ])"
            ]
          },
          "metadata": {},
          "execution_count": 38
        }
      ],
      "source": [
        "# (not vector operation) elementwise division\n",
        "v1 / v2"
      ]
    },
    {
      "cell_type": "code",
      "execution_count": null,
      "metadata": {
        "id": "Kh9DEujN1Pap",
        "colab": {
          "base_uri": "https://localhost:8080/"
        },
        "outputId": "35747a89-57dc-4e57-a4fe-48b6133f75f0"
      },
      "outputs": [
        {
          "output_type": "execute_result",
          "data": {
            "text/plain": [
              "32"
            ]
          },
          "metadata": {},
          "execution_count": 40
        }
      ],
      "source": [
        "# dot product (곱한 후 더한 값)\n",
        "v1 @ v2"
      ]
    },
    {
      "cell_type": "markdown",
      "metadata": {
        "id": "Dp11IV1l1Pap"
      },
      "source": [
        "### 1.5. Broadcast and Universal Function"
      ]
    },
    {
      "cell_type": "markdown",
      "metadata": {
        "id": "lbGKwuWf1Pap"
      },
      "source": [
        "- 서로 크기가 다른 numpy array를 연산할 때, 자동으로 연산을 전파(broadcast)해주는 기능. 행렬곱 연산을 할 때 편리하다."
      ]
    },
    {
      "cell_type": "code",
      "execution_count": null,
      "metadata": {
        "id": "g8pG0d-V1Paq"
      },
      "outputs": [],
      "source": [
        "arr1 = np.array([1, 2, 3])"
      ]
    },
    {
      "cell_type": "code",
      "execution_count": null,
      "metadata": {
        "id": "CQDgu7vG1Paq"
      },
      "outputs": [],
      "source": [
        "# arr2 = np.array([-1, -1, -1])\n",
        "# arr2 = np.array([-1, -1, -1, -1])\n",
        "arr2 = np.array(([-1, -1, -1],\n",
        "                [1, 1, 1]))"
      ]
    },
    {
      "cell_type": "code",
      "execution_count": null,
      "metadata": {
        "id": "-4EWUAZB1Paq",
        "colab": {
          "base_uri": "https://localhost:8080/"
        },
        "outputId": "6bfbfd65-12ee-40be-d662-db4c1d00b9ee"
      },
      "outputs": [
        {
          "output_type": "execute_result",
          "data": {
            "text/plain": [
              "array([[0, 1, 2],\n",
              "       [2, 3, 4]])"
            ]
          },
          "metadata": {},
          "execution_count": 47
        }
      ],
      "source": [
        "# 2개의 array를 더해보면?\n",
        "# arr1 + arr2 # 2->2->3(v)\n",
        "arr1 + arr2 # (3, ) + (2, 3) 크기가 매칭되는 것을 찾아서 연산 (3, ) + (3, 2)는 안됨\n",
        "# (3, ) + (3, 4, 5) (v)\n",
        "# (3, 4) + (5, 4, 3) (v)\n",
        "# (3, 4) + (3, 4, 5) (x)"
      ]
    },
    {
      "cell_type": "code",
      "execution_count": null,
      "metadata": {
        "id": "EvOolsHz1Paq",
        "colab": {
          "base_uri": "https://localhost:8080/"
        },
        "outputId": "f42a6a9a-bc0b-4e46-a80a-c1eff6bca54f"
      },
      "outputs": [
        {
          "output_type": "execute_result",
          "data": {
            "text/plain": [
              "array([[-1, -2, -3],\n",
              "       [ 1,  2,  3]])"
            ]
          },
          "metadata": {},
          "execution_count": 48
        }
      ],
      "source": [
        "# 2개의 array를 곱해보면? (**)\n",
        "arr1 * arr2"
      ]
    },
    {
      "cell_type": "markdown",
      "metadata": {
        "id": "Rch_pHQW55S-"
      },
      "source": [
        "- Universal Function : broadcast 기능을 확장해서, numpy array의 모든 원소에 동일한 함수를 반복문으로 적용한 것과 같은 효과를 내는 기능."
      ]
    },
    {
      "cell_type": "code",
      "execution_count": null,
      "metadata": {
        "id": "AeXAfqUI6H0V"
      },
      "outputs": [],
      "source": [
        "# f = lambda x : 1/x\n",
        "arr1 / 1 ## int -> float\n",
        "\n",
        "## Universal Function\n",
        "1 / arr1 ## 각 원소를 reverse 연산.\n",
        "\n",
        "def reverse_num(x):\n",
        "  return 1/x\n",
        "for i in range(len(arr1)):\n",
        "  arr1[i] = reverse_num(arr1[i])"
      ]
    },
    {
      "cell_type": "code",
      "execution_count": null,
      "metadata": {
        "id": "xt20aKq21Paq"
      },
      "outputs": [],
      "source": [
        "# f = lambda x : x + 2\n"
      ]
    },
    {
      "cell_type": "markdown",
      "metadata": {
        "id": "JQ9vQmo-1Paq"
      },
      "source": [
        "### 1.6. Indexing\n",
        "Pandas에서 배울 예정"
      ]
    },
    {
      "cell_type": "code",
      "execution_count": null,
      "metadata": {
        "id": "C2U2Y3Sz1Paq"
      },
      "outputs": [],
      "source": [
        "arr1 = np.arange(10)"
      ]
    },
    {
      "cell_type": "code",
      "execution_count": null,
      "metadata": {
        "id": "5WULHYrI1Paq"
      },
      "outputs": [],
      "source": [
        "# 첫번째 원소\n"
      ]
    },
    {
      "cell_type": "code",
      "execution_count": null,
      "metadata": {
        "id": "_N-nEw7V1Paq"
      },
      "outputs": [],
      "source": [
        "# 마지막 원소\n"
      ]
    },
    {
      "cell_type": "code",
      "execution_count": null,
      "metadata": {
        "id": "wNQa8qoO1Paq"
      },
      "outputs": [],
      "source": [
        "# 앞에서부터 원소 3개 slicing\n"
      ]
    },
    {
      "cell_type": "code",
      "execution_count": null,
      "metadata": {
        "id": "29pYfFvL1Paq"
      },
      "outputs": [],
      "source": [
        "arr2 = np.array([[1, 2, 3, 4],\n",
        "               [5, 6, 7, 8],\n",
        "               [9, 10, 11, 12]])\n",
        "arr2"
      ]
    },
    {
      "cell_type": "code",
      "execution_count": null,
      "metadata": {
        "id": "p8EFXNq91Paq"
      },
      "outputs": [],
      "source": [
        "# arr2의 2row, 3column 원소 = 7\n"
      ]
    },
    {
      "cell_type": "code",
      "execution_count": null,
      "metadata": {
        "id": "OVgw4bT11Paq"
      },
      "outputs": [],
      "source": [
        "# arr2의 세번째 column [3, 7, 11]\n"
      ]
    },
    {
      "cell_type": "code",
      "execution_count": null,
      "metadata": {
        "id": "krLo7Tvg1Paq"
      },
      "outputs": [],
      "source": [
        "# arr2의 두번째 row\n"
      ]
    },
    {
      "cell_type": "markdown",
      "metadata": {
        "id": "nb3NOpgU1Par"
      },
      "source": [
        "## 2. Numpy Methods\n",
        "\n",
        "- numpy에서 사용되는 여러가지 함수들을 사용해봅시다."
      ]
    },
    {
      "cell_type": "markdown",
      "metadata": {
        "id": "wsDCnH9Q1Par"
      },
      "source": [
        "### 2.1. Math Functions"
      ]
    },
    {
      "cell_type": "code",
      "execution_count": null,
      "metadata": {
        "id": "Pme3p6FQ1Par",
        "colab": {
          "base_uri": "https://localhost:8080/"
        },
        "outputId": "25cb5a27-ecd1-4727-c74c-cda2550b637d"
      },
      "outputs": [
        {
          "output_type": "execute_result",
          "data": {
            "text/plain": [
              "array([[ 0.49671415, -0.1382643 ,  0.64768854],\n",
              "       [ 1.52302986, -0.23415337, -0.23413696],\n",
              "       [ 1.57921282,  0.76743473, -0.46947439],\n",
              "       [ 0.54256004, -0.46341769, -0.46572975],\n",
              "       [ 0.24196227, -1.91328024, -1.72491783]])"
            ]
          },
          "metadata": {},
          "execution_count": 57
        }
      ],
      "source": [
        "# 표준정규분포에서 random sampling을 한 원소를 가지는 5x3 행렬을 만든다.\n",
        "# pseudo-random : 현재 시각(ns)\n",
        "np.random.seed(42) # set send number\n",
        "mat1 = np.random.randn(5, 3)\n",
        "mat1"
      ]
    },
    {
      "cell_type": "code",
      "execution_count": null,
      "metadata": {
        "id": "YnWulebZ1Par",
        "colab": {
          "base_uri": "https://localhost:8080/"
        },
        "outputId": "b554109a-36f2-47ad-833f-70b51bf51ac8"
      },
      "outputs": [
        {
          "output_type": "execute_result",
          "data": {
            "text/plain": [
              "array([[0.49671415, 0.1382643 , 0.64768854],\n",
              "       [1.52302986, 0.23415337, 0.23413696],\n",
              "       [1.57921282, 0.76743473, 0.46947439],\n",
              "       [0.54256004, 0.46341769, 0.46572975],\n",
              "       [0.24196227, 1.91328024, 1.72491783]])"
            ]
          },
          "metadata": {},
          "execution_count": 58
        }
      ],
      "source": [
        "# mat1에 절대값 씌우기\n",
        "np.abs(mat1)"
      ]
    },
    {
      "cell_type": "code",
      "execution_count": null,
      "metadata": {
        "id": "LEt94K-t6sdK",
        "colab": {
          "base_uri": "https://localhost:8080/"
        },
        "outputId": "65e4967a-9f25-4352-fac3-bed69b3ccac4"
      },
      "outputs": [
        {
          "output_type": "execute_result",
          "data": {
            "text/plain": [
              "array([[0.24672495, 0.01911702, 0.41950044],\n",
              "       [2.31961994, 0.0548278 , 0.05482011],\n",
              "       [2.49391312, 0.58895606, 0.2204062 ],\n",
              "       [0.2943714 , 0.21475596, 0.2169042 ],\n",
              "       [0.05854574, 3.66064129, 2.97534153]])"
            ]
          },
          "metadata": {},
          "execution_count": 59
        }
      ],
      "source": [
        "# mat1 제곱하기\n",
        "np.square(mat1)"
      ]
    },
    {
      "cell_type": "code",
      "execution_count": null,
      "metadata": {
        "id": "mFldaHe_6wHC",
        "colab": {
          "base_uri": "https://localhost:8080/"
        },
        "outputId": "54d312ab-90e6-4168-b0ef-9cfb84d7f373"
      },
      "outputs": [
        {
          "output_type": "execute_result",
          "data": {
            "text/plain": [
              "array([[0.70477951+0.j        , 0.        +0.37183908j,\n",
              "        0.80479099+0.j        ],\n",
              "       [1.23411096+0.j        , 0.        +0.48389397j,\n",
              "        0.        +0.48387701j],\n",
              "       [1.25666734+0.j        , 0.87603352+0.j        ,\n",
              "        0.        +0.68518201j],\n",
              "       [0.73658675+0.j        , 0.        +0.68074789j,\n",
              "        0.        +0.68244396j],\n",
              "       [0.49189661+0.j        , 0.        +1.38321374j,\n",
              "        0.        +1.31336127j]])"
            ]
          },
          "metadata": {},
          "execution_count": 63
        }
      ],
      "source": [
        "# mat1의 제곱근 구하기\n",
        "np.sqrt(mat1.astype('complex')) #nan = nat a number - 복소수 => .astype('complex') 추가해줌"
      ]
    },
    {
      "cell_type": "code",
      "execution_count": null,
      "metadata": {
        "id": "khqI2kwA62Ez",
        "colab": {
          "base_uri": "https://localhost:8080/"
        },
        "outputId": "df47476c-7203-4e88-facf-ed4acfe0fb34"
      },
      "outputs": [
        {
          "output_type": "execute_result",
          "data": {
            "text/plain": [
              "EigResult(eigenvalues=array([1., 1.]), eigenvectors=array([[1., 0.],\n",
              "       [0., 1.]]))"
            ]
          },
          "metadata": {},
          "execution_count": 65
        }
      ],
      "source": [
        "# linear algebra functions\n",
        "vec = np.array([1, 2, 3,])\n",
        "\n",
        "# 1. norm\n",
        "np.linalg.norm(vec)\n",
        "\n",
        "# 2. eigenvalue\n",
        "mat = np.array([[1, 0],\n",
        "               [0, 1]])\n",
        "np.linalg.eig(mat)"
      ]
    },
    {
      "cell_type": "markdown",
      "metadata": {
        "id": "Tk5S0yOf1Par"
      },
      "source": [
        "### 2.2. Aggregation functions : 합계, 집계"
      ]
    },
    {
      "cell_type": "code",
      "execution_count": null,
      "metadata": {
        "id": "b0ei5LJ51Par",
        "colab": {
          "base_uri": "https://localhost:8080/"
        },
        "outputId": "90950888-c592-411d-a19f-187f799617a5"
      },
      "outputs": [
        {
          "output_type": "execute_result",
          "data": {
            "text/plain": [
              "array([[0.5488135 , 0.71518937],\n",
              "       [0.60276338, 0.54488318],\n",
              "       [0.4236548 , 0.64589411]])"
            ]
          },
          "metadata": {},
          "execution_count": 66
        }
      ],
      "source": [
        "np.random.seed(0)\n",
        "mat2 = np.random.rand(3, 2)\n",
        "mat2"
      ]
    },
    {
      "cell_type": "code",
      "execution_count": null,
      "metadata": {
        "id": "hMKOS5O51Par",
        "colab": {
          "base_uri": "https://localhost:8080/"
        },
        "outputId": "95cc1a22-aee7-400a-a37b-c369f710c0bf"
      },
      "outputs": [
        {
          "output_type": "execute_result",
          "data": {
            "text/plain": [
              "array([1.26400287, 1.14764656, 1.06954891])"
            ]
          },
          "metadata": {},
          "execution_count": 69
        }
      ],
      "source": [
        "# Summation\n",
        "# axis=0 : 세로방향(=column 방향), axis=1 : 가로방향(row)\n",
        "np.sum(mat2, axis=1) #axis 어떤 축을 기준으로 더하겠다. 0은 첫번째-세로방향-컬럼방향,1은 두번째-가로방향-row방향"
      ]
    },
    {
      "cell_type": "code",
      "execution_count": null,
      "metadata": {
        "id": "OdJZdrx_1Par",
        "colab": {
          "base_uri": "https://localhost:8080/"
        },
        "outputId": "a550bdba-67b7-49d5-96a4-e1b196ff2633"
      },
      "outputs": [
        {
          "output_type": "execute_result",
          "data": {
            "text/plain": [
              "array([0.52507723, 0.63532222])"
            ]
          },
          "metadata": {},
          "execution_count": 70
        }
      ],
      "source": [
        "# mean\n",
        "np.mean(mat2, axis=0)"
      ]
    },
    {
      "cell_type": "code",
      "execution_count": null,
      "metadata": {
        "id": "78xMuXMY1Par",
        "colab": {
          "base_uri": "https://localhost:8080/"
        },
        "outputId": "9b21e75a-5783-4adf-9737-4169c1bcc746"
      },
      "outputs": [
        {
          "output_type": "execute_result",
          "data": {
            "text/plain": [
              "array([0.63200144, 0.57382328, 0.53477446])"
            ]
          },
          "metadata": {},
          "execution_count": 71
        }
      ],
      "source": [
        "# std\n",
        "np.mean(mat2, axis=1)"
      ]
    },
    {
      "cell_type": "code",
      "execution_count": null,
      "metadata": {
        "id": "KzfPurFc1Par",
        "colab": {
          "base_uri": "https://localhost:8080/"
        },
        "outputId": "2533f0dd-07d2-4d97-d5d5-ee447f6301b4"
      },
      "outputs": [
        {
          "output_type": "execute_result",
          "data": {
            "text/plain": [
              "array([[0.5488135 , 0.71518937],\n",
              "       [0.60276338, 0.54488318],\n",
              "       [0.4236548 , 0.64589411]])"
            ]
          },
          "metadata": {},
          "execution_count": 73
        }
      ],
      "source": [
        "# min, max\n",
        "np.min(mat2)\n",
        "np.min(mat2, axis=1)\n",
        "mat2"
      ]
    },
    {
      "cell_type": "code",
      "execution_count": null,
      "metadata": {
        "id": "YtRtiSG31Pas",
        "colab": {
          "base_uri": "https://localhost:8080/"
        },
        "outputId": "a2f59546-65a1-4cb5-ebf9-7fb0ed56cd6a"
      },
      "outputs": [
        {
          "output_type": "execute_result",
          "data": {
            "text/plain": [
              "array([0, 1, 0])"
            ]
          },
          "metadata": {},
          "execution_count": 74
        }
      ],
      "source": [
        "# 최소값이 있는 Index\n",
        "np.argmin(mat2,axis=1)"
      ]
    },
    {
      "cell_type": "code",
      "execution_count": null,
      "metadata": {
        "id": "0cndLCKl1Pas",
        "colab": {
          "base_uri": "https://localhost:8080/"
        },
        "outputId": "b24d3b62-d064-4f81-f5ab-7c5d64df07a8"
      },
      "outputs": [
        {
          "output_type": "execute_result",
          "data": {
            "text/plain": [
              "array([1, 0])"
            ]
          },
          "metadata": {},
          "execution_count": 75
        }
      ],
      "source": [
        "# 최대값이 있는 Index\n",
        "np.argmax(mat2,axis=0)"
      ]
    },
    {
      "cell_type": "code",
      "execution_count": null,
      "metadata": {
        "id": "y2LVvF5b1Pas"
      },
      "outputs": [],
      "source": [
        "# 그냥 정렬 (오름차순 정렬만 지원합니다)\n"
      ]
    },
    {
      "cell_type": "code",
      "execution_count": null,
      "metadata": {
        "id": "mLeMOv7f1Pas"
      },
      "outputs": [],
      "source": [
        "# index를 정렬\n"
      ]
    },
    {
      "cell_type": "markdown",
      "metadata": {
        "id": "2a2AgVdm1Pas"
      },
      "source": [
        "## 3. \bPerformance Check"
      ]
    },
    {
      "cell_type": "markdown",
      "metadata": {
        "id": "ciO_FLLW1Pas"
      },
      "source": [
        "- Universal Function 기능을 통해 반복문을 사용한 것보다 훨씬 빠른 성능을 냅니다.\n",
        "\n",
        "\n",
        "- 직접 실험을 통해 그 차이를 확인해보겠습니다."
      ]
    },
    {
      "cell_type": "code",
      "execution_count": null,
      "metadata": {
        "id": "oVBZX1U31Pas"
      },
      "outputs": [],
      "source": [
        "np.random.seed(0)\n",
        "\n",
        "def reverse_num(values):\n",
        "    output = np.empty(len(values))\n",
        "\n",
        "    for i in range(len(values)):\n",
        "        output[i] = 1.0 / values[i]\n",
        "\n",
        "    return output"
      ]
    },
    {
      "cell_type": "code",
      "execution_count": null,
      "metadata": {
        "id": "aagBlNXs1Pas"
      },
      "outputs": [],
      "source": [
        "# 1부터 100까지 범위에서 1000000개를 랜덤으로 뽑아서 array를 만듭니다.\n",
        "big_array ="
      ]
    },
    {
      "cell_type": "code",
      "execution_count": null,
      "metadata": {
        "id": "VMyEUiVM1Pas"
      },
      "outputs": [],
      "source": [
        "%timeit reverse_num(big_array)"
      ]
    },
    {
      "cell_type": "code",
      "execution_count": null,
      "metadata": {
        "id": "k7PvHI7-1Pas"
      },
      "outputs": [],
      "source": [
        "%timeit 1.0 / big_array"
      ]
    },
    {
      "cell_type": "code",
      "execution_count": null,
      "metadata": {
        "id": "_11lEint1Pas"
      },
      "outputs": [],
      "source": []
    }
  ],
  "metadata": {
    "colab": {
      "provenance": []
    },
    "kernelspec": {
      "display_name": "Python 3.10.5 ('fastcampus')",
      "language": "python",
      "name": "python3"
    },
    "language_info": {
      "codemirror_mode": {
        "name": "ipython",
        "version": 3
      },
      "file_extension": ".py",
      "mimetype": "text/x-python",
      "name": "python",
      "nbconvert_exporter": "python",
      "pygments_lexer": "ipython3",
      "version": "3.10.5"
    },
    "vscode": {
      "interpreter": {
        "hash": "ec0e73bc9db08b8d89387f8f6c8d25ddb5b98c92e4d4d339c361044cb7be0e6a"
      }
    }
  },
  "nbformat": 4,
  "nbformat_minor": 0
}