{
  "cells": [
    {
      "cell_type": "markdown",
      "id": "5e1ef153",
      "metadata": {
        "id": "5e1ef153"
      },
      "source": [
        "## 학습 목표\n",
        "\n",
        "- 머신러닝을 위해서, numpy와 pandas의 사용법을 다시 연습합니다.\n",
        "\n",
        "- numpy를 사용하여 여러가지 벡터 연산을 연습하고, 실제 데이터 유사도를 계산해봅시다."
      ]
    },
    {
      "cell_type": "code",
      "execution_count": null,
      "id": "d557202e",
      "metadata": {
        "id": "d557202e"
      },
      "outputs": [],
      "source": [
        "# data를 불러와 봅니다.\n",
        "import numpy as np\n",
        "import pandas as pd\n",
        "\n",
        "np.random.seed(42)\n",
        "data = np.random.randn(10000, 4)"
      ]
    },
    {
      "cell_type": "markdown",
      "id": "5500232c",
      "metadata": {
        "id": "5500232c"
      },
      "source": [
        "#### Q1. 위에서 정의한 data에서 첫번째 row가 가장 가까운 데이터를 찾으시오.\n",
        "\n",
        "> 가까운 데이터를 찾는 기준은 아래 2가지가 있습니다. 아래 2가지의 함수를 각각 구현하고 각 거리 기준별로 가까운 데이터를 찾습니다.\n",
        "\n",
        "1. Euclidean distance\n",
        "- https://en.wikipedia.org/wiki/Euclidean_distance\n",
        "\n",
        "2. Cosine Similarity\n",
        "- https://en.wikipedia.org/wiki/Cosine_similarity"
      ]
    },
    {
      "cell_type": "code",
      "source": [
        "# 유클리디안, 코사인 바로 제공하는 함수\n",
        "\n",
        "# from scipy.spatial.distance import cosine\n",
        "from scipy.spatial.distance import euclidean, cosine\n",
        "from sklearn.metrics.pairwise import paired_cosine_distances, paired_euclidean_distances"
      ],
      "metadata": {
        "id": "P94RwjztjKTm"
      },
      "id": "P94RwjztjKTm",
      "execution_count": null,
      "outputs": []
    },
    {
      "cell_type": "code",
      "source": [
        "euclidean()\n",
        "cos = 1 - cosine()\n",
        "# cosine distance = 1 - cosine similarity\n",
        "# cosine similarity = 1 - cosine distance"
      ],
      "metadata": {
        "id": "lEqe4p0Nkaku"
      },
      "id": "lEqe4p0Nkaku",
      "execution_count": null,
      "outputs": []
    },
    {
      "cell_type": "code",
      "execution_count": null,
      "id": "63a8e6ce",
      "metadata": {
        "id": "63a8e6ce"
      },
      "outputs": [],
      "source": [
        "def euclidean_distance():\n",
        "\n",
        "    return"
      ]
    },
    {
      "cell_type": "code",
      "execution_count": null,
      "id": "152aff60",
      "metadata": {
        "id": "152aff60"
      },
      "outputs": [],
      "source": [
        "def cosine_similarity():\n",
        "\n",
        "    return"
      ]
    },
    {
      "cell_type": "code",
      "execution_count": null,
      "id": "84d447bf",
      "metadata": {
        "id": "84d447bf"
      },
      "outputs": [],
      "source": [
        "## 첫번째 row와 가장 가까운 데이터 찾기\n",
        "target = data[0]\n"
      ]
    },
    {
      "cell_type": "markdown",
      "id": "1608b01d",
      "metadata": {
        "id": "1608b01d"
      },
      "source": [
        "#### Q2. 다음 주어진 2개의 numpy array를 matrix로 생각하고, 2개의 matrix multiplication을 수행하는 코드를 작성하세요."
      ]
    },
    {
      "cell_type": "code",
      "execution_count": null,
      "id": "9a905843",
      "metadata": {
        "id": "9a905843"
      },
      "outputs": [],
      "source": [
        "np.random.seed(42)\n",
        "\n",
        "# 10 x 4\n",
        "mat1 = np.random.randn(10, 4)\n",
        "# 4 x 10\n",
        "mat2 = np.random.randn(4, 10)\n",
        "# = 10 x 10\n",
        "\n",
        "def mat_mul(mat1: np.array, mat2: np.array)-> np.array:\n",
        "    mat3 = None\n",
        "    return mat3\n",
        "\n",
        "mat3 = mat_mul(mat1, mat2)\n",
        "print(mat3)"
      ]
    }
  ],
  "metadata": {
    "kernelspec": {
      "display_name": "Python 3 (ipykernel)",
      "language": "python",
      "name": "python3"
    },
    "language_info": {
      "codemirror_mode": {
        "name": "ipython",
        "version": 3
      },
      "file_extension": ".py",
      "mimetype": "text/x-python",
      "name": "python",
      "nbconvert_exporter": "python",
      "pygments_lexer": "ipython3",
      "version": "3.11.5"
    },
    "colab": {
      "provenance": []
    }
  },
  "nbformat": 4,
  "nbformat_minor": 5
}