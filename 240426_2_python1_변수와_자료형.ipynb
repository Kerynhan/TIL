{
  "cells": [
    {
      "cell_type": "markdown",
      "metadata": {
        "id": "SdmIYz1hKuQK"
      },
      "source": []
    },
    {
      "cell_type": "markdown",
      "metadata": {
        "id": "L-Z4iMThRAcJ"
      },
      "source": [
        "# **STEP 2. 변수와 자료형**"
      ]
    },
    {
      "cell_type": "markdown",
      "metadata": {
        "id": "rnSTb6xsd_Ll"
      },
      "source": [
        "## **01. 변수**\n"
      ]
    },
    {
      "cell_type": "markdown",
      "metadata": {
        "id": "4NldpGKINZqb"
      },
      "source": [
        "### **1. 변수 (variable)**"
      ]
    },
    {
      "cell_type": "markdown",
      "metadata": {
        "id": "ukb05flenmK1"
      },
      "source": [
        "#### **1-1. 변수 이름**\n",
        "- 값(value)의 의미를 추측할 수 있는 이름 사용"
      ]
    },
    {
      "cell_type": "markdown",
      "metadata": {
        "id": "34u4xmdZeSx2"
      },
      "source": [
        "#### **1-2. 변수 의미**\n",
        "\n",
        "- 변수란, '변할 수 있는 것'으로 어떠한 값을 담는 '상자'라고 생각하면 됨\n",
        "> - 예를 들어, A = 1 이라고 하는 것은 1을 A라는 상자(변수)에 담아줘! 라는 의미\n",
        "> - 그리고 이것을 '변수를 선언한다'라고 표현"
      ]
    },
    {
      "cell_type": "code",
      "execution_count": null,
      "metadata": {
        "id": "5PgVkGhtpCET"
      },
      "outputs": [],
      "source": [
        "# 7을 a라는 변수에 담기\n",
        "# 1을 A라는 변수에 담기\n",
        "a=7\n",
        "A=1\n"
      ]
    },
    {
      "cell_type": "markdown",
      "metadata": {
        "id": "3nu2i3SlLYyc"
      },
      "source": [
        "#### **1-3. 변수 선언**\n",
        "- 하나의 변수에 하나의 값을 대입\n",
        "- 두 개의 변수에 같은 값을 대입\n",
        "- 변수에 변수를 대입"
      ]
    },
    {
      "cell_type": "code",
      "execution_count": null,
      "metadata": {
        "id": "PEN9exMdLeIF"
      },
      "outputs": [],
      "source": [
        "# 하나의 변수에 하나의 값을 대입\n",
        "a=1\n",
        "b=1\n"
      ]
    },
    {
      "cell_type": "code",
      "execution_count": null,
      "metadata": {
        "id": "0_WpotmuL6Oh"
      },
      "outputs": [],
      "source": [
        "# 두 개의 변수에 같은 값을 대입\n",
        "a=b=1"
      ]
    },
    {
      "cell_type": "code",
      "execution_count": null,
      "metadata": {
        "id": "0L61UxR2L6JX"
      },
      "outputs": [],
      "source": [
        "# 변수에 변수를 대입\n",
        "a=1\n",
        "b=a"
      ]
    },
    {
      "cell_type": "markdown",
      "metadata": {
        "id": "A4gSfCE1pFCm"
      },
      "source": [
        "#### **1-4. 변수 출력**\n",
        "- 변수에 값이 잘 들어갔는지 확인하고 싶다면, print() 함수를 이용"
      ]
    },
    {
      "cell_type": "code",
      "execution_count": null,
      "metadata": {
        "colab": {
          "base_uri": "https://localhost:8080/"
        },
        "id": "e1rYAvQVpTPL",
        "outputId": "8f9691d1-e061-4c2b-b38f-6521c3112e1f"
      },
      "outputs": [
        {
          "name": "stdout",
          "output_type": "stream",
          "text": [
            "1\n"
          ]
        }
      ],
      "source": [
        "# a 변수의 값 출력\n",
        "# A 변수의 값 출력\n",
        "print(a)\n",
        "\n"
      ]
    },
    {
      "cell_type": "markdown",
      "metadata": {
        "id": "d1JqrAFaREi_"
      },
      "source": [
        "## **02. 자료형**"
      ]
    },
    {
      "cell_type": "markdown",
      "metadata": {
        "id": "TXvMN4-aetT9"
      },
      "source": [
        "### **1. 자료형 (data type)**\n",
        "- 프로그램에서 표현하고 저장하는 데이터 유형\n"
      ]
    },
    {
      "cell_type": "markdown",
      "metadata": {
        "id": "uEJUXB6kRxv1"
      },
      "source": [
        "### **2. 숫자형 (number)**"
      ]
    },
    {
      "cell_type": "markdown",
      "metadata": {
        "id": "57UGNbIaTFBN"
      },
      "source": [
        "#### **2-1. 종류**\n",
        "- 숫자형은 숫자 형태로 이루어진 자료형\n",
        "> - 정수 (integer) : 소수점이 없는 숫자\n",
        "> - 실수, 부동 소수점 (floating point) : 소수점이 있는 숫자"
      ]
    },
    {
      "cell_type": "code",
      "execution_count": null,
      "metadata": {
        "id": "qB6gOpP_tm7T"
      },
      "outputs": [],
      "source": [
        "# 정수 3 출력\n",
        "# 실수 -3.2 출력\n",
        "print(3)\n",
        "print(-3.2)\n"
      ]
    },
    {
      "cell_type": "markdown",
      "metadata": {
        "id": "4Nr7UVvlQdvS"
      },
      "source": [
        "#### **2-2. 데이터 타입 출력**"
      ]
    },
    {
      "cell_type": "markdown",
      "metadata": {
        "id": "k-qgPQD0P0Ut"
      },
      "source": [
        "- type() : 괄호 안에 입력한 데이터 타입을 알려주는 함수\n",
        "> - int : 정수\n",
        "> - float : 실수"
      ]
    },
    {
      "cell_type": "code",
      "execution_count": null,
      "metadata": {
        "id": "YPY2J2C5PriJ"
      },
      "outputs": [],
      "source": [
        "# type()은 괄호 안에 입력한 자료의 유형을 알려주는 함수\n",
        "# 정수 3과 실수 -3.2 대한 자료 유형 출력\n",
        "print(type(3))\n",
        "print(type(-3.2))"
      ]
    },
    {
      "cell_type": "markdown",
      "metadata": {
        "id": "zqwVNK41TTY6"
      },
      "source": [
        "#### **2-3. 연산자**\n",
        "- 사칙 연산자\n",
        "> - 덧셈 (+)\n",
        "> - 뺄셈 (-)\n",
        "> - 곱셈 (*)\n",
        "> - 나눗셈 (/)"
      ]
    },
    {
      "cell_type": "code",
      "execution_count": null,
      "metadata": {
        "id": "HE0cFwgiStI0"
      },
      "outputs": [],
      "source": [
        "# a, b, c 변수 선언\n",
        "a = 4\n",
        "b = 3.2\n",
        "c = 2"
      ]
    },
    {
      "cell_type": "code",
      "execution_count": null,
      "metadata": {
        "id": "HtopwwoyUCtC"
      },
      "outputs": [],
      "source": [
        "# a, b 변수를 통한 사칙 연산\n",
        "print(a+b)\n",
        "print(a-b)\n",
        "print(a*b)\n",
        "print(a/b)"
      ]
    },
    {
      "cell_type": "markdown",
      "metadata": {
        "id": "ZxsgpQh8jJUQ"
      },
      "source": [
        "- 정수 나누기 연산자\n",
        "> - 나머지 (%)\n",
        "- 나머지 연산자\n",
        "> - 몫 (//)"
      ]
    },
    {
      "cell_type": "code",
      "execution_count": null,
      "metadata": {
        "id": "tCIwLVpJUCmw"
      },
      "outputs": [],
      "source": [
        "# a, c 변수를 통한 나눗셈, 나머지, 몫\n",
        "print(a/c)\n",
        "print(a % c)\n",
        "print(a // c)"
      ]
    },
    {
      "cell_type": "markdown",
      "metadata": {
        "id": "HWOjsXWnjLCg"
      },
      "source": [
        "- 제곱 연산자\n",
        "> - 제곱 (**)"
      ]
    },
    {
      "cell_type": "code",
      "execution_count": null,
      "metadata": {
        "id": "kyzL_-aSUGNf"
      },
      "outputs": [],
      "source": [
        "# a, c 변수를 통한 제곱\n",
        "print(a**c)"
      ]
    },
    {
      "cell_type": "markdown",
      "metadata": {
        "id": "hy_1-f8wV6TA"
      },
      "source": [
        "#### **2-4. 관련 함수**\n",
        "- 자주 사용하는 파이썬 내장 함수\n",
        "> - int() : 숫자나 문자열을 정수형(integer)으로 변환\n",
        "> - float() : 숫자나 문자열을 실수형(float)으로 변환"
      ]
    },
    {
      "cell_type": "code",
      "execution_count": null,
      "metadata": {
        "id": "5QNVi1znW6Sl"
      },
      "outputs": [],
      "source": [
        "# 정수형 변환\n",
        "print(int(6.2))\n",
        "print(int(-6.2))"
      ]
    },
    {
      "cell_type": "code",
      "execution_count": null,
      "metadata": {
        "id": "7nDwIh7VW7QR"
      },
      "outputs": [],
      "source": [
        "# 실수형 변환\n",
        "print(5)\n",
        "print(float(5))\n"
      ]
    },
    {
      "cell_type": "markdown",
      "metadata": {
        "id": "2XJ2zswajqL6"
      },
      "source": [
        "- 자주 사용하는 파이썬 내장 함수\n",
        "> - abs() : 절대값 출력\n",
        "> - pow() : 제곱 출력"
      ]
    },
    {
      "cell_type": "code",
      "execution_count": null,
      "metadata": {
        "id": "jjxJIzrTXBYP"
      },
      "outputs": [],
      "source": [
        "# 절대값 출력\n",
        "print(abs(-3.4))"
      ]
    },
    {
      "cell_type": "code",
      "execution_count": null,
      "metadata": {
        "id": "EeVtHjViXBAe"
      },
      "outputs": [],
      "source": [
        "# 제곱 출력\n",
        "print(pow(3,3))"
      ]
    },
    {
      "cell_type": "markdown",
      "metadata": {
        "id": "ZafWCMOQSPkw"
      },
      "source": [
        "### **3. 문자열 자료형 (string)**\n"
      ]
    },
    {
      "cell_type": "markdown",
      "metadata": {
        "id": "zbdUzcy6cz3n"
      },
      "source": [
        "#### **3-1. 문자열 만들기**\n",
        "- 큰 따옴표로 문자열 만들기\n",
        "- 작은 따옴표로 문자열 만들기\n",
        "- 문자열 내부에 따옴표 넣기\n",
        "- 이스케이프 문자를 사용해 문자열 만들기\n",
        "- 여러 줄 문자열 만들기\n",
        "- 줄바꿈 없이 문자열 만들기"
      ]
    },
    {
      "cell_type": "code",
      "execution_count": null,
      "metadata": {
        "id": "VoUM8NbHe1ib"
      },
      "outputs": [],
      "source": [
        "# 큰 따옴표로 문자열 만들기\n",
        "# word 변수에 큰 따옴표 문자열 저장하여 출력\n",
        "word = \"hello\"\n",
        "print(word)"
      ]
    },
    {
      "cell_type": "code",
      "execution_count": null,
      "metadata": {
        "id": "8xkFtlQhfx6r"
      },
      "outputs": [],
      "source": [
        "# 작은 따옴표로 문자열 만들기\n",
        "print('안녕하세요')"
      ]
    },
    {
      "cell_type": "code",
      "execution_count": null,
      "metadata": {
        "id": "q6RwzrTqfCVR"
      },
      "outputs": [],
      "source": [
        "# 문자열 내부에 큰 따옴표 안에 작은 따옴표 넣기\n",
        "print(\"I'm smart\")"
      ]
    },
    {
      "cell_type": "code",
      "execution_count": null,
      "metadata": {
        "id": "L5oL4UFYgL-J"
      },
      "outputs": [],
      "source": [
        "# 이스케이프 문자를 사용해 문자열 만들기\n",
        "# 이스케이프 문자는 역슬래시(\\) 기호와 함께 조합해서 사용하는 특수문자를 의미\n",
        "# \\와 함께 사용하면 '문자열을 만드는 기호'가 아니라 '단순한 따옴표'로 인식\n",
        "print(\"나는 \\'AI Lab\\'과정에 참여중이다.\")"
      ]
    },
    {
      "cell_type": "code",
      "execution_count": null,
      "metadata": {
        "id": "EIq5RreIfCRD"
      },
      "outputs": [],
      "source": [
        "# 여러 줄 문자열 만들기\n",
        "# 큰 따옴표 또는 작은 따옴표를 3번 반복한 기호를 사용\n",
        "# Enter를 누르는 곳마다 줄바꿈이 일어남\n",
        "s = '''\n",
        "글을 여러 줄 쓰고 싶다.\n",
        "세 줄도 되고\n",
        "네 줄도 되는\n",
        "'''\n",
        "print(s)"
      ]
    },
    {
      "cell_type": "code",
      "execution_count": null,
      "metadata": {
        "id": "7R2cTTYwhTAZ"
      },
      "outputs": [],
      "source": [
        "# 줄바꿈 없이 문자열 만들기\n",
        "# 큰 따옴표 또는 작은 따옴표를 3번 반복한 기호만 사용하면 위 아래로 의도하지 않은 줄바꿈이 생김\n",
        "# 역슬래시(\\) 기호를 사용하면 의도하지 않은 줄바꿈이 사라짐\n",
        "sentence = \"\"\"\\\n",
        "글을 여러 줄 쓰고 싶다.\n",
        "세 줄도 되고\n",
        "네 줄도 되는\\\n",
        "\"\"\"\n",
        "print(sentence)"
      ]
    },
    {
      "cell_type": "markdown",
      "metadata": {
        "id": "3bk0RXXei4om"
      },
      "source": [
        "#### **3-2. 이스케이프 문자**\n",
        "- 출력물을 보기 좋게 만드는 용도\n",
        "> - \\n : 줄바꿈\n",
        "> - \\t : 탭\n",
        "> - \\\\\\ : 역슬래시\n",
        "> - \\\\' : 작은 따옴표\n",
        "> - \\\\\" : 큰 따옴표"
      ]
    },
    {
      "cell_type": "code",
      "execution_count": null,
      "metadata": {
        "id": "prdhRtonlkQG"
      },
      "outputs": [],
      "source": [
        "# 줄바꿈, 탭, 작은 따옴표, 큰 따옴표 출력\n",
        "\n",
        "s1=\"아버지\\n가방에 들어가신다\"\n",
        "s2=\"바늘\\t실\"\n",
        "s3=\"가나\\\\다라\"\n",
        "s4=\"서울은 \\'한국\\'의 수도입니다.\"\n",
        "s5=\"\\\"안녕\\\"은 인사입니다.\"\n",
        "\n",
        "print(s1)\n",
        "print(s2)\n",
        "print(s3)\n",
        "print(s4)\n",
        "print(s5)"
      ]
    },
    {
      "cell_type": "markdown",
      "metadata": {
        "id": "NVY5bVD9mHFF"
      },
      "source": [
        "#### **3-3. 연산자**\n",
        "- 문자열도 숫자형처럼 연산 가능\n",
        "> - 문자열 연결 연산자 (+)\n",
        "> - 문자열 반복 연산자 (*)"
      ]
    },
    {
      "cell_type": "code",
      "execution_count": null,
      "metadata": {
        "id": "xCtfQkyYmobj"
      },
      "outputs": [],
      "source": [
        "# [+] 문자열 연결 연산자\n",
        "a = \"아버지 가방에\"\n",
        "b = \" 들어가신다.\"\n",
        "print(f\"{a}{b}\")"
      ]
    },
    {
      "cell_type": "code",
      "execution_count": null,
      "metadata": {
        "colab": {
          "base_uri": "https://localhost:8080/"
        },
        "id": "e627yJNXmPko",
        "outputId": "8ac66189-6051-4ce3-eac0-0ba5b911763e"
      },
      "outputs": [
        {
          "name": "stdout",
          "output_type": "stream",
          "text": [
            "==============================\n"
          ]
        }
      ],
      "source": [
        "# [*] 문자열 반복 연산자\n",
        "e = \"=\" *30\n",
        "print(e)\n",
        "\n",
        "\n"
      ]
    },
    {
      "cell_type": "markdown",
      "metadata": {
        "id": "heuM-lRGoNGY"
      },
      "source": [
        "#### **3-4. 인덱싱과 슬라이싱**\n",
        "- 인덱싱\n",
        "> - 문자열 내부의 문자 하나를 선택하는 연산자\n",
        "> - 문자 선택 연산자 ([ ])\n",
        "> - 대괄호 [ ] 안에는 선택할 문자의 위치를 지정하며, 이 숫자를 인덱스(index)라고 부름\n",
        "> - 문자열[인덱스]로 호출"
      ]
    },
    {
      "cell_type": "code",
      "execution_count": null,
      "metadata": {
        "id": "CndyNkpsoFJC"
      },
      "outputs": [],
      "source": [
        "# 문자열 인덱싱 : 문자 하나 선택\n",
        "#           012   3  4567  8 910111213\n",
        "#                                 -2-1\n",
        "sentence = '파이썬 하루만에 끝내보자!'\n"
      ]
    },
    {
      "cell_type": "code",
      "execution_count": null,
      "metadata": {
        "colab": {
          "base_uri": "https://localhost:8080/"
        },
        "id": "hO2knQy2pD69",
        "outputId": "79923d1a-fbfc-424a-ccdb-96f5e92e7fb5"
      },
      "outputs": [
        {
          "name": "stdout",
          "output_type": "stream",
          "text": [
            "파이썬 하루만에 끝내보자!\n",
            "파\n",
            "!\n"
          ]
        }
      ],
      "source": [
        "# 문자열[인덱스]로 호출\n",
        "# 순방향 인덱스 : 0 부터 시작\n",
        "# 역방향 인덱스 : -1 부터 시작\n",
        "\n",
        "print(sentence)\n",
        "print(sentence[0])\n",
        "print(sentence[-1])"
      ]
    },
    {
      "cell_type": "markdown",
      "metadata": {
        "id": "VRf27640BZrZ"
      },
      "source": [
        "- 슬라이싱\n",
        "> - 문자열의 특정 범위를 선택할 때 사용하는 연산자\n",
        "> - 문자열 범위 선택 연산자 ([:])\n",
        "> - 문자열[인덱스1 : 인덱스2]로 호출"
      ]
    },
    {
      "cell_type": "code",
      "execution_count": null,
      "metadata": {
        "id": "fy9N9yOwrIOi"
      },
      "outputs": [],
      "source": [
        "# 문자열 슬라이싱 : 특정 범위 선택\n",
        "#           012   3  4567  8 910111213\n",
        "#                                 -2-1\n",
        "sentence = '파이썬 하루만에 끝내보자!'"
      ]
    },
    {
      "cell_type": "code",
      "execution_count": null,
      "metadata": {
        "colab": {
          "base_uri": "https://localhost:8080/"
        },
        "id": "Xr1tKlAoraea",
        "outputId": "b0537391-fb65-4941-8f48-c9be969077d3"
      },
      "outputs": [
        {
          "name": "stdout",
          "output_type": "stream",
          "text": [
            "하루만에\n"
          ]
        }
      ],
      "source": [
        "# 문자열[인덱스1 : 인덱스2]로 호출\n",
        "# 4:8 = 4, 5, 6, 7\n",
        "# 4 이상부터 8 미만까지의 범위 선택하여 출력\n",
        "# 마지막 숫자는 포함하지 않음\n",
        "\n",
        "print(sentence[4:8])"
      ]
    },
    {
      "cell_type": "markdown",
      "metadata": {
        "id": "mGdlH4l4riYX"
      },
      "source": [
        "#### **3-5. 포맷팅**\n",
        "- 문자열 안에 어떤 값을 삽입하는 방법\n",
        "- % 연산자 포맷팅\n",
        "> - 문자열 포맷 코드에 맞춰 바로 숫자와 문자를 대입할 때 사용\n",
        ">> - 숫자(정수) 대입 : %d\n",
        ">> - 숫자(실수) 대입 : %f\n",
        ">> - 문자 1개 대입 : %c\n",
        ">> - 문자열 대입 : %s\n"
      ]
    },
    {
      "cell_type": "code",
      "execution_count": null,
      "metadata": {
        "colab": {
          "background_save": true
        },
        "id": "L6s4qw9-1fG3",
        "outputId": "750623f6-96e7-47e9-9322-1b26301a9b98"
      },
      "outputs": [
        {
          "data": {
            "application/vnd.google.colaboratory.intrinsic+json": {
              "type": "string"
            },
            "text/plain": [
              "'나는 6 호선을 타고 다녀.'"
            ]
          },
          "execution_count": 6,
          "metadata": {},
          "output_type": "execute_result"
        }
      ],
      "source": [
        "# 한 개의 % 연산자 포맷팅\n",
        "# 숫자 대입은 %d\n",
        "\n",
        "sentence = \"나는 %d 호선을 타고 다녀.\" %6"
      ]
    },
    {
      "cell_type": "code",
      "execution_count": null,
      "metadata": {
        "colab": {
          "base_uri": "https://localhost:8080/"
        },
        "id": "ejWlkOEu1BVm",
        "outputId": "fd4b3d71-8b51-4e38-ae00-f238c615790f"
      },
      "outputs": [
        {
          "name": "stdout",
          "output_type": "stream",
          "text": [
            "나는 4호선을 타고 학교를 가.\n"
          ]
        }
      ],
      "source": [
        "# 두 개 이상의 % 연산자 포맷팅\n",
        "# 숫자 나타내는 변수와 문자를 나타내는 변수 대입\n",
        "# 숫자 대입은 %d, 문자 대입은 %s\n",
        "\n",
        "a = 4\n",
        "b = \"학교\"\n",
        "sentence = \"나는 %d호선을 타고 %s를 가.\" % (a, b)\n",
        "print(sentence)\n",
        "\n"
      ]
    },
    {
      "cell_type": "markdown",
      "metadata": {
        "id": "-mDRGjHJmNNp"
      },
      "source": [
        "- format( ) 함수 포맷팅\n",
        "> - 중괄호{ }를 포함한 문자열 뒤에 도트(.)를 찍고 format( ) 함수 사용\n",
        "> - 중괄호 개수와 format( ) 함수 괄호 안의 매개변수 개수는 동일\n",
        "> - 함수를 사용하면 문자열의 {} 기호가 format( ) 함수 괄호 안에 있는 매개변수로 차례로 대치"
      ]
    },
    {
      "cell_type": "code",
      "execution_count": null,
      "metadata": {
        "colab": {
          "base_uri": "https://localhost:8080/"
        },
        "id": "Hs3baH5w4b8D",
        "outputId": "501e97b7-a8fa-41a8-b9e3-8c8a7c3dd048"
      },
      "outputs": [
        {
          "name": "stdout",
          "output_type": "stream",
          "text": [
            "나는 5호선을 타고 9에 회사에 도착.\n"
          ]
        }
      ],
      "source": [
        "# 한 개의 format() 함수 포맷팅\n",
        "# { } 안에 숫자 대입\n",
        "# format 함수 안에 넣을 숫자 삽입\n",
        "\n",
        "print(\"나는 {}호선을 타고 {}에 회사에 도착.\".format(5,9))"
      ]
    },
    {
      "cell_type": "markdown",
      "metadata": {
        "id": "zZg1tg8X6LSu"
      },
      "source": [
        "#### **3-6. 관련 함수**\n",
        "- len(x) : 문자열 길이 출력\n",
        "- split() : 문자열 나누기\n",
        "- count(x) : 문자 개수 세기\n",
        "- replace('a', 'b') : 문자열 바꾸기\n",
        "- find('a') : 위치 알려주기\n",
        "- upper() : 소문자를 대문자로 바꾸기\n",
        "- lower() : 대문자를 소문자로 바꾸기\n",
        "- join(x) : 문자열 삽입"
      ]
    },
    {
      "cell_type": "code",
      "execution_count": null,
      "metadata": {
        "colab": {
          "base_uri": "https://localhost:8080/"
        },
        "id": "bV8NSolrVVV9",
        "outputId": "3141e551-7ff9-4f35-aeba-6488525a45ee"
      },
      "outputs": [
        {
          "data": {
            "text/plain": [
              "17"
            ]
          },
          "execution_count": 9,
          "metadata": {},
          "output_type": "execute_result"
        }
      ],
      "source": [
        "# len(x) : 문자열 길이 출력\n",
        "sentence1 = \"Selena는 샤브샤브를 좋아해\"\n",
        "len(sentence1)"
      ]
    },
    {
      "cell_type": "code",
      "execution_count": null,
      "metadata": {
        "colab": {
          "base_uri": "https://localhost:8080/"
        },
        "id": "iTHqKxb7WJ-e",
        "outputId": "310befd7-a6ae-4c63-ac08-d2d2adf0dacd"
      },
      "outputs": [
        {
          "data": {
            "text/plain": [
              "['Selena는', '샤브샤브를', '좋아해']"
            ]
          },
          "execution_count": 10,
          "metadata": {},
          "output_type": "execute_result"
        }
      ],
      "source": [
        "# split() : 문자열 나누기\n",
        "sentence1.split()"
      ]
    },
    {
      "cell_type": "code",
      "execution_count": null,
      "metadata": {
        "colab": {
          "base_uri": "https://localhost:8080/"
        },
        "id": "f6FVayPTWVEl",
        "outputId": "302e1b69-fd45-4895-8eb3-4b9a0a98da6c"
      },
      "outputs": [
        {
          "data": {
            "text/plain": [
              "2"
            ]
          },
          "execution_count": 11,
          "metadata": {},
          "output_type": "execute_result"
        }
      ],
      "source": [
        "# count(x) : 문자 개수 세기\n",
        "sentence1.count('샤브')"
      ]
    },
    {
      "cell_type": "code",
      "execution_count": null,
      "metadata": {
        "colab": {
          "base_uri": "https://localhost:8080/",
          "height": 36
        },
        "id": "srE-9-aiWfom",
        "outputId": "5d5bf59b-15e5-4195-e418-19214cf56e06"
      },
      "outputs": [
        {
          "data": {
            "application/vnd.google.colaboratory.intrinsic+json": {
              "type": "string"
            },
            "text/plain": [
              "'Selena는 육회를 좋아해'"
            ]
          },
          "execution_count": 12,
          "metadata": {},
          "output_type": "execute_result"
        }
      ],
      "source": [
        "# replace('a', 'b') : 문자열 바꾸기\n",
        "\n",
        "sentence2 = sentence1.replace('샤브샤브',\"육회\")\n",
        "sentence1\n",
        "sentence2"
      ]
    },
    {
      "cell_type": "code",
      "execution_count": null,
      "metadata": {
        "colab": {
          "base_uri": "https://localhost:8080/"
        },
        "id": "mF-OOFZMXEQQ",
        "outputId": "ac4578a3-295f-4c40-fc95-f703e045c9c8"
      },
      "outputs": [
        {
          "data": {
            "text/plain": [
              "['HAMburger', 'jpg']"
            ]
          },
          "execution_count": 14,
          "metadata": {},
          "output_type": "execute_result"
        }
      ],
      "source": [
        "# find('a') : 위치 알려주기\n",
        "file_name = 'HAMburger.jpg'\n",
        "\n",
        "file_name.find('.')\n",
        "file_name.split('.')"
      ]
    },
    {
      "cell_type": "code",
      "execution_count": null,
      "metadata": {
        "colab": {
          "base_uri": "https://localhost:8080/",
          "height": 36
        },
        "id": "9J3thMRoXSob",
        "outputId": "c5b9c463-24f9-4281-9591-deb1660a4618"
      },
      "outputs": [
        {
          "data": {
            "application/vnd.google.colaboratory.intrinsic+json": {
              "type": "string"
            },
            "text/plain": [
              "'HAMBURGER.JPG'"
            ]
          },
          "execution_count": 15,
          "metadata": {},
          "output_type": "execute_result"
        }
      ],
      "source": [
        "# upper() : 소문자를 대문자로 바꾸기\n",
        "file_name.upper()"
      ]
    },
    {
      "cell_type": "code",
      "execution_count": null,
      "metadata": {
        "colab": {
          "base_uri": "https://localhost:8080/",
          "height": 36
        },
        "id": "ZujBIkXwXVQu",
        "outputId": "395d8a59-bab5-4709-d79a-fbc313cb5cea"
      },
      "outputs": [
        {
          "data": {
            "application/vnd.google.colaboratory.intrinsic+json": {
              "type": "string"
            },
            "text/plain": [
              "'hamburger.jpg'"
            ]
          },
          "execution_count": 16,
          "metadata": {},
          "output_type": "execute_result"
        }
      ],
      "source": [
        "# lower() : 대문자를 소문자로 바꾸기\n",
        "file_name.lower()"
      ]
    },
    {
      "cell_type": "code",
      "execution_count": null,
      "metadata": {
        "colab": {
          "base_uri": "https://localhost:8080/",
          "height": 36
        },
        "id": "MeAHDFcsXbll",
        "outputId": "c4e0b408-3db4-4686-a493-023eb5aa4ef9"
      },
      "outputs": [
        {
          "data": {
            "application/vnd.google.colaboratory.intrinsic+json": {
              "type": "string"
            },
            "text/plain": [
              "'a.b.c.d.e'"
            ]
          },
          "execution_count": 17,
          "metadata": {},
          "output_type": "execute_result"
        }
      ],
      "source": [
        "# join(x) : 문자열 삽입\n",
        "\n",
        "sentence = '.'.join('abcde')\n",
        "sentence"
      ]
    },
    {
      "cell_type": "markdown",
      "metadata": {
        "id": "oNPGthyXSSeQ"
      },
      "source": [
        "### **4. 리스트 자료형 (list)**"
      ]
    },
    {
      "cell_type": "markdown",
      "metadata": {
        "id": "mVqdXl0s3Ik3"
      },
      "source": [
        "#### **4-1. 리스트 선언**\n",
        "- 리스트를 생성하는 방법은 대괄호[ ]에 자료를 쉼표로 구분하여 입력\n",
        "- 대괄호[ ] 내부에 넣는 자료를 요소라고 부르며 영어로는 element라고 명칭"
      ]
    },
    {
      "cell_type": "code",
      "execution_count": null,
      "metadata": {
        "id": "_pmSiUHw22Os"
      },
      "outputs": [],
      "source": [
        "# 대괄호[ ] 내부에 여러 종류의 자료를 넣어 선언\n",
        "# 선언한 리스트를 출력하면 내부의 자료를 모두 출력\n",
        "myList = [1, 2.3,5, 'word', [1, 2, [3, 4]]]\n"
      ]
    },
    {
      "cell_type": "markdown",
      "metadata": {
        "id": "38CrtoqcMyfy"
      },
      "source": [
        "#### **4-2. 인덱싱과 슬라이싱**\n",
        "\n",
        "- 인덱싱\n",
        "> - 문자열 내부의 문자 하나를 선택하는 연산자\n",
        "\n",
        "- 슬라이싱\n",
        "> - 문자열의 특정 범위를 선택할 때 사용하는 연산자"
      ]
    },
    {
      "cell_type": "code",
      "execution_count": null,
      "metadata": {
        "colab": {
          "base_uri": "https://localhost:8080/"
        },
        "id": "tagNyz1I9iuf",
        "outputId": "abe357b7-2048-4319-fa79-a3e9e0cc9d34"
      },
      "outputs": [
        {
          "name": "stdout",
          "output_type": "stream",
          "text": [
            "[1, 2.3, 5, 'word', [1, 2, [3, 4]]]\n",
            "1\n"
          ]
        }
      ],
      "source": [
        "print(myList)\n",
        "\n",
        "# [인덱싱] 0 인덱스 값을 가진 요소 값 출력\n",
        "print(myList[0])"
      ]
    },
    {
      "cell_type": "code",
      "execution_count": null,
      "metadata": {
        "colab": {
          "base_uri": "https://localhost:8080/"
        },
        "id": "dgpJAqvU9o2j",
        "outputId": "cbc82c23-b93a-4c50-f281-ff3ff08ccf3e"
      },
      "outputs": [
        {
          "name": "stdout",
          "output_type": "stream",
          "text": [
            "[3, 4]\n"
          ]
        }
      ],
      "source": [
        "# 리스트 'myList'는 1, 1,25, 1과 또 다른 리스트인 [1, 2, [3, 4]]로 이루어져있음\n",
        "# [인덱싱] 4번째 요소 값의 2번째 요소 값 출력\n",
        "print(myList[4][2])"
      ]
    },
    {
      "cell_type": "code",
      "execution_count": null,
      "metadata": {
        "colab": {
          "base_uri": "https://localhost:8080/"
        },
        "id": "8q4GakqP9p8h",
        "outputId": "c8a8205c-ade9-438b-f45b-dbefa4249708"
      },
      "outputs": [
        {
          "name": "stdout",
          "output_type": "stream",
          "text": [
            "3\n"
          ]
        }
      ],
      "source": [
        "# [인덱싱] 4번째 요소 값의 2번째 요소 값의 0번째 요소 값 출력\n",
        "print(myList[4][2][0])"
      ]
    },
    {
      "cell_type": "code",
      "execution_count": null,
      "metadata": {
        "colab": {
          "base_uri": "https://localhost:8080/"
        },
        "id": "Pi2tsPzZ9rFx",
        "outputId": "baf44570-d4ca-48e0-d682-6dd3e579d249"
      },
      "outputs": [
        {
          "name": "stdout",
          "output_type": "stream",
          "text": [
            "[5, 'word']\n"
          ]
        }
      ],
      "source": [
        "# [슬라이싱] 2번째부터 3번째까지 범위 선택\n",
        "print(myList[2:4])"
      ]
    },
    {
      "cell_type": "code",
      "execution_count": null,
      "metadata": {
        "colab": {
          "base_uri": "https://localhost:8080/"
        },
        "id": "w-SFBzWZOYBx",
        "outputId": "a09da702-3a31-43ed-bf08-5ed20b08b85e"
      },
      "outputs": [
        {
          "name": "stdout",
          "output_type": "stream",
          "text": [
            "w\n"
          ]
        }
      ],
      "source": [
        "# [인덱싱] 3번째 요소 값의 0번째 요소 값 출력\n",
        "print(myList[3][0])"
      ]
    },
    {
      "cell_type": "code",
      "execution_count": null,
      "metadata": {
        "colab": {
          "base_uri": "https://localhost:8080/"
        },
        "id": "L691kFi9QRli",
        "outputId": "a28d7a2e-02d3-426e-ff8a-9d07aba58f3b"
      },
      "outputs": [
        {
          "name": "stdout",
          "output_type": "stream",
          "text": [
            "매실\n"
          ]
        }
      ],
      "source": [
        "# 아래 결과를 이해하면 인덱싱과 슬라이싱 정복!\n",
        "# 리스트의 인덱싱과 슬라이싱을 이용!\n",
        "#         0   1    2     3-0     3-1    3-2-0      3-2-1\n",
        "myList = [1, 5.2, 2*3, ['커피', '물', ['매실차', '유자차']]]\n",
        "print(myList[3][2][0][:2])\n"
      ]
    },
    {
      "cell_type": "markdown",
      "metadata": {
        "id": "rtPkekdlRTe3"
      },
      "source": [
        "#### **4-3. 연산자**\n",
        "- '+ ' : 덧셈\n",
        "- ' * ' : 반복\n",
        "- len() : 길이 구하기"
      ]
    },
    {
      "cell_type": "code",
      "execution_count": null,
      "metadata": {
        "colab": {
          "base_uri": "https://localhost:8080/"
        },
        "id": "MxqutxSeRog3",
        "outputId": "6de4883f-9ea8-4f0e-899a-cac38fe136e1"
      },
      "outputs": [
        {
          "name": "stdout",
          "output_type": "stream",
          "text": [
            "[1, 2, 3, 1, 2, 3, 4, 5, 6]\n",
            "9\n"
          ]
        }
      ],
      "source": [
        "# list1 2번 반복\n",
        "# list1과 list2 덧셈\n",
        "# 연산 결과의 길이 구하기\n",
        "list1 = [1, 2, 3]\n",
        "list2 = [4, 5, 6]\n",
        "\n",
        "print(list1*2 + list2)\n",
        "print(len(list1*2 + list2))"
      ]
    },
    {
      "cell_type": "markdown",
      "metadata": {
        "id": "gucPyCX2SmMD"
      },
      "source": [
        "#### **4-4. 변경과 삭제**\n",
        "- 리스트는 값을 변경하거나 삭제할 수 있음"
      ]
    },
    {
      "cell_type": "code",
      "execution_count": null,
      "metadata": {
        "colab": {
          "base_uri": "https://localhost:8080/"
        },
        "id": "WfV27MA-S0z6",
        "outputId": "9eca4517-daf8-4eff-d3b8-44b82f4e5d55"
      },
      "outputs": [
        {
          "name": "stdout",
          "output_type": "stream",
          "text": [
            "[1, 5.2, 6, ['커피', '물', ['매실차', '유자차']]]\n",
            "[1, 5.2, 6, '변경']\n",
            "4\n",
            "[1, 5.2, 6]\n",
            "3\n"
          ]
        }
      ],
      "source": [
        "#         0   1    2     3-0     3-1    3-2-0      3-2-1\n",
        "myList = [1, 5.2, 2*3, ['커피', '물', ['매실차', '유자차']]]\n",
        "print(myList)\n",
        "\n",
        "# 리스트 '변경' 값으로 수정\n",
        "myList[3] = \"변경\"\n",
        "print(myList)\n",
        "print(len(myList))\n",
        "\n",
        "# 리스트 \"변경\" 값 삭제\n",
        "\n",
        "del myList[3]\n",
        "print(myList)\n",
        "print(len(myList))"
      ]
    },
    {
      "cell_type": "markdown",
      "metadata": {
        "id": "pZzzSQ8nTlFv"
      },
      "source": [
        "#### **4-5. 관련 함수**\n",
        "- sort() : 리스트 정렬\n",
        "- reverse() : 리스트 뒤집기\n",
        "- append(x) : 리스트에 요소 추가\n",
        "- extend(x) : 리스트 확장\n",
        "- insert(a, b) : 리스트 요소 삽입, 리스트 a번째 위치에 b를 삽입\n",
        "- remove(x) : 리스트 요소 제거\n",
        "- pop() : 리스트 요소 끄집어내기\n",
        "- count(x) : 리스트에 포함된 요소 x의 개수 세기"
      ]
    },
    {
      "cell_type": "code",
      "execution_count": null,
      "metadata": {
        "colab": {
          "base_uri": "https://localhost:8080/"
        },
        "id": "AT6uS_o0Tpzz",
        "outputId": "3253be30-75fa-4254-93bb-a8ff93121b82"
      },
      "outputs": [
        {
          "name": "stdout",
          "output_type": "stream",
          "text": [
            "[1, 5.2, 2, 6, 2]\n"
          ]
        }
      ],
      "source": [
        "# myList 선언\n",
        "myList = [1, 5.2, 2, 6, 2]\n",
        "print(myList)"
      ]
    },
    {
      "cell_type": "code",
      "execution_count": null,
      "metadata": {
        "colab": {
          "base_uri": "https://localhost:8080/"
        },
        "id": "BFf7ckJPVjd5",
        "outputId": "84e743d8-cb65-42c2-838f-5566fb8efc45"
      },
      "outputs": [
        {
          "name": "stdout",
          "output_type": "stream",
          "text": [
            "[1, 2, 2, 5.2, 6]\n"
          ]
        }
      ],
      "source": [
        "# sort() : 리스트의 요소를 순서대로 정렬하는 함수\n",
        "\n",
        "myList.sort()\n",
        "print(myList)"
      ]
    },
    {
      "cell_type": "code",
      "execution_count": null,
      "metadata": {
        "colab": {
          "base_uri": "https://localhost:8080/"
        },
        "id": "1V4zAUJkWIYl",
        "outputId": "9a58de63-f65e-41db-cfed-891fc793cbe3"
      },
      "outputs": [
        {
          "name": "stdout",
          "output_type": "stream",
          "text": [
            "[6, 5.2, 2, 2, 1]\n"
          ]
        }
      ],
      "source": [
        "# reverse() : 리스트 요소 뒤집는 함수\n",
        "\n",
        "myList.reverse()\n",
        "print(myList)"
      ]
    },
    {
      "cell_type": "code",
      "execution_count": null,
      "metadata": {
        "colab": {
          "base_uri": "https://localhost:8080/"
        },
        "id": "7a81pweXUrLZ",
        "outputId": "cd63759f-ca02-4bca-c1ae-7a32fa037483"
      },
      "outputs": [
        {
          "name": "stdout",
          "output_type": "stream",
          "text": [
            "[6, 5.2, 2, 2, 1, 10]\n"
          ]
        }
      ],
      "source": [
        "# append(x) : 리스트 맨 마지막에 추가하는 함수\n",
        "# 한 개의 숫자를 리스트에 추가한 경우\n",
        "\n",
        "myList.append(10)\n",
        "print(myList)"
      ]
    },
    {
      "cell_type": "code",
      "execution_count": null,
      "metadata": {
        "colab": {
          "base_uri": "https://localhost:8080/"
        },
        "id": "OwualvcXU62D",
        "outputId": "8c053bdd-93ae-4064-8613-1d481fb7a7fd"
      },
      "outputs": [
        {
          "name": "stdout",
          "output_type": "stream",
          "text": [
            "[6, 5.2, 2, 2, 1, 10, [1, 2]]\n"
          ]
        }
      ],
      "source": [
        "# append(x) : 리스트 맨 마지막에 리스트를 추가하는 함수\n",
        "# 한 개의 리스트를 리스트에 추가한 경우\n",
        "myList.append([1, 2])\n",
        "print(myList)"
      ]
    },
    {
      "cell_type": "code",
      "execution_count": null,
      "metadata": {
        "colab": {
          "base_uri": "https://localhost:8080/"
        },
        "id": "HITiavu7UeFM",
        "outputId": "b201d6a8-b8d6-4b78-ad8a-4a52c3a0ca4f"
      },
      "outputs": [
        {
          "name": "stdout",
          "output_type": "stream",
          "text": [
            "[6, 5.2, 2, 2, 1, 10, [1, 2], [3, 4]]\n"
          ]
        }
      ],
      "source": [
        "# extend(x) : 원래 myList 리스트에 새로운 리스트를 더하는 함수\n",
        "# 덧셈과 같은 역할\n",
        "\n",
        "myList.append([3, 4])\n",
        "print(myList)"
      ]
    },
    {
      "cell_type": "code",
      "execution_count": null,
      "metadata": {
        "colab": {
          "base_uri": "https://localhost:8080/"
        },
        "id": "qGyQK1RsWT90",
        "outputId": "4cec71f3-c9b2-49a3-cc1a-ef49becee281"
      },
      "outputs": [
        {
          "name": "stdout",
          "output_type": "stream",
          "text": [
            "[6, 5.2, '추가', 2, 2, 1, 10, [1, 2], [3, 4]]\n"
          ]
        }
      ],
      "source": [
        "# insert(a, b) : 리스트의 a번째 위치에 b를 삽입하는 함수\n",
        "# 2번째 위치에 \"삽입\" 문자열 삽입\n",
        "\n",
        "myList.insert(2,\"추가\")\n",
        "print(myList)"
      ]
    },
    {
      "cell_type": "code",
      "execution_count": null,
      "metadata": {
        "colab": {
          "base_uri": "https://localhost:8080/"
        },
        "id": "syKJ5ZuDWoT9",
        "outputId": "ce12922e-e7c3-48fc-d65a-c0419d9abaad"
      },
      "outputs": [
        {
          "name": "stdout",
          "output_type": "stream",
          "text": [
            "[6, 5.2, '추가', 2, 1, 10, [1, 2], [3, 4]]\n"
          ]
        }
      ],
      "source": [
        "# remove(x) : 리스트에서 첫 번째로 나오는 x를 삭제하는 함수\n",
        "# 첫 번째 나온 2를 삭제\n",
        "\n",
        "myList.remove(2)\n",
        "print(myList)"
      ]
    },
    {
      "cell_type": "code",
      "execution_count": null,
      "metadata": {
        "colab": {
          "base_uri": "https://localhost:8080/"
        },
        "id": "k_6r_JB9XCJL",
        "outputId": "2975d558-5ad9-4378-e9d8-659ae6748391"
      },
      "outputs": [
        {
          "name": "stdout",
          "output_type": "stream",
          "text": [
            "[6, 5.2, '추가', 2, 1, 10, [1, 2]]\n",
            "[6, 5.2, '추가', 2, 1, 10]\n",
            "[1, 2]\n",
            "[6, 5.2, 2, 1, 10]\n",
            "추가\n"
          ]
        }
      ],
      "source": [
        "print(myList)\n",
        "\n",
        "# pop() : 리스트의 맨 마지막 요소를 돌려주고 그 요소는 삭제하는 함수\n",
        "# 맨 마지막 요소인 4 삭제\n",
        "lastWord = myList.pop()\n",
        "print(myList)\n",
        "print(lastWord)\n",
        "\n",
        "# pop(x) : 리스트의 x번째 요소를 돌려주고 그 요소는 삭제하는 함수\n",
        "# 1번째 요소인 5.2 삭제\n",
        "lastWord = myList.pop(2)\n",
        "print(myList)\n",
        "print(lastWord)"
      ]
    },
    {
      "cell_type": "code",
      "execution_count": null,
      "metadata": {
        "colab": {
          "base_uri": "https://localhost:8080/"
        },
        "id": "0XxMohgkXoKx",
        "outputId": "fee2d30e-7f55-44b9-edc4-1b6aba083b84"
      },
      "outputs": [
        {
          "name": "stdout",
          "output_type": "stream",
          "text": [
            "[6, 5.2, 2, 1, 10]\n",
            "1\n"
          ]
        }
      ],
      "source": [
        "# count(x) : 리스트 안에 x가 몇 개 있는지 조사하여 그 개수를 돌려주는 함수\n",
        "print(myList)\n",
        "print(myList.count(1))"
      ]
    },
    {
      "cell_type": "markdown",
      "metadata": {
        "id": "3JOsU264SVic"
      },
      "source": [
        "### **5. 튜플 자료형 (tuple)**"
      ]
    },
    {
      "cell_type": "markdown",
      "metadata": {
        "id": "jBA5jPAXKdb7"
      },
      "source": [
        "#### **5-1. 튜플 생성**\n",
        "- 1. 괄호 있는 튜플\n",
        "> - (데이터, 데이터, 데이터, ...) 형태로 생성\n",
        "> - 한 개의 값을 가질 때는 마지막에 \", (쉼표)\"를 써줘야 함\n"
      ]
    },
    {
      "cell_type": "code",
      "execution_count": null,
      "metadata": {
        "colab": {
          "base_uri": "https://localhost:8080/"
        },
        "id": "BaXKDuGSL1Xr",
        "outputId": "57a5c266-3b95-45ef-b049-d2196bdda9ee"
      },
      "outputs": [
        {
          "name": "stdout",
          "output_type": "stream",
          "text": [
            "(2.3,)\n",
            "2.3\n",
            "<class 'tuple'>\n",
            "<class 'float'>\n"
          ]
        }
      ],
      "source": [
        "# 괄호 있는 튜플\n",
        "# tuple1 : 한 개의 값을 가질 때는 마지막에 \", (쉼표)\"를 써줘야 함\n",
        "# float1 : 한 개의 요소지만 \", (쉼표)\" 안 써줘서 튜플로 생성이 안 됨\n",
        "\n",
        "tuple1 = (2.3,)\n",
        "float1 = (2.3)\n",
        "\n",
        "print(tuple1)\n",
        "print(float1)\n",
        "\n",
        "print(type(tuple1))\n",
        "print(type(float1))\n"
      ]
    },
    {
      "cell_type": "markdown",
      "metadata": {
        "id": "BNTS38HhrgB0"
      },
      "source": [
        "- 2. 괄호 없는 튜플\n",
        "> - 괄호를 생략해도 튜플로 인식할 수 있음"
      ]
    },
    {
      "cell_type": "code",
      "execution_count": null,
      "metadata": {
        "colab": {
          "base_uri": "https://localhost:8080/"
        },
        "id": "5O7XHHW_ySU6",
        "outputId": "56716ab8-b517-4fbc-9b85-6babfb1589be"
      },
      "outputs": [
        {
          "name": "stdout",
          "output_type": "stream",
          "text": [
            "(1, 2, 3, 4, 5)\n",
            "<class 'tuple'>\n"
          ]
        }
      ],
      "source": [
        "# 괄호 없는 튜플\n",
        "# tuple2 : 여러 개 요소인 튜플 생성\n",
        "\n",
        "tuple2 = 1, 2, 3, 4, 5\n",
        "print(tuple2)\n",
        "print(type(tuple2))"
      ]
    },
    {
      "cell_type": "markdown",
      "metadata": {
        "id": "qMo4K9i204eq"
      },
      "source": [
        "#### **5-2. 인덱싱과 슬라이싱**"
      ]
    },
    {
      "cell_type": "code",
      "execution_count": null,
      "metadata": {
        "colab": {
          "base_uri": "https://localhost:8080/"
        },
        "id": "QzAzPOpC1C51",
        "outputId": "ecf80208-8839-4ce6-d29b-febf21633bbc"
      },
      "outputs": [
        {
          "data": {
            "text/plain": [
              "7"
            ]
          },
          "execution_count": 4,
          "metadata": {},
          "output_type": "execute_result"
        }
      ],
      "source": [
        "# 인덱싱 : 문자열 내부의 문자 하나를 선택하는 연산자\n",
        "tuple1 = (9,8,7,6)\n",
        "tuple1[2]"
      ]
    },
    {
      "cell_type": "code",
      "execution_count": null,
      "metadata": {
        "colab": {
          "base_uri": "https://localhost:8080/"
        },
        "id": "YXratH_f1Nzc",
        "outputId": "205069b8-f63a-4bfa-c06e-53021b44a535"
      },
      "outputs": [
        {
          "data": {
            "text/plain": [
              "(5, 4)"
            ]
          },
          "execution_count": 5,
          "metadata": {},
          "output_type": "execute_result"
        }
      ],
      "source": [
        "# 슬라이싱 : 문자열의 특정 범위를 선택할 때 사용하는 연산자\n",
        "# [1:3] : 1 인덱스부터 3 인덱스 미만까지 범위\n",
        "tuple2 = (5,4,3,2)\n",
        "tuple2[:2]"
      ]
    },
    {
      "cell_type": "markdown",
      "metadata": {
        "id": "5cynvvQO8XgA"
      },
      "source": [
        "#### **5-3. 연산자**\n",
        "- '+ ' : 덧셈\n",
        "- ' * ' : 반복\n",
        "- len() : 길이 구하기"
      ]
    },
    {
      "cell_type": "code",
      "execution_count": null,
      "metadata": {
        "colab": {
          "base_uri": "https://localhost:8080/"
        },
        "id": "0NOXHPEL1xL2",
        "outputId": "4f322457-b978-4764-894a-5eeb6f501cec"
      },
      "outputs": [
        {
          "name": "stdout",
          "output_type": "stream",
          "text": [
            "(1, 2, 3, 1, 2, 3)\n",
            "(1, 2, 3, 1, 2, 3, 4, 5, 6)\n"
          ]
        }
      ],
      "source": [
        "# tuple1 2번 반복\n",
        "# tuple1과 tuple2 덧셈\n",
        "# 연산 결과의 길이 구하기\n",
        "tuple1 = (1, 2, 3)\n",
        "tuple2 = (4, 5, 6)\n",
        "tuple3 = tuple1*2\n",
        "tuple4 = tuple3+tuple2\n",
        "\n",
        "print(tuple3)\n",
        "print(tuple4)\n"
      ]
    },
    {
      "cell_type": "markdown",
      "metadata": {
        "id": "eSPqF_mszw_c"
      },
      "source": [
        "#### **5-4. 변경과 삭제**\n",
        "- 튜플을 값을 변경할 수 없고 삭제할 수 없음\n",
        "- 오류 발생!"
      ]
    },
    {
      "cell_type": "code",
      "execution_count": null,
      "metadata": {
        "colab": {
          "base_uri": "https://localhost:8080/",
          "height": 176
        },
        "id": "ADpNjUNPz3Yv",
        "outputId": "6fb83d95-6ff4-413e-bc95-43e15cf6cded"
      },
      "outputs": [
        {
          "ename": "TypeError",
          "evalue": "'tuple' object does not support item assignment",
          "output_type": "error",
          "traceback": [
            "\u001b[0;31m---------------------------------------------------------------------------\u001b[0m",
            "\u001b[0;31mTypeError\u001b[0m                                 Traceback (most recent call last)",
            "\u001b[0;32m<ipython-input-9-3e453303f7db>\u001b[0m in \u001b[0;36m<cell line: 3>\u001b[0;34m()\u001b[0m\n\u001b[1;32m      1\u001b[0m \u001b[0;31m# 튜플의 값을 변경할 때 오류 발생\u001b[0m\u001b[0;34m\u001b[0m\u001b[0;34m\u001b[0m\u001b[0m\n\u001b[1;32m      2\u001b[0m \u001b[0mtuple1\u001b[0m \u001b[0;34m=\u001b[0m \u001b[0;34m(\u001b[0m\u001b[0;36m1\u001b[0m\u001b[0;34m,\u001b[0m \u001b[0;36m2\u001b[0m\u001b[0;34m,\u001b[0m \u001b[0;36m3\u001b[0m\u001b[0;34m,\u001b[0m \u001b[0;36m4\u001b[0m\u001b[0;34m)\u001b[0m\u001b[0;34m\u001b[0m\u001b[0;34m\u001b[0m\u001b[0m\n\u001b[0;32m----> 3\u001b[0;31m \u001b[0mtuple1\u001b[0m\u001b[0;34m[\u001b[0m\u001b[0;36m0\u001b[0m\u001b[0;34m]\u001b[0m \u001b[0;34m=\u001b[0m \u001b[0;36m3\u001b[0m\u001b[0;34m\u001b[0m\u001b[0;34m\u001b[0m\u001b[0m\n\u001b[0m",
            "\u001b[0;31mTypeError\u001b[0m: 'tuple' object does not support item assignment"
          ]
        }
      ],
      "source": [
        "# 튜플의 값을 변경할 때 오류 발생\n",
        "tuple1 = (1, 2, 3, 4)\n",
        "tuple1[0] = 3"
      ]
    },
    {
      "cell_type": "code",
      "execution_count": null,
      "metadata": {
        "colab": {
          "base_uri": "https://localhost:8080/",
          "height": 176
        },
        "id": "Bve5gWxC0XD8",
        "outputId": "0f39f401-b9e5-41b7-c0fc-0d9bfbebf360"
      },
      "outputs": [
        {
          "ename": "TypeError",
          "evalue": "'tuple' object doesn't support item deletion",
          "output_type": "error",
          "traceback": [
            "\u001b[0;31m---------------------------------------------------------------------------\u001b[0m",
            "\u001b[0;31mTypeError\u001b[0m                                 Traceback (most recent call last)",
            "\u001b[0;32m<ipython-input-10-415edb3ca386>\u001b[0m in \u001b[0;36m<cell line: 3>\u001b[0;34m()\u001b[0m\n\u001b[1;32m      1\u001b[0m \u001b[0;31m# 튜플의 값을 삭제할 때 오류 발생\u001b[0m\u001b[0;34m\u001b[0m\u001b[0;34m\u001b[0m\u001b[0m\n\u001b[1;32m      2\u001b[0m \u001b[0mtuple2\u001b[0m \u001b[0;34m=\u001b[0m \u001b[0;34m(\u001b[0m\u001b[0;36m1\u001b[0m\u001b[0;34m,\u001b[0m \u001b[0;36m2\u001b[0m\u001b[0;34m,\u001b[0m \u001b[0;36m3\u001b[0m\u001b[0;34m,\u001b[0m \u001b[0;36m4\u001b[0m\u001b[0;34m)\u001b[0m\u001b[0;34m\u001b[0m\u001b[0;34m\u001b[0m\u001b[0m\n\u001b[0;32m----> 3\u001b[0;31m \u001b[0;32mdel\u001b[0m \u001b[0mtuple2\u001b[0m\u001b[0;34m[\u001b[0m\u001b[0;36m0\u001b[0m\u001b[0;34m]\u001b[0m\u001b[0;34m\u001b[0m\u001b[0;34m\u001b[0m\u001b[0m\n\u001b[0m",
            "\u001b[0;31mTypeError\u001b[0m: 'tuple' object doesn't support item deletion"
          ]
        }
      ],
      "source": [
        "# 튜플의 값을 삭제할 때 오류 발생\n",
        "tuple2 = (1, 2, 3, 4)\n",
        "del tuple2[0]"
      ]
    },
    {
      "cell_type": "markdown",
      "metadata": {
        "id": "_NfXXxEwSksx"
      },
      "source": [
        "### **6. 딕셔너리 자료형 (dictionary)**\n"
      ]
    },
    {
      "cell_type": "markdown",
      "metadata": {
        "id": "dSJKOP7J4VVm"
      },
      "source": [
        "#### **6-1. 딕셔너리 선언**\n",
        "- 딕셔너리는 중괄호 { }로 선언하며, '키 : 값' 형태를 쉼표(,)로 연결하려 생성\n",
        "- 일반적으로 키는 문자열을 사용\n",
        "- { key1 : value1, key2 : value2, ... key_n : value_n }"
      ]
    },
    {
      "cell_type": "code",
      "execution_count": null,
      "metadata": {
        "id": "ieLGm4-85Tic"
      },
      "outputs": [],
      "source": [
        "# 딕셔너리 선언\n",
        "\n",
        "myDictionary = {\n",
        "    \"name\" : \"Keryn\",\n",
        "    \"job\" : \"data analyst\"\n",
        "}\n",
        "\n"
      ]
    },
    {
      "cell_type": "code",
      "execution_count": null,
      "metadata": {
        "colab": {
          "base_uri": "https://localhost:8080/"
        },
        "id": "OvTnYrho9qSS",
        "outputId": "53b9b94d-13d9-48c8-d935-7ce43982bc60"
      },
      "outputs": [
        {
          "name": "stdout",
          "output_type": "stream",
          "text": [
            "Keryn\n",
            "data analyst\n"
          ]
        }
      ],
      "source": [
        "# 딕셔너리 값 출력\n",
        "print(myDictionary['name'])\n",
        "print(myDictionary['job'])"
      ]
    },
    {
      "cell_type": "markdown",
      "metadata": {
        "id": "yuAL2ZkK8n95"
      },
      "source": [
        "#### **6-2. 변경과 삭제**\n",
        "- 딕셔너리는 값을 변경하거나 삭제할 수 있음"
      ]
    },
    {
      "cell_type": "code",
      "execution_count": null,
      "metadata": {
        "colab": {
          "base_uri": "https://localhost:8080/"
        },
        "id": "7iFQDUIY9s1u",
        "outputId": "cfaa2f7c-7cff-4ffb-9d1b-716d844a81b6"
      },
      "outputs": [
        {
          "name": "stdout",
          "output_type": "stream",
          "text": [
            "{'name': 'Keryn', 'job': 'data analyst', 'grade': [98, 100, 88]}\n"
          ]
        }
      ],
      "source": [
        "# 딕셔너리 값 추가\n",
        "myDictionary['grade'] = [98, 100, 88]\n",
        "print(myDictionary)"
      ]
    },
    {
      "cell_type": "code",
      "execution_count": null,
      "metadata": {
        "colab": {
          "base_uri": "https://localhost:8080/"
        },
        "id": "B84gMBmN_FOJ",
        "outputId": "9899ab01-ebd8-47cc-a85e-7f704f8a5fd2"
      },
      "outputs": [
        {
          "name": "stdout",
          "output_type": "stream",
          "text": [
            "{'name': 'Keryn', 'job': 'data analyst', 'grade': [100, 100, 90]}\n"
          ]
        }
      ],
      "source": [
        "# 딕셔너리 값 수정\n",
        "\n",
        "myDictionary['grade'] = [100, 100, 90]\n",
        "print(myDictionary)"
      ]
    },
    {
      "cell_type": "code",
      "execution_count": null,
      "metadata": {
        "colab": {
          "base_uri": "https://localhost:8080/"
        },
        "id": "cbdG51Bd-m-K",
        "outputId": "b23ce951-3ea9-45f9-b823-6f17811a6ca9"
      },
      "outputs": [
        {
          "name": "stdout",
          "output_type": "stream",
          "text": [
            "{'name': 'Keryn', 'job': 'data analyst'}\n"
          ]
        }
      ],
      "source": [
        "# 딕셔너리 값 삭제\n",
        "del myDictionary['grade']\n",
        "print(myDictionary)"
      ]
    },
    {
      "cell_type": "markdown",
      "metadata": {
        "id": "lrHgTEPV_o6k"
      },
      "source": [
        "#### **6-3. 관련 함수**\n",
        "- keys() : key 리스트 만들기\n",
        "- values() : value 리스트 만들기\n",
        "- items() : key, value 쌍 얻기\n",
        "- get() : key로 value 얻기\n",
        "- in() : 해당 key가 딕셔너리 안에 있는지 조사\n",
        "- clear() : key:value 쌍 모두 지우기"
      ]
    },
    {
      "cell_type": "code",
      "execution_count": null,
      "metadata": {
        "colab": {
          "base_uri": "https://localhost:8080/"
        },
        "id": "GjcTy88VAU_c",
        "outputId": "5e151883-e274-40a7-c979-51b9ddbc90d5"
      },
      "outputs": [
        {
          "name": "stdout",
          "output_type": "stream",
          "text": [
            "{'name': 'keryn', 'job': 'data analyst', 'grade': [100, 90, 80]}\n"
          ]
        }
      ],
      "source": [
        "# 딕셔너리 생성\n",
        "myDictionary = {\n",
        "    \"name\" : \"keryn\",\n",
        "    \"job\" : \"data analyst\",\n",
        "    \"grade\" : [100, 90, 80]\n",
        "}\n",
        "print(myDictionary)"
      ]
    },
    {
      "cell_type": "code",
      "execution_count": null,
      "metadata": {
        "colab": {
          "base_uri": "https://localhost:8080/"
        },
        "id": "CBVV9jjwAU3W",
        "outputId": "62bff993-bcf3-4b95-8d97-27311cfbcbdc"
      },
      "outputs": [
        {
          "data": {
            "text/plain": [
              "dict_keys(['name', 'job', 'grade'])"
            ]
          },
          "execution_count": 19,
          "metadata": {},
          "output_type": "execute_result"
        }
      ],
      "source": [
        "# keys() : key 리스트 만들기\n",
        "myDictionary.keys()"
      ]
    },
    {
      "cell_type": "code",
      "execution_count": null,
      "metadata": {
        "colab": {
          "base_uri": "https://localhost:8080/"
        },
        "id": "AHg9NEexAUx4",
        "outputId": "4c4ab257-0a6f-4347-f939-b8698f81ed34"
      },
      "outputs": [
        {
          "data": {
            "text/plain": [
              "dict_values(['keryn', 'data analyst', [100, 90, 80]])"
            ]
          },
          "execution_count": 20,
          "metadata": {},
          "output_type": "execute_result"
        }
      ],
      "source": [
        "# values() : value 리스트 만들기\n",
        "myDictionary.values()"
      ]
    },
    {
      "cell_type": "code",
      "execution_count": null,
      "metadata": {
        "colab": {
          "base_uri": "https://localhost:8080/"
        },
        "id": "_qfFXD0oAUrb",
        "outputId": "56a7938f-ba6a-4427-d0b6-0c78c0077384"
      },
      "outputs": [
        {
          "data": {
            "text/plain": [
              "dict_items([('name', 'keryn'), ('job', 'data analyst'), ('grade', [100, 90, 80])])"
            ]
          },
          "execution_count": 21,
          "metadata": {},
          "output_type": "execute_result"
        }
      ],
      "source": [
        "# items() : key, value 쌍 얻기\n",
        "myDictionary.items()"
      ]
    },
    {
      "cell_type": "code",
      "execution_count": null,
      "metadata": {
        "colab": {
          "base_uri": "https://localhost:8080/"
        },
        "id": "yqIm4AW0BWiC",
        "outputId": "fdb7b942-7b93-4f74-c25d-ff4bf934b841"
      },
      "outputs": [
        {
          "name": "stdout",
          "output_type": "stream",
          "text": [
            "[100, 90, 80]\n",
            "None\n"
          ]
        }
      ],
      "source": [
        "# get() : key로 value 얻기\n",
        "print(myDictionary.get('grade'))\n",
        "print(myDictionary.get('hobby'))"
      ]
    },
    {
      "cell_type": "code",
      "execution_count": null,
      "metadata": {
        "colab": {
          "base_uri": "https://localhost:8080/"
        },
        "id": "7METU_vNBlR0",
        "outputId": "d9450a03-d8f5-43fa-eb23-6488cf5f8fde"
      },
      "outputs": [
        {
          "name": "stdout",
          "output_type": "stream",
          "text": [
            "True\n",
            "False\n"
          ]
        }
      ],
      "source": [
        "# in() : 해당 key가 딕셔너리 안에 있는지 조사\n",
        "print('name' in myDictionary)\n",
        "print('hobby' in myDictionary)"
      ]
    },
    {
      "cell_type": "code",
      "execution_count": null,
      "metadata": {
        "colab": {
          "base_uri": "https://localhost:8080/"
        },
        "id": "bK2v6hOkBDX0",
        "outputId": "fe5ec37a-7045-4517-92d1-23113bb8dccd"
      },
      "outputs": [
        {
          "name": "stdout",
          "output_type": "stream",
          "text": [
            "{}\n"
          ]
        }
      ],
      "source": [
        "# clear() : key:value 쌍 모두 지우기\n",
        "\n",
        "myDictionary.clear()\n",
        "print(myDictionary)"
      ]
    },
    {
      "cell_type": "markdown",
      "metadata": {
        "id": "3MAy89PE5_Ra"
      },
      "source": [
        "### **7. 집합 자료형 (set)**\n"
      ]
    },
    {
      "cell_type": "markdown",
      "metadata": {
        "id": "Z9L06LYKFeT_"
      },
      "source": [
        "#### **7-1. 집합 생성**\n",
        "- set 키워드를 통해 생성"
      ]
    },
    {
      "cell_type": "code",
      "execution_count": null,
      "metadata": {
        "colab": {
          "base_uri": "https://localhost:8080/"
        },
        "id": "Zw2TP6Nd588y",
        "outputId": "943b0a84-6f32-4a8f-81cd-2c2df9e80ef3"
      },
      "outputs": [
        {
          "name": "stdout",
          "output_type": "stream",
          "text": [
            "{10, 11, 12}\n",
            "<class 'set'>\n"
          ]
        }
      ],
      "source": [
        "# 리스트 입력하여 집합 생성\n",
        "\n",
        "set1 = set([10, 11, 12])\n",
        "print(set1)\n",
        "print(type(set1))"
      ]
    },
    {
      "cell_type": "code",
      "execution_count": null,
      "metadata": {
        "colab": {
          "base_uri": "https://localhost:8080/"
        },
        "id": "bNJJvg6nEhVv",
        "outputId": "cf850127-13ca-4d0f-a9b6-d3572ece2f53"
      },
      "outputs": [
        {
          "name": "stdout",
          "output_type": "stream",
          "text": [
            "{'e', 'l', 'S', 'n', 'a'}\n",
            "<class 'set'>\n"
          ]
        }
      ],
      "source": [
        "# 문자열 입력하여 집합 생성\n",
        "# 중복을 허용하지 않기 때문에 e가 하나만 출력\n",
        "# 비순서 자료형 : 인덱싱 지원 안 함\n",
        "\n",
        "set2 = set(\"Selena\")\n",
        "print(set2)\n",
        "print(type(set2))"
      ]
    },
    {
      "cell_type": "markdown",
      "metadata": {
        "id": "Qds0EjKaFjT5"
      },
      "source": [
        "#### **7-2. 교집합, 합집합, 차집합**\n",
        "- 집합 자료형은 합집합, 교집합, 차집합을 구할 때 유용\n",
        "> - 합집합 : |\n",
        "> - 교집합 : &\n",
        "> - 차집합 : -"
      ]
    },
    {
      "cell_type": "code",
      "execution_count": null,
      "metadata": {
        "id": "JG7jwiZJFuwu"
      },
      "outputs": [],
      "source": [
        "# 집합 생성\n",
        "set1 = {1, 2, 3, 4, 5}\n",
        "set2 = {1, 3, 5, 7, 9}"
      ]
    },
    {
      "cell_type": "code",
      "execution_count": null,
      "metadata": {
        "colab": {
          "base_uri": "https://localhost:8080/"
        },
        "id": "2nu5a-AoF8Xj",
        "outputId": "a0c588a0-1a7a-4374-e267-e4c559cf9d48"
      },
      "outputs": [
        {
          "name": "stdout",
          "output_type": "stream",
          "text": [
            "{1, 2, 3, 4, 5, 7, 9}\n"
          ]
        }
      ],
      "source": [
        "# 합집합\n",
        "print(set1 | set2)"
      ]
    },
    {
      "cell_type": "code",
      "execution_count": null,
      "metadata": {
        "colab": {
          "base_uri": "https://localhost:8080/"
        },
        "id": "Dy3ekQa_GmZC",
        "outputId": "ce73df9a-5ad9-42d3-fc24-b9cb741a143f"
      },
      "outputs": [
        {
          "name": "stdout",
          "output_type": "stream",
          "text": [
            "{1, 3, 5}\n"
          ]
        }
      ],
      "source": [
        "# 교집합\n",
        "print(set1 & set2)"
      ]
    },
    {
      "cell_type": "code",
      "execution_count": null,
      "metadata": {
        "colab": {
          "base_uri": "https://localhost:8080/"
        },
        "id": "lmWhPZGlGqlm",
        "outputId": "330cbd16-57ea-43e3-8f6c-099319e8a895"
      },
      "outputs": [
        {
          "name": "stdout",
          "output_type": "stream",
          "text": [
            "{2, 4}\n"
          ]
        }
      ],
      "source": [
        "# 차집합\n",
        "\n",
        "print(set1 - set2)"
      ]
    },
    {
      "cell_type": "markdown",
      "metadata": {
        "id": "FZvtNWf4Gxoz"
      },
      "source": [
        "#### **7-3. 관련 함수**\n",
        "- add() : 한 개의 값 추가\n",
        "- update() : 여러 개의 값 추가\n",
        "- remove() : 특정 값 제거"
      ]
    },
    {
      "cell_type": "code",
      "execution_count": null,
      "metadata": {
        "id": "Y2N76CxYHJNv"
      },
      "outputs": [],
      "source": [
        "# 집합 생성\n",
        "set1 = {1, 2, 3, 4, 5}"
      ]
    },
    {
      "cell_type": "code",
      "execution_count": null,
      "metadata": {
        "colab": {
          "base_uri": "https://localhost:8080/"
        },
        "id": "_wnsNblDHPqF",
        "outputId": "e917b2af-f8ac-4515-d0bc-07fbfbc02917"
      },
      "outputs": [
        {
          "data": {
            "text/plain": [
              "{1, 2, 3, 4, 5, 10}"
            ]
          },
          "execution_count": 41,
          "metadata": {},
          "output_type": "execute_result"
        }
      ],
      "source": [
        "# add() : 한 개의 값 추가\n",
        "set1.add(10)\n",
        "set1"
      ]
    },
    {
      "cell_type": "code",
      "execution_count": null,
      "metadata": {
        "colab": {
          "base_uri": "https://localhost:8080/"
        },
        "id": "kOfgOxuVHTT5",
        "outputId": "0c11134f-5979-405d-ba9b-1cb56d078aaf"
      },
      "outputs": [
        {
          "data": {
            "text/plain": [
              "{1, 2, 3, 4, 5, 10, 11, 12, 13}"
            ]
          },
          "execution_count": 44,
          "metadata": {},
          "output_type": "execute_result"
        }
      ],
      "source": [
        "# update() : 여러 개의 값 추가\n",
        "\n",
        "set1.update([11,12,13])\n",
        "set1"
      ]
    },
    {
      "cell_type": "code",
      "execution_count": null,
      "metadata": {
        "colab": {
          "base_uri": "https://localhost:8080/"
        },
        "id": "-3ZlwpgiHPla",
        "outputId": "442dd971-1e84-4227-a42e-0acc1234d3b8"
      },
      "outputs": [
        {
          "data": {
            "text/plain": [
              "{2, 3, 4, 5, 10, 11, 12, 13}"
            ]
          },
          "execution_count": 45,
          "metadata": {},
          "output_type": "execute_result"
        }
      ],
      "source": [
        "# remove() : 특정 값 제거\n",
        "\n",
        "set1.remove(1)\n",
        "set1"
      ]
    },
    {
      "cell_type": "markdown",
      "metadata": {
        "id": "1mRGpKVGSqO9"
      },
      "source": [
        "### **8. 부울 자료형 (bool)**\n",
        "- 참과 거짓을 나타내는 자료형\n",
        "- 주로 조건문의 반환 값으로 사용\n",
        "\n"
      ]
    },
    {
      "cell_type": "code",
      "execution_count": null,
      "metadata": {
        "colab": {
          "base_uri": "https://localhost:8080/"
        },
        "id": "nCxMdeofH6ed",
        "outputId": "ed36a64b-e741-47ea-95a0-11679eed0351"
      },
      "outputs": [
        {
          "data": {
            "text/plain": [
              "True"
            ]
          },
          "execution_count": 47,
          "metadata": {},
          "output_type": "execute_result"
        }
      ],
      "source": [
        "# 조건문의 반환 값\n",
        "\"apple\" == \"apple\""
      ]
    },
    {
      "cell_type": "code",
      "execution_count": null,
      "metadata": {
        "colab": {
          "base_uri": "https://localhost:8080/"
        },
        "id": "SnZxyCP5H_bR",
        "outputId": "933ffdbe-ecd1-4217-9936-f1dd94ff3c59"
      },
      "outputs": [
        {
          "data": {
            "text/plain": [
              "True"
            ]
          },
          "execution_count": 48,
          "metadata": {},
          "output_type": "execute_result"
        }
      ],
      "source": [
        "# 조건문의 반환 값\n",
        "10 < 11"
      ]
    },
    {
      "cell_type": "code",
      "execution_count": null,
      "metadata": {
        "colab": {
          "base_uri": "https://localhost:8080/"
        },
        "id": "Aa6CBHWnI8-J",
        "outputId": "698121ed-6266-440e-b9ef-c6138f0baf4f"
      },
      "outputs": [
        {
          "data": {
            "text/plain": [
              "True"
            ]
          },
          "execution_count": 49,
          "metadata": {},
          "output_type": "execute_result"
        }
      ],
      "source": [
        "# 조건문의 반환 값\n",
        "10 < 11"
      ]
    },
    {
      "cell_type": "markdown",
      "metadata": {
        "id": "q_R5FaktJCdx"
      },
      "source": [
        "#### **8-1. 변하지 않는 참과 거짓**\n",
        "- 문자열, 리스트, 튜플, 딕셔너리 등의 값이 비어 있다면 False (거짓)\n",
        "- 문자열, 리스트, 튜플, 딕셔너리 등의 값이 비어 있지 않다면 True (참)\n",
        "- if 문(조건문)으로 참, 거짓 판별"
      ]
    },
    {
      "cell_type": "code",
      "execution_count": null,
      "metadata": {
        "colab": {
          "base_uri": "https://localhost:8080/"
        },
        "id": "lePcLUCrJCG0",
        "outputId": "fb341f20-c26e-40a2-81ba-121b9ec44f29"
      },
      "outputs": [
        {
          "name": "stdout",
          "output_type": "stream",
          "text": [
            "True\n"
          ]
        }
      ],
      "source": [
        "# if문(조건문)에서 True면 내부 코드 실행, False면 내부 코드 실행하지 않고 통과\n",
        "# \"python\"이라는 문자열은 값이 비어 있지 않음 -> True\n",
        "\n",
        "if \"python\" :\n",
        "  print(\"True\")\n",
        "else:\n",
        "  print(\"False\")"
      ]
    },
    {
      "cell_type": "code",
      "execution_count": null,
      "metadata": {
        "colab": {
          "base_uri": "https://localhost:8080/"
        },
        "id": "o-Mpm7xUI_EB",
        "outputId": "fa06bc37-4327-4534-d1f5-8e2f03e2ad42"
      },
      "outputs": [
        {
          "name": "stdout",
          "output_type": "stream",
          "text": [
            "False\n"
          ]
        }
      ],
      "source": [
        "# if문(조건문)에서 True면 내부 코드 실행, False면 내부 코드 실행하지 않고 통과\n",
        "# []이라는 빈 리스트는 값이 비어 있음 -> False\n",
        "\n",
        "if [] :\n",
        "  print(\"True\")\n",
        "else :\n",
        "  print(\"False\")\n"
      ]
    },
    {
      "cell_type": "code",
      "execution_count": null,
      "metadata": {
        "colab": {
          "base_uri": "https://localhost:8080/"
        },
        "id": "3nVDyYcSKYz0",
        "outputId": "48b8c252-a182-401b-9ecc-d32865fb8377"
      },
      "outputs": [
        {
          "name": "stdout",
          "output_type": "stream",
          "text": [
            "True\n"
          ]
        }
      ],
      "source": [
        "# if문(조건문)에서 True면 내부 코드 실행, False면 내부 코드 실행하지 않고 통과\n",
        "# 이분법에서 1은 True이며 0은 False를 의미\n",
        "\n",
        "if 1 :\n",
        "  print(\"True\")\n",
        "else :\n",
        "  print(\"False\")\n"
      ]
    },
    {
      "cell_type": "code",
      "execution_count": null,
      "metadata": {
        "colab": {
          "base_uri": "https://localhost:8080/"
        },
        "id": "x0ELwublKu41",
        "outputId": "424eff28-6f85-4f44-d29e-67bb6c6ba48b"
      },
      "outputs": [
        {
          "name": "stdout",
          "output_type": "stream",
          "text": [
            "False\n"
          ]
        }
      ],
      "source": [
        "# if문(조건문)에서 True면 내부 코드 실행, False면 내부 코드 실행하지 않고 통과\n",
        "# 이분법에서 1은 True이며 0은 False를 의미\n",
        "\n",
        "if 0:\n",
        "  print(\"True\")\n",
        "else :\n",
        "  print(\"False\")"
      ]
    },
    {
      "cell_type": "code",
      "execution_count": null,
      "metadata": {
        "colab": {
          "background_save": true
        },
        "id": "oibkD8LOKv6Y",
        "outputId": "f9a8cf17-d16e-4607-ce36-14b2ce48bf85"
      },
      "outputs": [
        {
          "data": {
            "text/plain": [
              "False"
            ]
          },
          "execution_count": 54,
          "metadata": {},
          "output_type": "execute_result"
        }
      ],
      "source": [
        "# 조건문이 아닌 bool 함수를 통해 True, False를 출력할 수 있음\n",
        "# ''이라는 빈 문자열은 값이 비어 있음 -> False\n"
      ]
    },
    {
      "cell_type": "code",
      "execution_count": null,
      "metadata": {
        "colab": {
          "background_save": true
        },
        "id": "nRJgThZ7K54N",
        "outputId": "217045f8-979c-4ab5-d2ab-49acc9fe1cf9"
      },
      "outputs": [
        {
          "data": {
            "text/plain": [
              "True"
            ]
          },
          "execution_count": 55,
          "metadata": {},
          "output_type": "execute_result"
        }
      ],
      "source": [
        "# 조건문이 아닌 bool 함수를 통해 True, False를 출력할 수 있음\n",
        "# [1,2,3]이라는 리스트는 값이 비어 있지 않음 -> True\n"
      ]
    },
    {
      "cell_type": "markdown",
      "metadata": {
        "id": "CJbc28TH3tVW"
      },
      "source": [
        "# **자기 주도 학습 복습 과제 - 문제**\n",
        "* 문제를 풀고 답을 확인하세요 :)\n",
        "* 정답지에 자세히 설명되어 있습니다.\n",
        "* [정답지 링크](https://drive.google.com/file/d/16MIYxpvONYD4eb2bkg-0ZAXD3RG3b0ss/view?usp=sharing)"
      ]
    },
    {
      "cell_type": "markdown",
      "metadata": {
        "id": "PvrSC4U28zsn"
      },
      "source": [
        "## **1. 자료형 문제 (1)**\n",
        "\n",
        "* 문자열 출력\n",
        "\n"
      ]
    },
    {
      "cell_type": "code",
      "execution_count": null,
      "metadata": {
        "id": "N5AKPLya34rl"
      },
      "outputs": [],
      "source": [
        "# 1) 이스케이프 문자를 사용하여 '파이썬 '자료형' 완벽 정복!' 문자열 출력\n",
        "# 주의 사항 : 작은 따옴표만 사용하기!\n"
      ]
    },
    {
      "cell_type": "code",
      "execution_count": null,
      "metadata": {
        "id": "TSqA86px4CXD"
      },
      "outputs": [],
      "source": [
        "# 2) 문자열 반복 연산자를 사용하여 아래와 동일한 문자열 출력('*'문자 20개 사용)\n",
        "# ********************\n",
        "# 파이썬 '자료형' 정복\n",
        "# ********************\n",
        "\n",
        "\n"
      ]
    },
    {
      "cell_type": "markdown",
      "metadata": {
        "id": "NoLX-NKt4QsM"
      },
      "source": [
        "## **2. 자료형 문제 (2)**\n",
        "\n",
        "* 문자열 인덱싱과 슬라이싱\n",
        "\n"
      ]
    },
    {
      "cell_type": "code",
      "execution_count": null,
      "metadata": {
        "id": "612fUuWd4SGY"
      },
      "outputs": [],
      "source": [
        "# 1) sentence 문자열에서 '하' 문자를 출력\n",
        "sentence = '파이썬 하루만에 끝내보자!'\n",
        "\n"
      ]
    },
    {
      "cell_type": "code",
      "execution_count": null,
      "metadata": {
        "id": "udCwIcNB4Zwa"
      },
      "outputs": [],
      "source": [
        "# 2) sentence 문자열에서 '끝내보자' 문자를 출력\n",
        "sentence = '파이썬 하루만에 끝내보자!'\n",
        "\n"
      ]
    },
    {
      "cell_type": "markdown",
      "metadata": {
        "id": "a8ZtX_fM4idq"
      },
      "source": [
        "## **3. 자료형 문제 (3)**\n",
        "\n",
        "* 문자열 포맷팅\n",
        "\n"
      ]
    },
    {
      "cell_type": "code",
      "execution_count": null,
      "metadata": {
        "id": "er3AJtho4jQk"
      },
      "outputs": [],
      "source": [
        "# 1) 숫자 부분에 % 연산자 포맷팅을 사용하여 아래와 동일한 문자열 출력\n",
        "# 9 x 9 = 81\n",
        "\n"
      ]
    },
    {
      "cell_type": "code",
      "execution_count": null,
      "metadata": {
        "id": "HpcQoxuK4oVl"
      },
      "outputs": [],
      "source": [
        "# 2) 숫자 부분에 .format 포맷팅을 사용하여 아래와 동일한 문자열 출력\n",
        "# 9 x 9 = 81\n",
        "\n"
      ]
    },
    {
      "cell_type": "markdown",
      "metadata": {
        "id": "7jBDhXMO5Hjp"
      },
      "source": [
        "## **4. 자료형 문제 (4)**\n",
        "\n",
        "* 문자열 관련 함수\n",
        "\n"
      ]
    },
    {
      "cell_type": "code",
      "execution_count": null,
      "metadata": {
        "id": "-5Fpqpzi5IlE"
      },
      "outputs": [],
      "source": [
        "# 1) 함수를 사용하여 '골프'를 '수영'으로 바꾼 문자열 출력\n",
        "sentence = \"운동 : 풋살 승마 골프\"\n",
        "\n",
        "\n"
      ]
    },
    {
      "cell_type": "code",
      "execution_count": null,
      "metadata": {
        "id": "u2uzv-W65I7N"
      },
      "outputs": [],
      "source": [
        "# 2) 함수를 사용하여 대문자를 소문자로 바꾼 문자열 출력\n",
        "sentence = \"PyThon\"\n",
        "\n"
      ]
    },
    {
      "cell_type": "markdown",
      "metadata": {
        "id": "tf2pml-D5PNj"
      },
      "source": [
        "## **5. 자료형 문제 (5)**\n",
        "\n",
        "* 리스트 인덱싱\n",
        "\n"
      ]
    },
    {
      "cell_type": "code",
      "execution_count": null,
      "metadata": {
        "id": "fzmnBu-U5QIA"
      },
      "outputs": [],
      "source": [
        "myList = [2024, 3, 9*9, ['풋살', ['승마', '수영']]]\n",
        "print(myList)"
      ]
    },
    {
      "cell_type": "code",
      "execution_count": null,
      "metadata": {
        "id": "fsoSJl-a5Sde"
      },
      "outputs": [],
      "source": [
        "# 1) myList 리스트에서 인덱싱 이용하여 3 숫자 출력\n"
      ]
    },
    {
      "cell_type": "code",
      "execution_count": null,
      "metadata": {
        "id": "Haa29QFG5Xpv"
      },
      "outputs": [],
      "source": [
        "# 2) myList 리스트에서 인덱싱 이용하여 '승마' 문자 출력\n"
      ]
    },
    {
      "cell_type": "code",
      "execution_count": null,
      "metadata": {
        "id": "uneoXb695ZV_"
      },
      "outputs": [],
      "source": [
        "# 3) myList 리스트에서 인덱싱 이용하여 '수영'에서 '영' 문자 출력\n"
      ]
    },
    {
      "cell_type": "markdown",
      "metadata": {
        "id": "yCUd7Cc15beW"
      },
      "source": [
        "## **6. 자료형 문제 (6)**\n",
        "\n",
        "* 리스트 변경과 삭제\n",
        "\n"
      ]
    },
    {
      "cell_type": "code",
      "execution_count": null,
      "metadata": {
        "id": "NIWkCT-65cYF"
      },
      "outputs": [],
      "source": [
        "myList = [2024, 3, 9*9, ['풋살', ['승마', '수영']]]\n",
        "print(myList)"
      ]
    },
    {
      "cell_type": "code",
      "execution_count": null,
      "metadata": {
        "id": "7WHUw0H55cnz"
      },
      "outputs": [],
      "source": [
        "# 1) myList 리스트에서 '풋살'을 '야구'로 바꿔서 출력\n",
        "\n"
      ]
    },
    {
      "cell_type": "code",
      "execution_count": null,
      "metadata": {
        "id": "O0rvlQ-I5nmU"
      },
      "outputs": [],
      "source": [
        "# 2) myList 리스트에서 '야구' 값 삭제\n",
        "\n"
      ]
    },
    {
      "cell_type": "markdown",
      "metadata": {
        "id": "zU55s6G_5pbZ"
      },
      "source": [
        "## **7. 자료형 문제 (7)**\n",
        "\n",
        "* 리스트 관련 함수\n",
        "\n"
      ]
    },
    {
      "cell_type": "code",
      "execution_count": null,
      "metadata": {
        "id": "ITp47LuJ5qhc"
      },
      "outputs": [],
      "source": [
        "myList = [2024, 3, 9*9, ['풋살', ['승마', '수영']]]\n",
        "print(myList)"
      ]
    },
    {
      "cell_type": "code",
      "execution_count": null,
      "metadata": {
        "id": "tYWpA7f55rV6"
      },
      "outputs": [],
      "source": [
        "# 1) myList 리스트에서 3번째 위치에 \"삽입\" 문자열 삽입\n",
        "\n"
      ]
    },
    {
      "cell_type": "markdown",
      "metadata": {
        "id": "tqdeMblw51D8"
      },
      "source": [
        "## **8. 자료형 문제 (8)**\n",
        "\n",
        "* 튜플 슬라이싱\n",
        "\n"
      ]
    },
    {
      "cell_type": "code",
      "execution_count": null,
      "metadata": {
        "id": "fAqzWcHW51rd"
      },
      "outputs": [],
      "source": [
        "# 1) myTuple 튜플에서 슬라이싱을 이용하여 2번째 인덱스부터 3번째 인덱스까지 출력\n",
        "\n"
      ]
    },
    {
      "cell_type": "markdown",
      "metadata": {
        "id": "z0EV7bh36AYY"
      },
      "source": [
        "## **9. 자료형 문제 (9)**\n",
        "\n",
        "* 튜플 연산자\n",
        "\n"
      ]
    },
    {
      "cell_type": "code",
      "execution_count": null,
      "metadata": {
        "id": "IumAf6TZ6BKR"
      },
      "outputs": [],
      "source": [
        "# 1) myTuple1, myTuple2 튜플을 이용하여 아래와 동일한 결과 출력\n",
        "# (1, 2, 3, 1, 2, 3, 1, 2, 3, 4, 5, 6, 4, 5, 6)\n",
        "myTuple1 = (1, 2, 3)\n",
        "myTuple2 = (4, 5, 6)\n",
        "\n"
      ]
    },
    {
      "cell_type": "markdown",
      "metadata": {
        "id": "Xkyq9nTQ6PNz"
      },
      "source": [
        "## **10. 자료형 문제 (10)**\n",
        "\n",
        "* 딕셔너리 선언\n",
        "\n"
      ]
    },
    {
      "cell_type": "code",
      "execution_count": null,
      "metadata": {
        "id": "Kmr16RFc6P85"
      },
      "outputs": [],
      "source": [
        "# 1) myDictionary 변수에 아래와 동일한 딕셔너리 선언하여 출력\n",
        "# {'name': '자신의 영어 이름', 'hobby': 'soccer'}\n",
        "\n",
        "\n",
        "\n",
        "\n",
        "\n"
      ]
    },
    {
      "cell_type": "markdown",
      "metadata": {
        "id": "pWGyJD2y6YlK"
      },
      "source": [
        "## **11. 자료형 문제 (11)**\n",
        "\n",
        "* 딕셔너리 변경과 삭제\n",
        "\n"
      ]
    },
    {
      "cell_type": "code",
      "execution_count": null,
      "metadata": {
        "id": "m8niSvj06Zl_"
      },
      "outputs": [],
      "source": [
        "# 1) myDictionary 딕셔너리에 key = 'grade', value = [90, 100, 80] 추가하여 출력\n",
        "\n"
      ]
    },
    {
      "cell_type": "code",
      "execution_count": null,
      "metadata": {
        "id": "W9-EZg8P6cDJ"
      },
      "outputs": [],
      "source": [
        "# 2) myDictionary 딕셔너리에 key = 'grade', value = [100, 100, 90] 값 수정하여 출력\n",
        "\n"
      ]
    },
    {
      "cell_type": "code",
      "execution_count": null,
      "metadata": {
        "id": "g9PF-CrA6dhc"
      },
      "outputs": [],
      "source": [
        "# 3) myDictionary 딕셔너리에 key = 'grade' 삭제\n",
        "\n"
      ]
    },
    {
      "cell_type": "markdown",
      "metadata": {
        "id": "5kYvw1ra6e2A"
      },
      "source": [
        "## **12. 자료형 문제 (12)**\n",
        "\n",
        "* 딕셔너리 관련 함수\n",
        "\n"
      ]
    },
    {
      "cell_type": "code",
      "execution_count": null,
      "metadata": {
        "id": "biB2Wcyj6f8V"
      },
      "outputs": [],
      "source": [
        "# 1) myDictionary 딕셔너리에서 함수를 이용하여 key, value 쌍 얻기\n",
        "\n"
      ]
    },
    {
      "cell_type": "code",
      "execution_count": null,
      "metadata": {
        "id": "VKpv_hvZ6hyA"
      },
      "outputs": [],
      "source": [
        "# 2) myDictionary 딕셔너리에서 함수를 이용하여 key에 'job' 있는지 조사\n",
        "\n"
      ]
    },
    {
      "cell_type": "markdown",
      "metadata": {
        "id": "__5zk3FI6jbB"
      },
      "source": [
        "## **13. 자료형 문제 (13)**\n",
        "\n",
        "* 집합 선언\n",
        "\n"
      ]
    },
    {
      "cell_type": "code",
      "execution_count": null,
      "metadata": {
        "id": "SgGhRfln6kXK"
      },
      "outputs": [],
      "source": [
        "# 1) 리스트 [1, 2, 3, 4] 입력하여 mySet1 집합 선언하여 출력\n",
        "# 비순서 자료형 : 인덱싱 지원 안 함\n",
        "\n"
      ]
    },
    {
      "cell_type": "code",
      "execution_count": null,
      "metadata": {
        "id": "jnvcSb0N6oQp"
      },
      "outputs": [],
      "source": [
        "# 2) 리스트 [2, 4, 6, 8] 입력하여 mySet2 집합 선언하여 출력\n",
        "# 비순서 자료형 : 인덱싱 지원 안 함\n",
        "\n"
      ]
    },
    {
      "cell_type": "markdown",
      "metadata": {
        "id": "x4v4mXLE6pos"
      },
      "source": [
        "## **14. 자료형 문제 (14)**\n",
        "\n",
        "* 집합 합집합, 교집합, 차집합\n",
        "\n"
      ]
    },
    {
      "cell_type": "code",
      "execution_count": null,
      "metadata": {
        "id": "CELqk00-6qjp"
      },
      "outputs": [],
      "source": [
        "# 1) mySet1, mySet2 집합을 통해 합집합 출력\n",
        "# 중복을 허용하지 않음\n"
      ]
    },
    {
      "cell_type": "code",
      "execution_count": null,
      "metadata": {
        "id": "KhWzFXaS6yUM"
      },
      "outputs": [],
      "source": [
        "# 2) mySet1, mySet2 집합을 통해 교집합 출력\n"
      ]
    },
    {
      "cell_type": "code",
      "execution_count": null,
      "metadata": {
        "id": "x-JgyQ4d6zUd"
      },
      "outputs": [],
      "source": [
        "# 3) mySet1, mySet2 집합을 통해 차집합 출력\n",
        "\n"
      ]
    }
  ],
  "metadata": {
    "colab": {
      "provenance": []
    },
    "kernelspec": {
      "display_name": "Python 3",
      "name": "python3"
    },
    "language_info": {
      "name": "python"
    }
  },
  "nbformat": 4,
  "nbformat_minor": 0
}