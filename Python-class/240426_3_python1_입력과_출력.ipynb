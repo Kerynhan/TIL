{
  "nbformat": 4,
  "nbformat_minor": 0,
  "metadata": {
    "colab": {
      "provenance": [],
      "include_colab_link": true
    },
    "kernelspec": {
      "name": "python3",
      "display_name": "Python 3"
    },
    "language_info": {
      "name": "python"
    }
  },
  "cells": [
    {
      "cell_type": "markdown",
      "metadata": {
        "id": "view-in-github",
        "colab_type": "text"
      },
      "source": [
        "<a href=\"https://colab.research.google.com/github/Kerynhan/TIL/blob/main/240426_3_python1_%EC%9E%85%EB%A0%A5%EA%B3%BC_%EC%B6%9C%EB%A0%A5.ipynb\" target=\"_parent\"><img src=\"https://colab.research.google.com/assets/colab-badge.svg\" alt=\"Open In Colab\"/></a>"
      ]
    },
    {
      "cell_type": "markdown",
      "source": [
        "[공지사항]\n",
        "* 제작 과정에서 강의명이 변경되어 영상 및 강의 자료에 표기된 강의명은 촬영 시점에 사용된 것으로, 강의 내용에는 변동이 없음을 안내드리오며 수강에 혼선 없으시길 바랍니다."
      ],
      "metadata": {
        "id": "liwlQTeTkzs-"
      }
    },
    {
      "cell_type": "markdown",
      "metadata": {
        "id": "cf6XxK0SYThX"
      },
      "source": [
        "# **STEP 3. 입력과 출력**"
      ]
    },
    {
      "cell_type": "markdown",
      "metadata": {
        "id": "dEEJ0HYWYTde"
      },
      "source": [
        "## **01. 입력**"
      ]
    },
    {
      "cell_type": "markdown",
      "metadata": {
        "id": "h9C1ffkxYtbk"
      },
      "source": [
        "### **1. 사용자 입력 (input)**"
      ]
    },
    {
      "cell_type": "markdown",
      "metadata": {
        "id": "G9YJ3s_2YtQv"
      },
      "source": [
        "#### **1-1. 사용자 입력 받기**\n",
        "- input() 함수 괄호 안에 입력한 내용을 '프롬프트 문자열'이라고 부름\n",
        "- 사용자로부터 입력을 요구하는 내용 적기"
      ]
    },
    {
      "cell_type": "code",
      "metadata": {
        "id": "SN4wvLDnby06",
        "colab": {
          "base_uri": "https://localhost:8080/",
          "height": 53
        },
        "outputId": "3952e7ce-522a-47fb-cb8e-69a6c9fd7b68"
      },
      "source": [
        "# input() 함수안에 사용자에게 요구하는 내용 적기\n",
        "input(\"이름을 적어주세요. : \")"
      ],
      "execution_count": null,
      "outputs": [
        {
          "name": "stdout",
          "output_type": "stream",
          "text": [
            "이름을 적어주세요. : 사과\n"
          ]
        },
        {
          "output_type": "execute_result",
          "data": {
            "text/plain": [
              "'사과'"
            ],
            "application/vnd.google.colaboratory.intrinsic+json": {
              "type": "string"
            }
          },
          "metadata": {},
          "execution_count": 1
        }
      ]
    },
    {
      "cell_type": "markdown",
      "metadata": {
        "id": "EKplKG2zYtIW"
      },
      "source": [
        "#### **1-2. 변수 대입**\n",
        "- input() 함수의 결과 값을 변수에 대입\n",
        "- input() 함수는 사용자가 무엇을 입력해도 결과는 무조건 문자열 자료형"
      ]
    },
    {
      "cell_type": "code",
      "metadata": {
        "id": "GSDPr-nfcaNc",
        "colab": {
          "base_uri": "https://localhost:8080/"
        },
        "outputId": "0a14109c-e12c-4aee-dc1e-3055f870a6ee"
      },
      "source": [
        "# input() 함수의 결과 값을 name 이라는 변수에 대입\n",
        "# name은 문자열로 입력을 받아서 데이터 타입은 문자열\n",
        "\n",
        "name = input(\"이름을 적어주세요. : \")\n",
        "print(type(name))"
      ],
      "execution_count": null,
      "outputs": [
        {
          "output_type": "stream",
          "name": "stdout",
          "text": [
            "이름을 적어주세요. : 사과\n",
            "<class 'str'>\n"
          ]
        }
      ]
    },
    {
      "cell_type": "code",
      "metadata": {
        "id": "RS43Z09KcvHh",
        "colab": {
          "base_uri": "https://localhost:8080/"
        },
        "outputId": "10267f78-713d-438a-98ca-97952ed998b3"
      },
      "source": [
        "# input() 함수의 결과 값을 number 이라는 변수에 대입\n",
        "# number에 숫자를 넣었지만 input() 함수는 사용자가 무엇을 입력해도 결과는 무조건 문자열 자료형\n",
        "\n",
        "number = input(\"가장 좋아하는 숫자를 입력해 주세요. : \")\n",
        "print(type(number))"
      ],
      "execution_count": null,
      "outputs": [
        {
          "output_type": "stream",
          "name": "stdout",
          "text": [
            "가장 좋아하는 숫자를 입력해 주세요. : 777\n",
            "<class 'str'>\n"
          ]
        }
      ]
    },
    {
      "cell_type": "markdown",
      "metadata": {
        "id": "kY-u79oXYs9d"
      },
      "source": [
        "### **2. 숫자로 변환**\n",
        "- int() 함수를 이용하여 숫자(정수)로 변환\n",
        "- float() 함수를 이용하여 숫자(실수)로 변환"
      ]
    },
    {
      "cell_type": "code",
      "metadata": {
        "id": "Iz3HaFksyNSY",
        "colab": {
          "base_uri": "https://localhost:8080/"
        },
        "outputId": "6771c4a7-1287-409b-d3ca-96aaf8731a4f"
      },
      "source": [
        "# input() 함수의 결과는 항상 문자열 자료형\n",
        "# int() 함수를 이용하여 숫자로 변환\n",
        "# string1, string2 변수의 타입은 문자열 자료형\n",
        "# int1, int2 변수의 타입은 숫자 자료형\n",
        "string1 = input(\"1 입력해 주세요. : \")\n",
        "int1 = int(string1)\n",
        "\n",
        "string2 = input(\"2 입력해 주세요. : \")\n",
        "int2 = int(string2)\n",
        "\n",
        "# 문자열 덧셈이라서 12(숫자가 아닌 문자열)출력\n",
        "print(string1 + string2)\n",
        "\n",
        "# 숫자 덧셈이라서 1+2인 3(숫자) 출력\n",
        "print(int1 + int2)"
      ],
      "execution_count": null,
      "outputs": [
        {
          "output_type": "stream",
          "name": "stdout",
          "text": [
            "1 입력해 주세요. : 1\n",
            "2 입력해 주세요. : 2\n",
            "12\n",
            "3\n"
          ]
        }
      ]
    },
    {
      "cell_type": "markdown",
      "metadata": {
        "id": "ksIrwudJYs4M"
      },
      "source": [
        "### **3. 문자열로 변환**\n",
        "- str() 함수를 이용하여 문자열로 변환"
      ]
    },
    {
      "cell_type": "code",
      "metadata": {
        "id": "Zw85H7sT1bP3",
        "colab": {
          "base_uri": "https://localhost:8080/"
        },
        "outputId": "35e45a9d-85cb-439e-a4ec-5301b1a158ce"
      },
      "source": [
        "# str() 함수를 이용하여 문자열로 변환\n",
        "\n",
        "int1 = 123\n",
        "print(int1)\n",
        "print(type(int1))\n",
        "\n",
        "str1 = str(int1)\n",
        "print(str1)\n",
        "print(type(str1))"
      ],
      "execution_count": null,
      "outputs": [
        {
          "output_type": "stream",
          "name": "stdout",
          "text": [
            "123\n",
            "<class 'int'>\n",
            "123\n",
            "<class 'str'>\n"
          ]
        }
      ]
    },
    {
      "cell_type": "markdown",
      "metadata": {
        "id": "gCzvt-bGYTYw"
      },
      "source": [
        "## **02. 출력**"
      ]
    },
    {
      "cell_type": "markdown",
      "metadata": {
        "id": "uUVFW7lijgTt"
      },
      "source": [
        "### **1. 출력 (print)**\n",
        "- print() 함수는 자료형을 출력하는 함수"
      ]
    },
    {
      "cell_type": "markdown",
      "metadata": {
        "id": "6ptq--HdKqek"
      },
      "source": [
        "#### **1-1. 큰 따옴표와 더하기**\n",
        "- 큰 따옴표(\")로 둘러싸인 문자열은 더하기(+) 연산과 동일"
      ]
    },
    {
      "cell_type": "code",
      "metadata": {
        "id": "DhcHSicjKprP",
        "colab": {
          "base_uri": "https://localhost:8080/"
        },
        "outputId": "476b65c7-b897-4aea-8822-61232c4c480b"
      },
      "source": [
        "# 큰 따옴표(\")로 둘러싸인 문자열은 + 연산과 동일\n",
        "# 큰 따옴표(\")로 둘러싸인 문자열\n",
        "# + 연산으로 사용한 문자열\n",
        "print(\"파이썬 \" \"프로그래밍 \" \"수업\")\n",
        "print(\"파이썬 \" + \"프로그래밍 \" + \"수업\")"
      ],
      "execution_count": null,
      "outputs": [
        {
          "output_type": "stream",
          "name": "stdout",
          "text": [
            "파이썬 프로그래밍 수업\n",
            "파이썬 프로그래밍 수업\n"
          ]
        }
      ]
    },
    {
      "cell_type": "markdown",
      "metadata": {
        "id": "fFVeBkFXLxpa"
      },
      "source": [
        "#### **1-2. 콤마**\n",
        "- 문자열 띄어쓰기는 콤마 사용"
      ]
    },
    {
      "cell_type": "code",
      "metadata": {
        "id": "dluZcY8_Ls12",
        "colab": {
          "base_uri": "https://localhost:8080/"
        },
        "outputId": "be8cddb5-76ac-48ec-f547-08d5f72e2a05"
      },
      "source": [
        "# 문자열 띄어쓰기는 콤마 사용\n",
        "print(\"파이썬\",\"프로그래밍\",\"수업\")"
      ],
      "execution_count": null,
      "outputs": [
        {
          "output_type": "stream",
          "name": "stdout",
          "text": [
            "파이썬 프로그래밍 수업\n"
          ]
        }
      ]
    },
    {
      "cell_type": "markdown",
      "metadata": {
        "id": "grSSpMRoYTTQ"
      },
      "source": [
        "## **03. 파일 입출력**\n",
        "- 파일 처리에는 4가지 존재\n",
        "> - 파일 열기 (open)\n",
        "> - 파일 쓰기 (write)\n",
        "> - 파일 닫기 (close)\n",
        "> - 파일 읽기 (read)"
      ]
    },
    {
      "cell_type": "markdown",
      "metadata": {
        "id": "cKydaGhsQSie"
      },
      "source": [
        "### **1. 파일 열기 (open)**\n",
        "- 파일을 열 때는 open() 함수 사용\n",
        "- 파일 객체 = open(파일 경로, 파일 열기 모드)\n",
        "- open() 함수의 매개변수\n",
        "> - 파일 경로(path)\n",
        "> - 파일 열기 모드(mode)"
      ]
    },
    {
      "cell_type": "code",
      "metadata": {
        "id": "mURDOLXPRSn9"
      },
      "source": [
        "# 파일 열기\n",
        "# 왼쪽 파일 메뉴에 \"python.txt\" 생성된 걸 확인\n",
        "# w : write 모드(쓰기 모드, 파일에 내용을 쓸 때 사용)\n",
        "myFile = open(\"python.txt\", \"w\")"
      ],
      "execution_count": null,
      "outputs": []
    },
    {
      "cell_type": "markdown",
      "metadata": {
        "id": "-iuTgyn7Sg6G"
      },
      "source": [
        "![image.png](data:image/png;base64,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)"
      ]
    },
    {
      "cell_type": "markdown",
      "metadata": {
        "id": "RTaDMT81SzH-"
      },
      "source": [
        "### **2. 파일 쓰기 (write)**\n",
        "- 파일을 쓸 때는 write() 함수 사용\n",
        "- 파일객체.write(\"문자열\")\n",
        "- write() 함수 안에 작성하고 싶은 문자열 입력"
      ]
    },
    {
      "cell_type": "markdown",
      "metadata": {
        "id": "6_cHAkRTRyPZ"
      },
      "source": [
        "### **3. 파일 닫기 (close)**\n",
        "- 파일을 닫을 때는 close() 함수 사용"
      ]
    },
    {
      "cell_type": "code",
      "metadata": {
        "id": "nPDUvh-eTl60"
      },
      "source": [
        "# 파일 열고 쓰고 닫기\n",
        "\n",
        "myFile = open(\"python.txt\", \"w\")\n",
        "myFile.write(\"Programming!\")\n",
        "myFile.close()"
      ],
      "execution_count": null,
      "outputs": []
    },
    {
      "cell_type": "markdown",
      "metadata": {
        "id": "rvcDL0QgVBl0"
      },
      "source": [
        "![image.png](data:image/png;base64,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)"
      ]
    },
    {
      "cell_type": "markdown",
      "metadata": {
        "id": "VAgxaZ0gVnaL"
      },
      "source": [
        "### **4. 파일 읽기 (read)**\n",
        "- 파일을 읽기모드(r)로 열기\n",
        "- readline() : 텍스트 한 줄씩 읽어서 반환\n",
        "> - 한 줄 씩 읽어 출력할 때 줄 끝에 \\n 문자가 있다면 빈 줄도 같이 출력됨\n",
        "- readlines() : 파일의 모든 줄을 읽어서 각각의 줄을 리스트로 반환\n",
        "- strip() : 줄 바꿈(\\n) 문자 제거"
      ]
    },
    {
      "cell_type": "code",
      "metadata": {
        "id": "nWLzgQZ1VCvz"
      },
      "source": [
        "# 2줄의 내용을 가진 파일 열고 쓰고 닫기\n",
        "\n",
        "myFile = open(\"Python_read.txt\", \"w\")\n",
        "myFile.write(\"Programming! \\n Hello\")\n",
        "myFile.close()"
      ],
      "execution_count": null,
      "outputs": []
    },
    {
      "cell_type": "markdown",
      "metadata": {
        "id": "WeNkfpRDem7N"
      },
      "source": [
        "![image.png](data:image/png;base64,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)"
      ]
    },
    {
      "cell_type": "code",
      "metadata": {
        "id": "aYyuaKi5enkx"
      },
      "source": [
        "# 만들어준 Python_read.txt 파일을 읽기 모드로 열기\n",
        "read_file = open(\"Python_read.txt\", \"r\")"
      ],
      "execution_count": null,
      "outputs": []
    },
    {
      "cell_type": "code",
      "metadata": {
        "id": "jG2kNhQGf7JZ",
        "colab": {
          "base_uri": "https://localhost:8080/"
        },
        "outputId": "6c38cc2b-43fa-4760-f3c9-3826fc703635"
      },
      "source": [
        "# readline() : 텍스트 한 줄씩 읽어서 반환\n",
        "# 한 줄 씩 읽어 출력할 때 줄 끝에 \\n 문자가 있다면 빈 줄도 같이 출력됨\n",
        "# 출력할 때마다 한 줄 씩 내려가서 출력됨\n",
        "# 한 번 실행하면 \"Programming! \\n\", 두 번 실행하면 \"Hello\" 출력\n",
        "text = read_file.readline()\n",
        "print(text)"
      ],
      "execution_count": null,
      "outputs": [
        {
          "output_type": "stream",
          "name": "stdout",
          "text": [
            " Hello\n"
          ]
        }
      ]
    },
    {
      "cell_type": "code",
      "metadata": {
        "id": "w4YDKIW3hOMP"
      },
      "source": [
        "# 만들어준 Python_read.txt 파일을 읽기 모드로 열기\n",
        "read_file = open(\"Python_read.txt\", \"r\")"
      ],
      "execution_count": null,
      "outputs": []
    },
    {
      "cell_type": "code",
      "metadata": {
        "id": "b4siO4_BfYug",
        "colab": {
          "base_uri": "https://localhost:8080/"
        },
        "outputId": "c0df76e1-458a-4859-b108-c7524d0d195f"
      },
      "source": [
        "# readlines() : 파일의 모든 줄을 읽어서 각각의 줄을 리스트로 반환\n",
        "all_text = read_file.readlines()\n",
        "print(all_text)"
      ],
      "execution_count": null,
      "outputs": [
        {
          "output_type": "stream",
          "name": "stdout",
          "text": [
            "['Programming! \\n', ' Hello']\n"
          ]
        }
      ]
    },
    {
      "cell_type": "code",
      "metadata": {
        "id": "NEEQK9X0hvtw"
      },
      "source": [
        "# 만들어준 Python_read.txt 파일을 읽기 모드로 열기\n",
        "read_file = open(\"Python_read.txt\", \"r\")"
      ],
      "execution_count": null,
      "outputs": []
    },
    {
      "cell_type": "code",
      "metadata": {
        "id": "hzCFlvD2hrQo",
        "colab": {
          "base_uri": "https://localhost:8080/"
        },
        "outputId": "eef4f48e-90f3-4c83-aef4-06be5929beb0"
      },
      "source": [
        "# strip() : 줄 바꿈(\\n) 문자 제거\n",
        "text_strip = read_file.readline().strip()\n",
        "print(text_strip)"
      ],
      "execution_count": null,
      "outputs": [
        {
          "output_type": "stream",
          "name": "stdout",
          "text": [
            "Programming!\n"
          ]
        }
      ]
    },
    {
      "cell_type": "markdown",
      "source": [
        "# **자기 주도 학습 복습 과제 - 문제**\n",
        "* 문제를 풀고 답을 확인하세요 :)\n",
        "* 정답지에 자세히 설명되어 있습니다.\n",
        "* [정답지 링크](https://drive.google.com/file/d/16h7YraDK7yKnlIw5TtKsjUuVsqO_4_5S/view?usp=sharing)"
      ],
      "metadata": {
        "id": "yHCqe-o078Jj"
      }
    },
    {
      "cell_type": "markdown",
      "source": [
        "## **1. 입출력 문제 (1)**\n",
        "\n",
        "* 사용자 입력\n",
        "\n"
      ],
      "metadata": {
        "id": "EqUSBw3cKG3j"
      }
    },
    {
      "cell_type": "code",
      "source": [
        "# 1) 입력 함수를 사용하여 'int_7' 변수에 숫자 '7' 입력 받아서 저장하여 출력\n",
        "int_7 = input(\"숫자 7을 입력하세요. : \")\n"
      ],
      "metadata": {
        "id": "kQeBuyMlKEZe",
        "colab": {
          "base_uri": "https://localhost:8080/"
        },
        "outputId": "038324a5-3ee1-4cd7-89c0-c1a94cacb5ca"
      },
      "execution_count": null,
      "outputs": [
        {
          "name": "stdout",
          "output_type": "stream",
          "text": [
            "숫자 7을 입력하세요. : 7\n"
          ]
        }
      ]
    },
    {
      "cell_type": "code",
      "source": [
        "# 2) 'int_7' 변수의 타입 출력\n",
        "print(type(int_7))"
      ],
      "metadata": {
        "id": "Wgck_y2yKEVr",
        "colab": {
          "base_uri": "https://localhost:8080/"
        },
        "outputId": "beb1dc77-74fb-445e-8ca1-3de5aa10a16f"
      },
      "execution_count": null,
      "outputs": [
        {
          "output_type": "stream",
          "name": "stdout",
          "text": [
            "<class 'str'>\n"
          ]
        }
      ]
    },
    {
      "cell_type": "code",
      "source": [
        "# 3) 'int_7' 변수를 숫자로 변환하여 저장\n",
        "int_7 = int(int_7)\n"
      ],
      "metadata": {
        "id": "9hijqJGBKEQd"
      },
      "execution_count": null,
      "outputs": []
    },
    {
      "cell_type": "code",
      "source": [
        "# 4) 'int_7' 변수의 타입 출력\n",
        "print(type(int_7))"
      ],
      "metadata": {
        "id": "BBJYgv9vKLFw",
        "colab": {
          "base_uri": "https://localhost:8080/"
        },
        "outputId": "4800bc2e-5749-46a2-9cd1-8851887242e2"
      },
      "execution_count": null,
      "outputs": [
        {
          "output_type": "stream",
          "name": "stdout",
          "text": [
            "<class 'int'>\n"
          ]
        }
      ]
    },
    {
      "cell_type": "markdown",
      "source": [
        "## **2. 입출력 문제 (2)**\n",
        "\n",
        "* 파일 입출력 - 쓰기 모드\n",
        "\n"
      ],
      "metadata": {
        "id": "wSigHfBTKLl6"
      }
    },
    {
      "cell_type": "code",
      "source": [
        "# 1) 'inputOutput.txt' 파일을 '쓰기' 모드로 열어서 'myFile' 객체에 저장\n",
        "myFile = open('inputOutput.txt', 'w')"
      ],
      "metadata": {
        "id": "jVfjAMExKMsa"
      },
      "execution_count": null,
      "outputs": []
    },
    {
      "cell_type": "code",
      "source": [
        "# 2) myFile 객체에 쓰기 함수를 이용하여 \"Input! \\n Output!\" 문자열 입력\n",
        "# 3) myFile 객체를 파일 닫기 함수를 이용하여 닫기\n",
        "myFile.write(\"Input! \\n Output!\")\n",
        "myFile.close()"
      ],
      "metadata": {
        "id": "oHnNIIUmKOxI"
      },
      "execution_count": null,
      "outputs": []
    },
    {
      "cell_type": "markdown",
      "source": [
        "## **3. 입출력 문제 (3)**\n",
        "\n",
        "* 파일 입출력 - 읽기 모드\n",
        "\n"
      ],
      "metadata": {
        "id": "HcQAooJMKR8D"
      }
    },
    {
      "cell_type": "code",
      "source": [
        "# 1) inputOutput.txt 파일을 읽기 모드로 열어서 read_file 객체에 저장\n",
        "read_file = open(\"inputOutput.txt\", \"r\")"
      ],
      "metadata": {
        "id": "x6a5DtcsKTLh"
      },
      "execution_count": null,
      "outputs": []
    },
    {
      "cell_type": "code",
      "source": [
        "# 2) read_file 객체에서 텍스트를 한 줄씩 읽어서 반환해주는 함수를 이용하여 줄 바꿈 문자 제거하여 출력\n",
        "print(read_file.readline().strip())"
      ],
      "metadata": {
        "id": "SydKll3TKU98",
        "colab": {
          "base_uri": "https://localhost:8080/"
        },
        "outputId": "0366e3d6-d506-4075-873f-0c1b0dd0283d"
      },
      "execution_count": null,
      "outputs": [
        {
          "output_type": "stream",
          "name": "stdout",
          "text": [
            "Output!\n"
          ]
        }
      ]
    },
    {
      "cell_type": "code",
      "source": [],
      "metadata": {
        "id": "r3rgO2zFStga"
      },
      "execution_count": null,
      "outputs": []
    }
  ]
}