{
  "nbformat": 4,
  "nbformat_minor": 0,
  "metadata": {
    "colab": {
      "provenance": []
    },
    "kernelspec": {
      "name": "python3",
      "display_name": "Python 3"
    },
    "language_info": {
      "name": "python"
    }
  },
  "cells": [
    {
      "cell_type": "markdown",
      "source": [
        "[공지사항]\n",
        "* 제작 과정에서 강의명이 변경되어 영상 및 강의 자료에 표기된 강의명은 촬영 시점에 사용된 것으로, 강의 내용에는 변동이 없음을 안내드리오며 수강에 혼선 없으시길 바랍니다."
      ],
      "metadata": {
        "id": "of5rxDY7ljg0"
      }
    },
    {
      "cell_type": "markdown",
      "metadata": {
        "id": "VjaXhDZ-O7xP"
      },
      "source": [
        "# **STEP 6. 함수**"
      ]
    },
    {
      "cell_type": "markdown",
      "metadata": {
        "id": "JdzqTPO4dEK2"
      },
      "source": [
        "## **01. 함수 (function)**"
      ]
    },
    {
      "cell_type": "markdown",
      "metadata": {
        "id": "IYXWIckEO7u4"
      },
      "source": [
        "### **1. 기본 구조**\n",
        "- 반복적으로 사용되는 기능을 함수로 사용\n",
        "- 함수는 def 키워드 사용하여 생성\n",
        "\n",
        "\n",
        "\n",
        "\n",
        "\n"
      ]
    },
    {
      "cell_type": "code",
      "metadata": {
        "id": "jWnAblNGa9Wn"
      },
      "source": [
        "# add 함수 정의\n",
        "# 매개변수 x와 y를 입력으로 받기\n",
        "# x + y 코드를 계산하여 출력\n",
        "def add(x, y):\n",
        "  return x + y"
      ],
      "execution_count": null,
      "outputs": []
    },
    {
      "cell_type": "code",
      "metadata": {
        "id": "bCSsGqsZbQUd",
        "colab": {
          "base_uri": "https://localhost:8080/"
        },
        "outputId": "203a4d0e-205a-48eb-c47e-6590545e0584"
      },
      "source": [
        "# add 함수를 호출하여 인수로 3과 6 입력\n",
        "# z값에 함수의 결과를 출력하여 저장\n",
        "z = add(3, 6)\n",
        "print(z)"
      ],
      "execution_count": null,
      "outputs": [
        {
          "output_type": "stream",
          "name": "stdout",
          "text": [
            "9\n"
          ]
        }
      ]
    },
    {
      "cell_type": "markdown",
      "metadata": {
        "id": "5rDEbR2QO7sW"
      },
      "source": [
        "### **2. 매개변수 (parameter)**\n",
        "- 함수에 입력으로 전달된 값을 받는 변수"
      ]
    },
    {
      "cell_type": "markdown",
      "metadata": {
        "id": "wAsNAYhp47yt"
      },
      "source": [
        "#### **2-1. 디폴트 매개변수**\n",
        "- 매개변수의 값이 입력되지 않으면 디폴트 값으로 자동 입력\n",
        "- 매개변수가 여러 개인 경우 뒤의 매개변수부터 디폴트 값을 가질 수 있음\n",
        "\n"
      ]
    },
    {
      "cell_type": "code",
      "metadata": {
        "id": "qMkiyF_N9vwf"
      },
      "source": [
        "# add 함수 정의\n",
        "# 매개변수 x와 y를 입력으로 받기\n",
        "# y는 디폴트 매개변수로 입력이 없다면 디폴트 값으로 자동 입력\n",
        "# x + y 코드를 계산하여 출력\n",
        "def add(x, y=3):\n",
        "  return x + y"
      ],
      "execution_count": null,
      "outputs": []
    },
    {
      "cell_type": "code",
      "metadata": {
        "id": "stpvG6Og-ATr",
        "colab": {
          "base_uri": "https://localhost:8080/"
        },
        "outputId": "acc5f791-7414-46bf-e099-9ca6c552db8f"
      },
      "source": [
        "# add 함수를 호출하여 인수로 3과 6 입력\n",
        "# z값에 함수의 결과를 출력하여 저장\n",
        "# y 매개변수에 값을 입력하면 그대로 입력\n",
        "z = add(3, 6)\n",
        "print(z)"
      ],
      "execution_count": null,
      "outputs": [
        {
          "output_type": "stream",
          "name": "stdout",
          "text": [
            "9\n"
          ]
        }
      ]
    },
    {
      "cell_type": "code",
      "metadata": {
        "id": "I1_n8yxN-Kd-",
        "colab": {
          "base_uri": "https://localhost:8080/"
        },
        "outputId": "d2bca50a-78b2-46fb-e494-fa210ede7314"
      },
      "source": [
        "# add 함수를 호출하여 인수로 3만 입력\n",
        "# z값에 함수의 결과를 출력하여 저장\n",
        "# y 매개변수에 입력이 없다면 디폴트 값으로 자동 입력\n",
        "z = add(3)\n",
        "print(z)\n"
      ],
      "execution_count": null,
      "outputs": [
        {
          "output_type": "stream",
          "name": "stdout",
          "text": [
            "6\n"
          ]
        }
      ]
    },
    {
      "cell_type": "markdown",
      "metadata": {
        "id": "n1b63QL8-kQf"
      },
      "source": [
        "#### **2-2. 가변 매개변수**\n",
        "- 원하는 만큼의 인자를 받을 수 있는 함수를 가변 매개변수를 사용한다고 표현\n",
        "- \\*매개변수 : 가변 매개변수는 매개변수 앞에 *를 붙임\n"
      ]
    },
    {
      "cell_type": "code",
      "metadata": {
        "id": "_pEtWMjAFqrG"
      },
      "source": [
        "# values라는 가변 매개변수\n",
        "# menu 함수를 통해 카페 메뉴 출력\n",
        "# 가변 매개변수는 리스트처럼 사용\n",
        "def menu(*values):\n",
        "  print(\"카페의 메뉴는?\")\n",
        "\n",
        "  for value in values:\n",
        "    print(value)"
      ],
      "execution_count": null,
      "outputs": []
    },
    {
      "cell_type": "code",
      "metadata": {
        "id": "KCbznyRYHPTH",
        "colab": {
          "base_uri": "https://localhost:8080/"
        },
        "outputId": "dcf6a96f-7b09-446b-fdbe-43cb9450dbbd"
      },
      "source": [
        "# 정의한 menu 함수 호출\n",
        "# 인수로 4가지 메뉴 입력\n",
        "menu('코코아', '캐모마일', '얼그레이', '에이드')"
      ],
      "execution_count": null,
      "outputs": [
        {
          "output_type": "stream",
          "name": "stdout",
          "text": [
            "카페의 메뉴는?\n",
            "코코아\n",
            "캐모마일\n",
            "얼그레이\n",
            "에이드\n"
          ]
        }
      ]
    },
    {
      "cell_type": "markdown",
      "metadata": {
        "id": "MPQE4VYtIfJZ"
      },
      "source": [
        "#### **2-3. 키워드 매개변수**\n",
        "- 매개변수의 이름을 지정해서 입력하여 함수 호출\n",
        "- 키워드 매개변수를 넘겨줄 때 매개변수의 순서와 상관없이 나열 가능\n",
        "\n",
        "\n",
        "\n"
      ]
    },
    {
      "cell_type": "code",
      "metadata": {
        "id": "V6M_6zFWK0DN"
      },
      "source": [
        "# add 함수 정의\n",
        "# 매개변수 x와 y, 그리고 z는 디폴트 매개변수\n",
        "# x + y + z 코드를 계산하여 출력\n",
        "def add(x=1, y=2, z=3):\n",
        "  return x + y + z"
      ],
      "execution_count": null,
      "outputs": []
    },
    {
      "cell_type": "code",
      "metadata": {
        "id": "6f32eUcELME0",
        "colab": {
          "base_uri": "https://localhost:8080/"
        },
        "outputId": "d12bc9a1-89c8-4a37-e72b-79a5c3a7ed96"
      },
      "source": [
        "# 키워드 매개변수를 사용하여 add 함수 호출\n",
        "# 키워드 매개변수를 넘겨줄 때 매개변수의 순서와 상관없이 나열 가능\n",
        "# 키워드 매개변수는 x, y, z\n",
        "add(y=5, z=5, x=1)"
      ],
      "execution_count": null,
      "outputs": [
        {
          "output_type": "execute_result",
          "data": {
            "text/plain": [
              "11"
            ]
          },
          "metadata": {},
          "execution_count": 13
        }
      ]
    },
    {
      "cell_type": "markdown",
      "metadata": {
        "id": "DRyNnxW63ZQy"
      },
      "source": [
        "### **3. 인수 (arguments)**\n",
        "- 함수를 호출할 때 전달하는 입력 값\n",
        "\n",
        "- ```\n",
        "함수(인수1, 인수2)\n",
        "```\n",
        "\n"
      ]
    },
    {
      "cell_type": "code",
      "metadata": {
        "id": "eK1v0HdhWq3m"
      },
      "source": [
        "# add 함수 정의\n",
        "# 매개변수 x와 y를 입력으로 받기\n",
        "# x + y 코드를 계산하여 출력\n",
        "def add(x, y):\n",
        "  return x + y"
      ],
      "execution_count": null,
      "outputs": []
    },
    {
      "cell_type": "code",
      "metadata": {
        "id": "q1HAQZHrWx_j",
        "colab": {
          "base_uri": "https://localhost:8080/"
        },
        "outputId": "f8b1c00f-683a-47e2-dfe4-c216d10dea12"
      },
      "source": [
        "# add 함수를 호출하여 인수로 3과 6 입력\n",
        "# 인수는 함수를 호출할 때 전달하는 입력 값\n",
        "add(3, 6)"
      ],
      "execution_count": null,
      "outputs": [
        {
          "output_type": "execute_result",
          "data": {
            "text/plain": [
              "9"
            ]
          },
          "metadata": {},
          "execution_count": 15
        }
      ]
    },
    {
      "cell_type": "markdown",
      "metadata": {
        "id": "Y1wHo-4aO7nW"
      },
      "source": [
        "### **4. 리턴 (return)**\n",
        "- 함수를 호출한 곳으로 결과 값 반환\n",
        "- ```\n",
        "def 함수이름(매개변수)\n",
        "      실행문\n",
        "      return 되돌려 주는 결과 값\n",
        "```\n",
        "\n",
        "- ```\n",
        "변수 = 함수이름(인수)\n",
        "```\n",
        "\n",
        "\n"
      ]
    },
    {
      "cell_type": "markdown",
      "metadata": {
        "id": "USiH9spQZTwl"
      },
      "source": [
        "#### **4-1. 한 개의 리턴 값**"
      ]
    },
    {
      "cell_type": "code",
      "metadata": {
        "id": "sWjFm_cdYndV",
        "colab": {
          "base_uri": "https://localhost:8080/"
        },
        "outputId": "e2e3c998-e882-48d3-d5d9-1fa9f8cd064f"
      },
      "source": [
        "# returnTest 함수 정의하고 함수를 호출하여 return 값 확인\n",
        "def returnTest() :\n",
        "  return \"되돌려 주는 결과 값\"\n",
        "\n",
        "value = returnTest()\n",
        "print(value)"
      ],
      "execution_count": null,
      "outputs": [
        {
          "output_type": "stream",
          "name": "stdout",
          "text": [
            "되돌려 주는 결과 값\n"
          ]
        }
      ]
    },
    {
      "cell_type": "markdown",
      "metadata": {
        "id": "hMuOvt89Zd0d"
      },
      "source": [
        "#### **4-2. 두 개의 리턴 값**"
      ]
    },
    {
      "cell_type": "code",
      "metadata": {
        "id": "9ELWE_8KZurU",
        "colab": {
          "base_uri": "https://localhost:8080/"
        },
        "outputId": "9baaa64f-42ef-47fa-8d5e-18771714df8c"
      },
      "source": [
        "# returnTest 함수 정의하고 함수를 호출하여 return 값 확인\n",
        "# 반환되는 두 개의 값을 차례대로 value1, value2에 저장하여 출력\n",
        "\n",
        "def returnTest() :\n",
        "  a = 3\n",
        "  b = 4\n",
        "  return a, b\n",
        "\n",
        "value1, value2 = returnTest()\n",
        "print(value1)\n",
        "print(value2)"
      ],
      "execution_count": null,
      "outputs": [
        {
          "output_type": "stream",
          "name": "stdout",
          "text": [
            "3\n",
            "4\n"
          ]
        }
      ]
    },
    {
      "cell_type": "markdown",
      "source": [
        "# **자기 주도 학습 복습 과제 - 문제**\n",
        "* 문제를 풀고 답을 확인하세요 :)\n",
        "* 정답지에 자세히 설명되어 있습니다.\n",
        "* [정답지 링크](https://drive.google.com/file/d/1tGroktitLl7-L-a-Y_-PTkgh2jO8b4qA/view?usp=sharing)"
      ],
      "metadata": {
        "id": "QugLzLe2-vNs"
      }
    },
    {
      "cell_type": "markdown",
      "source": [
        "## **1. 함수 문제 (1)**\n",
        "\n",
        "* 디폴트 매개변수\n",
        "\n"
      ],
      "metadata": {
        "id": "axQhD3II-0_K"
      }
    },
    {
      "cell_type": "code",
      "source": [
        "# 1) multiplication 함수 정의\n",
        "#    - 매개변수 a, b 중에서 b는 2로 디폴트 매개변수로 정의\n",
        "#    - a * b로 계산하여 출력\n",
        "def multiplication(a, b=2):\n",
        "  return a * b"
      ],
      "metadata": {
        "id": "xjEDeg-ONRSr"
      },
      "execution_count": null,
      "outputs": []
    },
    {
      "cell_type": "code",
      "source": [
        "# 2) multiplication 함수를 호출하여 인수로 3과 6 입력하여 c 변수에 저장하여 출력\n",
        "c = multiplication(3, 6)\n",
        "print(c)"
      ],
      "metadata": {
        "id": "V4hDem3-NUVe",
        "colab": {
          "base_uri": "https://localhost:8080/"
        },
        "outputId": "f732dbc8-dd89-4e1f-a661-c7d466518809"
      },
      "execution_count": null,
      "outputs": [
        {
          "output_type": "stream",
          "name": "stdout",
          "text": [
            "18\n"
          ]
        }
      ]
    },
    {
      "cell_type": "code",
      "source": [
        "# 3) multiplication 함수를 호출하여 인수로 3 입력하여 c 변수에 저장하여 출력\n",
        "c = multiplication(3)\n",
        "print(c)\n"
      ],
      "metadata": {
        "id": "azmP9AjZNamF",
        "colab": {
          "base_uri": "https://localhost:8080/"
        },
        "outputId": "56e968a4-6d88-4a44-8192-830b08b6b466"
      },
      "execution_count": null,
      "outputs": [
        {
          "output_type": "stream",
          "name": "stdout",
          "text": [
            "6\n"
          ]
        }
      ]
    },
    {
      "cell_type": "markdown",
      "source": [
        "## **2. 함수 문제 (2)**\n",
        "\n",
        "* 가변 매개변수\n",
        "\n"
      ],
      "metadata": {
        "id": "-9gA3JHvNeSY"
      }
    },
    {
      "cell_type": "code",
      "source": [
        "# 1) 바구니에 든 과일을 출력하는 basket 함수 정의\n",
        "#    - fruits는 가변 매개변수명\n",
        "#    - 함수의 첫 줄은 \"바구니에 든 과일은? \" 문자열 출력\n",
        "#    - fruits 매개변수에 값으로 가져온 인수들을 하나씩 출력하는 반복문 구현\n",
        "\n",
        "def basket(*fruits):\n",
        "  print(\"바구니에 든 과일은? \")\n",
        "\n",
        "  for fruit in fruits:\n",
        "    print(fruit)"
      ],
      "metadata": {
        "id": "ypX483_2NfQP"
      },
      "execution_count": null,
      "outputs": []
    },
    {
      "cell_type": "code",
      "source": [
        "# 2) basket 함수 호출\n",
        "#    - 인수로 'apple', 'strawberry', 'melon' 입력\n",
        "basket('apple', 'strawberry', 'melon')"
      ],
      "metadata": {
        "id": "J0X7SjUZOtXB",
        "colab": {
          "base_uri": "https://localhost:8080/"
        },
        "outputId": "ab5b8163-fb38-4d36-afe3-cffd1508ced8"
      },
      "execution_count": null,
      "outputs": [
        {
          "output_type": "stream",
          "name": "stdout",
          "text": [
            "바구니에 든 과일은? \n",
            "apple\n",
            "strawberry\n",
            "melon\n"
          ]
        }
      ]
    },
    {
      "cell_type": "markdown",
      "source": [
        "## **3. 함수 문제 (3)**\n",
        "\n",
        "* 키워드 매개변수\n",
        "\n"
      ],
      "metadata": {
        "id": "8ouBQi40OvfD"
      }
    },
    {
      "cell_type": "code",
      "source": [
        "# 1) multiplication 함수 정의\n",
        "#    - 매개변수 a, b, c는 각각 1, 2, 3 값을 디폴트 매개변수 설정\n",
        "#    - a * b * c로 계산하여 출력\n",
        "def multiplication(a=1, b=2, c=3):\n",
        "  return a * b * c"
      ],
      "metadata": {
        "id": "H-6__r0-OwPn"
      },
      "execution_count": null,
      "outputs": []
    },
    {
      "cell_type": "code",
      "source": [
        "# 2) b=5, a=3, c=2 순서로 키워드 매개변수 특징을 이용하여 multiplication 함수 호출\n",
        "multiplication(b=5, a=3, c=2)"
      ],
      "metadata": {
        "id": "rIfO723EOx0f",
        "colab": {
          "base_uri": "https://localhost:8080/"
        },
        "outputId": "c2ee6bc6-9fbd-4bad-f2c0-41e98189d8d8"
      },
      "execution_count": null,
      "outputs": [
        {
          "output_type": "execute_result",
          "data": {
            "text/plain": [
              "30"
            ]
          },
          "metadata": {},
          "execution_count": 30
        }
      ]
    }
  ]
}