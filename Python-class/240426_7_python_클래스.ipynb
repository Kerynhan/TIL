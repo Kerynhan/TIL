{
  "nbformat": 4,
  "nbformat_minor": 0,
  "metadata": {
    "colab": {
      "provenance": []
    },
    "kernelspec": {
      "name": "python3",
      "display_name": "Python 3"
    },
    "language_info": {
      "name": "python"
    }
  },
  "cells": [
    {
      "cell_type": "markdown",
      "metadata": {
        "id": "HG_61-9CFynk"
      },
      "source": [
        "# **STEP 7. 클래스**"
      ]
    },
    {
      "cell_type": "markdown",
      "metadata": {
        "id": "NhbZTD8FFyiP"
      },
      "source": [
        "## **01. 클래스**"
      ]
    },
    {
      "cell_type": "markdown",
      "metadata": {
        "id": "lphdK8VvFydS"
      },
      "source": [
        "### **1. 객체 지향 프로그래밍**"
      ]
    },
    {
      "cell_type": "markdown",
      "metadata": {
        "id": "QgWfdbnfF9qc"
      },
      "source": [
        "### **2. 클래스와 객체**   "
      ]
    },
    {
      "cell_type": "markdown",
      "metadata": {
        "id": "E4qUMu7JF9oE"
      },
      "source": [
        "### **3. 클래스 선언**\n",
        "- 클래스 선언\n",
        "> - class 키워드를 사용하여 클래스 선언\n",
        "> - ```\n",
        "class 클래스 이름 :\n",
        "          클래스 내용\n",
        "```\n",
        "\n"
      ]
    },
    {
      "cell_type": "code",
      "metadata": {
        "id": "02BnbagZRDww"
      },
      "source": [
        "# 곰돌이 젤리 클래스 생성\n",
        "class Teddy:\n",
        "  pass\n"
      ],
      "execution_count": null,
      "outputs": []
    },
    {
      "cell_type": "markdown",
      "metadata": {
        "id": "DOgT67fRYuZb"
      },
      "source": [
        "### **4. 객체와 인스턴스**\n",
        "- 객체 (object)\n",
        "> - 'red_jelly = TeddyBearJelly()'로 만든 red_jelly는 객체\n",
        "\n",
        "- 인스턴스 (instance)\n",
        "> - red_jelly는 TeddyBearJelly의 인스턴스\n",
        "\n",
        "- 인스턴스 생성\n",
        "> - 클래스 기반으로 만들어진 객체를 인스턴스라고 부름\n",
        "> - 클래스 인스턴스를 생성하려면 클래스 이름 뒤에 ( )괄호를 적으면 됨\n",
        "> - ```\n",
        "인스턴스 이름 = 클래스 이름()\n",
        "```"
      ]
    },
    {
      "cell_type": "code",
      "metadata": {
        "id": "pjnXjL8wRAYQ"
      },
      "source": [
        "# 빨간색, 노란색, 초록색 젤리 객체 생성\n",
        "# 각 jelly들은 TeddyBearJelly의 인스턴스\n",
        "red_jelly = Teddy()\n",
        "yellow_jelly = Teddy()\n",
        "green_jelly = Teddy()\n"
      ],
      "execution_count": null,
      "outputs": []
    },
    {
      "cell_type": "markdown",
      "metadata": {
        "id": "xywYopduF9jZ"
      },
      "source": [
        "### **5. 메소드**\n",
        "- 메소드 (method)\n",
        "> - 클래스가 가지고 있는 함수를 의미\n",
        "> - ```\n",
        "class 클래스 이름 :\n",
        "        def 메소드 이름(self, 추가적인 매개변수) :\n",
        "            pass\n",
        "```"
      ]
    },
    {
      "cell_type": "code",
      "metadata": {
        "id": "bfs8R-DvrQ2D"
      },
      "source": [
        "# 곰돌이 젤리 클래스 선언\n",
        "# 'set_info' 함수 선언 : 젤리 생성시 필요한 속성 입력\n",
        "# 'print_info' 함수 선언 : 젤리 속성 출력\n",
        "\n",
        "class Teddy :\n",
        "  def set_info(self, color, taste):\n",
        "    self.color = color\n",
        "    self.taste = taste\n",
        "\n",
        "  def print_info(self) :\n",
        "    print(\"====================\")\n",
        "    print(\"Color : \", self.color)\n",
        "    print(\"Taste : \", self.taste)\n",
        "    print(\"====================\")"
      ],
      "execution_count": null,
      "outputs": []
    },
    {
      "cell_type": "code",
      "metadata": {
        "id": "hXHYAwO7ryhc"
      },
      "source": [
        "# 젤리 객체 선언\n",
        "yellow_jelly = Teddy()"
      ],
      "execution_count": null,
      "outputs": []
    },
    {
      "cell_type": "code",
      "metadata": {
        "id": "4ZKtceTJsL90"
      },
      "source": [
        "# 젤리 객체의 필요한 속성 입력\n",
        "# 메소드 사용\n",
        "yellow_jelly.set_info(\"yellow\", \"lemon\")"
      ],
      "execution_count": null,
      "outputs": []
    },
    {
      "cell_type": "code",
      "metadata": {
        "id": "XA3qhBhKr9dT",
        "colab": {
          "base_uri": "https://localhost:8080/"
        },
        "outputId": "be43a71f-b39a-4a9f-dcd8-f53ba37e2ff3"
      },
      "source": [
        "# yellow_jelly의 속성에 접근하는 방법\n",
        "print(yellow_jelly.color)\n",
        "print(yellow_jelly.taste)"
      ],
      "execution_count": null,
      "outputs": [
        {
          "output_type": "stream",
          "name": "stdout",
          "text": [
            "yellow\n",
            "lemon\n"
          ]
        }
      ]
    },
    {
      "cell_type": "code",
      "metadata": {
        "id": "QzSRjkERtAdr",
        "colab": {
          "base_uri": "https://localhost:8080/"
        },
        "outputId": "13c90a92-1a7d-4172-854a-e8135c80d6ef"
      },
      "source": [
        "# 젤리 객체 내용 출력\n",
        "# 메소드 사용\n",
        "yellow_jelly.print_info()"
      ],
      "execution_count": null,
      "outputs": [
        {
          "output_type": "stream",
          "name": "stdout",
          "text": [
            "====================\n",
            "Color :  yellow\n",
            "Taste :  lemon\n",
            "====================\n"
          ]
        }
      ]
    },
    {
      "cell_type": "markdown",
      "metadata": {
        "id": "FGN-cjlfF9lf"
      },
      "source": [
        "### **6. 생성자**\n",
        "- 생성자 (constructor)\n",
        "> - 클래스로부터 인스턴스가 생성될 때 자동으로 실행되는 함수\n",
        "> - 클래스를 실행하면 가장 먼저 생성자인 '\\_\\_init__' 함수가 호출\n",
        "> - '\\_\\_init__' 함수는 인스턴스의 생성과 동시에 필요한 정보를 입력받도록 구현하는 역할\n",
        "> - ```\n",
        "class 클래스 이름 :\n",
        "        def __init__(self, 추가적인 매개변수) :\n",
        "            pass\n",
        "```\n"
      ]
    },
    {
      "cell_type": "code",
      "metadata": {
        "id": "EV9TdeHgggSx"
      },
      "source": [
        "# 메소드는 클래스 내부의 함수를 의미\n",
        "# '5. 메소드'에서 구현했던 'TeddyBearJelly' 클래스의\n",
        "# 'set_info( )' 함수가 데이터를 입력받는 역할 수행함\n",
        "# 'set_info' 메소드를 '__init__' 메소드로 이름 변경\n",
        "\n",
        "# 곰돌이 젤리 클래스 선언\n",
        "# 생성자 선언\n",
        "class Teddy :\n",
        "  def __init__(self, color, taste):\n",
        "    self.color = color\n",
        "    self.taste = taste"
      ],
      "execution_count": null,
      "outputs": []
    },
    {
      "cell_type": "code",
      "metadata": {
        "id": "LrndqcQFv2y9"
      },
      "source": [
        "# 젤리 리스트 선언\n",
        "jelly = [\n",
        "    Teddy(\"red\", \"strawberry\"),\n",
        "    Teddy(\"yellow\", \"lemon\"),\n",
        "    Teddy(\"green\", \"apple\")\n",
        "]"
      ],
      "execution_count": null,
      "outputs": []
    },
    {
      "cell_type": "code",
      "metadata": {
        "id": "X5ma5sSGv3-L",
        "colab": {
          "base_uri": "https://localhost:8080/"
        },
        "outputId": "3e6aaf74-39f4-40ff-e4cd-7a0b50b94ba7"
      },
      "source": [
        "# jelly 인스턴스의 속성에 접근하는 방법\n",
        "print(jelly[0].color)\n",
        "print(jelly[0].taste)"
      ],
      "execution_count": null,
      "outputs": [
        {
          "output_type": "stream",
          "name": "stdout",
          "text": [
            "red\n",
            "strawberry\n"
          ]
        }
      ]
    },
    {
      "cell_type": "markdown",
      "metadata": {
        "id": "cRbbtL8Z_-Q-"
      },
      "source": [
        "### **7. 상속**"
      ]
    },
    {
      "cell_type": "markdown",
      "metadata": {
        "id": "CtrNkOvIHeZ8"
      },
      "source": [
        "#### **7-1. 상속 선언**"
      ]
    },
    {
      "cell_type": "markdown",
      "metadata": {
        "id": "isfgtkQRHmhr"
      },
      "source": [
        "#### **7-2. 메소드 오버라이딩**"
      ]
    },
    {
      "cell_type": "code",
      "metadata": {
        "id": "ryT1HvK5D3RE"
      },
      "source": [
        "# 부모 클래스 선언\n",
        "class Jelly :\n",
        "  def __init__(self, color, taste):\n",
        "    self.color = color\n",
        "    self.taste = taste\n",
        "\n",
        "  def print_info(self):\n",
        "    print(\"부모 클래스입니다.\")\n",
        "    print(\"젤리\")\n",
        "# 자식 클래스 선언\n",
        "# 자식 클래스를 선언할 때 소괄호로 부모 클래스를 포함\n",
        "# 일반적인 메소드 오버라이딩\n",
        "# 자식 클래스에서 생성된 메소드로 부모 클래스의 메소드 무시\n",
        "class Teddy(Jelly):\n",
        "  def print_info(self):\n",
        "    print(\"자식 클래스입니다.\")\n",
        "    print(\"곰돌이 젤리\")\n",
        "    print(\"Taste : \", self.taste)\n",
        "    print(\"Color : \", self.color)\n",
        "\n",
        "# 자식 클래스 선언\n",
        "# 자식 클래스를 선언할 때 소괄호로 부모클래스를 포함\n",
        "# 부모 메소드 호출\n",
        "# super() 키워드를 사용하여 자식 클래스에서 부모 클래스 호출 가능\n",
        "class Heart(Jelly) :\n",
        "  def print_info(self):\n",
        "    super().print_info()\n",
        "    print(\"자식 클래스입니다.\")\n",
        "    print(\"하트 젤리\")\n",
        "    print(\"Taste : \", self.taste)\n",
        "    print(\"Color : \", self.color)"
      ],
      "execution_count": null,
      "outputs": []
    },
    {
      "cell_type": "code",
      "metadata": {
        "id": "tEEhUET_Fxpo",
        "colab": {
          "base_uri": "https://localhost:8080/"
        },
        "outputId": "38b8f424-c36f-4291-b8fc-48230457c022"
      },
      "source": [
        "# 부모 클래스로 객체 생성\n",
        "# 부모 클래스의 print_info() 함수\n",
        "red_jelly = Jelly(\"red\", \"strawberry\")\n",
        "red_jelly.print_info()"
      ],
      "execution_count": null,
      "outputs": [
        {
          "output_type": "stream",
          "name": "stdout",
          "text": [
            "부모 클래스입니다.\n",
            "젤리\n"
          ]
        }
      ]
    },
    {
      "cell_type": "code",
      "metadata": {
        "id": "0dHi8Jh_GlCy",
        "colab": {
          "base_uri": "https://localhost:8080/"
        },
        "outputId": "99bf3e6e-9616-4ead-fba8-67ed7000da07"
      },
      "source": [
        "# 자식 클래스로 객체 생성\n",
        "# 자식 클래스의 print_info() 함수\n",
        "# 자식 클래스에서 생성된 메소드로 부모 클래스의 메소드 무시\n",
        "yellow_jelly = Teddy(\"yellow\", \"lemnon\")\n",
        "yellow_jelly.print_info()\n"
      ],
      "execution_count": null,
      "outputs": [
        {
          "output_type": "stream",
          "name": "stdout",
          "text": [
            "자식 클래스입니다.\n",
            "곰돌이 젤리\n",
            "Taste :  lemnon\n",
            "Color :  yellow\n"
          ]
        }
      ]
    },
    {
      "cell_type": "code",
      "metadata": {
        "id": "SCt6VQL2Kysb",
        "colab": {
          "base_uri": "https://localhost:8080/"
        },
        "outputId": "6668f522-8652-48ac-a437-7432b9c7f053"
      },
      "source": [
        "# 자식 클래스로 객체 생성\n",
        "# 자식 클래스의 print_info() 함수\n",
        "# super() 키워드를 사용하여 자식 클래스에서 부모 클래스 호출 가능\n",
        "green_jelly = Heart(\"green\", \"apple\")\n",
        "green_jelly.print_info()"
      ],
      "execution_count": null,
      "outputs": [
        {
          "output_type": "stream",
          "name": "stdout",
          "text": [
            "부모 클래스입니다.\n",
            "젤리\n",
            "자식 클래스입니다.\n",
            "하트 젤리\n",
            "Taste :  apple\n",
            "Color :  green\n"
          ]
        }
      ]
    },
    {
      "cell_type": "markdown",
      "metadata": {
        "id": "Wvh60dOxI8XY"
      },
      "source": [
        "#### **7-3. 다중 상속**\n",
        "- 자식 클래스를 선언할 때 소괄호로 원하는 부모클래스를 모두 포함\n",
        "- 다중 상속의 개수 제한 없음\n",
        "- ```\n",
        "    class 부모 클래스1:\n",
        "          pass\n",
        "\n",
        "    class 부모 클래스2:\n",
        "          pass\n",
        "\n",
        "    class 자식 클래스(부모 클래스1, 부모 클래스2):\n",
        "          pass\n",
        "\n"
      ]
    },
    {
      "cell_type": "markdown",
      "source": [
        "## **1. 클래스 문제 (1)**\n",
        "\n",
        "* 클래스 선언\n",
        "\n"
      ],
      "metadata": {
        "id": "a1HnpA4YaAqx"
      }
    },
    {
      "cell_type": "code",
      "source": [
        "# 1) Parents 클래스 선언\n",
        "#    - 생성자 선언 : name, role, job\n",
        "#    - 'print_info' 메소드 선언 : Parents 클래스 속성 출력\n",
        "class Parents :\n",
        "  def __init__(self, name, role, job):\n",
        "    self.name = name\n",
        "    self.role = role\n",
        "    self.job = job\n",
        "\n",
        "  def print_info(self):\n",
        "    print(\"Name : \", self.name)\n",
        "    print(\"Role : \", self.role)\n",
        "    print(\"Job : \", self.job)"
      ],
      "metadata": {
        "id": "dUCWOv4FaCrJ"
      },
      "execution_count": null,
      "outputs": []
    },
    {
      "cell_type": "markdown",
      "source": [
        "## **2. 클래스 문제 (2)**\n",
        "\n",
        "* 객체 선언\n",
        "\n"
      ],
      "metadata": {
        "id": "SonTQ2kMaIyu"
      }
    },
    {
      "cell_type": "code",
      "source": [
        "# 1) Parents 클래스 이용하여 father 객체 선언\n",
        "#    - name : Jay\n",
        "#    - role : father\n",
        "#    - job : engineer\n",
        "father = Parents('Jay', 'father', 'Data Anlyst')"
      ],
      "metadata": {
        "id": "GLbXHYyYaKOS"
      },
      "execution_count": null,
      "outputs": []
    },
    {
      "cell_type": "code",
      "source": [
        "# 2) Parents 클래스 이용하여 mother 객체 선언\n",
        "#    - name : Mini\n",
        "#    - role : mother\n",
        "#    - job : data scientist\n",
        "mother = Parents('Jany', 'mother', 'Data Scientist')"
      ],
      "metadata": {
        "id": "f-nKO2mSaL1j"
      },
      "execution_count": null,
      "outputs": []
    },
    {
      "cell_type": "markdown",
      "source": [
        "## **3. 클래스 문제 (3)**\n",
        "\n",
        "* 객체 속성 값 출력\n",
        "\n"
      ],
      "metadata": {
        "id": "IoWKyePIaUL1"
      }
    },
    {
      "cell_type": "code",
      "source": [
        "# 1) father 객체에 print_info 메소드를 이용하여 속성 값 출력\n",
        "father.print_info()"
      ],
      "metadata": {
        "id": "PdMfEBZ5aVFn",
        "colab": {
          "base_uri": "https://localhost:8080/"
        },
        "outputId": "ebf4b6dd-62be-44eb-c129-b2c8fbc587ca"
      },
      "execution_count": null,
      "outputs": [
        {
          "output_type": "stream",
          "name": "stdout",
          "text": [
            "Name :  Jay\n",
            "Role :  father\n",
            "Job :  Data Anlyst\n"
          ]
        }
      ]
    },
    {
      "cell_type": "code",
      "source": [
        "# 2) mother 객체에 print_info 메소드를 이용하여 속성 값 출력\n",
        "mother.print_info()"
      ],
      "metadata": {
        "id": "cTHGj56HaV89",
        "colab": {
          "base_uri": "https://localhost:8080/"
        },
        "outputId": "e9e20f6e-b401-4f36-e903-43da23a65a62"
      },
      "execution_count": null,
      "outputs": [
        {
          "output_type": "stream",
          "name": "stdout",
          "text": [
            "Name :  Jany\n",
            "Role :  mother\n",
            "Job :  Data Scientist\n"
          ]
        }
      ]
    },
    {
      "cell_type": "markdown",
      "source": [
        "## **4. 클래스 문제 (4)**\n",
        "\n",
        "* 상속을 위한 자식 클래스 선언\n",
        "\n"
      ],
      "metadata": {
        "id": "tykY1RG9aXiR"
      }
    },
    {
      "cell_type": "code",
      "source": [
        "# 1) Child 클래스 선언\n",
        "#    - Parents 클래스 이용하여 상속 받기\n",
        "#    - 'print_info' 메소드 재정의\n",
        "#         * Parents 클래스의 'print_info' 메소드 호출\n",
        "#         * Child 자체'print_info' 메소드 재정의\n",
        "#              - \"자식 클래스입니다.\" 문자열 출력\n",
        "\n",
        "class Child(Parents):\n",
        "  def print_info(self):\n",
        "    super().print_info()\n",
        "    print(\"자식 클래스입니다.\")\n",
        "\n"
      ],
      "metadata": {
        "id": "XJN7mER4aYoa"
      },
      "execution_count": null,
      "outputs": []
    },
    {
      "cell_type": "markdown",
      "source": [
        "## **5. 클래스 문제 (5)**\n",
        "\n",
        "* 객체 선언\n",
        "\n"
      ],
      "metadata": {
        "id": "8rKIVNIHargk"
      }
    },
    {
      "cell_type": "code",
      "source": [
        "# 1) Child 클래스로 daughter 객체 생성\n",
        "#    - name : Bibi\n",
        "#    - role : daughter\n",
        "#    - job : elementary student\n",
        "daughter = Child('Bibi', 'daughter', 'elementary student')"
      ],
      "metadata": {
        "id": "dkAyzF5Iak8R"
      },
      "execution_count": null,
      "outputs": []
    },
    {
      "cell_type": "markdown",
      "source": [
        "## **6. 클래스 문제 (6)**\n",
        "\n",
        "* 객체 속성 값 출력"
      ],
      "metadata": {
        "id": "jfZCNaUnazRJ"
      }
    },
    {
      "cell_type": "code",
      "source": [
        "# 1) daughter 객체에 print_info 메소드를 이용하여 속성 값 출력\n",
        "daughter.print_info()"
      ],
      "metadata": {
        "id": "1kdZkO9Za003",
        "colab": {
          "base_uri": "https://localhost:8080/"
        },
        "outputId": "2e1f3299-8abb-43b0-8124-7a42f258731a"
      },
      "execution_count": null,
      "outputs": [
        {
          "output_type": "stream",
          "name": "stdout",
          "text": [
            "Name :  Bibi\n",
            "Role :  daughter\n",
            "Job :  elementary student\n",
            "자식 클래스입니다.\n"
          ]
        }
      ]
    },
    {
      "cell_type": "code",
      "source": [],
      "metadata": {
        "id": "blHODXk4wU4z"
      },
      "execution_count": null,
      "outputs": []
    }
  ]
}