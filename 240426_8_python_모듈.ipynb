{
  "nbformat": 4,
  "nbformat_minor": 0,
  "metadata": {
    "colab": {
      "provenance": [],
      "include_colab_link": true
    },
    "kernelspec": {
      "name": "python3",
      "display_name": "Python 3"
    },
    "language_info": {
      "name": "python"
    }
  },
  "cells": [
    {
      "cell_type": "markdown",
      "metadata": {
        "id": "view-in-github",
        "colab_type": "text"
      },
      "source": [
        "<a href=\"https://colab.research.google.com/github/Kerynhan/TIL/blob/main/240426_8_python_%EB%AA%A8%EB%93%88.ipynb\" target=\"_parent\"><img src=\"https://colab.research.google.com/assets/colab-badge.svg\" alt=\"Open In Colab\"/></a>"
      ]
    },
    {
      "cell_type": "markdown",
      "source": [
        "[공지사항]\n",
        "* 제작 과정에서 강의명이 변경되어 영상 및 강의 자료에 표기된 강의명은 촬영 시점에 사용된 것으로, 강의 내용에는 변동이 없음을 안내드리오며 수강에 혼선 없으시길 바랍니다."
      ],
      "metadata": {
        "id": "RY6UmcDdllxI"
      }
    },
    {
      "cell_type": "markdown",
      "metadata": {
        "id": "h8s4RXT9_Aor"
      },
      "source": [
        "# **STEP 8. 모듈**\n",
        "- 모듈은 여러 변수와 함수를 가지고 있는 집합"
      ]
    },
    {
      "cell_type": "markdown",
      "metadata": {
        "id": "E1-Q7q0j_Ara"
      },
      "source": [
        "## **01. 내부 모듈**"
      ]
    },
    {
      "cell_type": "markdown",
      "metadata": {
        "id": "ewZsy-1N_AyT"
      },
      "source": [
        "### **1. 내부 모듈**\n",
        "- 내부 모듈은 파이썬에 기본적으로 내장되어 있는 모듈\n",
        "- 다양한 내부 모듈 존재 : [파이썬 공식 홈페이지 참고](https://docs.python.org/ko/3/library/index.html)"
      ]
    },
    {
      "cell_type": "markdown",
      "metadata": {
        "id": "oe_xIizu_25-"
      },
      "source": [
        "### **2. import 구문**\n",
        "- import는 모듈 전체를 가져올 때 사용\n",
        "\n"
      ]
    },
    {
      "cell_type": "code",
      "metadata": {
        "id": "cC4LiPaRS1OO",
        "colab": {
          "base_uri": "https://localhost:8080/"
        },
        "outputId": "aefa41d1-26ef-4bbb-86f4-43df198e62d7"
      },
      "source": [
        "# 파이썬 math 모듈은 수학 함수가 담겨있음\n",
        "# 모듈을 사용할 때는 모듈 뒤에 도트(.) 입력하고 원하는 변수나 함수를 입력\n",
        "import math\n",
        "\n",
        "print(math.floor(1.2))\n",
        "print(math.ceil(1.2))"
      ],
      "execution_count": null,
      "outputs": [
        {
          "output_type": "stream",
          "name": "stdout",
          "text": [
            "1\n",
            "2\n"
          ]
        }
      ]
    },
    {
      "cell_type": "markdown",
      "metadata": {
        "id": "9IQDhGPE_23q"
      },
      "source": [
        "### **3. from 구문**\n",
        "- from은 모듈 내에서 필요한 것만 골라서 가져올 때 사용"
      ]
    },
    {
      "cell_type": "code",
      "metadata": {
        "id": "0vc2HtrxYy-w",
        "colab": {
          "base_uri": "https://localhost:8080/"
        },
        "outputId": "02852c97-68df-435a-f270-24e6b5b9a976"
      },
      "source": [
        "# floor(내림), ceil(올림) 함수만 선택\n",
        "# 모듈을 사용할 때는 원하는 변수나 함수만 입력\n",
        "from math import floor, ceil\n",
        "\n",
        "print(math.floor(1.2))\n",
        "print(math.ceil(1.2))"
      ],
      "execution_count": null,
      "outputs": [
        {
          "output_type": "stream",
          "name": "stdout",
          "text": [
            "1\n",
            "2\n"
          ]
        }
      ]
    },
    {
      "cell_type": "markdown",
      "metadata": {
        "id": "n4X2WR57_21G"
      },
      "source": [
        "### **4. as 구문**\n",
        "- as는 모듈의 별칭을 붙일 때 사용\n",
        "\n"
      ]
    },
    {
      "cell_type": "code",
      "metadata": {
        "id": "vYC1ktyDeq78",
        "colab": {
          "base_uri": "https://localhost:8080/"
        },
        "outputId": "c47eb3cd-d336-4ace-a8ea-9a334b1dff00"
      },
      "source": [
        "# 모듈을 사용할 때는 모듈 별칭 뒤에 도트(.) 입력하고 원하는 변수나 함수를 입력\n",
        "\n",
        "import math as m\n",
        "\n",
        "print(math.floor(1.2))\n",
        "print(math.ceil(1.2))"
      ],
      "execution_count": null,
      "outputs": [
        {
          "output_type": "stream",
          "name": "stdout",
          "text": [
            "1\n",
            "2\n"
          ]
        }
      ]
    },
    {
      "cell_type": "markdown",
      "metadata": {
        "id": "nY73LdKk_At7"
      },
      "source": [
        "## **02. 외부 모듈**"
      ]
    },
    {
      "cell_type": "markdown",
      "metadata": {
        "id": "uV7XlFsJ_A3c"
      },
      "source": [
        "### **1. 외부 모듈**\n",
        "- 외부 모듈은 파이썬에서 기본적으로 제공해 주는 것이 아닌 외부 사람들이 만들어서 배포한 모듈"
      ]
    },
    {
      "cell_type": "markdown",
      "metadata": {
        "id": "4UQ8ZShqAFoB"
      },
      "source": [
        "### **2. seaborn 모듈 실습**\n",
        "- seaborn : 데이터 시각화 라이브러리로 고급 인터페이스 제공\n",
        "- seaborn 모듈 실습 순서\n",
        "> 1. 모듈 설치하기\n",
        "> 2. 모듈 불러오기\n",
        "> 3. 데이터 불러오기\n",
        "> 4. 데이터 파악\n",
        "> 5. 데이터 시각화"
      ]
    },
    {
      "cell_type": "markdown",
      "metadata": {
        "id": "IBvd5jW4AEA7"
      },
      "source": [
        "#### **2-1. 모듈 설치하기**\n",
        "- pip는 특정 버전의 모듈을 설치하거나 설치한 모듈을 제거할 때 사용\n",
        "- 지금 실습에서 사용하고 있는 google colab은 대부분의 모듈이 설치되어 있음\n",
        "- ```\n",
        "pip install 모듈 이름\n",
        "```\n"
      ]
    },
    {
      "cell_type": "markdown",
      "metadata": {
        "id": "4GbiKTy8QZeh"
      },
      "source": [
        "#### **2-2. 모듈 불러오기**\n",
        "*   import 구문을 통해 모듈 불러오기\n",
        "*   as 구문으로 별칭 지정하기"
      ]
    },
    {
      "cell_type": "code",
      "metadata": {
        "id": "QFSXv6t8Q4k_"
      },
      "source": [
        "# seaborn 불러와서 별칭 sns로 사용\n",
        "import seaborn as sns"
      ],
      "execution_count": null,
      "outputs": []
    },
    {
      "cell_type": "markdown",
      "metadata": {
        "id": "0dsmAEUUQrP7"
      },
      "source": [
        "#### **2-3. 데이터 불러오기**\n",
        "- seaborn 라이브러리에서 제공하는 titanic 데이터 불러오기\n",
        "- seaborn의 load_dataset() 함수를 이용  "
      ]
    },
    {
      "cell_type": "code",
      "metadata": {
        "id": "OIcudpqPQ8Dp"
      },
      "source": [
        "# titanic 데이터 불러오기\n",
        "titanic = sns.load_dataset('titanic')"
      ],
      "execution_count": null,
      "outputs": []
    },
    {
      "cell_type": "markdown",
      "metadata": {
        "id": "p8psSKEhQsiT"
      },
      "source": [
        "#### **2-4. 데이터 파악**\n",
        "- head( ) 함수 : titanic 데이터 상단 5개의 행 확인\n",
        "- info( ) 함수 : 행과 열의 크기, 컬럼명, 결측치, 데이터 타입 확인"
      ]
    },
    {
      "cell_type": "code",
      "metadata": {
        "id": "_kklEK6JRFz9",
        "colab": {
          "base_uri": "https://localhost:8080/",
          "height": 226
        },
        "outputId": "d4ab96be-9257-4eb2-e311-d90d38b1e02d"
      },
      "source": [
        "# titanic 데이터 내용 확인\n",
        "# .head() : 데이터의 상단 5개 행 출력\n",
        "titanic.head()"
      ],
      "execution_count": null,
      "outputs": [
        {
          "output_type": "execute_result",
          "data": {
            "text/plain": [
              "   survived  pclass     sex   age  sibsp  parch     fare embarked  class  \\\n",
              "0         0       3    male  22.0      1      0   7.2500        S  Third   \n",
              "1         1       1  female  38.0      1      0  71.2833        C  First   \n",
              "2         1       3  female  26.0      0      0   7.9250        S  Third   \n",
              "3         1       1  female  35.0      1      0  53.1000        S  First   \n",
              "4         0       3    male  35.0      0      0   8.0500        S  Third   \n",
              "\n",
              "     who  adult_male deck  embark_town alive  alone  \n",
              "0    man        True  NaN  Southampton    no  False  \n",
              "1  woman       False    C    Cherbourg   yes  False  \n",
              "2  woman       False  NaN  Southampton   yes   True  \n",
              "3  woman       False    C  Southampton   yes  False  \n",
              "4    man        True  NaN  Southampton    no   True  "
            ],
            "text/html": [
              "\n",
              "  <div id=\"df-260485ba-b0a7-48d5-af53-c3e613964dbc\" class=\"colab-df-container\">\n",
              "    <div>\n",
              "<style scoped>\n",
              "    .dataframe tbody tr th:only-of-type {\n",
              "        vertical-align: middle;\n",
              "    }\n",
              "\n",
              "    .dataframe tbody tr th {\n",
              "        vertical-align: top;\n",
              "    }\n",
              "\n",
              "    .dataframe thead th {\n",
              "        text-align: right;\n",
              "    }\n",
              "</style>\n",
              "<table border=\"1\" class=\"dataframe\">\n",
              "  <thead>\n",
              "    <tr style=\"text-align: right;\">\n",
              "      <th></th>\n",
              "      <th>survived</th>\n",
              "      <th>pclass</th>\n",
              "      <th>sex</th>\n",
              "      <th>age</th>\n",
              "      <th>sibsp</th>\n",
              "      <th>parch</th>\n",
              "      <th>fare</th>\n",
              "      <th>embarked</th>\n",
              "      <th>class</th>\n",
              "      <th>who</th>\n",
              "      <th>adult_male</th>\n",
              "      <th>deck</th>\n",
              "      <th>embark_town</th>\n",
              "      <th>alive</th>\n",
              "      <th>alone</th>\n",
              "    </tr>\n",
              "  </thead>\n",
              "  <tbody>\n",
              "    <tr>\n",
              "      <th>0</th>\n",
              "      <td>0</td>\n",
              "      <td>3</td>\n",
              "      <td>male</td>\n",
              "      <td>22.0</td>\n",
              "      <td>1</td>\n",
              "      <td>0</td>\n",
              "      <td>7.2500</td>\n",
              "      <td>S</td>\n",
              "      <td>Third</td>\n",
              "      <td>man</td>\n",
              "      <td>True</td>\n",
              "      <td>NaN</td>\n",
              "      <td>Southampton</td>\n",
              "      <td>no</td>\n",
              "      <td>False</td>\n",
              "    </tr>\n",
              "    <tr>\n",
              "      <th>1</th>\n",
              "      <td>1</td>\n",
              "      <td>1</td>\n",
              "      <td>female</td>\n",
              "      <td>38.0</td>\n",
              "      <td>1</td>\n",
              "      <td>0</td>\n",
              "      <td>71.2833</td>\n",
              "      <td>C</td>\n",
              "      <td>First</td>\n",
              "      <td>woman</td>\n",
              "      <td>False</td>\n",
              "      <td>C</td>\n",
              "      <td>Cherbourg</td>\n",
              "      <td>yes</td>\n",
              "      <td>False</td>\n",
              "    </tr>\n",
              "    <tr>\n",
              "      <th>2</th>\n",
              "      <td>1</td>\n",
              "      <td>3</td>\n",
              "      <td>female</td>\n",
              "      <td>26.0</td>\n",
              "      <td>0</td>\n",
              "      <td>0</td>\n",
              "      <td>7.9250</td>\n",
              "      <td>S</td>\n",
              "      <td>Third</td>\n",
              "      <td>woman</td>\n",
              "      <td>False</td>\n",
              "      <td>NaN</td>\n",
              "      <td>Southampton</td>\n",
              "      <td>yes</td>\n",
              "      <td>True</td>\n",
              "    </tr>\n",
              "    <tr>\n",
              "      <th>3</th>\n",
              "      <td>1</td>\n",
              "      <td>1</td>\n",
              "      <td>female</td>\n",
              "      <td>35.0</td>\n",
              "      <td>1</td>\n",
              "      <td>0</td>\n",
              "      <td>53.1000</td>\n",
              "      <td>S</td>\n",
              "      <td>First</td>\n",
              "      <td>woman</td>\n",
              "      <td>False</td>\n",
              "      <td>C</td>\n",
              "      <td>Southampton</td>\n",
              "      <td>yes</td>\n",
              "      <td>False</td>\n",
              "    </tr>\n",
              "    <tr>\n",
              "      <th>4</th>\n",
              "      <td>0</td>\n",
              "      <td>3</td>\n",
              "      <td>male</td>\n",
              "      <td>35.0</td>\n",
              "      <td>0</td>\n",
              "      <td>0</td>\n",
              "      <td>8.0500</td>\n",
              "      <td>S</td>\n",
              "      <td>Third</td>\n",
              "      <td>man</td>\n",
              "      <td>True</td>\n",
              "      <td>NaN</td>\n",
              "      <td>Southampton</td>\n",
              "      <td>no</td>\n",
              "      <td>True</td>\n",
              "    </tr>\n",
              "  </tbody>\n",
              "</table>\n",
              "</div>\n",
              "    <div class=\"colab-df-buttons\">\n",
              "\n",
              "  <div class=\"colab-df-container\">\n",
              "    <button class=\"colab-df-convert\" onclick=\"convertToInteractive('df-260485ba-b0a7-48d5-af53-c3e613964dbc')\"\n",
              "            title=\"Convert this dataframe to an interactive table.\"\n",
              "            style=\"display:none;\">\n",
              "\n",
              "  <svg xmlns=\"http://www.w3.org/2000/svg\" height=\"24px\" viewBox=\"0 -960 960 960\">\n",
              "    <path d=\"M120-120v-720h720v720H120Zm60-500h600v-160H180v160Zm220 220h160v-160H400v160Zm0 220h160v-160H400v160ZM180-400h160v-160H180v160Zm440 0h160v-160H620v160ZM180-180h160v-160H180v160Zm440 0h160v-160H620v160Z\"/>\n",
              "  </svg>\n",
              "    </button>\n",
              "\n",
              "  <style>\n",
              "    .colab-df-container {\n",
              "      display:flex;\n",
              "      gap: 12px;\n",
              "    }\n",
              "\n",
              "    .colab-df-convert {\n",
              "      background-color: #E8F0FE;\n",
              "      border: none;\n",
              "      border-radius: 50%;\n",
              "      cursor: pointer;\n",
              "      display: none;\n",
              "      fill: #1967D2;\n",
              "      height: 32px;\n",
              "      padding: 0 0 0 0;\n",
              "      width: 32px;\n",
              "    }\n",
              "\n",
              "    .colab-df-convert:hover {\n",
              "      background-color: #E2EBFA;\n",
              "      box-shadow: 0px 1px 2px rgba(60, 64, 67, 0.3), 0px 1px 3px 1px rgba(60, 64, 67, 0.15);\n",
              "      fill: #174EA6;\n",
              "    }\n",
              "\n",
              "    .colab-df-buttons div {\n",
              "      margin-bottom: 4px;\n",
              "    }\n",
              "\n",
              "    [theme=dark] .colab-df-convert {\n",
              "      background-color: #3B4455;\n",
              "      fill: #D2E3FC;\n",
              "    }\n",
              "\n",
              "    [theme=dark] .colab-df-convert:hover {\n",
              "      background-color: #434B5C;\n",
              "      box-shadow: 0px 1px 3px 1px rgba(0, 0, 0, 0.15);\n",
              "      filter: drop-shadow(0px 1px 2px rgba(0, 0, 0, 0.3));\n",
              "      fill: #FFFFFF;\n",
              "    }\n",
              "  </style>\n",
              "\n",
              "    <script>\n",
              "      const buttonEl =\n",
              "        document.querySelector('#df-260485ba-b0a7-48d5-af53-c3e613964dbc button.colab-df-convert');\n",
              "      buttonEl.style.display =\n",
              "        google.colab.kernel.accessAllowed ? 'block' : 'none';\n",
              "\n",
              "      async function convertToInteractive(key) {\n",
              "        const element = document.querySelector('#df-260485ba-b0a7-48d5-af53-c3e613964dbc');\n",
              "        const dataTable =\n",
              "          await google.colab.kernel.invokeFunction('convertToInteractive',\n",
              "                                                    [key], {});\n",
              "        if (!dataTable) return;\n",
              "\n",
              "        const docLinkHtml = 'Like what you see? Visit the ' +\n",
              "          '<a target=\"_blank\" href=https://colab.research.google.com/notebooks/data_table.ipynb>data table notebook</a>'\n",
              "          + ' to learn more about interactive tables.';\n",
              "        element.innerHTML = '';\n",
              "        dataTable['output_type'] = 'display_data';\n",
              "        await google.colab.output.renderOutput(dataTable, element);\n",
              "        const docLink = document.createElement('div');\n",
              "        docLink.innerHTML = docLinkHtml;\n",
              "        element.appendChild(docLink);\n",
              "      }\n",
              "    </script>\n",
              "  </div>\n",
              "\n",
              "\n",
              "<div id=\"df-f3a73379-3f51-4a18-9058-4bce57ad0185\">\n",
              "  <button class=\"colab-df-quickchart\" onclick=\"quickchart('df-f3a73379-3f51-4a18-9058-4bce57ad0185')\"\n",
              "            title=\"Suggest charts\"\n",
              "            style=\"display:none;\">\n",
              "\n",
              "<svg xmlns=\"http://www.w3.org/2000/svg\" height=\"24px\"viewBox=\"0 0 24 24\"\n",
              "     width=\"24px\">\n",
              "    <g>\n",
              "        <path d=\"M19 3H5c-1.1 0-2 .9-2 2v14c0 1.1.9 2 2 2h14c1.1 0 2-.9 2-2V5c0-1.1-.9-2-2-2zM9 17H7v-7h2v7zm4 0h-2V7h2v10zm4 0h-2v-4h2v4z\"/>\n",
              "    </g>\n",
              "</svg>\n",
              "  </button>\n",
              "\n",
              "<style>\n",
              "  .colab-df-quickchart {\n",
              "      --bg-color: #E8F0FE;\n",
              "      --fill-color: #1967D2;\n",
              "      --hover-bg-color: #E2EBFA;\n",
              "      --hover-fill-color: #174EA6;\n",
              "      --disabled-fill-color: #AAA;\n",
              "      --disabled-bg-color: #DDD;\n",
              "  }\n",
              "\n",
              "  [theme=dark] .colab-df-quickchart {\n",
              "      --bg-color: #3B4455;\n",
              "      --fill-color: #D2E3FC;\n",
              "      --hover-bg-color: #434B5C;\n",
              "      --hover-fill-color: #FFFFFF;\n",
              "      --disabled-bg-color: #3B4455;\n",
              "      --disabled-fill-color: #666;\n",
              "  }\n",
              "\n",
              "  .colab-df-quickchart {\n",
              "    background-color: var(--bg-color);\n",
              "    border: none;\n",
              "    border-radius: 50%;\n",
              "    cursor: pointer;\n",
              "    display: none;\n",
              "    fill: var(--fill-color);\n",
              "    height: 32px;\n",
              "    padding: 0;\n",
              "    width: 32px;\n",
              "  }\n",
              "\n",
              "  .colab-df-quickchart:hover {\n",
              "    background-color: var(--hover-bg-color);\n",
              "    box-shadow: 0 1px 2px rgba(60, 64, 67, 0.3), 0 1px 3px 1px rgba(60, 64, 67, 0.15);\n",
              "    fill: var(--button-hover-fill-color);\n",
              "  }\n",
              "\n",
              "  .colab-df-quickchart-complete:disabled,\n",
              "  .colab-df-quickchart-complete:disabled:hover {\n",
              "    background-color: var(--disabled-bg-color);\n",
              "    fill: var(--disabled-fill-color);\n",
              "    box-shadow: none;\n",
              "  }\n",
              "\n",
              "  .colab-df-spinner {\n",
              "    border: 2px solid var(--fill-color);\n",
              "    border-color: transparent;\n",
              "    border-bottom-color: var(--fill-color);\n",
              "    animation:\n",
              "      spin 1s steps(1) infinite;\n",
              "  }\n",
              "\n",
              "  @keyframes spin {\n",
              "    0% {\n",
              "      border-color: transparent;\n",
              "      border-bottom-color: var(--fill-color);\n",
              "      border-left-color: var(--fill-color);\n",
              "    }\n",
              "    20% {\n",
              "      border-color: transparent;\n",
              "      border-left-color: var(--fill-color);\n",
              "      border-top-color: var(--fill-color);\n",
              "    }\n",
              "    30% {\n",
              "      border-color: transparent;\n",
              "      border-left-color: var(--fill-color);\n",
              "      border-top-color: var(--fill-color);\n",
              "      border-right-color: var(--fill-color);\n",
              "    }\n",
              "    40% {\n",
              "      border-color: transparent;\n",
              "      border-right-color: var(--fill-color);\n",
              "      border-top-color: var(--fill-color);\n",
              "    }\n",
              "    60% {\n",
              "      border-color: transparent;\n",
              "      border-right-color: var(--fill-color);\n",
              "    }\n",
              "    80% {\n",
              "      border-color: transparent;\n",
              "      border-right-color: var(--fill-color);\n",
              "      border-bottom-color: var(--fill-color);\n",
              "    }\n",
              "    90% {\n",
              "      border-color: transparent;\n",
              "      border-bottom-color: var(--fill-color);\n",
              "    }\n",
              "  }\n",
              "</style>\n",
              "\n",
              "  <script>\n",
              "    async function quickchart(key) {\n",
              "      const quickchartButtonEl =\n",
              "        document.querySelector('#' + key + ' button');\n",
              "      quickchartButtonEl.disabled = true;  // To prevent multiple clicks.\n",
              "      quickchartButtonEl.classList.add('colab-df-spinner');\n",
              "      try {\n",
              "        const charts = await google.colab.kernel.invokeFunction(\n",
              "            'suggestCharts', [key], {});\n",
              "      } catch (error) {\n",
              "        console.error('Error during call to suggestCharts:', error);\n",
              "      }\n",
              "      quickchartButtonEl.classList.remove('colab-df-spinner');\n",
              "      quickchartButtonEl.classList.add('colab-df-quickchart-complete');\n",
              "    }\n",
              "    (() => {\n",
              "      let quickchartButtonEl =\n",
              "        document.querySelector('#df-f3a73379-3f51-4a18-9058-4bce57ad0185 button');\n",
              "      quickchartButtonEl.style.display =\n",
              "        google.colab.kernel.accessAllowed ? 'block' : 'none';\n",
              "    })();\n",
              "  </script>\n",
              "</div>\n",
              "\n",
              "    </div>\n",
              "  </div>\n"
            ],
            "application/vnd.google.colaboratory.intrinsic+json": {
              "type": "dataframe",
              "variable_name": "titanic",
              "summary": "{\n  \"name\": \"titanic\",\n  \"rows\": 891,\n  \"fields\": [\n    {\n      \"column\": \"survived\",\n      \"properties\": {\n        \"dtype\": \"number\",\n        \"std\": 0,\n        \"min\": 0,\n        \"max\": 1,\n        \"num_unique_values\": 2,\n        \"samples\": [\n          1,\n          0\n        ],\n        \"semantic_type\": \"\",\n        \"description\": \"\"\n      }\n    },\n    {\n      \"column\": \"pclass\",\n      \"properties\": {\n        \"dtype\": \"number\",\n        \"std\": 0,\n        \"min\": 1,\n        \"max\": 3,\n        \"num_unique_values\": 3,\n        \"samples\": [\n          3,\n          1\n        ],\n        \"semantic_type\": \"\",\n        \"description\": \"\"\n      }\n    },\n    {\n      \"column\": \"sex\",\n      \"properties\": {\n        \"dtype\": \"category\",\n        \"num_unique_values\": 2,\n        \"samples\": [\n          \"female\",\n          \"male\"\n        ],\n        \"semantic_type\": \"\",\n        \"description\": \"\"\n      }\n    },\n    {\n      \"column\": \"age\",\n      \"properties\": {\n        \"dtype\": \"number\",\n        \"std\": 14.526497332334042,\n        \"min\": 0.42,\n        \"max\": 80.0,\n        \"num_unique_values\": 88,\n        \"samples\": [\n          0.75,\n          22.0\n        ],\n        \"semantic_type\": \"\",\n        \"description\": \"\"\n      }\n    },\n    {\n      \"column\": \"sibsp\",\n      \"properties\": {\n        \"dtype\": \"number\",\n        \"std\": 1,\n        \"min\": 0,\n        \"max\": 8,\n        \"num_unique_values\": 7,\n        \"samples\": [\n          1,\n          0\n        ],\n        \"semantic_type\": \"\",\n        \"description\": \"\"\n      }\n    },\n    {\n      \"column\": \"parch\",\n      \"properties\": {\n        \"dtype\": \"number\",\n        \"std\": 0,\n        \"min\": 0,\n        \"max\": 6,\n        \"num_unique_values\": 7,\n        \"samples\": [\n          0,\n          1\n        ],\n        \"semantic_type\": \"\",\n        \"description\": \"\"\n      }\n    },\n    {\n      \"column\": \"fare\",\n      \"properties\": {\n        \"dtype\": \"number\",\n        \"std\": 49.6934285971809,\n        \"min\": 0.0,\n        \"max\": 512.3292,\n        \"num_unique_values\": 248,\n        \"samples\": [\n          11.2417,\n          51.8625\n        ],\n        \"semantic_type\": \"\",\n        \"description\": \"\"\n      }\n    },\n    {\n      \"column\": \"embarked\",\n      \"properties\": {\n        \"dtype\": \"category\",\n        \"num_unique_values\": 3,\n        \"samples\": [\n          \"S\",\n          \"C\"\n        ],\n        \"semantic_type\": \"\",\n        \"description\": \"\"\n      }\n    },\n    {\n      \"column\": \"class\",\n      \"properties\": {\n        \"dtype\": \"category\",\n        \"num_unique_values\": 3,\n        \"samples\": [\n          \"Third\",\n          \"First\"\n        ],\n        \"semantic_type\": \"\",\n        \"description\": \"\"\n      }\n    },\n    {\n      \"column\": \"who\",\n      \"properties\": {\n        \"dtype\": \"category\",\n        \"num_unique_values\": 3,\n        \"samples\": [\n          \"man\",\n          \"woman\"\n        ],\n        \"semantic_type\": \"\",\n        \"description\": \"\"\n      }\n    },\n    {\n      \"column\": \"adult_male\",\n      \"properties\": {\n        \"dtype\": \"boolean\",\n        \"num_unique_values\": 2,\n        \"samples\": [\n          false,\n          true\n        ],\n        \"semantic_type\": \"\",\n        \"description\": \"\"\n      }\n    },\n    {\n      \"column\": \"deck\",\n      \"properties\": {\n        \"dtype\": \"category\",\n        \"num_unique_values\": 7,\n        \"samples\": [\n          \"C\",\n          \"E\"\n        ],\n        \"semantic_type\": \"\",\n        \"description\": \"\"\n      }\n    },\n    {\n      \"column\": \"embark_town\",\n      \"properties\": {\n        \"dtype\": \"category\",\n        \"num_unique_values\": 3,\n        \"samples\": [\n          \"Southampton\",\n          \"Cherbourg\"\n        ],\n        \"semantic_type\": \"\",\n        \"description\": \"\"\n      }\n    },\n    {\n      \"column\": \"alive\",\n      \"properties\": {\n        \"dtype\": \"category\",\n        \"num_unique_values\": 2,\n        \"samples\": [\n          \"yes\",\n          \"no\"\n        ],\n        \"semantic_type\": \"\",\n        \"description\": \"\"\n      }\n    },\n    {\n      \"column\": \"alone\",\n      \"properties\": {\n        \"dtype\": \"boolean\",\n        \"num_unique_values\": 2,\n        \"samples\": [\n          true,\n          false\n        ],\n        \"semantic_type\": \"\",\n        \"description\": \"\"\n      }\n    }\n  ]\n}"
            }
          },
          "metadata": {},
          "execution_count": 8
        }
      ]
    },
    {
      "cell_type": "code",
      "metadata": {
        "id": "n_1m_S4CRHAx",
        "colab": {
          "base_uri": "https://localhost:8080/"
        },
        "outputId": "e78f3eac-bd81-4af2-eb03-1ce07bb28f78"
      },
      "source": [
        "# .info() :데이터에 대한 전반적인 정보 제공\n",
        "# 행과 열의 크기, 컬럼명, 컬럼별 결측치, 컬럼별 데이터 타입\n",
        "titanic.info()"
      ],
      "execution_count": null,
      "outputs": [
        {
          "output_type": "stream",
          "name": "stdout",
          "text": [
            "<class 'pandas.core.frame.DataFrame'>\n",
            "RangeIndex: 891 entries, 0 to 890\n",
            "Data columns (total 15 columns):\n",
            " #   Column       Non-Null Count  Dtype   \n",
            "---  ------       --------------  -----   \n",
            " 0   survived     891 non-null    int64   \n",
            " 1   pclass       891 non-null    int64   \n",
            " 2   sex          891 non-null    object  \n",
            " 3   age          714 non-null    float64 \n",
            " 4   sibsp        891 non-null    int64   \n",
            " 5   parch        891 non-null    int64   \n",
            " 6   fare         891 non-null    float64 \n",
            " 7   embarked     889 non-null    object  \n",
            " 8   class        891 non-null    category\n",
            " 9   who          891 non-null    object  \n",
            " 10  adult_male   891 non-null    bool    \n",
            " 11  deck         203 non-null    category\n",
            " 12  embark_town  889 non-null    object  \n",
            " 13  alive        891 non-null    object  \n",
            " 14  alone        891 non-null    bool    \n",
            "dtypes: bool(2), category(2), float64(2), int64(4), object(5)\n",
            "memory usage: 80.7+ KB\n"
          ]
        }
      ]
    },
    {
      "cell_type": "markdown",
      "metadata": {
        "id": "Nep9OInjQtur"
      },
      "source": [
        "#### **2-5. 데이터 시각화**\n",
        "- swarmplot( ) 함수 : 데이터의 분산까지 고려하여 데이터 포인트가 서로 중복되지 않도록 시각화. 즉, 데이터가 퍼져 있는 정도를 입체적으로 파악 가능\n",
        "- swarmplot( ) 함수의 매개변수\n",
        "> - x축 변수\n",
        "> - y축 변수\n",
        "> - 데이터 셋\n",
        "> - hue : 특정 열 데이터로 색상을 구분하여 출력"
      ]
    },
    {
      "cell_type": "code",
      "metadata": {
        "id": "aZ80LkmaRyyC",
        "colab": {
          "base_uri": "https://localhost:8080/",
          "height": 522
        },
        "outputId": "9d9297b3-9a0c-4cec-8614-2433d6eddf0e"
      },
      "source": [
        "# 이산형 변수의 분포 - 데이터 분산 고려 (중복 X)\n",
        "# x축 변수, y축 변수, 데이터 셋, 성별로 색상 구분\n",
        "sns.swarmplot(x='class', y='age', data=titanic, hue='sex')"
      ],
      "execution_count": null,
      "outputs": [
        {
          "output_type": "execute_result",
          "data": {
            "text/plain": [
              "<Axes: xlabel='class', ylabel='age'>"
            ]
          },
          "metadata": {},
          "execution_count": 10
        },
        {
          "output_type": "stream",
          "name": "stderr",
          "text": [
            "/usr/local/lib/python3.10/dist-packages/seaborn/categorical.py:3398: UserWarning: 15.2% of the points cannot be placed; you may want to decrease the size of the markers or use stripplot.\n",
            "  warnings.warn(msg, UserWarning)\n"
          ]
        },
        {
          "output_type": "display_data",
          "data": {
            "text/plain": [
              "<Figure size 640x480 with 1 Axes>"
            ],
            "image/png": "[encoded data removed]"
          },
          "metadata": {}
        }
      ]
    },
    {
      "cell_type": "markdown",
      "metadata": {
        "id": "k4MdmkxQ_AwO"
      },
      "source": [
        "## **03. 모듈과 패키지**"
      ]
    },
    {
      "cell_type": "markdown",
      "metadata": {
        "id": "0wyNyBWUpZUJ"
      },
      "source": [
        "### **1. 모듈 생성**"
      ]
    },
    {
      "cell_type": "markdown",
      "metadata": {
        "id": "VCfwBcyksdKZ"
      },
      "source": [
        "#### **1-1. 폴더 만들기**\n",
        "- 구글 코랩의 왼쪽에서 파일 이모티콘 눌러서 새폴더 만들기\n",
        "- 'module_folder' 이름의 새폴더 생성"
      ]
    },
    {
      "cell_type": "markdown",
      "metadata": {
        "id": "W5lu5efls7sg"
      },
      "source": [
        "#### **1-2. 모듈.py 파일 만들기**\n",
        "- module_folder 폴더 안에 새파일 만들기\n",
        "- 'module1.py' 이름의 새파일 생성\n",
        "- 'module1.py' 파일 안에 코드 추가\n",
        "> - add( ) 함수 구현\n",
        "> - ```\n",
        "def add(x, y, z):\n",
        "        return x + y + z\n",
        "```"
      ]
    },
    {
      "cell_type": "markdown",
      "metadata": {
        "id": "n-_fgIbRugdu"
      },
      "source": [
        "#### **1-3. 메인.py 파일 만들기**\n",
        "- module_folder 폴더 안에 새파일 만들기\n",
        "- 'main.py' 이름의 새파일 생성\n",
        "- 'main.py' 파일 안에 코드 추가\n",
        "> - 'module1' 모듈 불러오기\n",
        "> - result 변수에 module1에서 구현한 add 함수 불러오기\n",
        "> - result 출력\n",
        "> - ```\n",
        "import module1\n",
        "result = module1.add(1, 2, 3)\n",
        "print(result)\n",
        "```\n",
        "\n"
      ]
    },
    {
      "cell_type": "markdown",
      "metadata": {
        "id": "ayQb7kkwvfVk"
      },
      "source": [
        "#### **1-4. 구글 코랩 노트북에서 메인.py 파일 실행**\n",
        "- ! python 키워드 사용\n",
        "- .py 파일이 있는 경로 입력"
      ]
    },
    {
      "cell_type": "code",
      "metadata": {
        "id": "pGZ8AZ0_rtHE",
        "colab": {
          "base_uri": "https://localhost:8080/"
        },
        "outputId": "b58aba4f-468d-4f49-ffd1-e5e67da51b9d"
      },
      "source": [
        "# main.py 파일 실행\n",
        "# 1 + 2 + 3인 6이 출력\n",
        "!python /content/module_folder/main.py"
      ],
      "execution_count": null,
      "outputs": [
        {
          "output_type": "stream",
          "name": "stdout",
          "text": [
            "6\n"
          ]
        }
      ]
    },
    {
      "cell_type": "markdown",
      "metadata": {
        "id": "_unLkYOepgDH"
      },
      "source": [
        "### **2. 패키지**\n",
        "- 패키지는 모듈이 모여서 구조를 이룬 것\n",
        "- 도트(.)를 사용하여 파이썬 모듈을 디렉터리 구조로 관리할 수 있게 해줌\n",
        "> - 모듈 이름이 A.b인 경우, A는 패키지이고 b는 A패키지의 b모듈 의미\n",
        "\n"
      ]
    },
    {
      "cell_type": "markdown",
      "source": [
        "# **자기 주도 학습 복습 과제 - 문제**"
      ],
      "metadata": {
        "id": "hjaVq8H-bd8p"
      }
    },
    {
      "cell_type": "markdown",
      "source": [
        "## **1. 모듈 문제 (1)**\n",
        "\n",
        "* 모듈 불러오기\n",
        "\n"
      ],
      "metadata": {
        "id": "GN2OskbEbgUP"
      }
    },
    {
      "cell_type": "code",
      "source": [
        "# 1) math 모듈에서 factorial을 import 사용하여 3! 출력\n",
        "# import는 모듈 전체를 가져올 때 사용\n",
        "# 모듈을 사용할 때는 모듈 뒤에 도트(.) 입력하고 원하는 변수나 함수를 입력\n",
        "# 파이썬 math 모듈은 수학 함수가 담겨있음\n",
        "\n",
        "import math\n",
        "print(math.factorial(3))"
      ],
      "metadata": {
        "id": "HMahIl02bLnX",
        "colab": {
          "base_uri": "https://localhost:8080/"
        },
        "outputId": "31e45b4d-d04b-4f4f-f4ba-4a5f128691f2"
      },
      "execution_count": null,
      "outputs": [
        {
          "output_type": "stream",
          "name": "stdout",
          "text": [
            "6\n"
          ]
        }
      ]
    },
    {
      "cell_type": "code",
      "source": [
        "# 2) math 모듈에서 factorial을 import와 from 사용하여 3! 출력\n",
        "from math import factorial\n",
        "print(factorial(3))"
      ],
      "metadata": {
        "id": "YxV78xMbbRXX",
        "colab": {
          "base_uri": "https://localhost:8080/"
        },
        "outputId": "01525abf-364a-4362-9a2b-4f3295f77100"
      },
      "execution_count": null,
      "outputs": [
        {
          "output_type": "stream",
          "name": "stdout",
          "text": [
            "6\n"
          ]
        }
      ]
    },
    {
      "cell_type": "markdown",
      "source": [
        "## **2. 모듈 문제 (2)**\n",
        "\n",
        "* 모듈 생성\n",
        "\n"
      ],
      "metadata": {
        "id": "mbYixz2EbWlr"
      }
    },
    {
      "cell_type": "markdown",
      "source": [
        "### **[2-1] 폴더 만들기**\n",
        "* 구글 코랩의 왼쪽에서 파일 이모티콘 눌러서 새폴더 만들기\n",
        "* 'moduleFolder' 이름의 새폴더 생성"
      ],
      "metadata": {
        "id": "j8ZZM4DMbXu7"
      }
    },
    {
      "cell_type": "markdown",
      "source": [
        "### **[2-2] 모듈.py 파일 만들기**\n",
        "* moduleFolder 폴더 안에 새파일 만들기\n",
        "* 'moduleEx.py' 이름의 새파일 생성\n",
        "- 'moduleEx.py' 파일 안에 코드 추가\n",
        "> - multiplication( ) 함수 구현\n",
        "> - ```\n",
        "def multiplication(x, y, z):\n",
        "        return x * y * z\n",
        "```"
      ],
      "metadata": {
        "id": "i902WKAmbfUQ"
      }
    },
    {
      "cell_type": "markdown",
      "source": [
        "![image.png](data:image/png;base64,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)"
      ],
      "metadata": {
        "id": "F1UFHN1xbh_B"
      }
    },
    {
      "cell_type": "markdown",
      "source": [
        "### **[2-3] 메인.py 파일 만들기**\n",
        "- moduleFolder 폴더 안에 새파일 만들기\n",
        "- 'main.py' 이름의 새파일 생성\n",
        "- 'main.py' 파일 안에 코드 추가\n",
        "> - 'moduleEx' 모듈 불러오기\n",
        "> - result 변수에 moduleEx에서 구현한 multiplication 함수 불러오기\n",
        "> - result 출력\n",
        "> - ```\n",
        "import moduleEx\n",
        "result = moduleEx.multiplication(1, 2, 3)\n",
        "print(result)\n",
        "```\n",
        "\n"
      ],
      "metadata": {
        "id": "Bz8dnUoIbnDP"
      }
    },
    {
      "cell_type": "markdown",
      "source": [
        "![image.png](data:image/png;base64,iVBORw0KGgoAAAANSUhEUgAAAgAAAACRCAYAAAC13QA1AAASWklEQVR4nO3dfWxU1Z/H8U9LpYJIW5ZKQVoeDVWUUiABLCgWVxbqD4lBZNWQQIREXM3WBlz/MKmJiVkjwUTZXzCGp4SEdU1EikVTKKwFFWwE4wZhwQCWh0KRBdqClD7sH2TG6XSmc+/MvTN35rxff3Xmnt77nTvTnu8953vupE2bNq1LAADAKOmJDgAAAMQfCQAAAAYiAQAAwEAkAAAAGIgEAAAAA5EAAABgICMTgPnz52vdunUqLy+P2La8vFzr1q3T/Pnz4xBZYg0bNkzjxo1LdBgAgDgwMgFAT/n5+XrnnXe0evVqzZ49O9HhxFVeXp62bt2qvLw8S21Xr15tqS0AeFmGkztbsmSJpk6dqm+++UY7duxwZJ/z58/XnDlzlJFhPdQDBw5oy5YtjhzfFIMHD1Z6+p180LTObc2aNcrLy9OaNWtUUVGhxsbGkO3y8vK0atUqTZw4UUOGDFFFRUWcIwUA5ziaALjJjU69sLBQ69evj9iuvb3d0eN60ZEjR1RVVaXs7GxVVVUlOpy4qqioiJgEBHb+jY2NdP4Akl7SJABuOHbsmNauXdtrm/Lyco0dOzZOEYWXlpamrq7Qd23u06ePOjo6Iu4jPT1dXV1dIffT1dWl7du3W4rF6vEi6e01xZOvQw+XBAR3/i+++GKCIwaA2BmdAHjRoEGD9NJLL6mjo0OffPKJysrKNGPGDGVnZ+vy5cuqqqrSgQMHNGjQIC1atEgTJkxQZmammpqatHPnTu3fv7/b/jIzM/XEE0/o0Ucf1ZAhQ9SnTx9dvnxZ9fX1qqqq0q1bt/xtX3/9dUnSF198oYaGhm6xrF+/Xk8//bRmzpyp7Oxstba26uDBg/rss890+/btXl/Tfffdp8WLF+vPP//Uxo0bVVZWppKSEuXk5Ki5uVn19fXauXOnrl27JkmaM2eOxo0bp+bmZm3cuLHH/kaMGKFnnnlGkrRt2zZdunQppnMuhU8CJNH5A0hJSZMAlJSUqKSkJGK7q1evasOGDTp+/HjEtl6cAujXr5+KiorU0dGhFStWaNKkSf5tubm5WrZsmQYOHKinnnpKAwcO7LZt6dKl+uOPP/Trr79Kkvr376+KigqNHDlSknT9+nVlZmYqNzdXc+fO1UMPPaT33nvP34EXFRVJknbv3t0jlpUrV/q3S9I999yj0tJSZWZmasOGDb2+pv79+6uoqEg3b97Ua6+9pvHjx/u3DRw4UKWlpSouLtYHH3ygxsZGNTQ0aNGiRZKk/fv368SJE9329+STT6qoqEjnz593pPP3CZUENDY20vkDSElJkwA4WQOwY8cOx4oU3dKnTx9NmDBBmzZt0uHDhzVkyBAtX75cubm5WrhwoW7fvq0NGzboyJEjGjZsmFasWKFBgwZp7ty5/gQgPT1dra2tOn36tDZt2qSGhgZJ0pQpU7R8+XKNGDFCs2bNUk1NTcRYHnnkEX3++eeqq6vTgAED9Nxzz2nixImaPn26qqqq1NTUFPE19evXT+PHj1dtba1qamp048YNFRcXa9GiRcrJydHy5cv17rvv6ujRozp79qyGDx+uJ554olsC0L9/f02ZMkXSX4mKk4KTgLy8PDp/ACmJZYAetmvXLtXV1amlpUW//fabdu7c6d+2Y8cOHThwQK2trTpx4oSqq6slSffff7+/TUtLiz788EO9//77/s5fkurr67V3715J0oMPPmgplj179mjXrl1qaWlRY2OjPv30U3V0dCg9PV3Dhw+3/Jpqamq0detWXbp0SS0tLaqrq9PHH38sSRo5cqT/PgS+pGTKlCnKysry/35JSYn69u2r1tZWff/995aPa1eoIkAASCWOjwBkZGSorKxMZWVlltpfuHBBlZWVTofRQzTLCUNpb293dJljb+rr67s9vnjxov/nH3/8MeS2wGkB6c4owIwZM1RUVKScnBy1tbXp3LlzSktLkyQNGDDAUizfffddt8c3b97UlStXlJubq5ycHGsvSNLXX3/d47njx4/r1KlTGjVqlAoLC3Xs2DH98MMPevbZZ5WVlaXHHnvMvzLh8ccflyR9++23amtrs3xcq4IL/nzPRVoiCADJxtEEYMuWLT2G6ceNG6dly5ZJkuW5+VCs1gBIoZOKSMP+TsXppObm5m6POzs7/T9fv36927ZQVfn9+vXTm2++qfz8fElSa2urOjs7/TUBkvyJQCS+Ar1Ix+zNrVu3dPXq1ZDbLl68qFGjRik7O1vSnURr7969WrBggWbNmqWvvvpKY8eO1dChQ9XZ2ana2lpbx7YiVLW/r/MnCQCQajxfA5AM8/VeNW/ePOXn56ulpUVr167V6dOnJd256n/hhRc0derUuMbTt29f3XXXXSFXDdx7772S7iQpPvv27VNZWZmys7M1adIkTZ48WZL0008/6cqVK47GFm6pX6QlggCQrKgBSGGjRo2SJB06dMjf+Ut3agMiLd1zQ1paWsikIzs72z/3//vvv/ufb25u9s/zL1y40L8iIlLRol2R1vn7koDGxsZuIwIAkMw8PwLghvLychUWFobd/sYbb3R7HM95fyfduHFD0p0v+Qm86U5hYaGmT5/u+PEyMzNVUVGh4cOHa/PmzTp48GCPNs8//7yuXLmio0ePSpJycnL06quvKiMjQ83NzTp8+HC39jU1NZo5c6Zyc3MlSadPn9bJkycdjXvJkiURl/oFjwSsWrWKuwECSGpGJgCR7v4XyPf9Bsmorq5OkydPVmFhod566y2dPHlSgwcPVnFxsVpbW/3D7k554IEHNGbMGEnS7NmzeyQA7e3tamtrU0VFhS5cuKCbN2+qoKBAGRkZ6uzs1ObNm3sU9p0/f17Hjh3zr1bYs2ePozFLd2pXrNzb35cErFq1iu+aAJD0mAJIYb/88ou2bt2qtrY2jRkzRnPmzFFxcbH27dvnymjGqVOn1NTUpK6uLh06dKjH9vT0dK1du1bnzp3T0KFDNXr0aGVkZKipqUkfffRRj6t/n7Nnz0q6U/gYar+xsnNvf1/bn3/+2fE4ACCe0qZNmxbTzdjdWF7npSV7bnzDYbxlZmZq9OjRSk9PV0NDQ48VBE5KT0/X3Xff7Z9+kO6s73/77bclSStXrlRbW5sKCgqUlZWlq1ev6uzZs91WOASrrKxUfn6+vvzyy6R9DwDAa2KeAnCjSp/Kf2fdunXLf3dAt3V2dnbr/EPp6urSmTNnLO1v/Pjxys/PV3t7u/bt2+dEiAAAMQUAj5s7d64k6eDBg66OXACAaUgA4Fn5+fn+4j+nl/4BgOlirgEAIsnJydHs2bMlSdu3b7f87YoPP/ywCgsL1dLSEvIWwgCA6JEAAABgIKYAAAAwEAkAAAAGIgEAAMBAJAAAABiIBAAAAAORAAAAYCASAAAADEQCAACAgUgAAAAwEAkAAAAGIgEAAMBAJAAAABgoI9EBpLrfS7YnOgR4TN6Rf1Xf1tOJDgOA4RgBAADAQCQAAAAYKG3p0qVdiQ4CAADEV1pBQQEJAAAAhmEKAAAAA5EAAABgIBIAAAAMRAIAAICBSAAAADCQo3cCrKysVGVlpWP7e3nbGX26eIRj+4MzqqurNW/ePE/tq7q6OmIbp2IGgFTArYATgMTGHXTwAGCdIwmAk1f9AADAfY7UADg99O/DVTIAAO6gCBAAAAN5ugagt7ly37aXt52RpG4/+x6HaxuqTaj922lrZf+B28PFapeviM5XBBf4s+9xqN8J1NvcuZW2vRXyOVHkZydeq/uL9JqpJwCQ6jydAEQSmCAEJwuRHod7zm5bq9slhY01VoEdVnDnFelxuOd6axtPduMNJ7C9L0mym8wAQCpJ6gTATicaqq3vqj1SohCubbSxOM1qhxWucwvVIUZqGw924vU9b5Wd1wwAqYgaABgrMJmh8wdgmqQeAUDqc3u0obfpAABIZSQA8DQ6ZgBwB1MAMFrwKgoAMAUJAJKSEx124NA/SQAA0xiTAASv0fc9F1y9H2o9f7i2ySZcJxeuoj5cWzv7jYWdeO2y85oBIBUZUwNg50ZAdm8aFGss8UwsQnVy4TrTcG2tJgFOdKh24o10rHD3Sgh1PGoPAKS6tIKCgq5EB+G2VLh6BwDAScZMAQAAgL8YMQIAAAC6YwQAAAADGVMEaIq/zWzW0qf/T5K0+8cB+o/PB9EmyjbPvlnQYxsApIo+WVlZlYkOAtH5tyVN+uF/+quzK02S9OI/XdULc65p+38P1O4fB2jxP17TqGFttImyzc8n7o7H2wgACUECkMTeeOEPTRh7S0f+t5+W/u2qni5p1pbqbP3n7iydOt9XJ8/21T8/dY02UbYBgFRGEWASeyC/Tf/+L43+xx//1z+otv4e2jjcBgBSEQkAAAAGYhUAAAAGIgEAAMBAJAAAABiIBAAAEFZtbW2iQ0gZXjuXJAAAgJBqa2tVWlqa6DBSRmlpqaeSAEdWAVRWVvb62BR8jWxsnDx/Tu3LytcZp8p77tbn1wv7Tba/TS/Ea6fz//v29/XKgtUuRxT+2IESEYfdGLySWMV8K+DKysqQCYCpSYAVXvjjhnW8V93x+bWPc+aOUIlHvJMRL8QQrZimAMJ19CQAAJC8rF6h/n37+z2ufuMlXCf7yoLVcYsp2hi8MhVADQAAV3nhytcLMdiRLPG+smB1UlzpIjQSAACAn1fmp5NBLMmPF0YBYqoBcGuY3zdfFlyAFSorttLGTtve5upinccLPH7gz17M9oPfg+D3I9nfC6sx2N1fpNcczTHsvBde/Pxaicnp98JODIFtrMZgta0b5yyaGOJxjuPNyyMPyVIDEHMRYChO1ABY/QMIbhPu9+y0dYvvWE5Xu1s9bjT7DhdzpMfhnuutbTzZjTecwPa+f7J2kxm78Vo5925w4/Mbbn/x/tt063+JV86ZF85xvCSi8/XCSoRoOJ4AOFUAGG2GHOqfsJ22ycbN2GNdYhXNexEPdj8Pds6xnddsRzJ/RiNJ9N9msv0viSaGVP78BErUlbeRqwAC+Tp+L1b/99a5mPKHgfgJ/Lwle4JpuliSQcSPbzWCVzrdeK5EiIUjIwCJ6vjtXDFamcOGOdwebUiF0SWEF+8pK4TnpY4/2bhyI6B4sfvPNXgoL5p9eI1Jd6pzEucE0YqmVgTuoPOPjStFgMnAreKceEvm2FNZYOU171HqMOH99C1PYylgZLEkIF44x67cCTDRgjNxMnNY5cRnJbCTiGdxI5zHe+ddXP3HLmlvBBTuH2u4Km4n2iI0t86vW++FnXjtsvOag3/PCcn4+XXrvbAq2f4/uPn59XHzJjWJvvmNkzGEK/aLlJx44epfcqgGIJptTrBzcwsn2rr1TzoVhhTdOr9uvRd24o10LCvTSfGcDki2z6+d98ItTv0vsbrMNRXOmRf0Vmkfr9GBUElAsoxMOPJ1wAAQDRPm1JOZG1eqXrj6TWQMXnj9Pkk7BQAAcJfTUwFe6Pzo/P/CCAAAAAZiBAAAAAORAAAAYCASAAAADEQCAACAgUgAAAAwEAkAAAAGIgEAAMBAJAAAABiIBCDBvPDFGF7G+QEAd5AAJJDXbgvpRW5+KxkAmMyRWwEHf+uf298CGKuXt53Rp4tHJDSGVO783fiCl1Q+XwCQCI58HXCoBMDrSYDTvJBUJBu+CQ4AEiemKYBwHb2JCYAdXM3ax1QAADjLyBoArtQBAKaLeQQA9nD1Hz1GAQDAOTHXAIQS7RSAbx795W1nuj3f2xV7LL/jxD4D2wT+7MQog2+OvLq6utvzoebNrbSx07a3+flY5+4Djx/4M/UAABA/jiQATq4CCNU5W+2wnWQ1Dt9jt4oArXS2odqE+z07bd3iOxZFgACQOK4lANEmAaE6Ud/VeLgO1o2O1yt1AtF0/r7fC95mpy0AILW5UgTIKgBvCjWdELgNAGAOV2oAEF/hOvVQgpMAOn4AMBMJQAqw24kHTwtEsw8AQHJjGWCceW0p27x583qdGvASllACgHOMvBGQKYI79WTo5AEA8eG5WwEHr733PeeVqnwnODkKEO7qPVRVv1NtE4GrfwBwlmtfBhQtuzf18YrguOMZs9WbBTnV1qkkgIJEAEgcR74O2CmpdqUfCVe11nCeAMB51AAkkNcKAr2Izh8A3OGpEQAAABAfjAAAAGAgEgAAAAxEAgAAgIFIAAAAMBAJAAAABiIBAADAQCQAAAAYiAQAAAADkQAAAGAgEgAAAAxEAgAAgIFIAAAAMBAJAAAABiIBAADAQCQAAAAYiAQAAAADkQAAAGAgEgAAAAxEAgAAgIH+Hwpz0E2B8xn0AAAAAElFTkSuQmCC)"
      ],
      "metadata": {
        "id": "ul3VckqvbsAN"
      }
    },
    {
      "cell_type": "markdown",
      "source": [
        "### **[2-4] 구글 코랩 노트북에서 메인.py 파일 실행**\n",
        "- ! python 키워드 사용\n",
        "- .py 파일이 있는 경로 입력"
      ],
      "metadata": {
        "id": "yj1Sga8hbt1o"
      }
    },
    {
      "cell_type": "code",
      "source": [
        "# 2-4) main.py 파일 실행\n",
        "!python /content/modulefolder/main.py"
      ],
      "metadata": {
        "id": "8QHOWASgbvUR",
        "colab": {
          "base_uri": "https://localhost:8080/"
        },
        "outputId": "71747414-c9e1-4ff1-f51c-69be2c74c415"
      },
      "execution_count": null,
      "outputs": [
        {
          "output_type": "stream",
          "name": "stdout",
          "text": [
            "6\n"
          ]
        }
      ]
    }
  ]
}