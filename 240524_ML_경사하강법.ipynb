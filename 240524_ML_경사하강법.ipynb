{
  "nbformat": 4,
  "nbformat_minor": 0,
  "metadata": {
    "colab": {
      "provenance": [],
      "toc_visible": true,
      "authorship_tag": "ABX9TyMjAj85cm2LK85g1OtenX9h"
    },
    "kernelspec": {
      "name": "python3",
      "display_name": "Python 3"
    },
    "language_info": {
      "name": "python"
    }
  },
  "cells": [
    {
      "cell_type": "markdown",
      "source": [
        "# 경사하강법 구현\n"
      ],
      "metadata": {
        "id": "SXjzu5pIi0iT"
      }
    },
    {
      "cell_type": "markdown",
      "source": [
        "## 1.라이브러리 임포트"
      ],
      "metadata": {
        "id": "WUeqjGbTj7_-"
      }
    },
    {
      "cell_type": "code",
      "execution_count": 1,
      "metadata": {
        "id": "s8xMAxw5iwII"
      },
      "outputs": [],
      "source": [
        "import numpy as np\n",
        "import matplotlib.pyplot as plt"
      ]
    },
    {
      "cell_type": "markdown",
      "source": [
        "## 2.데이터 생성"
      ],
      "metadata": {
        "id": "CHud35eWi40_"
      }
    },
    {
      "cell_type": "code",
      "source": [
        "np.random.seed(0) #seed 고정\n",
        "\n",
        "# 100: 생성할 난수의 개수, 1: 난수 벡터의 열 수,\n",
        "# 2 * :난수 배열의 모든 원소를 2배로. 결과적으로, 각 원소는 0과 2 사이의 값\n",
        "x = 2 * np.random.rand(100,1)\n",
        "#x = np.random.rand(100,1).shape\n",
        "y = 4 + 3 * x + np.random.rand(100,1)\n"
      ],
      "metadata": {
        "id": "SxDVC6JSi72y"
      },
      "execution_count": 6,
      "outputs": []
    },
    {
      "cell_type": "markdown",
      "source": [
        "## 3.초기값 설정(theta, bias)"
      ],
      "metadata": {
        "id": "Fofq1bixi8Jc"
      }
    },
    {
      "cell_type": "code",
      "source": [
        "# learning rate n_iterations\n",
        "learning_rate = 0.001  # 일반적으로 작은 학습률로, 천천히 안정적으로 수렴\n",
        "n_iterations = 1000  # 반복횟수\n"
      ],
      "metadata": {
        "id": "-AUdwHnkjFm0"
      },
      "execution_count": 8,
      "outputs": []
    },
    {
      "cell_type": "code",
      "source": [
        "# 초기값 설정\n",
        "\n",
        "theta = np.random.randn(2,1)\n",
        "'''\n",
        "정규분포를 따르는 0과 1 사이의 수 생성\n",
        "(2, 1)은 Shape\n",
        "평균 0, 표준편차 1인 정규분포 따르는 난수 생성\n",
        "2는 하나의 편향(bias) 항과 하나의 기울기 항을 나타냄\n",
        "'''\n",
        "bias = np.c_[np.ones((100,1)),x]\n",
        "'''\n",
        "- 데이터에 편향 항을 추가.\n",
        "- np.c_[] : 배열을 열 단위로 병합하는 NumPy의 함수.\n",
        "- np.ones((100,1)) : 100x1 크기의 모든 요소가 1인 배열을 생성.\n",
        "    - 이 배열은 편향 항(bias term)으로 사용\n",
        "- x : 이전에 생성된 100x1 크기의 입력 데이터\n",
        "- np.c_[np.ones((100,1)), x] : 두 배열을 열 방향으로 병합하여 100x2 크기의 배열\n",
        "    - 첫 번째 열은 편향 항(모두 1)\n",
        "    - 두 번째 열은 입력 데이터 x\n",
        "'''\n",
        "print(\"theta:\\n\", theta)\n",
        "print(\"bias:\\n\", bias[:5])  # 첫 5개 행만 출력하여 확인"
      ],
      "metadata": {
        "id": "cSlKH1ebmy6W",
        "colab": {
          "base_uri": "https://localhost:8080/"
        },
        "outputId": "4e520145-d3a4-4d56-cc71-0b49b63744a5"
      },
      "execution_count": 12,
      "outputs": [
        {
          "output_type": "stream",
          "name": "stdout",
          "text": [
            "theta:\n",
            " [[0.94942081]\n",
            " [0.08755124]]\n",
            "bias:\n",
            " [[1.         1.09762701]\n",
            " [1.         1.43037873]\n",
            " [1.         1.20552675]\n",
            " [1.         1.08976637]\n",
            " [1.         0.8473096 ]]\n"
          ]
        }
      ]
    },
    {
      "cell_type": "markdown",
      "source": [
        "## 4.경사하강법 구현"
      ],
      "metadata": {
        "id": "BN4IhqTcjF_K"
      }
    },
    {
      "cell_type": "code",
      "source": [
        "for i in range(n_iterations) :\n",
        "    # gradient 구해준다.\n",
        "    # gradients = X.T(X.dot(theta) - y\n",
        "    gradients = 2 / 100 * bias.T.dot(bias.dot(theta) - y)\n",
        "    # gradient descent\n",
        "    theta = theta - learning_rate * gradients\n",
        "\n",
        "print(\"Theta:\", theta)"
      ],
      "metadata": {
        "colab": {
          "base_uri": "https://localhost:8080/"
        },
        "id": "vr4Gv20RjKDy",
        "outputId": "d6a986f6-b4ee-497d-f519-8d34707799d7"
      },
      "execution_count": null,
      "outputs": [
        {
          "output_type": "stream",
          "name": "stdout",
          "text": [
            "Theta: [[3.76851992]\n",
            " [3.66672796]]\n"
          ]
        }
      ]
    },
    {
      "cell_type": "code",
      "source": [],
      "metadata": {
        "id": "T6XtSZvuqiSl"
      },
      "execution_count": null,
      "outputs": []
    },
    {
      "cell_type": "markdown",
      "source": [
        "## 5.데이터와 모델결과 시각화"
      ],
      "metadata": {
        "id": "ZeC-ijw9jKWV"
      }
    },
    {
      "cell_type": "code",
      "source": [],
      "metadata": {
        "id": "q160LqVxjWaD"
      },
      "execution_count": null,
      "outputs": []
    }
  ]
}